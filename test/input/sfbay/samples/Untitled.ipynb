{
 "cells": [
  {
   "cell_type": "code",
   "execution_count": 1,
   "id": "68bc3dad",
   "metadata": {},
   "outputs": [],
   "source": [
    "import pandas as pd"
   ]
  },
  {
   "cell_type": "code",
   "execution_count": 17,
   "id": "9e0e4fd9",
   "metadata": {},
   "outputs": [
    {
     "ename": "ParseError",
     "evalue": "not well-formed (invalid token): line 1, column 0 (<string>)",
     "output_type": "error",
     "traceback": [
      "Traceback \u001b[0;36m(most recent call last)\u001b[0m:\n",
      "  File \u001b[1;32m\"/usr/local/Cellar/jupyterlab/3.2.5/libexec/lib/python3.9/site-packages/IPython/core/interactiveshell.py\"\u001b[0m, line \u001b[1;32m3457\u001b[0m, in \u001b[1;35mrun_code\u001b[0m\n    exec(code_obj, self.user_global_ns, self.user_ns)\n",
      "  File \u001b[1;32m\"/var/folders/z4/5gq1j4sn50b62w40lgwsthh80000gn/T/ipykernel_83829/4012092784.py\"\u001b[0m, line \u001b[1;32m3\u001b[0m, in \u001b[1;35m<module>\u001b[0m\n    tree = ET.parse('households.xml.gz')\n",
      "  File \u001b[1;32m\"/usr/local/Cellar/python@3.9/3.9.9/Frameworks/Python.framework/Versions/3.9/lib/python3.9/xml/etree/ElementTree.py\"\u001b[0m, line \u001b[1;32m1229\u001b[0m, in \u001b[1;35mparse\u001b[0m\n    tree.parse(source, parser)\n",
      "\u001b[0;36m  File \u001b[0;32m\"/usr/local/Cellar/python@3.9/3.9.9/Frameworks/Python.framework/Versions/3.9/lib/python3.9/xml/etree/ElementTree.py\"\u001b[0;36m, line \u001b[0;32m580\u001b[0;36m, in \u001b[0;35mparse\u001b[0;36m\u001b[0m\n\u001b[0;31m    self._root = parser._parse_whole(source)\u001b[0m\n",
      "\u001b[0;36m  File \u001b[0;32m\"<string>\"\u001b[0;36m, line \u001b[0;32munknown\u001b[0m\n\u001b[0;31mParseError\u001b[0m\u001b[0;31m:\u001b[0m not well-formed (invalid token): line 1, column 0\n"
     ]
    }
   ],
   "source": [
    "import xml.etree.ElementTree as ET\n",
    "\n",
    "tree = ET.parse('households.xml.gz')\n",
    "root = tree.getroot()  # 使用getroot()获取根节点，得到的是一个Element对象\n",
    "\n",
    "#root = ET.fromstring(country_data_as_string) #从字符串变量中读取，返回的是Element对象\n",
    "\n",
    "\n",
    "########################## 访问XML ###################################\n",
    "\"\"\"\n",
    "tag = element.text      #访问Element标签\n",
    "attrib = element.attrib #访问Element属性\n",
    "text = element.text     #访问Element文本\n",
    "\"\"\"\n",
    "\n",
    "for element in root.findall('student'):\n",
    "    tag = element.tag                  # 访问Element标签\n",
    "    attrib = element.attrib            # 访问Element属性\n",
    "    text = element.find('name').text   # 访问Element文本\n",
    "    print(tag, attrib, text)\n",
    "\n",
    "print(root[0][0].text)                 # 子节点是嵌套的，我们可以通关索引访问特定的子节点\n",
    "\n",
    "########################## 查找元素 ###################################\n",
    "print(\"============ Element.iter() ===============\")\n",
    "for student in root.iter('student'):   # Element.iter()\n",
    "    print(student[0].text)\n",
    "\n",
    "\n",
    "print(\"============ Element.findall() ============\")\n",
    "for element in root.findall('student'):# Element.findall()\n",
    "    name = element.find('name').text\n",
    "    age = element.find('age').text\n",
    "    score = element.find('score').text\n",
    "\n",
    "    print (name,age,score)"
   ]
  },
  {
   "cell_type": "code",
   "execution_count": null,
   "id": "0753b247",
   "metadata": {},
   "outputs": [],
   "source": []
  },
  {
   "cell_type": "code",
   "execution_count": null,
   "id": "f7eaa88b",
   "metadata": {},
   "outputs": [],
   "source": []
  },
  {
   "cell_type": "code",
   "execution_count": null,
   "id": "d71c8b61",
   "metadata": {},
   "outputs": [],
   "source": []
  },
  {
   "cell_type": "code",
   "execution_count": 6,
   "id": "f2ddbbce",
   "metadata": {},
   "outputs": [
    {
     "name": "stdout",
     "output_type": "stream",
     "text": [
      "{http://www.matsim.org/files/dtd}households\n",
      "{'{http://www.w3.org/2001/XMLSchema-instance}schemaLocation': 'http://www.matsim.org/files/dtd http://www.matsim.org/files/dtd/households_v1.0.xsd'}\n"
     ]
    }
   ],
   "source": [
    "import gzip\n",
    "import xml.etree.ElementTree as ET\n",
    "\n",
    "input = gzip.open('households.xml.gz', 'r')\n",
    "tree = ET.parse(input)\n",
    "root = tree.getroot()\n",
    "\n",
    "print (root.tag)\n",
    "print (root.attrib)"
   ]
  },
  {
   "cell_type": "code",
   "execution_count": 14,
   "id": "6cc612ac",
   "metadata": {},
   "outputs": [
    {
     "data": {
      "text/plain": [
       "<Element '{http://www.matsim.org/files/dtd}households' at 0x13f24ec70>"
      ]
     },
     "execution_count": 14,
     "metadata": {},
     "output_type": "execute_result"
    }
   ],
   "source": [
    "root"
   ]
  },
  {
   "cell_type": "code",
   "execution_count": null,
   "id": "18f8428d",
   "metadata": {},
   "outputs": [],
   "source": []
  },
  {
   "cell_type": "code",
   "execution_count": null,
   "id": "8b6ac3e8",
   "metadata": {},
   "outputs": [],
   "source": []
  },
  {
   "cell_type": "code",
   "execution_count": 11,
   "id": "3ef7eeb9",
   "metadata": {},
   "outputs": [],
   "source": [
    "data = pd.read_csv('households.xml.gz', encoding=\"UTF-8\")"
   ]
  },
  {
   "cell_type": "code",
   "execution_count": 12,
   "id": "a2e4a5ff",
   "metadata": {},
   "outputs": [
    {
     "data": {
      "text/html": [
       "<div>\n",
       "<style scoped>\n",
       "    .dataframe tbody tr th:only-of-type {\n",
       "        vertical-align: middle;\n",
       "    }\n",
       "\n",
       "    .dataframe tbody tr th {\n",
       "        vertical-align: top;\n",
       "    }\n",
       "\n",
       "    .dataframe thead th {\n",
       "        text-align: right;\n",
       "    }\n",
       "</style>\n",
       "<table border=\"1\" class=\"dataframe\">\n",
       "  <thead>\n",
       "    <tr style=\"text-align: right;\">\n",
       "      <th></th>\n",
       "      <th>&lt;?xml version=\"1.0\" encoding=\"UTF-8\"?&gt;</th>\n",
       "    </tr>\n",
       "  </thead>\n",
       "  <tbody>\n",
       "    <tr>\n",
       "      <th>0</th>\n",
       "      <td>&lt;households xmlns=\"http://www.matsim.org/files...</td>\n",
       "    </tr>\n",
       "    <tr>\n",
       "      <th>1</th>\n",
       "      <td>\\t&lt;household id=\"441200-2016001521223-0\"&gt;</td>\n",
       "    </tr>\n",
       "    <tr>\n",
       "      <th>2</th>\n",
       "      <td>\\t\\t&lt;members&gt;</td>\n",
       "    </tr>\n",
       "    <tr>\n",
       "      <th>3</th>\n",
       "      <td>\\t\\t\\t&lt;personId refId=\"441200-2016001521223-0-...</td>\n",
       "    </tr>\n",
       "    <tr>\n",
       "      <th>4</th>\n",
       "      <td>\\t\\t\\t&lt;personId refId=\"441200-2016001521223-0-...</td>\n",
       "    </tr>\n",
       "    <tr>\n",
       "      <th>...</th>\n",
       "      <td>...</td>\n",
       "    </tr>\n",
       "    <tr>\n",
       "      <th>6263856</th>\n",
       "      <td>\\t\\t&lt;income period=\"year\"&gt;</td>\n",
       "    </tr>\n",
       "    <tr>\n",
       "      <th>6263857</th>\n",
       "      <td>\\t\\t\\t\\t457421.0</td>\n",
       "    </tr>\n",
       "    <tr>\n",
       "      <th>6263858</th>\n",
       "      <td>\\t\\t&lt;/income&gt;</td>\n",
       "    </tr>\n",
       "    <tr>\n",
       "      <th>6263859</th>\n",
       "      <td>\\t&lt;/household&gt;</td>\n",
       "    </tr>\n",
       "    <tr>\n",
       "      <th>6263860</th>\n",
       "      <td>&lt;/households&gt;</td>\n",
       "    </tr>\n",
       "  </tbody>\n",
       "</table>\n",
       "<p>6263861 rows × 1 columns</p>\n",
       "</div>"
      ],
      "text/plain": [
       "                    <?xml version=\"1.0\" encoding=\"UTF-8\"?>\n",
       "0        <households xmlns=\"http://www.matsim.org/files...\n",
       "1                \\t<household id=\"441200-2016001521223-0\">\n",
       "2                                            \\t\\t<members>\n",
       "3        \\t\\t\\t<personId refId=\"441200-2016001521223-0-...\n",
       "4        \\t\\t\\t<personId refId=\"441200-2016001521223-0-...\n",
       "...                                                    ...\n",
       "6263856                         \\t\\t<income period=\"year\">\n",
       "6263857                                   \\t\\t\\t\\t457421.0\n",
       "6263858                                      \\t\\t</income>\n",
       "6263859                                     \\t</household>\n",
       "6263860                                      </households>\n",
       "\n",
       "[6263861 rows x 1 columns]"
      ]
     },
     "execution_count": 12,
     "metadata": {},
     "output_type": "execute_result"
    }
   ],
   "source": [
    "data"
   ]
  },
  {
   "cell_type": "code",
   "execution_count": null,
   "id": "e886d683",
   "metadata": {},
   "outputs": [],
   "source": []
  }
 ],
 "metadata": {
  "kernelspec": {
   "display_name": "Python 3 (ipykernel)",
   "language": "python",
   "name": "python3"
  },
  "language_info": {
   "codemirror_mode": {
    "name": "ipython",
    "version": 3
   },
   "file_extension": ".py",
   "mimetype": "text/x-python",
   "name": "python",
   "nbconvert_exporter": "python",
   "pygments_lexer": "ipython3",
   "version": "3.9.9"
  }
 },
 "nbformat": 4,
 "nbformat_minor": 5
}
