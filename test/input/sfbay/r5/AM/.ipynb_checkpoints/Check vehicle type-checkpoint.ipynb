{
 "cells": [
  {
   "cell_type": "code",
   "execution_count": 2,
   "id": "25ae153d",
   "metadata": {},
   "outputs": [],
   "source": [
    "import pandas as pd"
   ]
  },
  {
   "cell_type": "code",
   "execution_count": 3,
   "id": "f6aab221",
   "metadata": {},
   "outputs": [],
   "source": [
    "skimsTransitCrowding = pd.read_csv('1.String _ skimsTransitCrowding.csv.gz')"
   ]
  },
  {
   "cell_type": "code",
   "execution_count": 4,
   "id": "62085df4",
   "metadata": {},
   "outputs": [],
   "source": [
    "skimsTransitCrowding['firstTwo'] = skimsTransitCrowding['vehicleId'].str[:2]"
   ]
  },
  {
   "cell_type": "code",
   "execution_count": 5,
   "id": "d372cf2b",
   "metadata": {},
   "outputs": [],
   "source": [
    "skimsTransitCrowding['lastSeven'] = skimsTransitCrowding['vehicleId'].str[-7:]"
   ]
  },
  {
   "cell_type": "code",
   "execution_count": 6,
   "id": "5bd16e95",
   "metadata": {},
   "outputs": [],
   "source": [
    "trips = pd.read_csv('trips.txt')"
   ]
  },
  {
   "cell_type": "code",
   "execution_count": 7,
   "id": "155e578f",
   "metadata": {},
   "outputs": [
    {
     "data": {
      "text/html": [
       "<div>\n",
       "<style scoped>\n",
       "    .dataframe tbody tr th:only-of-type {\n",
       "        vertical-align: middle;\n",
       "    }\n",
       "\n",
       "    .dataframe tbody tr th {\n",
       "        vertical-align: top;\n",
       "    }\n",
       "\n",
       "    .dataframe thead th {\n",
       "        text-align: right;\n",
       "    }\n",
       "</style>\n",
       "<table border=\"1\" class=\"dataframe\">\n",
       "  <thead>\n",
       "    <tr style=\"text-align: right;\">\n",
       "      <th></th>\n",
       "      <th>route_id</th>\n",
       "      <th>service_id</th>\n",
       "      <th>trip_id</th>\n",
       "      <th>trip_headsign</th>\n",
       "      <th>direction_id</th>\n",
       "      <th>block_id</th>\n",
       "      <th>shape_id</th>\n",
       "      <th>trip_short_name</th>\n",
       "    </tr>\n",
       "  </thead>\n",
       "  <tbody>\n",
       "    <tr>\n",
       "      <th>0</th>\n",
       "      <td>CAPITOL</td>\n",
       "      <td>72761</td>\n",
       "      <td>RTD5982640</td>\n",
       "      <td>SAN JOSE</td>\n",
       "      <td>0</td>\n",
       "      <td>NaN</td>\n",
       "      <td>NaN</td>\n",
       "      <td>NaN</td>\n",
       "    </tr>\n",
       "    <tr>\n",
       "      <th>1</th>\n",
       "      <td>CAPITOL</td>\n",
       "      <td>72761</td>\n",
       "      <td>RTD5982641</td>\n",
       "      <td>SAN JOSE</td>\n",
       "      <td>0</td>\n",
       "      <td>NaN</td>\n",
       "      <td>NaN</td>\n",
       "      <td>NaN</td>\n",
       "    </tr>\n",
       "    <tr>\n",
       "      <th>2</th>\n",
       "      <td>CAPITOL</td>\n",
       "      <td>72764</td>\n",
       "      <td>RTD6253554</td>\n",
       "      <td>SAN JOSE</td>\n",
       "      <td>0</td>\n",
       "      <td>NaN</td>\n",
       "      <td>NaN</td>\n",
       "      <td>NaN</td>\n",
       "    </tr>\n",
       "    <tr>\n",
       "      <th>3</th>\n",
       "      <td>CAPITOL</td>\n",
       "      <td>72765</td>\n",
       "      <td>RTD8703586</td>\n",
       "      <td>SAN JOSE</td>\n",
       "      <td>0</td>\n",
       "      <td>NaN</td>\n",
       "      <td>NaN</td>\n",
       "      <td>NaN</td>\n",
       "    </tr>\n",
       "    <tr>\n",
       "      <th>4</th>\n",
       "      <td>CAPITOL</td>\n",
       "      <td>72762</td>\n",
       "      <td>RTD8703564</td>\n",
       "      <td>SAN JOSE</td>\n",
       "      <td>0</td>\n",
       "      <td>NaN</td>\n",
       "      <td>NaN</td>\n",
       "      <td>NaN</td>\n",
       "    </tr>\n",
       "    <tr>\n",
       "      <th>...</th>\n",
       "      <td>...</td>\n",
       "      <td>...</td>\n",
       "      <td>...</td>\n",
       "      <td>...</td>\n",
       "      <td>...</td>\n",
       "      <td>...</td>\n",
       "      <td>...</td>\n",
       "      <td>...</td>\n",
       "    </tr>\n",
       "    <tr>\n",
       "      <th>94</th>\n",
       "      <td>CAPITOL</td>\n",
       "      <td>72764</td>\n",
       "      <td>RTD6253565</td>\n",
       "      <td>skip col thru sc</td>\n",
       "      <td>0</td>\n",
       "      <td>NaN</td>\n",
       "      <td>NaN</td>\n",
       "      <td>NaN</td>\n",
       "    </tr>\n",
       "    <tr>\n",
       "      <th>95</th>\n",
       "      <td>CAPITOL</td>\n",
       "      <td>72762</td>\n",
       "      <td>RTD8703563</td>\n",
       "      <td>skip col thru sc</td>\n",
       "      <td>0</td>\n",
       "      <td>NaN</td>\n",
       "      <td>NaN</td>\n",
       "      <td>NaN</td>\n",
       "    </tr>\n",
       "    <tr>\n",
       "      <th>96</th>\n",
       "      <td>CAPITOL</td>\n",
       "      <td>72765</td>\n",
       "      <td>RTD8703585</td>\n",
       "      <td>skip col thru sc</td>\n",
       "      <td>0</td>\n",
       "      <td>NaN</td>\n",
       "      <td>NaN</td>\n",
       "      <td>NaN</td>\n",
       "    </tr>\n",
       "    <tr>\n",
       "      <th>97</th>\n",
       "      <td>CAPITOL</td>\n",
       "      <td>72761</td>\n",
       "      <td>RTD5982650</td>\n",
       "      <td>skip col thru sc</td>\n",
       "      <td>0</td>\n",
       "      <td>NaN</td>\n",
       "      <td>NaN</td>\n",
       "      <td>NaN</td>\n",
       "    </tr>\n",
       "    <tr>\n",
       "      <th>98</th>\n",
       "      <td>CAPITOL</td>\n",
       "      <td>72764</td>\n",
       "      <td>RTD6253566</td>\n",
       "      <td>skip col thru sc</td>\n",
       "      <td>0</td>\n",
       "      <td>NaN</td>\n",
       "      <td>NaN</td>\n",
       "      <td>NaN</td>\n",
       "    </tr>\n",
       "  </tbody>\n",
       "</table>\n",
       "<p>99 rows × 8 columns</p>\n",
       "</div>"
      ],
      "text/plain": [
       "   route_id  service_id     trip_id     trip_headsign  direction_id  block_id  \\\n",
       "0   CAPITOL       72761  RTD5982640          SAN JOSE             0       NaN   \n",
       "1   CAPITOL       72761  RTD5982641          SAN JOSE             0       NaN   \n",
       "2   CAPITOL       72764  RTD6253554          SAN JOSE             0       NaN   \n",
       "3   CAPITOL       72765  RTD8703586          SAN JOSE             0       NaN   \n",
       "4   CAPITOL       72762  RTD8703564          SAN JOSE             0       NaN   \n",
       "..      ...         ...         ...               ...           ...       ...   \n",
       "94  CAPITOL       72764  RTD6253565  skip col thru sc             0       NaN   \n",
       "95  CAPITOL       72762  RTD8703563  skip col thru sc             0       NaN   \n",
       "96  CAPITOL       72765  RTD8703585  skip col thru sc             0       NaN   \n",
       "97  CAPITOL       72761  RTD5982650  skip col thru sc             0       NaN   \n",
       "98  CAPITOL       72764  RTD6253566  skip col thru sc             0       NaN   \n",
       "\n",
       "    shape_id  trip_short_name  \n",
       "0        NaN              NaN  \n",
       "1        NaN              NaN  \n",
       "2        NaN              NaN  \n",
       "3        NaN              NaN  \n",
       "4        NaN              NaN  \n",
       "..       ...              ...  \n",
       "94       NaN              NaN  \n",
       "95       NaN              NaN  \n",
       "96       NaN              NaN  \n",
       "97       NaN              NaN  \n",
       "98       NaN              NaN  \n",
       "\n",
       "[99 rows x 8 columns]"
      ]
     },
     "execution_count": 7,
     "metadata": {},
     "output_type": "execute_result"
    }
   ],
   "source": [
    "trips"
   ]
  },
  {
   "cell_type": "code",
   "execution_count": 8,
   "id": "3ede096c",
   "metadata": {},
   "outputs": [],
   "source": [
    "trip_idlist = list(skimsTransitCrowding[skimsTransitCrowding['firstTwo'] == 'AM']['lastSeven'])"
   ]
  },
  {
   "cell_type": "code",
   "execution_count": 9,
   "id": "09525edd",
   "metadata": {},
   "outputs": [],
   "source": [
    "AM = trips[trips['trip_id'].isin(skimsTransitCrowding[skimsTransitCrowding['firstTwo'] == 'AM']['lastSeven'].astype(int))]"
   ]
  },
  {
   "cell_type": "code",
   "execution_count": 10,
   "id": "c1cc77c8",
   "metadata": {},
   "outputs": [],
   "source": [
    "route = pd.read_csv('routes.txt')"
   ]
  },
  {
   "cell_type": "code",
   "execution_count": 11,
   "id": "f4d0cd1a",
   "metadata": {},
   "outputs": [
    {
     "data": {
      "text/html": [
       "<div>\n",
       "<style scoped>\n",
       "    .dataframe tbody tr th:only-of-type {\n",
       "        vertical-align: middle;\n",
       "    }\n",
       "\n",
       "    .dataframe tbody tr th {\n",
       "        vertical-align: top;\n",
       "    }\n",
       "\n",
       "    .dataframe thead th {\n",
       "        text-align: right;\n",
       "    }\n",
       "</style>\n",
       "<table border=\"1\" class=\"dataframe\">\n",
       "  <thead>\n",
       "    <tr style=\"text-align: right;\">\n",
       "      <th></th>\n",
       "      <th>route_id</th>\n",
       "      <th>agency_id</th>\n",
       "      <th>route_short_name</th>\n",
       "      <th>route_long_name</th>\n",
       "      <th>route_type</th>\n",
       "      <th>route_color</th>\n",
       "      <th>route_text_color</th>\n",
       "    </tr>\n",
       "  </thead>\n",
       "  <tbody>\n",
       "    <tr>\n",
       "      <th>0</th>\n",
       "      <td>CAPITOL</td>\n",
       "      <td>AM</td>\n",
       "      <td>NaN</td>\n",
       "      <td>CAPITOL</td>\n",
       "      <td>2</td>\n",
       "      <td>NaN</td>\n",
       "      <td>NaN</td>\n",
       "    </tr>\n",
       "  </tbody>\n",
       "</table>\n",
       "</div>"
      ],
      "text/plain": [
       "  route_id agency_id  route_short_name route_long_name  route_type  \\\n",
       "0  CAPITOL        AM               NaN         CAPITOL           2   \n",
       "\n",
       "   route_color  route_text_color  \n",
       "0          NaN               NaN  "
      ]
     },
     "execution_count": 11,
     "metadata": {},
     "output_type": "execute_result"
    }
   ],
   "source": [
    "route"
   ]
  },
  {
   "cell_type": "code",
   "execution_count": 12,
   "id": "6e039308",
   "metadata": {},
   "outputs": [],
   "source": [
    "AM = route[route['route_id'].isin(AM['route_id'])]"
   ]
  },
  {
   "cell_type": "code",
   "execution_count": 13,
   "id": "49b6b94e",
   "metadata": {},
   "outputs": [
    {
     "data": {
      "text/html": [
       "<div>\n",
       "<style scoped>\n",
       "    .dataframe tbody tr th:only-of-type {\n",
       "        vertical-align: middle;\n",
       "    }\n",
       "\n",
       "    .dataframe tbody tr th {\n",
       "        vertical-align: top;\n",
       "    }\n",
       "\n",
       "    .dataframe thead th {\n",
       "        text-align: right;\n",
       "    }\n",
       "</style>\n",
       "<table border=\"1\" class=\"dataframe\">\n",
       "  <thead>\n",
       "    <tr style=\"text-align: right;\">\n",
       "      <th></th>\n",
       "      <th>route_id</th>\n",
       "      <th>agency_id</th>\n",
       "      <th>route_short_name</th>\n",
       "      <th>route_long_name</th>\n",
       "      <th>route_type</th>\n",
       "      <th>route_color</th>\n",
       "      <th>route_text_color</th>\n",
       "    </tr>\n",
       "  </thead>\n",
       "  <tbody>\n",
       "  </tbody>\n",
       "</table>\n",
       "</div>"
      ],
      "text/plain": [
       "Empty DataFrame\n",
       "Columns: [route_id, agency_id, route_short_name, route_long_name, route_type, route_color, route_text_color]\n",
       "Index: []"
      ]
     },
     "execution_count": 13,
     "metadata": {},
     "output_type": "execute_result"
    }
   ],
   "source": [
    "AM"
   ]
  },
  {
   "cell_type": "code",
   "execution_count": null,
   "id": "c3e5c149",
   "metadata": {},
   "outputs": [],
   "source": [
    "## Comes all from tram, but we don't have a place to add capacity for tram-VTA yet. We define a new vehicle type \n",
    "## or use TRAM-DEFAULT? "
   ]
  }
 ],
 "metadata": {
  "kernelspec": {
   "display_name": "Python 3 (ipykernel)",
   "language": "python",
   "name": "python3"
  },
  "language_info": {
   "codemirror_mode": {
    "name": "ipython",
    "version": 3
   },
   "file_extension": ".py",
   "mimetype": "text/x-python",
   "name": "python",
   "nbconvert_exporter": "python",
   "pygments_lexer": "ipython3",
   "version": "3.9.9"
  }
 },
 "nbformat": 4,
 "nbformat_minor": 5
}
