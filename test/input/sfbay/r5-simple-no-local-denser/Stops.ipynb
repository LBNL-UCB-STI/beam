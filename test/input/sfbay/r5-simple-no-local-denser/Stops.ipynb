{
 "cells": [
  {
   "cell_type": "code",
   "execution_count": 1,
   "id": "118b8587",
   "metadata": {},
   "outputs": [],
   "source": [
    "import pandas as pd"
   ]
  },
  {
   "cell_type": "code",
   "execution_count": 2,
   "id": "802743e2",
   "metadata": {},
   "outputs": [],
   "source": [
    "data_names = ['AC', 'AM', 'AY', 'BA', 'Caltrain', 'CC', 'CE', 'CM', 'CT', 'DE', 'EM', 'GG', 'HF', 'MA',\n",
    "             'PE', 'RV', 'SC', 'SF', 'SM', 'SO', 'SR', 'ST', 'VC', 'VN', 'VT', 'WC', 'WH']"
   ]
  },
  {
   "cell_type": "code",
   "execution_count": 3,
   "id": "b88a15ef",
   "metadata": {},
   "outputs": [],
   "source": [
    "data1 = pd.read_csv('3D/stops.txt')"
   ]
  },
  {
   "cell_type": "code",
   "execution_count": 4,
   "id": "69e655f4",
   "metadata": {},
   "outputs": [],
   "source": [
    "for data in data_names:\n",
    "    data2 = pd.read_csv(data + '/stops.txt')\n",
    "    data1 = data1.append(data2)"
   ]
  },
  {
   "cell_type": "code",
   "execution_count": 6,
   "id": "beb01a86",
   "metadata": {},
   "outputs": [],
   "source": [
    "data1.to_csv('stops.csv')"
   ]
  },
  {
   "cell_type": "code",
   "execution_count": null,
   "id": "7457d19d",
   "metadata": {},
   "outputs": [],
   "source": []
  }
 ],
 "metadata": {
  "kernelspec": {
   "display_name": "Python 3 (ipykernel)",
   "language": "python",
   "name": "python3"
  },
  "language_info": {
   "codemirror_mode": {
    "name": "ipython",
    "version": 3
   },
   "file_extension": ".py",
   "mimetype": "text/x-python",
   "name": "python",
   "nbconvert_exporter": "python",
   "pygments_lexer": "ipython3",
   "version": "3.9.9"
  }
 },
 "nbformat": 4,
 "nbformat_minor": 5
}
