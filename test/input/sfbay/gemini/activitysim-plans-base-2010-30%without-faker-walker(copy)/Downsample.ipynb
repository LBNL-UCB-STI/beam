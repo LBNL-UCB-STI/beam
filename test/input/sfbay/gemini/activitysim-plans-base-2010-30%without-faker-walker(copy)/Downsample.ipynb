{
 "cells": [
  {
   "cell_type": "code",
   "execution_count": 13,
   "id": "thirty-jackson",
   "metadata": {},
   "outputs": [],
   "source": [
    "import pandas as pd"
   ]
  },
  {
   "cell_type": "code",
   "execution_count": 14,
   "id": "2633e700",
   "metadata": {},
   "outputs": [
    {
     "name": "stderr",
     "output_type": "stream",
     "text": [
      "/usr/local/Cellar/jupyterlab/3.2.5/libexec/lib/python3.9/site-packages/IPython/core/interactiveshell.py:3185: DtypeWarning: Columns (0,6,19,21,22,23,24,26,27,28,32,33,34,35,40,46,48,50,51,52,53,57) have mixed types.Specify dtype option on import or set low_memory=False.\n",
      "  has_raised = await self.run_ast_nodes(code_ast.body, cell_name,\n"
     ]
    },
    {
     "data": {
      "text/plain": [
       "1842898"
      ]
     },
     "metadata": {},
     "output_type": "display_data"
    },
    {
     "data": {
      "text/plain": [
       "99806"
      ]
     },
     "metadata": {},
     "output_type": "display_data"
    }
   ],
   "source": [
    "events = pd.read_csv('0.events.csv.gz')\n",
    "modechoice = events[events['type'] == 'ModeChoice']\n",
    "walk = modechoice[modechoice['mode'] == 'walk']\n",
    "display(len(events['person'].unique()))\n",
    "longWalker = walk[walk['length'] > 4828.03]\n",
    "display(len(longWalker['person'].unique()))\n",
    "list1 = list(longWalker['person'].unique())"
   ]
  },
  {
   "cell_type": "code",
   "execution_count": 17,
   "id": "677d49d4",
   "metadata": {},
   "outputs": [],
   "source": [
    "filtered = events[events['person'].isin(list1) == False]"
   ]
  },
  {
   "cell_type": "code",
   "execution_count": 18,
   "id": "7ac2de57",
   "metadata": {},
   "outputs": [],
   "source": [
    "list2 = list(filtered['person'].unique())"
   ]
  },
  {
   "cell_type": "code",
   "execution_count": 19,
   "id": "professional-prefix",
   "metadata": {},
   "outputs": [
    {
     "name": "stdout",
     "output_type": "stream",
     "text": [
      "persons.csv.gz\n"
     ]
    },
    {
     "data": {
      "text/html": [
       "<div>\n",
       "<style scoped>\n",
       "    .dataframe tbody tr th:only-of-type {\n",
       "        vertical-align: middle;\n",
       "    }\n",
       "\n",
       "    .dataframe tbody tr th {\n",
       "        vertical-align: top;\n",
       "    }\n",
       "\n",
       "    .dataframe thead th {\n",
       "        text-align: right;\n",
       "    }\n",
       "</style>\n",
       "<table border=\"1\" class=\"dataframe\">\n",
       "  <thead>\n",
       "    <tr style=\"text-align: right;\">\n",
       "      <th></th>\n",
       "      <th>Unnamed: 0</th>\n",
       "      <th>Unnamed: 0.1</th>\n",
       "      <th>Unnamed: 0.1.1</th>\n",
       "      <th>person_id</th>\n",
       "      <th>Unnamed: 0.1.1.1</th>\n",
       "      <th>earning</th>\n",
       "      <th>worker</th>\n",
       "      <th>student</th>\n",
       "      <th>hispanic.1</th>\n",
       "      <th>person_sex</th>\n",
       "      <th>...</th>\n",
       "      <th>num_joint_tours</th>\n",
       "      <th>non_mandatory_tour_frequency</th>\n",
       "      <th>num_non_mand</th>\n",
       "      <th>num_escort_tours</th>\n",
       "      <th>num_eatout_tours</th>\n",
       "      <th>num_shop_tours</th>\n",
       "      <th>num_maint_tours</th>\n",
       "      <th>num_discr_tours</th>\n",
       "      <th>num_social_tours</th>\n",
       "      <th>num_non_escort_tours</th>\n",
       "    </tr>\n",
       "  </thead>\n",
       "  <tbody>\n",
       "    <tr>\n",
       "      <th>0</th>\n",
       "      <td>0</td>\n",
       "      <td>0</td>\n",
       "      <td>0</td>\n",
       "      <td>0</td>\n",
       "      <td>0</td>\n",
       "      <td>116000.0</td>\n",
       "      <td>1</td>\n",
       "      <td>0</td>\n",
       "      <td>0</td>\n",
       "      <td>female</td>\n",
       "      <td>...</td>\n",
       "      <td>0</td>\n",
       "      <td>16</td>\n",
       "      <td>1</td>\n",
       "      <td>0</td>\n",
       "      <td>0</td>\n",
       "      <td>1</td>\n",
       "      <td>0</td>\n",
       "      <td>0</td>\n",
       "      <td>0</td>\n",
       "      <td>1</td>\n",
       "    </tr>\n",
       "    <tr>\n",
       "      <th>1</th>\n",
       "      <td>1</td>\n",
       "      <td>1</td>\n",
       "      <td>1</td>\n",
       "      <td>6</td>\n",
       "      <td>1223</td>\n",
       "      <td>55000.0</td>\n",
       "      <td>1</td>\n",
       "      <td>0</td>\n",
       "      <td>0</td>\n",
       "      <td>male</td>\n",
       "      <td>...</td>\n",
       "      <td>0</td>\n",
       "      <td>0</td>\n",
       "      <td>0</td>\n",
       "      <td>0</td>\n",
       "      <td>0</td>\n",
       "      <td>0</td>\n",
       "      <td>0</td>\n",
       "      <td>0</td>\n",
       "      <td>0</td>\n",
       "      <td>0</td>\n",
       "    </tr>\n",
       "  </tbody>\n",
       "</table>\n",
       "<p>2 rows × 87 columns</p>\n",
       "</div>"
      ],
      "text/plain": [
       "   Unnamed: 0  Unnamed: 0.1  Unnamed: 0.1.1  person_id  Unnamed: 0.1.1.1  \\\n",
       "0           0             0               0          0                 0   \n",
       "1           1             1               1          6              1223   \n",
       "\n",
       "    earning  worker  student  hispanic.1 person_sex  ...  num_joint_tours  \\\n",
       "0  116000.0       1        0           0     female  ...                0   \n",
       "1   55000.0       1        0           0       male  ...                0   \n",
       "\n",
       "   non_mandatory_tour_frequency  num_non_mand  num_escort_tours  \\\n",
       "0                            16             1                 0   \n",
       "1                             0             0                 0   \n",
       "\n",
       "   num_eatout_tours num_shop_tours  num_maint_tours  num_discr_tours  \\\n",
       "0                 0              1                0                0   \n",
       "1                 0              0                0                0   \n",
       "\n",
       "   num_social_tours num_non_escort_tours  \n",
       "0                 0                    1  \n",
       "1                 0                    0  \n",
       "\n",
       "[2 rows x 87 columns]"
      ]
     },
     "metadata": {},
     "output_type": "display_data"
    },
    {
     "name": "stdout",
     "output_type": "stream",
     "text": [
      "plans.csv.gz\n"
     ]
    },
    {
     "data": {
      "text/html": [
       "<div>\n",
       "<style scoped>\n",
       "    .dataframe tbody tr th:only-of-type {\n",
       "        vertical-align: middle;\n",
       "    }\n",
       "\n",
       "    .dataframe tbody tr th {\n",
       "        vertical-align: top;\n",
       "    }\n",
       "\n",
       "    .dataframe thead th {\n",
       "        text-align: right;\n",
       "    }\n",
       "</style>\n",
       "<table border=\"1\" class=\"dataframe\">\n",
       "  <thead>\n",
       "    <tr style=\"text-align: right;\">\n",
       "      <th></th>\n",
       "      <th>Unnamed: 0</th>\n",
       "      <th>Unnamed: 0.1</th>\n",
       "      <th>Unnamed: 0.1.1</th>\n",
       "      <th>trip_id</th>\n",
       "      <th>person_id</th>\n",
       "      <th>number_of_participants</th>\n",
       "      <th>trip_mode</th>\n",
       "      <th>PlanElementIndex</th>\n",
       "      <th>ActivityElement</th>\n",
       "      <th>ActivityType</th>\n",
       "      <th>x</th>\n",
       "      <th>y</th>\n",
       "      <th>departure_time</th>\n",
       "    </tr>\n",
       "  </thead>\n",
       "  <tbody>\n",
       "    <tr>\n",
       "      <th>0</th>\n",
       "      <td>0</td>\n",
       "      <td>0</td>\n",
       "      <td>0</td>\n",
       "      <td>NaN</td>\n",
       "      <td>0.0</td>\n",
       "      <td>NaN</td>\n",
       "      <td>NaN</td>\n",
       "      <td>1</td>\n",
       "      <td>activity</td>\n",
       "      <td>Home</td>\n",
       "      <td>-122.237696</td>\n",
       "      <td>37.861152</td>\n",
       "      <td>7.136</td>\n",
       "    </tr>\n",
       "    <tr>\n",
       "      <th>1</th>\n",
       "      <td>1</td>\n",
       "      <td>1</td>\n",
       "      <td>1</td>\n",
       "      <td>313.0</td>\n",
       "      <td>0.0</td>\n",
       "      <td>1.0</td>\n",
       "      <td>DRIVEALONEFREE</td>\n",
       "      <td>2</td>\n",
       "      <td>leg</td>\n",
       "      <td>NaN</td>\n",
       "      <td>NaN</td>\n",
       "      <td>NaN</td>\n",
       "      <td>NaN</td>\n",
       "    </tr>\n",
       "  </tbody>\n",
       "</table>\n",
       "</div>"
      ],
      "text/plain": [
       "   Unnamed: 0  Unnamed: 0.1  Unnamed: 0.1.1  trip_id  person_id  \\\n",
       "0           0             0               0      NaN        0.0   \n",
       "1           1             1               1    313.0        0.0   \n",
       "\n",
       "   number_of_participants       trip_mode  PlanElementIndex ActivityElement  \\\n",
       "0                     NaN             NaN                 1        activity   \n",
       "1                     1.0  DRIVEALONEFREE                 2             leg   \n",
       "\n",
       "  ActivityType           x          y  departure_time  \n",
       "0         Home -122.237696  37.861152           7.136  \n",
       "1          NaN         NaN        NaN             NaN  "
      ]
     },
     "metadata": {},
     "output_type": "display_data"
    },
    {
     "name": "stdout",
     "output_type": "stream",
     "text": [
      "households.csv.gz\n"
     ]
    },
    {
     "data": {
      "text/html": [
       "<div>\n",
       "<style scoped>\n",
       "    .dataframe tbody tr th:only-of-type {\n",
       "        vertical-align: middle;\n",
       "    }\n",
       "\n",
       "    .dataframe tbody tr th {\n",
       "        vertical-align: top;\n",
       "    }\n",
       "\n",
       "    .dataframe thead th {\n",
       "        text-align: right;\n",
       "    }\n",
       "</style>\n",
       "<table border=\"1\" class=\"dataframe\">\n",
       "  <thead>\n",
       "    <tr style=\"text-align: right;\">\n",
       "      <th></th>\n",
       "      <th>Unnamed: 0</th>\n",
       "      <th>Unnamed: 0.1</th>\n",
       "      <th>Unnamed: 0.1.1</th>\n",
       "      <th>household_id</th>\n",
       "      <th>gt55</th>\n",
       "      <th>seniors</th>\n",
       "      <th>VEHICL</th>\n",
       "      <th>lcm_county_id</th>\n",
       "      <th>hh_children</th>\n",
       "      <th>block_id</th>\n",
       "      <th>...</th>\n",
       "      <th>hh_work_auto_savings_ratio</th>\n",
       "      <th>num_under16_not_at_school</th>\n",
       "      <th>num_travel_active</th>\n",
       "      <th>num_travel_active_adults</th>\n",
       "      <th>num_travel_active_preschoolers</th>\n",
       "      <th>num_travel_active_children</th>\n",
       "      <th>num_travel_active_non_preschoolers</th>\n",
       "      <th>participates_in_jtf_model</th>\n",
       "      <th>joint_tour_frequency</th>\n",
       "      <th>num_hh_joint_tours</th>\n",
       "    </tr>\n",
       "  </thead>\n",
       "  <tbody>\n",
       "    <tr>\n",
       "      <th>0</th>\n",
       "      <td>0</td>\n",
       "      <td>0</td>\n",
       "      <td>0</td>\n",
       "      <td>0</td>\n",
       "      <td>1</td>\n",
       "      <td>0.0</td>\n",
       "      <td>2</td>\n",
       "      <td>6001</td>\n",
       "      <td>no</td>\n",
       "      <td>60014001001024</td>\n",
       "      <td>...</td>\n",
       "      <td>1.0</td>\n",
       "      <td>0</td>\n",
       "      <td>1</td>\n",
       "      <td>1</td>\n",
       "      <td>0</td>\n",
       "      <td>0</td>\n",
       "      <td>1</td>\n",
       "      <td>False</td>\n",
       "      <td>0_tours</td>\n",
       "      <td>0</td>\n",
       "    </tr>\n",
       "    <tr>\n",
       "      <th>1</th>\n",
       "      <td>1</td>\n",
       "      <td>1</td>\n",
       "      <td>1</td>\n",
       "      <td>8280</td>\n",
       "      <td>1</td>\n",
       "      <td>0.0</td>\n",
       "      <td>3</td>\n",
       "      <td>6001</td>\n",
       "      <td>yes</td>\n",
       "      <td>60014006001003</td>\n",
       "      <td>...</td>\n",
       "      <td>1.0</td>\n",
       "      <td>0</td>\n",
       "      <td>3</td>\n",
       "      <td>2</td>\n",
       "      <td>0</td>\n",
       "      <td>1</td>\n",
       "      <td>3</td>\n",
       "      <td>True</td>\n",
       "      <td>0_tours</td>\n",
       "      <td>0</td>\n",
       "    </tr>\n",
       "  </tbody>\n",
       "</table>\n",
       "<p>2 rows × 63 columns</p>\n",
       "</div>"
      ],
      "text/plain": [
       "   Unnamed: 0  Unnamed: 0.1  Unnamed: 0.1.1  household_id  gt55  seniors  \\\n",
       "0           0             0               0             0     1      0.0   \n",
       "1           1             1               1          8280     1      0.0   \n",
       "\n",
       "   VEHICL  lcm_county_id hh_children        block_id  ...  \\\n",
       "0       2           6001          no  60014001001024  ...   \n",
       "1       3           6001         yes  60014006001003  ...   \n",
       "\n",
       "   hh_work_auto_savings_ratio num_under16_not_at_school  num_travel_active  \\\n",
       "0                         1.0                         0                  1   \n",
       "1                         1.0                         0                  3   \n",
       "\n",
       "   num_travel_active_adults num_travel_active_preschoolers  \\\n",
       "0                         1                              0   \n",
       "1                         2                              0   \n",
       "\n",
       "  num_travel_active_children num_travel_active_non_preschoolers  \\\n",
       "0                          0                                  1   \n",
       "1                          1                                  3   \n",
       "\n",
       "   participates_in_jtf_model joint_tour_frequency  num_hh_joint_tours  \n",
       "0                      False              0_tours                   0  \n",
       "1                       True              0_tours                   0  \n",
       "\n",
       "[2 rows x 63 columns]"
      ]
     },
     "metadata": {},
     "output_type": "display_data"
    },
    {
     "name": "stdout",
     "output_type": "stream",
     "text": [
      "blocks.csv.gz\n"
     ]
    },
    {
     "data": {
      "text/html": [
       "<div>\n",
       "<style scoped>\n",
       "    .dataframe tbody tr th:only-of-type {\n",
       "        vertical-align: middle;\n",
       "    }\n",
       "\n",
       "    .dataframe tbody tr th {\n",
       "        vertical-align: top;\n",
       "    }\n",
       "\n",
       "    .dataframe thead th {\n",
       "        text-align: right;\n",
       "    }\n",
       "</style>\n",
       "<table border=\"1\" class=\"dataframe\">\n",
       "  <thead>\n",
       "    <tr style=\"text-align: right;\">\n",
       "      <th></th>\n",
       "      <th>Unnamed: 0</th>\n",
       "      <th>Unnamed: 0.1</th>\n",
       "      <th>Unnamed: 0.1.1</th>\n",
       "      <th>block_id</th>\n",
       "      <th>y</th>\n",
       "      <th>value_impute</th>\n",
       "      <th>taz_id</th>\n",
       "      <th>square_meters_land</th>\n",
       "      <th>res_rents</th>\n",
       "      <th>rent_impute</th>\n",
       "      <th>residential_unit_capacity</th>\n",
       "      <th>employment_capacity</th>\n",
       "      <th>puma10_id</th>\n",
       "      <th>place_id</th>\n",
       "      <th>x</th>\n",
       "      <th>res_values</th>\n",
       "      <th>TAZ</th>\n",
       "    </tr>\n",
       "  </thead>\n",
       "  <tbody>\n",
       "    <tr>\n",
       "      <th>0</th>\n",
       "      <td>0</td>\n",
       "      <td>1</td>\n",
       "      <td>1</td>\n",
       "      <td>60014271001001</td>\n",
       "      <td>37.769464</td>\n",
       "      <td>0</td>\n",
       "      <td>6.001001e+11</td>\n",
       "      <td>79696</td>\n",
       "      <td>1253.0</td>\n",
       "      <td>0</td>\n",
       "      <td>105</td>\n",
       "      <td>367</td>\n",
       "      <td>600105</td>\n",
       "      <td>600562.0</td>\n",
       "      <td>-122.233991</td>\n",
       "      <td>567900.0</td>\n",
       "      <td>576</td>\n",
       "    </tr>\n",
       "    <tr>\n",
       "      <th>1</th>\n",
       "      <td>1</td>\n",
       "      <td>3</td>\n",
       "      <td>3</td>\n",
       "      <td>60014271001003</td>\n",
       "      <td>37.768827</td>\n",
       "      <td>0</td>\n",
       "      <td>6.001001e+11</td>\n",
       "      <td>19546</td>\n",
       "      <td>1253.0</td>\n",
       "      <td>0</td>\n",
       "      <td>48</td>\n",
       "      <td>108</td>\n",
       "      <td>600105</td>\n",
       "      <td>600562.0</td>\n",
       "      <td>-122.235213</td>\n",
       "      <td>567900.0</td>\n",
       "      <td>576</td>\n",
       "    </tr>\n",
       "  </tbody>\n",
       "</table>\n",
       "</div>"
      ],
      "text/plain": [
       "   Unnamed: 0  Unnamed: 0.1  Unnamed: 0.1.1        block_id          y  \\\n",
       "0           0             1               1  60014271001001  37.769464   \n",
       "1           1             3               3  60014271001003  37.768827   \n",
       "\n",
       "   value_impute        taz_id  square_meters_land  res_rents  rent_impute  \\\n",
       "0             0  6.001001e+11               79696     1253.0            0   \n",
       "1             0  6.001001e+11               19546     1253.0            0   \n",
       "\n",
       "   residential_unit_capacity  employment_capacity  puma10_id  place_id  \\\n",
       "0                        105                  367     600105  600562.0   \n",
       "1                         48                  108     600105  600562.0   \n",
       "\n",
       "            x  res_values  TAZ  \n",
       "0 -122.233991    567900.0  576  \n",
       "1 -122.235213    567900.0  576  "
      ]
     },
     "metadata": {},
     "output_type": "display_data"
    },
    {
     "name": "stdout",
     "output_type": "stream",
     "text": [
      "trips.csv.gz\n"
     ]
    },
    {
     "data": {
      "text/html": [
       "<div>\n",
       "<style scoped>\n",
       "    .dataframe tbody tr th:only-of-type {\n",
       "        vertical-align: middle;\n",
       "    }\n",
       "\n",
       "    .dataframe tbody tr th {\n",
       "        vertical-align: top;\n",
       "    }\n",
       "\n",
       "    .dataframe thead th {\n",
       "        text-align: right;\n",
       "    }\n",
       "</style>\n",
       "<table border=\"1\" class=\"dataframe\">\n",
       "  <thead>\n",
       "    <tr style=\"text-align: right;\">\n",
       "      <th></th>\n",
       "      <th>Unnamed: 0</th>\n",
       "      <th>trip_id</th>\n",
       "      <th>person_id</th>\n",
       "      <th>household_id</th>\n",
       "      <th>tour_id</th>\n",
       "      <th>primary_purpose</th>\n",
       "      <th>trip_num</th>\n",
       "      <th>outbound</th>\n",
       "      <th>trip_count</th>\n",
       "      <th>purpose</th>\n",
       "      <th>destination</th>\n",
       "      <th>origin</th>\n",
       "      <th>destination_logsum</th>\n",
       "      <th>depart</th>\n",
       "      <th>trip_mode</th>\n",
       "      <th>mode_choice_logsum</th>\n",
       "    </tr>\n",
       "  </thead>\n",
       "  <tbody>\n",
       "    <tr>\n",
       "      <th>0</th>\n",
       "      <td>0</td>\n",
       "      <td>265</td>\n",
       "      <td>0</td>\n",
       "      <td>0</td>\n",
       "      <td>33</td>\n",
       "      <td>shopping</td>\n",
       "      <td>1</td>\n",
       "      <td>True</td>\n",
       "      <td>1</td>\n",
       "      <td>shopping</td>\n",
       "      <td>1018</td>\n",
       "      <td>1005</td>\n",
       "      <td>NaN</td>\n",
       "      <td>15.0</td>\n",
       "      <td>DRIVEALONEPAY</td>\n",
       "      <td>-0.040112</td>\n",
       "    </tr>\n",
       "    <tr>\n",
       "      <th>1</th>\n",
       "      <td>1</td>\n",
       "      <td>269</td>\n",
       "      <td>0</td>\n",
       "      <td>0</td>\n",
       "      <td>33</td>\n",
       "      <td>shopping</td>\n",
       "      <td>1</td>\n",
       "      <td>False</td>\n",
       "      <td>1</td>\n",
       "      <td>Home</td>\n",
       "      <td>1005</td>\n",
       "      <td>1018</td>\n",
       "      <td>NaN</td>\n",
       "      <td>16.0</td>\n",
       "      <td>DRIVEALONEFREE</td>\n",
       "      <td>-0.218349</td>\n",
       "    </tr>\n",
       "  </tbody>\n",
       "</table>\n",
       "</div>"
      ],
      "text/plain": [
       "   Unnamed: 0  trip_id  person_id  household_id  tour_id primary_purpose  \\\n",
       "0           0      265          0             0       33        shopping   \n",
       "1           1      269          0             0       33        shopping   \n",
       "\n",
       "   trip_num  outbound  trip_count   purpose  destination  origin  \\\n",
       "0         1      True           1  shopping         1018    1005   \n",
       "1         1     False           1      Home         1005    1018   \n",
       "\n",
       "   destination_logsum  depart       trip_mode  mode_choice_logsum  \n",
       "0                 NaN    15.0   DRIVEALONEPAY           -0.040112  \n",
       "1                 NaN    16.0  DRIVEALONEFREE           -0.218349  "
      ]
     },
     "metadata": {},
     "output_type": "display_data"
    }
   ],
   "source": [
    "#@title downsampling { form-width: \"123px\" }\n",
    "\n",
    "import pandas as pd\n",
    "\n",
    "def print_info(table_name, nrows=2):\n",
    "    table = pd.read_csv(f\"{table_name}\", nrows=nrows)\n",
    "    print(table_name)\n",
    "    display(table.head(nrows))\n",
    "\n",
    "print_info(\"persons.csv.gz\", 2)\n",
    "print_info(\"plans.csv.gz\", 2)\n",
    "print_info(\"households.csv.gz\", 2)\n",
    "print_info(\"blocks.csv.gz\",2)\n",
    "print_info(\"trips.csv.gz\",2)"
   ]
  },
  {
   "cell_type": "code",
   "execution_count": 25,
   "id": "3ff3fe6f",
   "metadata": {},
   "outputs": [],
   "source": [
    "persons = pd.read_csv(f\"persons.csv.gz\", nrows=2000000)"
   ]
  },
  {
   "cell_type": "code",
   "execution_count": 20,
   "id": "71edb749",
   "metadata": {},
   "outputs": [
    {
     "name": "stdout",
     "output_type": "stream",
     "text": [
      "the shape of partially read persons df: (1995840, 87)\n",
      "total number of randomly selected HH: 759226\n"
     ]
    }
   ],
   "source": [
    "persons = pd.read_csv(f\"persons.csv.gz\", nrows=2000000)\n",
    "print(f\"the shape of partially read persons df: {persons.shape}\")\n",
    "sampled_df = persons.sample(n=1978606)\n",
    "selected_household_ids = set(sampled_df['household_id'].unique())\n",
    "print(f\"total number of randomly selected HH: {len(selected_household_ids)}\")"
   ]
  },
  {
   "cell_type": "code",
   "execution_count": 24,
   "id": "dc9ce2af",
   "metadata": {},
   "outputs": [],
   "source": [
    "selected_person_ids = list2"
   ]
  },
  {
   "cell_type": "code",
   "execution_count": 29,
   "id": "e19a4b35",
   "metadata": {},
   "outputs": [],
   "source": [
    "sampled_df = persons[persons['person_id'].isin(list2)]"
   ]
  },
  {
   "cell_type": "code",
   "execution_count": 30,
   "id": "e8a765a3",
   "metadata": {},
   "outputs": [
    {
     "name": "stdout",
     "output_type": "stream",
     "text": [
      "total number of randomly selected HH: 725489\n"
     ]
    }
   ],
   "source": [
    "selected_household_ids = set(sampled_df['household_id'].unique())\n",
    "print(f\"total number of randomly selected HH: {len(selected_household_ids)}\")"
   ]
  },
  {
   "cell_type": "code",
   "execution_count": 36,
   "id": "14318b49",
   "metadata": {},
   "outputs": [],
   "source": [
    "persons = pd.read_csv('persons.csv.gz')\n",
    "persons = persons[persons['person_id'].isin(list2)]"
   ]
  },
  {
   "cell_type": "code",
   "execution_count": 38,
   "id": "64fc85fd",
   "metadata": {},
   "outputs": [],
   "source": [
    "households = pd.read_csv('households.csv.gz')"
   ]
  },
  {
   "cell_type": "code",
   "execution_count": 39,
   "id": "fe45640f",
   "metadata": {},
   "outputs": [],
   "source": [
    "households = households[households['household_id'].isin(list(persons['household_id'].unique()))]"
   ]
  },
  {
   "cell_type": "code",
   "execution_count": 40,
   "id": "ddaa4270",
   "metadata": {},
   "outputs": [],
   "source": [
    "blocks = pd.read_csv('blocks.csv.gz')"
   ]
  },
  {
   "cell_type": "code",
   "execution_count": 42,
   "id": "327e634c",
   "metadata": {},
   "outputs": [],
   "source": [
    "blocks = blocks[blocks['block_id'].isin(list(households['block_id'].unique()))]"
   ]
  },
  {
   "cell_type": "code",
   "execution_count": 45,
   "id": "5fc609c2",
   "metadata": {},
   "outputs": [],
   "source": [
    "plans = pd.read_csv('plans.csv.gz')"
   ]
  },
  {
   "cell_type": "code",
   "execution_count": 46,
   "id": "5d9d5f6d",
   "metadata": {},
   "outputs": [],
   "source": [
    "plans = plans[plans['person_id'].isin(list(list2))]"
   ]
  },
  {
   "cell_type": "code",
   "execution_count": 48,
   "id": "adc3098f",
   "metadata": {},
   "outputs": [],
   "source": [
    "persons.to_csv('persons.csv.gz')"
   ]
  },
  {
   "cell_type": "code",
   "execution_count": 49,
   "id": "3297376b",
   "metadata": {},
   "outputs": [],
   "source": [
    "plans.to_csv('plans.csv.gz')"
   ]
  },
  {
   "cell_type": "code",
   "execution_count": 50,
   "id": "40b2666c",
   "metadata": {},
   "outputs": [],
   "source": [
    "blocks.to_csv('blocks.csv.gz')"
   ]
  },
  {
   "cell_type": "code",
   "execution_count": 51,
   "id": "9ae079fd",
   "metadata": {},
   "outputs": [],
   "source": [
    "households.to_csv('households.csv.gz')"
   ]
  },
  {
   "cell_type": "code",
   "execution_count": null,
   "id": "a980e787",
   "metadata": {},
   "outputs": [],
   "source": []
  },
  {
   "cell_type": "code",
   "execution_count": 32,
   "id": "75249993",
   "metadata": {},
   "outputs": [
    {
     "name": "stdout",
     "output_type": "stream",
     "text": [
      "for persons.csv.gz shape is (1947496, 87)\n",
      "there are 1947496 selected persons\n",
      "for households.csv.gz shape is (725489, 63)\n",
      "there are 70774 selected blocks\n",
      "for plans.csv.gz shape is (15693980, 13)\n",
      "for blocks.csv.gz shape is (70774, 17)\n"
     ]
    }
   ],
   "source": [
    "file_name = 'persons.csv.gz'\n",
    "file_path = f'{file_name}'\n",
    "selected_persons = pd.concat([df[df['household_id'].isin(selected_household_ids)] for df in pd.read_csv(file_path, low_memory=False, chunksize=10000)])\n",
    "print(f'for {file_name} shape is {selected_persons.shape}')\n",
    "\n",
    "selected_persons_ids = set(selected_persons['person_id'])\n",
    "print(f\"there are {len(selected_persons_ids)} selected persons\")\n",
    "\n",
    "file_name = 'households.csv.gz'\n",
    "file_path = f'{file_name}'\n",
    "selected_households = pd.concat([df[df['household_id'].isin(selected_household_ids)] for df in pd.read_csv(file_path, low_memory=False, chunksize=10000)])\n",
    "print(f'for {file_name} shape is {selected_households.shape}')\n",
    "\n",
    "selected_block_ids = set(selected_households['block_id'])\n",
    "print(f\"there are {len(selected_block_ids)} selected blocks\")\n",
    "\n",
    "file_name = 'plans.csv.gz'\n",
    "file_path = f'{file_name}'\n",
    "selected_plans = pd.concat([df[df['person_id'].isin(selected_persons_ids)] for df in pd.read_csv(file_path, low_memory=False, chunksize=10000)])\n",
    "print(f'for {file_name} shape is {selected_plans.shape}')\n",
    "\n",
    "file_name = 'blocks.csv.gz'\n",
    "file_path = f'{file_name}'\n",
    "selected_blocks = pd.concat([df[df['block_id'].isin(selected_block_ids)] for df in pd.read_csv(file_path, low_memory=False, chunksize=10000)])\n",
    "print(f'for {file_name} shape is {selected_blocks.shape}')"
   ]
  },
  {
   "cell_type": "code",
   "execution_count": 35,
   "id": "4287c3c4",
   "metadata": {
    "scrolled": true
   },
   "outputs": [
    {
     "data": {
      "text/plain": [
       "1995840"
      ]
     },
     "execution_count": 35,
     "metadata": {},
     "output_type": "execute_result"
    }
   ],
   "source": [
    "len(persons['person_id'].unique())"
   ]
  },
  {
   "cell_type": "code",
   "execution_count": 33,
   "id": "65869304",
   "metadata": {},
   "outputs": [],
   "source": [
    "selected_persons.to_csv('persons.csv.gz')\n",
    "selected_households.to_csv('households.csv.gz')\n",
    "selected_plans.to_csv('plans.csv.gz')\n",
    "selected_blocks.to_csv('blocks.csv.gz')"
   ]
  },
  {
   "cell_type": "code",
   "execution_count": null,
   "id": "01d88374",
   "metadata": {},
   "outputs": [],
   "source": [
    "# selected_trip_ids = set(selected_plans['trip_id'])"
   ]
  },
  {
   "cell_type": "code",
   "execution_count": null,
   "id": "47c54141",
   "metadata": {},
   "outputs": [],
   "source": [
    "# file_name = 'trips.csv.gz'\n",
    "# file_path = f'{file_name}'\n",
    "# selected_trips = pd.concat([df[df['trip_id'].isin(selected_trip_ids)] for df in pd.read_csv(file_path, low_memory=False, chunksize=10000)])\n",
    "# print(f'for {file_name} shape is {selected_trips.shape}')"
   ]
  },
  {
   "cell_type": "code",
   "execution_count": null,
   "id": "4450cd52",
   "metadata": {},
   "outputs": [],
   "source": [
    "# selected_trips.to_csv('trips.csv.gz')"
   ]
  },
  {
   "cell_type": "code",
   "execution_count": null,
   "id": "995a9c42",
   "metadata": {},
   "outputs": [],
   "source": []
  }
 ],
 "metadata": {
  "kernelspec": {
   "display_name": "Python 3 (ipykernel)",
   "language": "python",
   "name": "python3"
  },
  "language_info": {
   "codemirror_mode": {
    "name": "ipython",
    "version": 3
   },
   "file_extension": ".py",
   "mimetype": "text/x-python",
   "name": "python",
   "nbconvert_exporter": "python",
   "pygments_lexer": "ipython3",
   "version": "3.9.13"
  }
 },
 "nbformat": 4,
 "nbformat_minor": 5
}
