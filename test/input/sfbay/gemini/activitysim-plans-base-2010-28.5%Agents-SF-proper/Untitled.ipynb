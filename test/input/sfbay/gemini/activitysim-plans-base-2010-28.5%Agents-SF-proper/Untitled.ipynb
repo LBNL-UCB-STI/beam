{
 "cells": [
  {
   "cell_type": "code",
   "execution_count": 2,
   "id": "f12a60cf",
   "metadata": {},
   "outputs": [],
   "source": [
    "import pandas as pd"
   ]
  },
  {
   "cell_type": "code",
   "execution_count": 3,
   "id": "a6c1506a",
   "metadata": {},
   "outputs": [],
   "source": [
    "blocks = pd.read_csv('blocks.csv.gz')\n",
    "households = pd.read_csv('households.csv.gz')\n",
    "persons = pd.read_csv('persons.csv.gz')\n",
    "plans = pd.read_csv('plans.csv.gz')\n",
    "trips = pd.read_csv('trips.csv.gz')"
   ]
  },
  {
   "cell_type": "code",
   "execution_count": null,
   "id": "e3ae947f",
   "metadata": {},
   "outputs": [],
   "source": []
  }
 ],
 "metadata": {
  "kernelspec": {
   "display_name": "Python 3 (ipykernel)",
   "language": "python",
   "name": "python3"
  },
  "language_info": {
   "codemirror_mode": {
    "name": "ipython",
    "version": 3
   },
   "file_extension": ".py",
   "mimetype": "text/x-python",
   "name": "python",
   "nbconvert_exporter": "python",
   "pygments_lexer": "ipython3",
   "version": "3.9.13"
  }
 },
 "nbformat": 4,
 "nbformat_minor": 5
}
