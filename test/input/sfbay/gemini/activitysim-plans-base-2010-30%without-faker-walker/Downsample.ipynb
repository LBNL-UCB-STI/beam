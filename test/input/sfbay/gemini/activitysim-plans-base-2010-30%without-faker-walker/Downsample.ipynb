{
 "cells": [
  {
   "cell_type": "code",
   "execution_count": 2,
   "id": "thirty-jackson",
   "metadata": {},
   "outputs": [],
   "source": [
    "import pandas as pd"
   ]
  },
  {
   "cell_type": "code",
   "execution_count": 3,
   "id": "2633e700",
   "metadata": {},
   "outputs": [
    {
     "name": "stderr",
     "output_type": "stream",
     "text": [
      "/var/folders/z4/5gq1j4sn50b62w40lgwsthh80000gn/T/ipykernel_26620/2219903203.py:1: DtypeWarning: Columns (1,2,3,4,6,10,23,25,26,27,28,29,33,34,40,42,44,45,46,47,52,56) have mixed types. Specify dtype option on import or set low_memory=False.\n",
      "  events = pd.read_csv('https://beam-outputs.s3.amazonaws.com/output/sfbay/gemini-base-2035-activitysim__2022-06-20_23-36-21_owl/ITERS/it.0/0.events.csv.gz')\n"
     ]
    },
    {
     "data": {
      "text/plain": [
       "1753789"
      ]
     },
     "metadata": {},
     "output_type": "display_data"
    },
    {
     "data": {
      "text/plain": [
       "66702"
      ]
     },
     "metadata": {},
     "output_type": "display_data"
    }
   ],
   "source": [
    "events = pd.read_csv('https://beam-outputs.s3.amazonaws.com/output/sfbay/gemini-base-2035-activitysim__2022-06-20_23-36-21_owl/ITERS/it.0/0.events.csv.gz')\n",
    "modechoice = events[events['type'] == 'ModeChoice']\n",
    "walk = modechoice[modechoice['mode'] == 'walk']\n",
    "display(len(events['person'].unique()))\n",
    "longWalker = walk[walk['length'] > 4828.03]\n",
    "display(len(longWalker['person'].unique()))\n",
    "list1 = list(longWalker['person'].unique())"
   ]
  },
  {
   "cell_type": "code",
   "execution_count": 4,
   "id": "677d49d4",
   "metadata": {},
   "outputs": [],
   "source": [
    "filtered = events[events['person'].isin(list1) == False]"
   ]
  },
  {
   "cell_type": "code",
   "execution_count": 5,
   "id": "7ac2de57",
   "metadata": {},
   "outputs": [],
   "source": [
    "list2 = list(filtered['person'].unique())"
   ]
  },
  {
   "cell_type": "code",
   "execution_count": 6,
   "id": "dc9ce2af",
   "metadata": {},
   "outputs": [],
   "source": [
    "selected_person_ids = list2"
   ]
  },
  {
   "cell_type": "code",
   "execution_count": 7,
   "id": "78357781",
   "metadata": {},
   "outputs": [
    {
     "name": "stdout",
     "output_type": "stream",
     "text": [
      "the shape of partially read persons df: (1678530, 89)\n",
      "total number of randomly selected HH: 716289\n"
     ]
    }
   ],
   "source": [
    "persons = pd.read_csv(\"persons.csv.gz\")\n",
    "print(f\"the shape of partially read persons df: {persons.shape}\")\n",
    "sampled_df = persons[persons['person_id'].isin(list2)]\n",
    "selected_household_ids = set(sampled_df['household_id'].unique())\n",
    "print(f\"total number of randomly selected HH: {len(selected_household_ids)}\")"
   ]
  },
  {
   "cell_type": "code",
   "execution_count": 8,
   "id": "cdaf8d8d",
   "metadata": {},
   "outputs": [
    {
     "name": "stdout",
     "output_type": "stream",
     "text": [
      "for persons.csv.gz shape is (1668344, 89)\n",
      "there are 1668344 selected persons\n",
      "for households.csv.gz shape is (716289, 65)\n",
      "there are 70636 selected blocks\n",
      "for plans.csv.gz shape is (14540100, 15)\n",
      "for blocks.csv.gz shape is (70636, 19)\n"
     ]
    }
   ],
   "source": [
    "file_name = 'persons.csv.gz'\n",
    "file_path = f'{file_name}'\n",
    "selected_persons = pd.concat([df[df['household_id'].isin(selected_household_ids)] for df in pd.read_csv(file_path, low_memory=False, chunksize=10000)])\n",
    "print(f'for {file_name} shape is {selected_persons.shape}')\n",
    "\n",
    "selected_persons_ids = set(selected_persons['person_id'])\n",
    "print(f\"there are {len(selected_persons_ids)} selected persons\")\n",
    "\n",
    "file_name = 'households.csv.gz'\n",
    "file_path = f'{file_name}'\n",
    "selected_households = pd.concat([df[df['household_id'].isin(selected_household_ids)] for df in pd.read_csv(file_path, low_memory=False, chunksize=10000)])\n",
    "print(f'for {file_name} shape is {selected_households.shape}')\n",
    "\n",
    "selected_block_ids = set(selected_households['block_id'])\n",
    "print(f\"there are {len(selected_block_ids)} selected blocks\")\n",
    "\n",
    "file_name = 'plans.csv.gz'\n",
    "file_path = f'{file_name}'\n",
    "selected_plans = pd.concat([df[df['person_id'].isin(selected_persons_ids)] for df in pd.read_csv(file_path, low_memory=False, chunksize=10000)])\n",
    "print(f'for {file_name} shape is {selected_plans.shape}')\n",
    "\n",
    "file_name = 'blocks.csv.gz'\n",
    "file_path = f'{file_name}'\n",
    "selected_blocks = pd.concat([df[df['block_id'].isin(selected_block_ids)] for df in pd.read_csv(file_path, low_memory=False, chunksize=10000)])\n",
    "print(f'for {file_name} shape is {selected_blocks.shape}')"
   ]
  },
  {
   "cell_type": "code",
   "execution_count": 9,
   "id": "555b14f0",
   "metadata": {},
   "outputs": [],
   "source": [
    "selected_persons.to_csv('persons.csv.gz')"
   ]
  },
  {
   "cell_type": "code",
   "execution_count": 10,
   "id": "1d47dfa5",
   "metadata": {},
   "outputs": [],
   "source": [
    "selected_households.to_csv('households.csv.gz')"
   ]
  },
  {
   "cell_type": "code",
   "execution_count": 11,
   "id": "5998f10e",
   "metadata": {},
   "outputs": [],
   "source": [
    "selected_plans.to_csv('plans.csv.gz')"
   ]
  },
  {
   "cell_type": "code",
   "execution_count": 12,
   "id": "8acc5ff3",
   "metadata": {},
   "outputs": [],
   "source": [
    "selected_blocks.to_csv('blocks.csv.gz')"
   ]
  },
  {
   "cell_type": "code",
   "execution_count": null,
   "id": "012a75a4",
   "metadata": {},
   "outputs": [],
   "source": []
  },
  {
   "cell_type": "code",
   "execution_count": null,
   "id": "932a6fd4",
   "metadata": {},
   "outputs": [],
   "source": []
  },
  {
   "cell_type": "code",
   "execution_count": 30,
   "id": "e8a765a3",
   "metadata": {},
   "outputs": [
    {
     "name": "stdout",
     "output_type": "stream",
     "text": [
      "total number of randomly selected HH: 725489\n"
     ]
    }
   ],
   "source": [
    "selected_household_ids = set(sampled_df['household_id'].unique())\n",
    "print(f\"total number of randomly selected HH: {len(selected_household_ids)}\")"
   ]
  },
  {
   "cell_type": "code",
   "execution_count": 36,
   "id": "14318b49",
   "metadata": {},
   "outputs": [],
   "source": [
    "persons = pd.read_csv('persons.csv.gz')\n",
    "persons = persons[persons['person_id'].isin(list2)]"
   ]
  },
  {
   "cell_type": "code",
   "execution_count": 38,
   "id": "64fc85fd",
   "metadata": {},
   "outputs": [],
   "source": [
    "households = pd.read_csv('households.csv.gz')"
   ]
  },
  {
   "cell_type": "code",
   "execution_count": 39,
   "id": "fe45640f",
   "metadata": {},
   "outputs": [],
   "source": [
    "households = households[households['household_id'].isin(list(persons['household_id'].unique()))]"
   ]
  },
  {
   "cell_type": "code",
   "execution_count": 40,
   "id": "ddaa4270",
   "metadata": {},
   "outputs": [],
   "source": [
    "blocks = pd.read_csv('blocks.csv.gz')"
   ]
  },
  {
   "cell_type": "code",
   "execution_count": 42,
   "id": "327e634c",
   "metadata": {},
   "outputs": [],
   "source": [
    "blocks = blocks[blocks['block_id'].isin(list(households['block_id'].unique()))]"
   ]
  },
  {
   "cell_type": "code",
   "execution_count": 45,
   "id": "5fc609c2",
   "metadata": {},
   "outputs": [],
   "source": [
    "plans = pd.read_csv('plans.csv.gz')"
   ]
  },
  {
   "cell_type": "code",
   "execution_count": 46,
   "id": "5d9d5f6d",
   "metadata": {},
   "outputs": [],
   "source": [
    "plans = plans[plans['person_id'].isin(list(list2))]"
   ]
  },
  {
   "cell_type": "code",
   "execution_count": 48,
   "id": "adc3098f",
   "metadata": {},
   "outputs": [],
   "source": [
    "persons.to_csv('persons.csv.gz')"
   ]
  },
  {
   "cell_type": "code",
   "execution_count": 49,
   "id": "3297376b",
   "metadata": {},
   "outputs": [],
   "source": [
    "plans.to_csv('plans.csv.gz')"
   ]
  },
  {
   "cell_type": "code",
   "execution_count": 50,
   "id": "40b2666c",
   "metadata": {},
   "outputs": [],
   "source": [
    "blocks.to_csv('blocks.csv.gz')"
   ]
  },
  {
   "cell_type": "code",
   "execution_count": 51,
   "id": "9ae079fd",
   "metadata": {},
   "outputs": [],
   "source": [
    "households.to_csv('households.csv.gz')"
   ]
  },
  {
   "cell_type": "code",
   "execution_count": null,
   "id": "a980e787",
   "metadata": {},
   "outputs": [],
   "source": []
  },
  {
   "cell_type": "code",
   "execution_count": 32,
   "id": "75249993",
   "metadata": {},
   "outputs": [
    {
     "name": "stdout",
     "output_type": "stream",
     "text": [
      "for persons.csv.gz shape is (1947496, 87)\n",
      "there are 1947496 selected persons\n",
      "for households.csv.gz shape is (725489, 63)\n",
      "there are 70774 selected blocks\n",
      "for plans.csv.gz shape is (15693980, 13)\n",
      "for blocks.csv.gz shape is (70774, 17)\n"
     ]
    }
   ],
   "source": [
    "file_name = 'persons.csv.gz'\n",
    "file_path = f'{file_name}'\n",
    "selected_persons = pd.concat([df[df['household_id'].isin(selected_household_ids)] for df in pd.read_csv(file_path, low_memory=False, chunksize=10000)])\n",
    "print(f'for {file_name} shape is {selected_persons.shape}')\n",
    "\n",
    "selected_persons_ids = set(selected_persons['person_id'])\n",
    "print(f\"there are {len(selected_persons_ids)} selected persons\")\n",
    "\n",
    "file_name = 'households.csv.gz'\n",
    "file_path = f'{file_name}'\n",
    "selected_households = pd.concat([df[df['household_id'].isin(selected_household_ids)] for df in pd.read_csv(file_path, low_memory=False, chunksize=10000)])\n",
    "print(f'for {file_name} shape is {selected_households.shape}')\n",
    "\n",
    "selected_block_ids = set(selected_households['block_id'])\n",
    "print(f\"there are {len(selected_block_ids)} selected blocks\")\n",
    "\n",
    "file_name = 'plans.csv.gz'\n",
    "file_path = f'{file_name}'\n",
    "selected_plans = pd.concat([df[df['person_id'].isin(selected_persons_ids)] for df in pd.read_csv(file_path, low_memory=False, chunksize=10000)])\n",
    "print(f'for {file_name} shape is {selected_plans.shape}')\n",
    "\n",
    "file_name = 'blocks.csv.gz'\n",
    "file_path = f'{file_name}'\n",
    "selected_blocks = pd.concat([df[df['block_id'].isin(selected_block_ids)] for df in pd.read_csv(file_path, low_memory=False, chunksize=10000)])\n",
    "print(f'for {file_name} shape is {selected_blocks.shape}')"
   ]
  },
  {
   "cell_type": "code",
   "execution_count": 35,
   "id": "4287c3c4",
   "metadata": {
    "scrolled": true
   },
   "outputs": [
    {
     "data": {
      "text/plain": [
       "1995840"
      ]
     },
     "execution_count": 35,
     "metadata": {},
     "output_type": "execute_result"
    }
   ],
   "source": [
    "len(persons['person_id'].unique())"
   ]
  },
  {
   "cell_type": "code",
   "execution_count": 33,
   "id": "65869304",
   "metadata": {},
   "outputs": [],
   "source": [
    "selected_persons.to_csv('persons.csv.gz')\n",
    "selected_households.to_csv('households.csv.gz')\n",
    "selected_plans.to_csv('plans.csv.gz')\n",
    "selected_blocks.to_csv('blocks.csv.gz')"
   ]
  },
  {
   "cell_type": "code",
   "execution_count": null,
   "id": "01d88374",
   "metadata": {},
   "outputs": [],
   "source": [
    "# selected_trip_ids = set(selected_plans['trip_id'])"
   ]
  },
  {
   "cell_type": "code",
   "execution_count": null,
   "id": "47c54141",
   "metadata": {},
   "outputs": [],
   "source": [
    "# file_name = 'trips.csv.gz'\n",
    "# file_path = f'{file_name}'\n",
    "# selected_trips = pd.concat([df[df['trip_id'].isin(selected_trip_ids)] for df in pd.read_csv(file_path, low_memory=False, chunksize=10000)])\n",
    "# print(f'for {file_name} shape is {selected_trips.shape}')"
   ]
  },
  {
   "cell_type": "code",
   "execution_count": null,
   "id": "4450cd52",
   "metadata": {},
   "outputs": [],
   "source": [
    "# selected_trips.to_csv('trips.csv.gz')"
   ]
  },
  {
   "cell_type": "code",
   "execution_count": null,
   "id": "995a9c42",
   "metadata": {},
   "outputs": [],
   "source": []
  }
 ],
 "metadata": {
  "kernelspec": {
   "display_name": "Python 3 (ipykernel)",
   "language": "python",
   "name": "python3"
  },
  "language_info": {
   "codemirror_mode": {
    "name": "ipython",
    "version": 3
   },
   "file_extension": ".py",
   "mimetype": "text/x-python",
   "name": "python",
   "nbconvert_exporter": "python",
   "pygments_lexer": "ipython3",
   "version": "3.9.13"
  }
 },
 "nbformat": 4,
 "nbformat_minor": 5
}
