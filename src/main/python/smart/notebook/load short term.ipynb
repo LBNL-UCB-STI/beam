{
 "cells": [
  {
   "cell_type": "code",
   "execution_count": 1,
   "metadata": {},
   "outputs": [
    {
     "name": "stderr",
     "output_type": "stream",
     "text": [
      "/home/ubuntu/git/jupyter/smartdata_setup.py:141: DtypeWarning:\n",
      "\n",
      "Columns (0,1,2,3,4,15,19,29,31,32,33,34,35,37,39,44,50) have mixed types. Specify dtype option on import or set low_memory=False.\n",
      "\n"
     ]
    },
    {
     "name": "stdout",
     "output_type": "stream",
     "text": [
      "get_all_metrics ...\n",
      "get_all_metrics done\n",
      "https://beam-outputs.s3.amazonaws.com/output/sfbay/sfbay-smart-base-2045-lt-2040__2019-09-22_19-47-05 ok!\n"
     ]
    },
    {
     "name": "stderr",
     "output_type": "stream",
     "text": [
      "/home/ubuntu/git/jupyter/smartdata_setup.py:141: DtypeWarning:\n",
      "\n",
      "Columns (0,1,2,3,10,15,25,27,28,29,30,34,35,37,39,44,50) have mixed types. Specify dtype option on import or set low_memory=False.\n",
      "\n"
     ]
    },
    {
     "name": "stdout",
     "output_type": "stream",
     "text": [
      "get_all_metrics ...\n",
      "get_all_metrics done\n",
      "https://beam-outputs.s3.amazonaws.com/output/sfbay/sfbay-smart-base-2045-ht-2040__2019-09-22_19-47-05 ok!\n",
      "END\n"
     ]
    }
   ],
   "source": [
    "import smartdata_setup\n",
    "\n",
    "# Main\n",
    "\n",
    "\n",
    "baseline_2010 = (1, 2010, 15, \"base\", \"Base\", \"baseline\", \"https://beam-outputs.s3.amazonaws.com/output/sfbay/sfbay-smart-base-2010__2019-09-20_21-12-45\")\n",
    "#base_2030lt_2010 = (2, 2010, 15, \"base\", \"2030 Low Tech\", \"base_fleet_2030_lt\", \"beam/sfbay-smart-base-2030-lt-pilates__2019-09-11_04-49-22\")\n",
    "#base_2030ht_2010 = (3, 2010, 15, \"base\", \"2030 High Tech\", \"base_fleet_2030_ht\", \"beam/sfbay-smart-base-2030-ht-pilates__2019-09-11_04-50-11\")\n",
    "#base_2045lt_2010 = (4, 2010, 15, \"base\", \"2045 Low Tech\", \"base_fleet_2045_lt\", \"beam/sfbay-smart-base-2045-lt-pilates__2019-09-11_04-51-06\")\n",
    "#base_2045ht_2010 = (5, 2010, 15, \"base\", \"2045 High Tech\", \"base_fleet_2045_ht\", \"beam/sfbay-smart-base-2045-ht-pilates__2019-09-11_04-51-47\")\n",
    "a_lt_2010 = (6, 2010, 15, \"a\", \"Low Tech\", \"a_lt\", \"https://beam-outputs.s3.amazonaws.com/output/sfbay/sfbay-smart-a-lt-2010__2019-09-20_21-12-45\")\n",
    "a_ht_2010 = (7, 2010, 15, \"a\", \"High Tech\", \"a_ht\", \"https://beam-outputs.s3.amazonaws.com/output/sfbay/sfbay-smart-a-ht-2010__2019-09-20_21-12-45\")\n",
    "b_lt_2010 = (8, 2010, 15, \"b\", \"Low Tech\", \"b_lt\", \"https://beam-outputs.s3.amazonaws.com/output/sfbay/sfbay-smart-b-lt-2010__2019-09-20_21-12-45\")\n",
    "b_ht_2010 = (9, 2010, 15, \"b\", \"High Tech\", \"b_ht\", \"https://beam-outputs.s3.amazonaws.com/output/sfbay/sfbay-smart-b-ht-2010__2019-09-20_21-12-46\")\n",
    "c_lt_2010 = (10, 2010, 15, \"c\", \"Low Tech\", \"c_lt\", \"https://beam-outputs.s3.amazonaws.com/output/sfbay/sfbay-smart-c-lt-2010__2019-09-20_21-12-45\")\n",
    "c_ht_2010 = (11, 2010, 15, \"c\", \"High Tech\", \"c_ht\", \"https://beam-outputs.s3.amazonaws.com/output/sfbay/sfbay-smart-c-ht-2010__2019-09-20_21-12-45\")\n",
    "\n",
    "\n",
    "baseline_2025 = (1, 2025, 15, \"base\", \"Base\", \"baseline\", \"https://beam-outputs.s3.amazonaws.com/output/sfbay/sfbay-smart-base-2025__2019-09-20_21-12-45\")\n",
    "base_2030lt_2025 = (2, 2025, 15, \"base\", \"2030 Low Tech\", \"base_fleet_2030_lt\", \"https://beam-outputs.s3.amazonaws.com/output/sfbay/sfbay-smart-base-2030-lt-2025__2019-09-20_21-13-01\")\n",
    "base_2030ht_2025 = (3, 2025, 15, \"base\", \"2030 High Tech\", \"base_fleet_2030_ht\", \"https://beam-outputs.s3.amazonaws.com/output/sfbay/sfbay-smart-base-2030-ht-2025__2019-09-20_21-13-12\")\n",
    "#base_2045lt_2025 = (4, 2025, 15, \"base\", \"2045 Low Tech\", \"base_fleet_2045_lt\", \"https://beam-outputs.s3.amazonaws.com/output/sfbay/sfbay-smart-base-2045-lt-2025__2019-09-20_21-13-13\")\n",
    "#base_2045ht_2025 = (5, 2025, 15, \"base\", \"2045 High Tech\", \"base_fleet_2045_ht\", \"https://beam-outputs.s3.amazonaws.com/output/sfbay/sfbay-smart-base-2045-ht-2025__2019-09-20_22-41-25\")\n",
    "a_lt_2025 = (6, 2025, 15, \"a\", \"Low Tech\", \"a_lt\", \"https://beam-outputs.s3.amazonaws.com/output/sfbay/sfbay-smart-a-lt-2025__2019-09-20_21-12-45\")\n",
    "a_ht_2025 = (7, 2025, 15, \"a\", \"High Tech\", \"a_ht\", \"https://beam-outputs.s3.amazonaws.com/output/sfbay/sfbay-smart-a-ht-2025__2019-09-20_21-12-45\")\n",
    "#b_lt_2025 = (8, 2025, 15, \"b\", \"Low Tech\", \"b_lt\", \"beam/sfbay-smart-b-lt-pilates__2019-09-12_18-51-38\")\n",
    "#b_ht_2025 = (9, 2025, 15, \"b\", \"High Tech\", \"b_ht\", \"beam/sfbay-smart-b-ht-pilates__2019-09-12_20-27-39\")\n",
    "#c_lt_2025 = (10, 2025, 15, \"c\", \"Low Tech\", \"c_lt\", \"beam/sfbay-smart-c-lt-pilates__2019-09-12_18-53-11\")\n",
    "#c_ht_2025 = (11, 2025, 15, \"c\", \"High Tech\", \"c_ht\", \"beam/sfbay-smart-c-ht-pilates__2019-09-12_18-54-51\")\n",
    "\n",
    "\n",
    "baseline_2040 = (1, 2040, 15, \"base\", \"Base\", \"baseline\", \"https://beam-outputs.s3.amazonaws.com/output/sfbay/sfbay-smart-base-2040__2019-09-20_21-12-45\")\n",
    "#base_2030lt_2040 = (2, 2040, 15, \"base\", \"2030 Low Tech\", \"base_fleet_2030_lt\", \"beam/sfbay-smart-base-2030-lt-pilates__2019-09-13_18-06-04\")\n",
    "#base_2030ht_2040 = (3, 2040, 15, \"base\", \"2030 High Tech\", \"base_fleet_2030_ht\", \"beam/sfbay-smart-base-2030-ht-pilates__2019-09-13_17-47-43\")\n",
    "base_2045lt_2040 = (4, 2040, 15, \"base\", \"2045 Low Tech\", \"base_fleet_2045_lt\", \"https://beam-outputs.s3.amazonaws.com/output/sfbay/sfbay-smart-base-2045-lt-2040__2019-09-22_19-47-05\")\n",
    "base_2045ht_2040 = (5, 2040, 15, \"base\", \"2045 High Tech\", \"base_fleet_2045_ht\", \"https://beam-outputs.s3.amazonaws.com/output/sfbay/sfbay-smart-base-2045-ht-2040__2019-09-22_19-47-05\")\n",
    "#a_lt_2040 = (6, 2040, 15, \"a\", \"Low Tech\", \"a_lt\", \"beam/sfbay-smart-a-lt-pilates__2019-09-13_13-44-02\")\n",
    "#a_ht_2040 = (7, 2040, 15, \"a\", \"High Tech\", \"a_ht\", \"beam/sfbay-smart-a-ht-pilates__2019-09-13_13-39-31\")\n",
    "b_lt_2040 = (8, 2040, 15, \"b\", \"Low Tech\", \"b_lt\", \"https://beam-outputs.s3.amazonaws.com/output/sfbay/sfbay-smart-b-lt-2040__2019-09-20_21-12-45\")\n",
    "b_ht_2040 = (9, 2040, 15, \"b\", \"High Tech\", \"b_ht\", \"https://beam-outputs.s3.amazonaws.com/output/sfbay/sfbay-smart-b-ht-2040__2019-09-20_21-12-45\")\n",
    "c_lt_2040 = (10, 2040, 15, \"c\", \"Low Tech\", \"c_lt\", \"https://beam-outputs.s3.amazonaws.com/output/sfbay/sfbay-smart-c-lt-2040__2019-09-20_21-12-45\")\n",
    "c_ht_2040 = (11, 2040, 15, \"c\", \"High Tech\", \"c_ht\", \"https://beam-outputs.s3.amazonaws.com/output/sfbay/sfbay-smart-c-ht-2040__2019-09-20_21-12-45\")\n",
    "\n",
    "\n",
    "\n",
    "scenarios_2025 = [base_2030lt_2025, base_2030ht_2025]\n",
    "scenarios = scenarios_2025\n",
    "\n",
    "setup_config_dict = {\n",
    "    \"base_url\": \"https://beam-outputs.s3.amazonaws.com/pilates-outputs/15thSep2019\",\n",
    "    \"run_name\": \"20thSep2019\",\n",
    "    \"home_dir\": \"/home/ubuntu/git/jupyter/data\",\n",
    "    \"scenarios\": scenarios\n",
    "}\n",
    "\n",
    "\n",
    "smartdata_setup.make_plots(setup_config_dict)\n",
    "\n",
    "\n",
    "print(\"END\")\n"
   ]
  }
 ],
 "metadata": {
  "kernelspec": {
   "display_name": "Python 3",
   "language": "python",
   "name": "python3"
  },
  "language_info": {
   "codemirror_mode": {
    "name": "ipython",
    "version": 3
   },
   "file_extension": ".py",
   "mimetype": "text/x-python",
   "name": "python",
   "nbconvert_exporter": "python",
   "pygments_lexer": "ipython3",
   "version": "3.5.2"
  }
 },
 "nbformat": 4,
 "nbformat_minor": 2
}
