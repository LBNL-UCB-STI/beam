{
 "cells": [
  {
   "cell_type": "code",
   "execution_count": 1,
   "id": "704a317a-3acf-4948-b52f-3e74e1829ce0",
   "metadata": {},
   "outputs": [],
   "source": [
    "import pandas as pd\n",
    "import numpy as np\n",
    "import matplotlib.pyplot as plt\n",
    "\n",
    "pd.set_option('display.max_rows', 500)\n",
    "pd.set_option('display.max_columns', 500)\n",
    "pd.set_option('display.width', 1000)"
   ]
  },
  {
   "cell_type": "code",
   "execution_count": 2,
   "id": "4224fe82-0167-41d1-809e-98500438a18e",
   "metadata": {},
   "outputs": [],
   "source": [
    "## modes distribution - plans reading\n",
    "\n",
    "plans = []\n",
    "paths = [] #[\"plans1.csv.gz\", \"plans2.csv.gz\"]\n",
    "for path in paths:\n",
    "    df = pd.read_csv(path)\n",
    "    print(f\"read df with shape {df.shape}\")\n",
    "    plans.append(df)\n",
    "\n",
    "# df.head(3)"
   ]
  },
  {
   "cell_type": "code",
   "execution_count": 3,
   "id": "f74b2112-de2f-4962-9655-6f17266e76c4",
   "metadata": {},
   "outputs": [],
   "source": [
    "## modes distribution \n",
    "\n",
    "for plan in plans:\n",
    "    display(plan['legMode'].value_counts(normalize=True))\n",
    "    print(\"\\n\\n\")"
   ]
  },
  {
   "cell_type": "code",
   "execution_count": null,
   "id": "c2b2ac4e-968f-417f-8994-b3e4f103b570",
   "metadata": {},
   "outputs": [],
   "source": [
    "## sampling of plans - plans reading\n",
    "\n",
    "path_to_plans = \"\"\n",
    "plans_full = pd.read_csv(path_to_plans)\n",
    "display(plans_full.shape)\n",
    "plans_full.head(3)"
   ]
  },
  {
   "cell_type": "code",
   "execution_count": null,
   "id": "65c1083f-5d56-4523-a60e-59f3abee98a4",
   "metadata": {},
   "outputs": [],
   "source": [
    "## sampling of plans - sampling\n",
    "\n",
    "percentage = 10\n",
    "\n",
    "persons_all = plans_full['personId'].unique()\n",
    "sample_size = int(len(persons_all) / 100.0 * percentage)\n",
    "persons_selected = set(np.random.choice(persons_all, sample_size))\n",
    "\n",
    "plans_sampled = plans_full[plans_full['personId'].isin(persons_selected)].copy()\n",
    "print(f\"Sampled {percentage}% of persons. The shape of sampled plans: {plans_sampled.shape}\")"
   ]
  },
  {
   "cell_type": "code",
   "execution_count": null,
   "id": "cdfdf068-fb5d-4e0b-8f15-0eaad37a220b",
   "metadata": {},
   "outputs": [],
   "source": [
    "## sampling of plans - writing to file\n",
    "\n",
    "path_to_sampled_plans = \"\"\n",
    "plans_sampled.to_csv(path_to_sampled_plans, index=False)"
   ]
  }
 ],
 "metadata": {
  "kernelspec": {
   "display_name": "Python 3 (ipykernel)",
   "language": "python",
   "name": "python3"
  },
  "language_info": {
   "codemirror_mode": {
    "name": "ipython",
    "version": 3
   },
   "file_extension": ".py",
   "mimetype": "text/x-python",
   "name": "python",
   "nbconvert_exporter": "python",
   "pygments_lexer": "ipython3",
   "version": "3.9.10"
  },
  "toc-autonumbering": true,
  "toc-showcode": true,
  "toc-showmarkdowntxt": false,
  "toc-showtags": false
 },
 "nbformat": 4,
 "nbformat_minor": 5
}
