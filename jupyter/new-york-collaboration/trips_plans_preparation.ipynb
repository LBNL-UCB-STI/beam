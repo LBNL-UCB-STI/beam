{
 "cells": [
  {
   "cell_type": "code",
   "execution_count": 1,
   "id": "704a317a-3acf-4948-b52f-3e74e1829ce0",
   "metadata": {},
   "outputs": [],
   "source": [
    "import pandas as pd\n",
    "import numpy as np\n",
    "import matplotlib.pyplot as plt\n",
    "\n",
    "pd.set_option('display.max_rows', 500)\n",
    "pd.set_option('display.max_columns', 500)\n",
    "pd.set_option('display.width', 1000)"
   ]
  },
  {
   "cell_type": "code",
   "execution_count": 2,
   "id": "4224fe82-0167-41d1-809e-98500438a18e",
   "metadata": {},
   "outputs": [],
   "source": [
    "plans = []\n",
    "paths = [] #[\"plans1.csv.gz\", \"plans2.csv.gz\"]\n",
    "for path in paths:\n",
    "    df = pd.read_csv(path)\n",
    "    print(f\"read df with shape {df.shape}\")\n",
    "    plans.append(df)\n",
    "\n",
    "# df.head(3)"
   ]
  },
  {
   "cell_type": "code",
   "execution_count": 3,
   "id": "f74b2112-de2f-4962-9655-6f17266e76c4",
   "metadata": {},
   "outputs": [],
   "source": [
    "for plan in plans:\n",
    "    display(plan['legMode'].value_counts(normalize=True))\n",
    "    print(\"\\n\\n\")"
   ]
  },
  {
   "cell_type": "code",
   "execution_count": null,
   "id": "65c1083f-5d56-4523-a60e-59f3abee98a4",
   "metadata": {},
   "outputs": [],
   "source": []
  }
 ],
 "metadata": {
  "kernelspec": {
   "display_name": "Python 3 (ipykernel)",
   "language": "python",
   "name": "python3"
  },
  "language_info": {
   "codemirror_mode": {
    "name": "ipython",
    "version": 3
   },
   "file_extension": ".py",
   "mimetype": "text/x-python",
   "name": "python",
   "nbconvert_exporter": "python",
   "pygments_lexer": "ipython3",
   "version": "3.9.10"
  }
 },
 "nbformat": 4,
 "nbformat_minor": 5
}
