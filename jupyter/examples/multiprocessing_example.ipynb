{
 "cells": [
  {
   "cell_type": "code",
   "execution_count": 26,
   "id": "e3ffec84-6184-4c7f-8af2-da347d163f10",
   "metadata": {},
   "outputs": [],
   "source": [
    "import time\n",
    "from timeit import default_timer as timer\n",
    "from multiprocessing import Pool, cpu_count\n",
    "\n",
    "\n",
    "def function_doing_heavy_computations(complexity):\n",
    "    a_sum = 0\n",
    "    for i in range(complexity):\n",
    "        a_list = [x * x * x for x in range(1, complexity)]\n",
    "        a_sum += sum(a_list) / complexity\n",
    "    \n",
    "    return a_sum\n",
    "\n",
    "\n",
    "def start_multiprocessing_calculations(complexity_value, amount_of_tasks):\n",
    "    start = timer()\n",
    "    print(f'starting computations on {cpu_count()} cores')\n",
    "\n",
    "    values_to_apply_a_func = [complexity_value + x for x in range(1, amount_of_tasks)]\n",
    "\n",
    "    with Pool() as pool:\n",
    "        results_of_computation = pool.map(function_doing_heavy_computations, values_to_apply_a_func)\n",
    "\n",
    "    end = timer()\n",
    "    print(f'elapsed time: {end - start}')\n",
    "    print(f'results len: {len(results_of_computation)}')"
   ]
  },
  {
   "cell_type": "code",
   "execution_count": 22,
   "id": "d23a0cc6-eeeb-493c-a313-2af0d6df4893",
   "metadata": {},
   "outputs": [
    {
     "name": "stdout",
     "output_type": "stream",
     "text": [
      "CPU times: user 111 ms, sys: 0 ns, total: 111 ms\n",
      "Wall time: 110 ms\n"
     ]
    },
    {
     "data": {
      "text/plain": [
       "249500250000.0"
      ]
     },
     "execution_count": 22,
     "metadata": {},
     "output_type": "execute_result"
    }
   ],
   "source": [
    "### an example of a call of a function\n",
    "\n",
    "%time function_doing_heavy_computations(1000)"
   ]
  },
  {
   "cell_type": "code",
   "execution_count": 27,
   "id": "e00e890d-63d0-4cdd-b379-fa8d2a0f1648",
   "metadata": {},
   "outputs": [
    {
     "name": "stdout",
     "output_type": "stream",
     "text": [
      "starting computations on 8 cores\n",
      "elapsed time: 24.191408309000053\n",
      "results len: 99\n"
     ]
    }
   ],
   "source": [
    "start_multiprocessing_calculations(3000, 100)"
   ]
  },
  {
   "cell_type": "code",
   "execution_count": null,
   "id": "4e466257-6a04-4c6c-94ce-d19e3e2be35e",
   "metadata": {},
   "outputs": [],
   "source": []
  }
 ],
 "metadata": {
  "kernelspec": {
   "display_name": "Python 3 (ipykernel)",
   "language": "python",
   "name": "python3"
  },
  "language_info": {
   "codemirror_mode": {
    "name": "ipython",
    "version": 3
   },
   "file_extension": ".py",
   "mimetype": "text/x-python",
   "name": "python",
   "nbconvert_exporter": "python",
   "pygments_lexer": "ipython3",
   "version": "3.9.10"
  }
 },
 "nbformat": 4,
 "nbformat_minor": 5
}
