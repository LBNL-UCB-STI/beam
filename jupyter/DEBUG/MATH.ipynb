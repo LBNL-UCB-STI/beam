{
 "cells": [
  {
   "cell_type": "code",
   "execution_count": 1,
   "id": "cf4a663d-fc89-474f-8356-04c51a0927fc",
   "metadata": {},
   "outputs": [
    {
     "data": {
      "text/plain": [
       "2"
      ]
     },
     "execution_count": 1,
     "metadata": {},
     "output_type": "execute_result"
    }
   ],
   "source": [
    "1 + 1"
   ]
  },
  {
   "cell_type": "code",
   "execution_count": 1,
   "id": "a08ec6cd-a87b-42f0-9fc9-2e05c920ae44",
   "metadata": {},
   "outputs": [
    {
     "data": {
      "text/plain": [
       "40"
      ]
     },
     "execution_count": 1,
     "metadata": {},
     "output_type": "execute_result"
    }
   ],
   "source": [
    "20 + 20"
   ]
  },
  {
   "cell_type": "code",
   "execution_count": 9,
   "id": "22f61941-e23f-4a44-bef1-3bff66f2b383",
   "metadata": {},
   "outputs": [
    {
     "name": "stdout",
     "output_type": "stream",
     "text": [
      "[NbConvertApp] Converting notebook MATH.ipynb to python\n",
      "[NbConvertApp] Writing 168 bytes to MATH.py\n"
     ]
    }
   ],
   "source": [
    "!jupyter nbconvert --to python MATH.ipynb"
   ]
  },
  {
   "cell_type": "code",
   "execution_count": 19,
   "id": "212d362e-ca03-47ea-8200-4de24738ba73",
   "metadata": {},
   "outputs": [
    {
     "name": "stdout",
     "output_type": "stream",
     "text": [
      "Writing default config to: /home/jovyan/.jupyter/jupyter_notebook_config.py\n"
     ]
    }
   ],
   "source": [
    "!jupyter notebook --generate-config"
   ]
  },
  {
   "cell_type": "code",
   "execution_count": 1,
   "id": "f9940c5d-3f89-4f34-906e-b5f6f0d28a91",
   "metadata": {},
   "outputs": [
    {
     "name": "stdout",
     "output_type": "stream",
     "text": [
      "-rw-r--r-- 1 jovyan users 53K Apr  3 12:56 /home/jovyan/.jupyter/jupyter_notebook_config.py\n"
     ]
    }
   ],
   "source": [
    "!ls /home/jovyan/.jupyter/jupyter_notebook_confi* -lah"
   ]
  },
  {
   "cell_type": "code",
   "execution_count": null,
   "id": "80e13e8b-99cf-4680-a915-f566d7b532a2",
   "metadata": {},
   "outputs": [],
   "source": []
  }
 ],
 "metadata": {
  "kernelspec": {
   "display_name": "Python 3 (ipykernel)",
   "language": "python",
   "name": "python3"
  },
  "language_info": {
   "codemirror_mode": {
    "name": "ipython",
    "version": 3
   },
   "file_extension": ".py",
   "mimetype": "text/x-python",
   "name": "python",
   "nbconvert_exporter": "python",
   "pygments_lexer": "ipython3",
   "version": "3.9.10"
  }
 },
 "nbformat": 4,
 "nbformat_minor": 5
}
