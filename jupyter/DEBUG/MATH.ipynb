{
 "cells": [
  {
   "cell_type": "code",
   "execution_count": 5,
   "id": "cf4a663d-fc89-474f-8356-04c51a0927fc",
   "metadata": {},
   "outputs": [
    {
     "data": {
      "text/plain": [
       "3"
      ]
     },
     "execution_count": 5,
     "metadata": {},
     "output_type": "execute_result"
    }
   ],
   "source": [
    "1 + 1 * 2"
   ]
  },
  {
   "cell_type": "code",
   "execution_count": 4,
   "id": "a08ec6cd-a87b-42f0-9fc9-2e05c920ae44",
   "metadata": {},
   "outputs": [
    {
     "data": {
      "text/plain": [
       "6"
      ]
     },
     "execution_count": 4,
     "metadata": {},
     "output_type": "execute_result"
    }
   ],
   "source": [
    "20 // 3 + 20 // 7 ** 2"
   ]
  },
  {
   "cell_type": "code",
   "execution_count": 2,
   "id": "276017bb-4a31-45ef-9d2e-655f2854b03b",
   "metadata": {},
   "outputs": [
    {
     "data": {
      "text/plain": [
       "66"
      ]
     },
     "execution_count": 2,
     "metadata": {},
     "output_type": "execute_result"
    }
   ],
   "source": [
    "import random\n",
    "\n",
    "4 + random.randint(10, 100)"
   ]
  },
  {
   "cell_type": "code",
   "execution_count": 5,
   "id": "288a2153-98bf-47e1-9a02-97d729279e24",
   "metadata": {},
   "outputs": [
    {
     "data": {
      "text/plain": [
       "70"
      ]
     },
     "execution_count": 5,
     "metadata": {},
     "output_type": "execute_result"
    }
   ],
   "source": [
    "import random\n",
    "\n",
    "4 + random.randint(10, 100)"
   ]
  },
  {
   "cell_type": "code",
   "execution_count": null,
   "id": "7379a181-f49c-4992-8efe-2a6e2c22ec04",
   "metadata": {},
   "outputs": [],
   "source": []
  }
 ],
 "metadata": {
  "kernelspec": {
   "display_name": "Python 3 (ipykernel)",
   "language": "python",
   "name": "python3"
  },
  "language_info": {
   "codemirror_mode": {
    "name": "ipython",
    "version": 3
   },
   "file_extension": ".py",
   "mimetype": "text/x-python",
   "name": "python",
   "nbconvert_exporter": "python",
   "pygments_lexer": "ipython3",
   "version": "3.9.10"
  }
 },
 "nbformat": 4,
 "nbformat_minor": 5
}
