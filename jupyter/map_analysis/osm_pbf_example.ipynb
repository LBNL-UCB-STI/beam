{
 "cells": [
  {
   "cell_type": "code",
   "execution_count": null,
   "id": "88437a88-9ef6-4ebf-b881-48fa060de98c",
   "metadata": {},
   "outputs": [],
   "source": [
    "import pyrosm\n",
    "\n",
    "import pandas as pd\n",
    "import matplotlib.pyplot as plt\n",
    "\n",
    "pd.set_option('display.max_rows', 500)\n",
    "pd.set_option('display.max_columns', 500)\n",
    "pd.set_option('display.width', 1000)\n",
    "\n",
    "# after the first execution there will be a WARNING.\n",
    "# one should ignore it for now, because using required library version leads to INCORRECT work of pyrosm\n",
    "\n",
    "# /opt/conda/lib/python3.10/site-packages/geopandas/_compat.py:124: \n",
    "# UserWarning: The Shapely GEOS version (3.11.1-CAPI-1.17.1) is incompatible with the GEOS version \n",
    "# PyGEOS was compiled with (3.10.4-CAPI-1.16.2). Conversions between both will be slow"
   ]
  },
  {
   "cell_type": "code",
   "execution_count": null,
   "id": "58d5ec72-9c53-4864-841c-3d6799a51007",
   "metadata": {},
   "outputs": [],
   "source": [
    "# reading OSM.PBF file\n",
    "osm_map = pyrosm.OSM(\"../local_files/bay_area_simplified_tertiary_strongly_2_way_network.osm.pbf\")\n",
    "osm_map\n",
    "\n",
    "# help(osm_map)"
   ]
  },
  {
   "cell_type": "code",
   "execution_count": null,
   "id": "ffffb93e-3888-476f-bb37-16c6dc7d4c21",
   "metadata": {},
   "outputs": [],
   "source": [
    "# get the network for all link types.\n",
    "# this returns geopandas DataFrame.\n",
    "\n",
    "osm_network = osm_map.get_network(network_type='all')\n",
    "osm_network.head(2)"
   ]
  },
  {
   "cell_type": "code",
   "execution_count": null,
   "id": "1c5e6b5f-7fc4-4db6-8d41-89cc67451306",
   "metadata": {},
   "outputs": [],
   "source": [
    "# filtering\n",
    "\n",
    "slowest_speeds = set(['10 mph', '15 mph', '15 mph;20 mph', \"['15 mph', '15 mph;20 mph']\", \"['15 mph', '30 mph', '35 mph']\",\n",
    "                      \"['10 mph', '25 mph', '45 mph']\",  \"['15 mph', '20 mph']\", \"['15 mph', '25 mph']\", \"['15 mph', '35 mph']\" ])\n",
    "\n",
    "osm_nan = osm_network[osm_network['maxspeed'] == 'nan'].copy()\n",
    "osm_slow = osm_network[(osm_network['maxspeed'] != 'nan') & (osm_network['maxspeed'].isin(slowest_speeds))].copy()\n",
    "osm_fast = osm_network[(osm_network['maxspeed'] != 'nan') & ~(osm_network['maxspeed'].isin(slowest_speeds))].copy()\n",
    "\n",
    "print(f\"NAN len: {len(osm_nan)}, SLOW len: {len(osm_slow)}, the rest len: {len(osm_fast)}\")"
   ]
  },
  {
   "cell_type": "code",
   "execution_count": null,
   "id": "fbd5601f-f86a-45c0-b8af-cca0f738c79b",
   "metadata": {},
   "outputs": [],
   "source": [
    "# plotting\n",
    "\n",
    "additional_text = \"slow_red.nan_green\"\n",
    "\n",
    "fig, ax = plt.subplots(1, 1, figsize=(20,20), dpi=300)\n",
    "\n",
    "osm_fast.plot(color='blue', label=f\"fast links [{len(osm_fast)}]\", lw=0.2, ax=ax)\n",
    "osm_slow.plot(color='red', label=f\"slow links [{len(osm_slow)}]\", lw=0.5, ax=ax)\n",
    "osm_nan.plot(color='green', label=f'speed is NAN [{len(osm_nan)}]', lw=0.2, ax=ax)\n",
    "\n",
    "ax.set_title(additional_text, fontsize=20)\n",
    "ax.legend()\n",
    "\n",
    "# plt.savefig(f'bay_area_simplified_tertiary_strongly_2_way_network.{additional_text}.png')"
   ]
  },
  {
   "cell_type": "code",
   "execution_count": null,
   "id": "a5ec42ea-0c87-450a-bb82-bc13e42706d2",
   "metadata": {},
   "outputs": [],
   "source": [
    "# save the filtered or whole network as shape file\n",
    "\n",
    "osm_network.to_file(\"OSM_network.shp\")"
   ]
  },
  {
   "cell_type": "code",
   "execution_count": null,
   "id": "8cb7843a-1155-45df-a11b-e143ef7a2a17",
   "metadata": {},
   "outputs": [],
   "source": []
  }
 ],
 "metadata": {
  "kernelspec": {
   "display_name": "Python 3 (ipykernel)",
   "language": "python",
   "name": "python3"
  },
  "language_info": {
   "codemirror_mode": {
    "name": "ipython",
    "version": 3
   },
   "file_extension": ".py",
   "mimetype": "text/x-python",
   "name": "python",
   "nbconvert_exporter": "python",
   "pygments_lexer": "ipython3",
   "version": "3.10.8"
  }
 },
 "nbformat": 4,
 "nbformat_minor": 5
}
