{
 "cells": [
  {
   "cell_type": "code",
   "execution_count": null,
   "id": "e78dc7ec-9f05-45bb-9562-2f46f1414ea6",
   "metadata": {},
   "outputs": [],
   "source": [
    "import pyrosm\n",
    "\n",
    "import numpy as np\n",
    "import pandas as pd\n",
    "import geopandas as gpd\n",
    "import matplotlib.pyplot as plt\n",
    "\n",
    "from pyproj import CRS, Transformer\n",
    "from geopandas import GeoDataFrame\n",
    "from shapely.geometry import Point\n",
    "from shapely.geometry.multilinestring import MultiLineString\n",
    "\n",
    "pd.set_option('display.max_rows', 500)\n",
    "pd.set_option('display.max_columns', 500)\n",
    "pd.set_option('display.width', 1000)"
   ]
  },
  {
   "cell_type": "code",
   "execution_count": null,
   "id": "e77c55fc-d833-466c-8ab7-390f886dc31f",
   "metadata": {
    "tags": []
   },
   "outputs": [],
   "source": [
    "# reading network.csv.gz file from simulation output folder\n",
    "\n",
    "dtype = { 'attributeOrigId': str }\n",
    "out_network = pd.read_csv(\"../beam_root/output/sf-light/sf-light-0.5k__2023-06-15_16-11-49_obh/network.csv.gz\", dtype=dtype)\n",
    "out_network[\"str_id\"] = out_network['attributeOrigId'].astype(str)\n",
    "out_network[\"id\"] = pd.to_numeric(out_network[\"str_id\"], errors='coerce').fillna(0).astype('Int64')\n",
    "\n",
    "# out_network.drop(columns=['str_id', 'attributeOrigId'], inplace=True)\n",
    "out_network.head(3)"
   ]
  },
  {
   "cell_type": "code",
   "execution_count": null,
   "id": "1ca82ecd-48b5-46af-8815-d44b22cb1e56",
   "metadata": {},
   "outputs": [],
   "source": [
    "# converting CRS of output network to lat-lon CRS epsg:4326 and creating a geometry for new geopandas data frame\n",
    "\n",
    "crs_to = CRS.from_epsg(4326) # the lat lon CRS\n",
    "crs_from = CRS.from_epsg(26910) # sf crs\n",
    "transformer = Transformer.from_crs(crs_from, crs_to)\n",
    "\n",
    "def out_row_to_geometry(df_row):\n",
    "    (from_x, from_y) = transformer.transform(df_row['fromLocationX'], df_row['fromLocationY'])\n",
    "    (to_x, to_y) = transformer.transform(df_row['toLocationX'], df_row['toLocationY'])\n",
    "    mls = MultiLineString([[[from_y, from_x], [to_y, to_x]]])\n",
    "    return mls\n",
    "    \n",
    "out_geometry = out_network.apply(out_row_to_geometry, axis=1)\n",
    "out_geometry.head(2)"
   ]
  },
  {
   "cell_type": "code",
   "execution_count": null,
   "id": "e37337a3-3f21-48e1-9b0f-73a273188294",
   "metadata": {},
   "outputs": [],
   "source": [
    "# creating geopandas data frame\n",
    "\n",
    "out_network = gpd.GeoDataFrame(out_network, crs='epsg:4326', geometry=out_geometry)\n",
    "# out_network.drop(columns=['fromLocationX', 'fromLocationY', 'toLocationX', 'toLocationY'], inplace=True)\n",
    "out_network.head(2)"
   ]
  },
  {
   "cell_type": "code",
   "execution_count": null,
   "id": "9bfc4f00-caee-4cb4-8a8b-be8d00695a23",
   "metadata": {},
   "outputs": [],
   "source": [
    "# filtering and plotting\n",
    "\n",
    "fig, axs = plt.subplots(1, 3, figsize=(13, 5), dpi=100, subplot_kw={'aspect': 1})\n",
    "fig.tight_layout(pad=5.0)\n",
    "\n",
    "filtered_1 = out_network[(out_network['id'] > 4 * 10e7)]\n",
    "filtered_2 = out_network[out_network['id'] == 0]\n",
    "print(f\"There are {len(filtered_1)} and {len(filtered_2)} lines in filtered network.\")\n",
    "\n",
    "filtered_1.plot(ax=axs[0])\n",
    "filtered_2.plot(ax=axs[1])\n",
    "filtered_1['linkLength'].hist(ax=axs[2], bins=20, color='green', alpha=0.4, label='filtered')\n",
    "filtered_2['linkLength'].hist(ax=axs[2], bins=20, color='blue', alpha=0.4, label='with OSM ID 0')\n",
    "\n",
    "axs[2].legend()"
   ]
  },
  {
   "cell_type": "code",
   "execution_count": null,
   "id": "5d2d8c71-a55f-42b3-b74c-9cf4b60ce473",
   "metadata": {},
   "outputs": [],
   "source": [
    "# save the network as shape file\n",
    "\n",
    "out_network.to_file(\"output_network.shp\")"
   ]
  },
  {
   "cell_type": "code",
   "execution_count": null,
   "id": "209d667b-fc15-47f3-a413-144e5112c0a8",
   "metadata": {},
   "outputs": [],
   "source": []
  }
 ],
 "metadata": {
  "kernelspec": {
   "display_name": "Python 3 (ipykernel)",
   "language": "python",
   "name": "python3"
  },
  "language_info": {
   "codemirror_mode": {
    "name": "ipython",
    "version": 3
   },
   "file_extension": ".py",
   "mimetype": "text/x-python",
   "name": "python",
   "nbconvert_exporter": "python",
   "pygments_lexer": "ipython3",
   "version": "3.10.8"
  }
 },
 "nbformat": 4,
 "nbformat_minor": 5
}
