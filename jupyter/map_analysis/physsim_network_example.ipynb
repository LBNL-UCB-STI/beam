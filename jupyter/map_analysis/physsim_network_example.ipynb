{
 "cells": [
  {
   "cell_type": "code",
   "execution_count": null,
   "id": "e78dc7ec-9f05-45bb-9562-2f46f1414ea6",
   "metadata": {},
   "outputs": [],
   "source": [
    "import pyrosm\n",
    "\n",
    "import numpy as np\n",
    "import pandas as pd\n",
    "import geopandas as gpd\n",
    "import matplotlib.pyplot as plt\n",
    "\n",
    "from pyproj import CRS, Transformer\n",
    "from geopandas import GeoDataFrame\n",
    "from shapely.geometry import Point\n",
    "from shapely.geometry.multilinestring import MultiLineString\n",
    "\n",
    "pd.set_option('display.max_rows', 500)\n",
    "pd.set_option('display.max_columns', 500)\n",
    "pd.set_option('display.width', 1000)\n",
    "pd.set_option('max_colwidth', None)\n",
    "\n",
    "\n",
    "unspecified_link_type_name = 'unspecified'\n",
    "\n",
    "def get_direction(row):\n",
    "    d_x = 'N'\n",
    "    d_y = 'E'\n",
    "    if row['fromLocationX'] > row['toLocationX']:\n",
    "        d_x = 'S'\n",
    "    if row['fromLocationY'] > row['toLocationY']:\n",
    "        d_y = 'W'\n",
    "    return d_x + d_y\n",
    "\n",
    "def read_network(file_path):\n",
    "    df = pd.read_csv(file_path)\n",
    "\n",
    "    df['direction'] = df.apply(get_direction, axis=1)\n",
    "    df['freespeed_mph'] = df['linkFreeSpeed'] * 2.237\n",
    "    df['attributeOrigType'].fillna(value=unspecified_link_type_name, inplace=True)\n",
    "\n",
    "    df[\"attributeOrigId\"] = df['attributeOrigId'].astype(str)\n",
    "    df[\"attributeOrigId\"] = pd.to_numeric(df[\"attributeOrigId\"], errors='coerce').fillna(0).astype('Int64')\n",
    "    \n",
    "    return df"
   ]
  },
  {
   "cell_type": "code",
   "execution_count": null,
   "id": "e77c55fc-d833-466c-8ab7-390f886dc31f",
   "metadata": {
    "tags": []
   },
   "outputs": [],
   "source": [
    "# reading network.csv.gz file from simulation output folder\n",
    "\n",
    "network = read_network(\"../local_files/sfbay-baseline-20230815-30pct-convergence_beam_year-2018-iteration--1_network.csv.gz\")\n",
    "network.head(2)"
   ]
  },
  {
   "cell_type": "code",
   "execution_count": null,
   "id": "4857212d-1c76-4348-93a0-176d99127603",
   "metadata": {},
   "outputs": [],
   "source": [
    "# converting CRS of output network to lat-lon CRS epsg:4326 and creating a geometry for new geopandas data frame\n",
    "\n",
    "new_crs = 4326\n",
    "\n",
    "crs_to = CRS.from_epsg(new_crs) # the lat lon CRS\n",
    "crs_from = CRS.from_epsg(26910) # sf crs\n",
    "transformer = Transformer.from_crs(crs_from, crs_to)\n",
    "\n",
    "def out_row_to_geometry(df_row):\n",
    "    (from_x, from_y) = transformer.transform(df_row['fromLocationX'], df_row['fromLocationY'])\n",
    "    (to_x, to_y) = transformer.transform(df_row['toLocationX'], df_row['toLocationY'])\n",
    "    mls = MultiLineString([[[from_y, from_x], [to_y, to_x]]])\n",
    "    return mls\n",
    "    \n",
    "geometry = network.apply(out_row_to_geometry, axis=1)\n",
    "geometry.head(2)"
   ]
  },
  {
   "cell_type": "code",
   "execution_count": null,
   "id": "89cc417c-8d01-419a-a065-b70190c594ff",
   "metadata": {},
   "outputs": [],
   "source": [
    "# creating geopandas data frame\n",
    "\n",
    "geo_df = gpd.GeoDataFrame(network, crs=f'epsg:{new_crs}', geometry=geometry)\n",
    "display(geo_df.head(2))\n",
    "\n",
    "# saving GeoDataFrame as shape file\n",
    "# geo_df.to_file(\"../local_files/sfbay-baseline-20230815-30pct-convergence_beam_year-2018-iteration--1_network.shp\")"
   ]
  },
  {
   "cell_type": "code",
   "execution_count": null,
   "id": "c477309e-d081-4071-bccf-401449afa99a",
   "metadata": {},
   "outputs": [],
   "source": [
    "## how many of each road type are there with speed less than threshold\n",
    "\n",
    "speed_field = 'freespeed_mph'\n",
    "threshold = 20\n",
    "moreX_name = f\"more than {threshold} mph\"\n",
    "lessX_name = f\"less than {threshold} mph\"\n",
    "\n",
    "grouped_df = network.groupby('attributeOrigType')[[speed_field]].agg(\n",
    "    less_than_X=(speed_field, lambda gr:gr[gr < threshold].count()),\n",
    "    more_than_X=(speed_field, lambda gr:gr[gr >= threshold].count())\n",
    ")\n",
    "\n",
    "grouped_df.rename({'less_than_X':lessX_name, 'more_than_X':moreX_name}, axis='columns', inplace=True)\n",
    "\n",
    "ax = grouped_df.plot(kind='bar', stacked=False, rot=0, figsize=(20,4))\n",
    "ax.set_xlabel(\"\")\n",
    "\n",
    "# plt.savefig('../local_files/vta-beam-network/link_speed_graph.png')"
   ]
  },
  {
   "cell_type": "code",
   "execution_count": null,
   "id": "53ae2b66-1dd4-4fd1-8b6a-7992590f91f3",
   "metadata": {},
   "outputs": [],
   "source": [
    "## description of speeds for each road type\n",
    "\n",
    "dfs = []\n",
    "\n",
    "road_types = network['attributeOrigType'].unique()\n",
    "for road_type in road_types:\n",
    "    filtered_network = network[network['attributeOrigType'] == road_type]\n",
    "        \n",
    "    df = filtered_network[['freespeed_mph']].describe()\n",
    "    df.rename(columns={'freespeed_mph':f'{road_type}'}, inplace=True)\n",
    "    dfs.append(df.transpose())\n",
    "    \n",
    "speed_df = pd.concat(dfs)\n",
    "\n",
    "speed_description = grouped_df.merge(speed_df[['mean']], left_index=True, right_index=True, how='outer')\n",
    "speed_description.sort_values('mean', ascending=False, inplace=True)\n",
    "speed_description.rename(columns={'mean':'mean speed in mph'}, inplace=True)\n",
    "\n",
    "speed_description.style.set_properties(**{'width': '150px'})"
   ]
  },
  {
   "cell_type": "code",
   "execution_count": null,
   "id": "9bfc4f00-caee-4cb4-8a8b-be8d00695a23",
   "metadata": {},
   "outputs": [],
   "source": [
    "# filtering and plotting\n",
    "\n",
    "fig, ax = plt.subplots(1, 1, figsize=(20, 20), dpi=300, subplot_kw={'aspect': 1})\n",
    "\n",
    "filtered_1 = out_network[(out_network['attributeOrigType'] == unspecified_link_type_name)]\n",
    "filtered_2 = out_network[(out_network['attributeOrigType'] != unspecified_link_type_name)]\n",
    "\n",
    "filtered_1.plot(ax=ax, label=f'unspecified ({len(filtered_1)} links)', color='red', lw=0.6)\n",
    "filtered_2.plot(ax=ax, label=f'the rest of ({len(filtered_2)} links)', color='blue', lw=0.2)\n",
    "\n",
    "ax.legend()\n",
    "plt.savefig('../local_files/vta-beam-network/specified_vs_unspecified_links.png')"
   ]
  },
  {
   "cell_type": "code",
   "execution_count": null,
   "id": "5d2d8c71-a55f-42b3-b74c-9cf4b60ce473",
   "metadata": {},
   "outputs": [],
   "source": [
    "# filtering and plotting\n",
    "\n",
    "fig, ax = plt.subplots(1, 1, figsize=(20, 20), dpi=300, subplot_kw={'aspect': 1})\n",
    "\n",
    "filtered_1 = out_network[(out_network['attributeOrigType'] != unspecified_link_type_name) & (out_network['freespeed_mph'] < 20)]\n",
    "filtered_2 = out_network[(out_network['attributeOrigType'] != unspecified_link_type_name) & (out_network['freespeed_mph'] >= 20)]\n",
    "\n",
    "filtered_1.plot(ax=ax, label=f'specified link types and free speed < 20 mph ({len(filtered_1)} links)', color='red', lw=2.6)\n",
    "filtered_2.plot(ax=ax, label=f'specified link types and free speed > 20 mph ({len(filtered_2)} links)', color='blue', lw=0.2)\n",
    "\n",
    "ax.legend()\n",
    "plt.savefig('../local_files/vta-beam-network/specified_links_slow_vs_fast.png')"
   ]
  },
  {
   "cell_type": "code",
   "execution_count": null,
   "id": "209d667b-fc15-47f3-a413-144e5112c0a8",
   "metadata": {},
   "outputs": [],
   "source": [
    "# filtering and plotting\n",
    "\n",
    "link_type = 'secondary'\n",
    "\n",
    "fig, ax = plt.subplots(1, 1, figsize=(20, 20), dpi=300, subplot_kw={'aspect': 1})\n",
    "\n",
    "filtered_1 = out_network[(out_network['attributeOrigType'] == link_type) & (out_network['freespeed_mph'] < 20)]\n",
    "filtered_2 = out_network[(out_network['attributeOrigType'] == link_type) & (out_network['freespeed_mph'] >= 20)]\n",
    "\n",
    "filtered_1.plot(ax=ax, label=f'{link_type} and free speed < 20 mph ({len(filtered_1)} links)', color='red', lw=2.6)\n",
    "filtered_2.plot(ax=ax, label=f'{link_type} and free speed > 20 mph ({len(filtered_2)} links)', color='blue', lw=0.2)\n",
    "\n",
    "ax.legend()\n",
    "# plt.savefig('../local_files/vta-beam-network/specified_links_slow_vs_fast.png')"
   ]
  }
 ],
 "metadata": {
  "kernelspec": {
   "display_name": "Python 3 (ipykernel)",
   "language": "python",
   "name": "python3"
  },
  "language_info": {
   "codemirror_mode": {
    "name": "ipython",
    "version": 3
   },
   "file_extension": ".py",
   "mimetype": "text/x-python",
   "name": "python",
   "nbconvert_exporter": "python",
   "pygments_lexer": "ipython3",
   "version": "3.10.8"
  }
 },
 "nbformat": 4,
 "nbformat_minor": 5
}
