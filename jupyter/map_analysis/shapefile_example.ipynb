{
 "cells": [
  {
   "cell_type": "code",
   "execution_count": null,
   "id": "dc3b5f7e-1403-4a64-8955-0ee353225366",
   "metadata": {},
   "outputs": [],
   "source": [
    "import numpy as np\n",
    "import pandas as pd\n",
    "import matplotlib.pyplot as plt\n",
    "import shapefile as sh\n",
    "\n",
    "\n",
    "pd.set_option('display.max_rows', 500)\n",
    "pd.set_option('display.max_columns', 500)\n",
    "pd.set_option('display.width', 1000)\n",
    "\n",
    "\n",
    "def read_shapefile_as_dataframe(shp_path):\n",
    "    \"\"\"\n",
    "    Read a shapefile into a Pandas dataframe with a 'coords' \n",
    "    column holding the geometry information. This uses the pyshp\n",
    "    package\n",
    "    \"\"\"\n",
    "\n",
    "    sf_shape = sh.Reader(shp_path) #, encoding=\"latin1\")\n",
    "    fields = [x[0] for x in sf_shape.fields][1:]\n",
    "    records = [y[:] for y in sf_shape.records()]\n",
    "    \n",
    "    shps = [s.points for s in sf_shape.shapes()]\n",
    "    df = pd.DataFrame(columns=fields, data=records)\n",
    "    df = df.assign(coords=shps)\n",
    "    return df"
   ]
  },
  {
   "cell_type": "code",
   "execution_count": null,
   "id": "2f4d2110-9869-4efb-8d6d-15f8fb509c29",
   "metadata": {},
   "outputs": [],
   "source": [
    "shp_path = \"../local_files/MTC-avgload5period/network_links.shp\"\n",
    "\n",
    "df1 = read_shapefile_as_dataframe(shp_path)\n",
    "print(df1['A'].nunique(), df1['B'].nunique(), df1['CITYNAME'].nunique())\n",
    "df1.head(2)"
   ]
  },
  {
   "cell_type": "code",
   "execution_count": null,
   "id": "ebb57395-29ce-497c-ade7-0caf2d3e9e6e",
   "metadata": {},
   "outputs": [],
   "source": [
    "shp_path = \"../local_files/VTA-model-network/HNETAM.shp\"\n",
    "\n",
    "df2 = read_shapefile_as_dataframe(shp_path)\n",
    "print(df2['A'].nunique(), df2['B'].nunique())\n",
    "df2.head(2)"
   ]
  },
  {
   "cell_type": "code",
   "execution_count": null,
   "id": "e9748f0f-f9b4-4e99-96dd-4f88e440f6b0",
   "metadata": {},
   "outputs": [],
   "source": [
    "df1_csv = pd.read_csv('../local_files/MTC-avgload5period/avgload5period.csv')\n",
    "df1_csv.head()"
   ]
  },
  {
   "cell_type": "code",
   "execution_count": null,
   "id": "85f953bb-c5ec-42ce-bcbc-3a2abccf2313",
   "metadata": {},
   "outputs": [],
   "source": [
    "s1 = set(df1.columns)\n",
    "s2 = set(df2.columns)\n",
    "len(s1), len(s2), len(s1 - s2), len(s2 - s1)"
   ]
  },
  {
   "cell_type": "code",
   "execution_count": null,
   "id": "6b73c502-071c-4b35-8a94-1ba82b2a64c3",
   "metadata": {},
   "outputs": [],
   "source": [
    "selected_cols = []\n",
    "\n",
    "for c in df.columns:\n",
    "    if not c.startswith(\"TOLL\") and not c.startswith('VOL'):\n",
    "        selected_cols.append(c)\n",
    "len(selected_cols) #, selected_cols"
   ]
  },
  {
   "cell_type": "code",
   "execution_count": null,
   "id": "3316affc-6f09-4541-bdc4-07f51987593b",
   "metadata": {},
   "outputs": [],
   "source": [
    "df[selected_cols].head()"
   ]
  },
  {
   "cell_type": "code",
   "execution_count": null,
   "id": "b869206b-8efc-46bf-aa27-0450ec9e7016",
   "metadata": {},
   "outputs": [],
   "source": [
    "network = pd.read_csv(\"../local_files/network.2.csv.gz\")\n",
    "network.head(3)"
   ]
  },
  {
   "cell_type": "code",
   "execution_count": null,
   "id": "65c1b94f-77ed-4d80-8b58-9c6487086c59",
   "metadata": {},
   "outputs": [],
   "source": [
    "# NOT matching\n",
    "\n",
    "_, axs = plt.subplots(2,2, figsize=(15,6))\n",
    "df['DISTANCE'].hist(bins=100, ax=axs[0][0])\n",
    "network['linkLength'].hist(bins=100, ax=axs[0][1])\n",
    "df['LANES'].hist(bins=100, ax=axs[1][0])\n",
    "network['numberOfLanes'].hist(bins=100, ax=axs[1][1])"
   ]
  },
  {
   "cell_type": "code",
   "execution_count": null,
   "id": "de41d549-743e-4ba8-a02f-0e05fdcbcc56",
   "metadata": {},
   "outputs": [],
   "source": [
    "network_links = set(network['linkId'].unique())\n",
    "network_osm_ids = set(network['attributeOrigId'].fillna(0).astype(int).unique())\n",
    "len(network_links), len(network_osm_ids)"
   ]
  },
  {
   "cell_type": "code",
   "execution_count": null,
   "id": "370d3148-a1a2-47bc-987e-a020182e8d60",
   "metadata": {},
   "outputs": [],
   "source": [
    "ids_shp = set(df['B'].unique())\n",
    "len(ids_shp), len(ids_shp - network_osm_ids), len(network_osm_ids - ids_shp)"
   ]
  },
  {
   "cell_type": "code",
   "execution_count": null,
   "id": "5004b58a-ca1c-4472-bf40-c7e26d80c302",
   "metadata": {},
   "outputs": [],
   "source": []
  },
  {
   "cell_type": "code",
   "execution_count": null,
   "id": "0c8d0fdb-4a4d-4ca9-a2d0-30b345aac66d",
   "metadata": {},
   "outputs": [],
   "source": []
  }
 ],
 "metadata": {
  "kernelspec": {
   "display_name": "Python 3 (ipykernel)",
   "language": "python",
   "name": "python3"
  },
  "language_info": {
   "codemirror_mode": {
    "name": "ipython",
    "version": 3
   },
   "file_extension": ".py",
   "mimetype": "text/x-python",
   "name": "python",
   "nbconvert_exporter": "python",
   "pygments_lexer": "ipython3",
   "version": "3.10.8"
  }
 },
 "nbformat": 4,
 "nbformat_minor": 5
}
