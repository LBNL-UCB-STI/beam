{
 "cells": [
  {
   "cell_type": "code",
   "execution_count": null,
   "id": "dc3b5f7e-1403-4a64-8955-0ee353225366",
   "metadata": {},
   "outputs": [],
   "source": [
    "import numpy as np\n",
    "import pandas as pd\n",
    "import matplotlib.pyplot as plt\n",
    "import shapefile as sh\n",
    "import geopandas as gpd\n",
    "\n",
    "pd.set_option('display.max_rows', 500)\n",
    "pd.set_option('display.max_columns', 500)\n",
    "pd.set_option('display.width', 1000)\n",
    "\n",
    "\n",
    "def read_shapefile_as_dataframe(shp_path):\n",
    "    \"\"\"\n",
    "    Read a shapefile into a Pandas dataframe with a 'coords' \n",
    "    column holding the geometry information. This uses the pyshp\n",
    "    package\n",
    "    \"\"\"\n",
    "\n",
    "    sf_shape = sh.Reader(shp_path) #, encoding=\"latin1\")\n",
    "    fields = [x[0] for x in sf_shape.fields][1:]\n",
    "    records = [y[:] for y in sf_shape.records()]\n",
    "    \n",
    "    shps = [s.points for s in sf_shape.shapes()]\n",
    "    df = pd.DataFrame(columns=fields, data=records)\n",
    "    df = df.assign(coords=shps)\n",
    "    return df"
   ]
  },
  {
   "cell_type": "markdown",
   "id": "bdcfc13e-fc85-476f-9516-fe49345007ce",
   "metadata": {},
   "source": [
    "## approach #1"
   ]
  },
  {
   "cell_type": "code",
   "execution_count": null,
   "id": "2f4d2110-9869-4efb-8d6d-15f8fb509c29",
   "metadata": {},
   "outputs": [],
   "source": [
    "shp_path = \"../local_files/FLEXSTOPS/FLEXSTOPS/FLEXServiceStops.shp\"\n",
    "\n",
    "df1 = read_shapefile_as_dataframe(shp_path)\n",
    "display(df1.head(2))"
   ]
  },
  {
   "cell_type": "markdown",
   "id": "818aab93-8939-49a8-ad77-d522d1b59a2e",
   "metadata": {},
   "source": [
    "## approach #2"
   ]
  },
  {
   "cell_type": "code",
   "execution_count": null,
   "id": "473c26d7-8bb7-4cb7-8d6b-6ae120a48027",
   "metadata": {},
   "outputs": [],
   "source": [
    "shp_path = \"../local_files/FLEXSTOPS/FLEXSTOPS/FLEXServiceStops.shp\"\n",
    "\n",
    "# reading the shape file\n",
    "shp_df = gpd.read_file(shp_path)\n",
    "display(shp_df.head(2))"
   ]
  },
  {
   "cell_type": "code",
   "execution_count": null,
   "id": "be0993bc-3dcf-44b2-8523-a9d3d9a8af33",
   "metadata": {},
   "outputs": [],
   "source": [
    "# getting points out of geometries (if geometry include multiple points - they will be multiple separate rows)\n",
    "\n",
    "points = shp_df.get_coordinates()\n",
    "print(f\"there are {len(points)} points\")\n",
    "points.rename(columns={\"x\": \"coord-x\", \"y\": \"coord-y\"}, errors=\"raise\", inplace=True)\n",
    "points.head(2)"
   ]
  },
  {
   "cell_type": "code",
   "execution_count": null,
   "id": "5004b58a-ca1c-4472-bf40-c7e26d80c302",
   "metadata": {},
   "outputs": [],
   "source": [
    "# saving csv\n",
    "\n",
    "csv_path = \"../local_files/FLEXSTOPS/FLEXSTOPS.points.csv\"\n",
    "points.to_csv(csv_path, encoding='utf-8', index=False)"
   ]
  },
  {
   "cell_type": "code",
   "execution_count": null,
   "id": "a2ce1efb-dd58-4a94-b3d2-f02dda1dadcc",
   "metadata": {},
   "outputs": [],
   "source": []
  },
  {
   "cell_type": "code",
   "execution_count": null,
   "id": "d239b76d-9332-45a4-b632-396f359e766b",
   "metadata": {},
   "outputs": [],
   "source": []
  },
  {
   "cell_type": "code",
   "execution_count": null,
   "id": "f65bcb33-2fa2-41d0-9ebb-046786db6aa9",
   "metadata": {},
   "outputs": [],
   "source": []
  }
 ],
 "metadata": {
  "kernelspec": {
   "display_name": "Python 3 (ipykernel)",
   "language": "python",
   "name": "python3"
  },
  "language_info": {
   "codemirror_mode": {
    "name": "ipython",
    "version": 3
   },
   "file_extension": ".py",
   "mimetype": "text/x-python",
   "name": "python",
   "nbconvert_exporter": "python",
   "pygments_lexer": "ipython3",
   "version": "3.10.8"
  }
 },
 "nbformat": 4,
 "nbformat_minor": 5
}
