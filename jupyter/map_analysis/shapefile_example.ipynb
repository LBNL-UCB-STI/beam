{
 "cells": [
  {
   "cell_type": "code",
   "execution_count": null,
   "id": "dc3b5f7e-1403-4a64-8955-0ee353225366",
   "metadata": {},
   "outputs": [],
   "source": [
    "import numpy as np\n",
    "import pandas as pd\n",
    "import matplotlib.pyplot as plt\n",
    "import shapefile as sh\n",
    "import geopandas as gpd\n",
    "\n",
    "pd.set_option('display.max_rows', 500)\n",
    "pd.set_option('display.max_columns', 500)\n",
    "pd.set_option('display.width', 1000)\n",
    "\n",
    "\n",
    "def read_shapefile_as_dataframe(shp_path):\n",
    "    \"\"\"\n",
    "    Read a shapefile into a Pandas dataframe with a 'coords' \n",
    "    column holding the geometry information. This uses the pyshp\n",
    "    package\n",
    "    \"\"\"\n",
    "\n",
    "    sf_shape = sh.Reader(shp_path) #, encoding=\"latin1\")\n",
    "    fields = [x[0] for x in sf_shape.fields][1:]\n",
    "    records = [y[:] for y in sf_shape.records()]\n",
    "    \n",
    "    shps = [s.points for s in sf_shape.shapes()]\n",
    "    df = pd.DataFrame(columns=fields, data=records)\n",
    "    df = df.assign(coords=shps)\n",
    "    return df"
   ]
  },
  {
   "cell_type": "markdown",
   "id": "bdcfc13e-fc85-476f-9516-fe49345007ce",
   "metadata": {},
   "source": [
    "## approach to read #1"
   ]
  },
  {
   "cell_type": "code",
   "execution_count": null,
   "id": "2f4d2110-9869-4efb-8d6d-15f8fb509c29",
   "metadata": {},
   "outputs": [],
   "source": [
    "shp_path = \"../local_files/ForWSP06132023/ForWSP06132023.zip\"\n",
    "\n",
    "df1 = read_shapefile_as_dataframe(shp_path)\n",
    "display(df1.head(2))"
   ]
  },
  {
   "cell_type": "markdown",
   "id": "818aab93-8939-49a8-ad77-d522d1b59a2e",
   "metadata": {},
   "source": [
    "## approach to read #2"
   ]
  },
  {
   "cell_type": "code",
   "execution_count": null,
   "id": "473c26d7-8bb7-4cb7-8d6b-6ae120a48027",
   "metadata": {},
   "outputs": [],
   "source": [
    "shp_path = \"../local_files/ForWSP06132023/ForWSP06132023/VTATAZ06132023.shp\"\n",
    "\n",
    "# reading the shape file\n",
    "shp_df_original = gpd.read_file(shp_path)\n",
    "display(shp_df_original.head(2))"
   ]
  },
  {
   "cell_type": "markdown",
   "id": "8d0b33dc-812c-4394-a518-2160467ae9d5",
   "metadata": {},
   "source": [
    "## creating TAZ-centers file out of shape file"
   ]
  },
  {
   "cell_type": "code",
   "execution_count": null,
   "id": "1eeacafc-09af-478d-a41a-e953b1d08528",
   "metadata": {},
   "outputs": [],
   "source": [
    "# preparing the shape file to create taz-centers out of it\n",
    "\n",
    "# renaming columns and sorting by taz id\n",
    "shp_df_original.rename(columns={'TAZ':'taz'}, inplace=True)\n",
    "shp_df_original.sort_values('taz', inplace=True)\n",
    "shp_df_original.reset_index(drop=True, inplace=True)\n",
    "\n",
    "display(shp_df_original.head(2))\n",
    "\n",
    "# adding necessary fields for transforming shape file to TAZ centers\n",
    "shp_df_original['area'] = shp_df_original['geometry'].area\n",
    "shp_df_original['centroid'] = shp_df_original['geometry'].centroid\n",
    "\n",
    "# this one for sanity check\n",
    "shp_df_original['geometry_contains_point'] = shp_df_original['geometry'].contains(shp_df_original['centroid'])\n",
    "\n",
    "# overriding 'geometry' field in order to be able to transform CRS\n",
    "shp_df_original['geometry'] = shp_df_original['centroid']\n",
    "\n",
    "\n",
    "# changing CRS\n",
    "# 4326 is the lat\\lon CRS\n",
    "# 26910 is the sfbay area CRS\n",
    "shp_df = shp_df_original.to_crs(26910)[['taz','county','area','geometry_contains_point','geometry']]\n",
    "\n",
    "shp_df['coord-x'] = shp_df['geometry'].x\n",
    "shp_df['coord-y'] = shp_df['geometry'].y\n",
    "\n",
    "display(shp_df.head(2))\n",
    "display(shp_df['geometry_contains_point'].value_counts())"
   ]
  },
  {
   "cell_type": "code",
   "execution_count": null,
   "id": "1ed984bf-835a-4aa2-859f-9e656fc01aa3",
   "metadata": {},
   "outputs": [],
   "source": [
    "# creating taz-centers file out of shape file fields\n",
    "\n",
    "# TAZ centers file format:\n",
    "# taz,coord-x,coord-y,area\n",
    "\n",
    "csv_path=\"../local_files/ForWSP06132023/ForWSP06132023-taz-centers.csv\"\n",
    "shp_df[['taz','coord-x','coord-y','area']].to_csv(csv_path, encoding='utf-8', index=False)"
   ]
  },
  {
   "cell_type": "code",
   "execution_count": null,
   "id": "1c947e58-8535-47a3-88a9-1433669d1dfe",
   "metadata": {},
   "outputs": [],
   "source": [
    "# saving a filtered-out shape file for investigation\n",
    "\n",
    "selected_tazs = set([1491.0, 1492.0])\n",
    "shp_df[shp_df['taz'].isin(selected_tazs)].to_file(\"../local_files/ForWSP06132023/ForWSP06132023_points_selected_tazs\")"
   ]
  },
  {
   "cell_type": "markdown",
   "id": "0b461ace-6970-4507-b249-ed58f35b807f",
   "metadata": {},
   "source": [
    "## creating file with x,y points out of shape file"
   ]
  },
  {
   "cell_type": "code",
   "execution_count": null,
   "id": "f65bcb33-2fa2-41d0-9ebb-046786db6aa9",
   "metadata": {},
   "outputs": [],
   "source": [
    "import pandas as pd\n",
    "import geopandas as gpd\n",
    "\n",
    "pd.set_option('display.max_rows', 500)\n",
    "pd.set_option('display.max_columns', 500)\n",
    "pd.set_option('display.width', 1000)\n",
    "\n",
    "shp_path = \"../local_files/FLEXSTOPS/FLEXSTOPS/FLEXServiceStops.shp\"\n",
    "\n",
    "# reading the shape file in original CRS\n",
    "shp_df_original = gpd.read_file(shp_path)\n",
    "display(shp_df_original.head(2))\n",
    "\n",
    "# changing CRS\n",
    "# 4326 is the lat\\lon CRS\n",
    "shp_df = shp_df_original.to_crs(4326)\n",
    "display(shp_df.head(2))\n",
    "\n",
    "# getting points out of geometries (if geometry include multiple points - they will be multiple separate rows)\n",
    "points = shp_df.get_coordinates()\n",
    "print(f\"there are {len(points)} points\")\n",
    "display(points.head(2))\n",
    "\n",
    "# changing column names\n",
    "points.rename(columns={\"x\": \"coord-x\", \"y\": \"coord-y\"}, errors=\"raise\", inplace=True)\n",
    "\n",
    "# saving to file\n",
    "csv_path = \"../local_files/FLEXSTOPS/FLEXSTOPS.points.csv\"\n",
    "points.to_csv(csv_path, encoding='utf-8', index=False)"
   ]
  },
  {
   "cell_type": "code",
   "execution_count": null,
   "id": "972fa5a9-17f3-45cb-b67f-5c9ec9eee759",
   "metadata": {},
   "outputs": [],
   "source": []
  }
 ],
 "metadata": {
  "kernelspec": {
   "display_name": "Python 3 (ipykernel)",
   "language": "python",
   "name": "python3"
  },
  "language_info": {
   "codemirror_mode": {
    "name": "ipython",
    "version": 3
   },
   "file_extension": ".py",
   "mimetype": "text/x-python",
   "name": "python",
   "nbconvert_exporter": "python",
   "pygments_lexer": "ipython3",
   "version": "3.10.8"
  }
 },
 "nbformat": 4,
 "nbformat_minor": 5
}
