{
 "cells": [
  {
   "cell_type": "code",
   "execution_count": null,
   "id": "410625f9-435b-4e49-85dc-a0da02131961",
   "metadata": {},
   "outputs": [],
   "source": [
    "import pandas as pd\n",
    "import numpy as np\n",
    "import matplotlib.pyplot as plt\n",
    "\n",
    "pd.set_option('display.max_rows', 500)\n",
    "pd.set_option('display.max_columns', 500)\n",
    "pd.set_option('display.width', 1000)\n",
    "pd.set_option('max_colwidth', None)"
   ]
  },
  {
   "cell_type": "code",
   "execution_count": null,
   "id": "e81c4a07-de06-4b16-9a32-ff6e03db295f",
   "metadata": {},
   "outputs": [],
   "source": [
    "## reading files\n",
    "\n",
    "network = pd.read_csv(\"../local_files/network.csv.gz\")\n",
    "linkstats = pd.read_csv(\"../local_files/b.6.linkstats.csv.gz\")\n",
    "\n",
    "network.shape, linkstats.shape"
   ]
  },
  {
   "cell_type": "code",
   "execution_count": null,
   "id": "4a1443c5-9aef-407b-a133-153b133046f8",
   "metadata": {},
   "outputs": [],
   "source": [
    "network.head(2)"
   ]
  },
  {
   "cell_type": "code",
   "execution_count": null,
   "id": "fab21b08-a08c-4982-869b-e62fee36f3e1",
   "metadata": {},
   "outputs": [],
   "source": [
    "linkstats.head(2)"
   ]
  },
  {
   "cell_type": "code",
   "execution_count": null,
   "id": "1f42656e-aba7-495f-a029-480a27164316",
   "metadata": {},
   "outputs": [],
   "source": [
    "## merging together based on link Id \n",
    "## assuming files are for the same network and has the same number of links\n",
    "\n",
    "full_df = linkstats.merge(network, left_on='link', right_on='linkId', how='outer')\n",
    "full_df.head(2)"
   ]
  },
  {
   "cell_type": "code",
   "execution_count": null,
   "id": "2b161ac7-73da-4524-a792-9950d9a914dd",
   "metadata": {},
   "outputs": [],
   "source": [
    "## doing sanity check\n",
    "\n",
    "def row_sanity_check(row):\n",
    "    return row['to'] == row['toNodeId'] \\\n",
    "       and row['from'] == row['fromNodeId'] \\\n",
    "       and row['freespeed'] == row['linkFreeSpeed']\n",
    "\n",
    "print(f\"the shape of df is {full_df.shape}\")\n",
    "full_df.apply(lambda r: 'equal' if row_sanity_check(r) else 'NOT equal', axis=1).value_counts()"
   ]
  },
  {
   "cell_type": "code",
   "execution_count": null,
   "id": "0f3ce36d-4e27-444d-addf-d53b1ed3a116",
   "metadata": {},
   "outputs": [],
   "source": [
    "## calculating the speed and free speed and speed in km/h\n",
    "\n",
    "full_df['speed'] = full_df['length'] / full_df['traveltime']\n",
    "full_df['speed_km_h'] = full_df['speed'] * 3.6\n",
    "full_df['freespeed_km_h'] = full_df['freespeed'] * 3.6\n",
    "full_df.head(2)"
   ]
  },
  {
   "cell_type": "code",
   "execution_count": null,
   "id": "6877eef2-4d44-4dc8-9b4c-ab3f74037d57",
   "metadata": {},
   "outputs": [],
   "source": [
    "## speed distribution\n",
    "\n",
    "max_speed = int(full_df['speed_km_h'].max())\n",
    "full_df['speed_km_h'].hist(bins=max_speed, figsize=(15,2))\n",
    "print(f'max speed and number of buckets is {max_speed}')"
   ]
  },
  {
   "cell_type": "code",
   "execution_count": null,
   "id": "037b8214-2bcb-4c14-8e76-050cc4250635",
   "metadata": {},
   "outputs": [],
   "source": [
    "## description of speeds for each road type\n",
    "\n",
    "dfs = []\n",
    "\n",
    "road_types = network['attributeOrigType'].unique()\n",
    "for road_type in road_types:\n",
    "    filtered_network = full_df[full_df['attributeOrigType'] == road_type]\n",
    "    df = filtered_network[['speed', 'freespeed']].describe()\n",
    "    df.rename(columns={'speed':f'{road_type} speed', 'freespeed':f'{road_type} free speed'}, inplace=True)\n",
    "    dfs.append(df.transpose())\n",
    "    \n",
    "speed_df = pd.concat(dfs)\n",
    "speed_df"
   ]
  },
  {
   "cell_type": "code",
   "execution_count": null,
   "id": "8c3a9e75-d599-488e-acd8-9a9cc6269e7d",
   "metadata": {},
   "outputs": [],
   "source": []
  },
  {
   "cell_type": "code",
   "execution_count": null,
   "id": "f6d41c7c-9d73-4d82-81d8-af0d7e8f0e30",
   "metadata": {},
   "outputs": [],
   "source": []
  }
 ],
 "metadata": {
  "kernelspec": {
   "display_name": "Python 3 (ipykernel)",
   "language": "python",
   "name": "python3"
  },
  "language_info": {
   "codemirror_mode": {
    "name": "ipython",
    "version": 3
   },
   "file_extension": ".py",
   "mimetype": "text/x-python",
   "name": "python",
   "nbconvert_exporter": "python",
   "pygments_lexer": "ipython3",
   "version": "3.10.8"
  }
 },
 "nbformat": 4,
 "nbformat_minor": 5
}
