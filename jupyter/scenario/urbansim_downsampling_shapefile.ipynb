{
 "cells": [
  {
   "cell_type": "code",
   "execution_count": null,
   "metadata": {
    "ExecuteTime": {
     "end_time": "2023-06-06T19:28:49.891385Z",
     "start_time": "2023-06-06T19:28:49.885850Z"
    },
    "tags": []
   },
   "outputs": [],
   "source": [
    "from pathlib import Path\n",
    "from pyproj import CRS, Transformer\n",
    "\n",
    "import numpy as np\n",
    "import pandas as pd\n",
    "import geopandas as gpd\n",
    "import shapely.geometry\n",
    "import matplotlib.pyplot as plt\n",
    "\n",
    "pd.set_option('display.max_rows', 500)\n",
    "pd.set_option('display.max_columns', 500)\n",
    "pd.set_option('display.width', 1000)"
   ]
  },
  {
   "cell_type": "code",
   "execution_count": null,
   "metadata": {
    "ExecuteTime": {
     "end_time": "2023-06-06T19:28:51.573718Z",
     "start_time": "2023-06-06T19:28:50.813166Z"
    },
    "collapsed": false,
    "jupyter": {
     "outputs_hidden": false
    }
   },
   "outputs": [],
   "source": [
    "# reading input scenario\n",
    "\n",
    "urbansim_source_dir = \"../beam_root/production/sfbay/urbansim\"\n",
    "\n",
    "persons = pd.read_csv(f\"{urbansim_source_dir}/persons.csv.gz\")\n",
    "households = pd.read_csv(f\"{urbansim_source_dir}/households.csv.gz\")\n",
    "plans = pd.read_csv(f\"{urbansim_source_dir}/plans.csv.gz\")\n",
    "blocks = pd.read_csv(f\"{urbansim_source_dir}/blocks.csv.gz\")\n",
    "\n",
    "print(f\"Number of persons: {persons.shape[0]}, number of households: {households.shape[0]}, number of unique persons in plans: {plans['person_id'].nunique()}\")"
   ]
  },
  {
   "cell_type": "code",
   "execution_count": null,
   "metadata": {},
   "outputs": [],
   "source": [
    "# reading the shp file and converting it to activities `x` and `y` CRS\n",
    "# also using only selected districts of the shape file\n",
    "\n",
    "shape_file_path = \"../local_files/vta-filtering-plans/MTC-1454-TAZ.zip\"\n",
    "\n",
    "# reading the shape file\n",
    "shp_df_wrong_crs = gpd.read_file(shape_file_path)\n",
    "\n",
    "# converting the shapefile to required CRS\n",
    "shp_df_full = shp_df_wrong_crs.to_crs(4326)\n",
    "\n",
    "\n",
    "# using only selected districts\n",
    "selected_districts = set([8, 9, 10, 11, 12, 13, 14])\n",
    "shp_df = shp_df_full[shp_df_full['SUPERD'].isin(selected_districts)]\n",
    "\n",
    "print(f\"Selected districts has: {len(shp_df)} rows, full shape file has {len(shp_df_full)} rows.\")\n",
    "display(shp_df.head(2))"
   ]
  },
  {
   "cell_type": "code",
   "execution_count": null,
   "metadata": {},
   "outputs": [],
   "source": [
    "# getting CRS of the shp file\n",
    "shp_df.crs"
   ]
  },
  {
   "cell_type": "code",
   "execution_count": null,
   "metadata": {},
   "outputs": [],
   "source": [
    "# saving filtered-out shapefile dataframe to files (by folder path)\n",
    "shp_df.to_file(\"../local_files/vta-filtering-plans/MTC-1454-TAZ-selected-districts\")"
   ]
  },
  {
   "cell_type": "code",
   "execution_count": null,
   "metadata": {},
   "outputs": [],
   "source": [
    "# getting activities\n",
    "\n",
    "activities = plans[plans['ActivityElement'] == 'activity'][['person_id','ActivityType','x','y']]\n",
    "\n",
    "# sanity check\n",
    "if 0 == activities.isna().sum().sum():\n",
    "    print(f'All persons, activities and X Y coordinates are set. Number of activities: {len(activities)}')\n",
    "\n",
    "display(activities.head(2))"
   ]
  },
  {
   "cell_type": "code",
   "execution_count": null,
   "metadata": {},
   "outputs": [],
   "source": [
    "# getting geo_activities dataframe with specified CRS\n",
    "\n",
    "points = gpd.points_from_xy(activities[\"x\"], activities[\"y\"], crs=\"EPSG:4326\")\n",
    "geo_activities = gpd.GeoDataFrame(activities, geometry=points)\n",
    "geo_activities.head(2)"
   ]
  },
  {
   "cell_type": "code",
   "execution_count": null,
   "metadata": {},
   "outputs": [],
   "source": [
    "# saving activities locations to shape file\n",
    "geo_activities.to_file(filename=\"../local_files/vta-filtering-plans/activities_shape.zip\", driver='ESRI Shapefile')"
   ]
  },
  {
   "cell_type": "code",
   "execution_count": null,
   "metadata": {},
   "outputs": [],
   "source": [
    "# getting activities within shape file\n",
    "\n",
    "# `predicate` must be one of {'covers', 'within', 'contains', 'contains_properly', 'covered_by', 'intersects', 'crosses', 'overlaps', None, 'touches'}\n",
    "geo_activities_joined = geo_activities.sjoin(shp_df, predicate=\"within\")\n",
    "\n",
    "# calculating how many persons there are in original activities and with activities within shape file\n",
    "persons_within_area = set(geo_activities_joined['person_id'].unique())\n",
    "persons_total = activities['person_id'].nunique()\n",
    "\n",
    "print(f\"Activities within selected shape file: {len(geo_activities_joined)}, total activities: {len(geo_activities)}.\")\n",
    "print(f\"Persons within selected shape file: {len(persons_within_area)}, total persons: {persons_total}\")\n",
    "\n",
    "geo_activities_joined.head(2)"
   ]
  },
  {
   "cell_type": "markdown",
   "metadata": {},
   "source": [
    "# approach #1 - downsampling"
   ]
  },
  {
   "cell_type": "code",
   "execution_count": null,
   "metadata": {},
   "outputs": [],
   "source": [
    "# downsampling scenario based on selected persons\n",
    "# usually we take persons ids, then households, then take all persons within households, but this time I took only selected persons \n",
    "\n",
    "selected_persons_df = persons[persons['person_id'].isin(persons_within_area)]\n",
    "print(f\"there are {len(selected_persons_df)} selected persons (out of {len(persons)})\")\n",
    "\n",
    "selected_households_ids = set(selected_persons_df['household_id'].unique())\n",
    "selected_households_df = households[households['household_id'].isin(selected_households_ids)]\n",
    "print(f\"there are {len(selected_households_df)} selected households (out of {len(households)})\")\n",
    "\n",
    "selected_plans_df = plans[plans['person_id'].isin(persons_ids_within_shape)]\n",
    "print(f\"there are {len(selected_plans_df)} selected plans (out of {len(plans)})\")\n",
    "\n",
    "selected_block_ids = set(selected_households_df['block_id'])\n",
    "selected_blocks_df = blocks[blocks['block_id'].isin(selected_block_ids)]\n",
    "print(f\"there are {len(selected_blocks_df)} selected blocks (out of {len(blocks)})\")"
   ]
  },
  {
   "cell_type": "code",
   "execution_count": null,
   "metadata": {
    "ExecuteTime": {
     "end_time": "2023-06-06T19:29:03.928116Z",
     "start_time": "2023-06-06T19:29:03.793439Z"
    },
    "collapsed": false,
    "jupyter": {
     "outputs_hidden": false
    }
   },
   "outputs": [],
   "source": [
    "# sanity check\n",
    "\n",
    "selected_persons_df['age'].hist(bins=50, figsize=(15,3))"
   ]
  },
  {
   "cell_type": "code",
   "execution_count": null,
   "metadata": {
    "ExecuteTime": {
     "end_time": "2023-06-06T19:29:12.787483Z",
     "start_time": "2023-06-06T19:29:07.356729Z"
    },
    "collapsed": false,
    "jupyter": {
     "outputs_hidden": false
    }
   },
   "outputs": [],
   "source": [
    "# saving downsampled scenario to output dir\n",
    "\n",
    "out_dir = 'sampled_scenario'\n",
    "\n",
    "Path(out_dir).mkdir(parents=True, exist_ok=True)\n",
    "\n",
    "selected_persons_df.to_csv(f'{out_dir}/persons.csv.gz', index=False, compression='gzip')\n",
    "selected_households_df.to_csv(f'{out_dir}/households.csv.gz', index=False, compression='gzip')\n",
    "selected_plans_df.to_csv(f'{out_dir}/plans.csv.gz', index=False, compression='gzip')\n",
    "selected_blocks_df.to_csv(f'{out_dir}/blocks.csv.gz', index=False, compression='gzip')"
   ]
  },
  {
   "cell_type": "code",
   "execution_count": null,
   "metadata": {},
   "outputs": [],
   "source": []
  },
  {
   "cell_type": "markdown",
   "metadata": {},
   "source": [
    "# approach #2 - clearing modes for selected persons"
   ]
  },
  {
   "cell_type": "code",
   "execution_count": null,
   "metadata": {},
   "outputs": [],
   "source": [
    "# splitting plans into two dataframes based on selected persons IDs and clearing modes for selected persons plans\n",
    "\n",
    "plans_within = plans[plans['person_id'].isin(persons_within_area)].copy()\n",
    "plans_rest = plans[~plans['person_id'].isin(persons_within_area)].copy()\n",
    "\n",
    "# reset modes\n",
    "plans_within['trip_mode'] = np.nan\n",
    "\n",
    "# concat two dataframes back with sorting by person Id and plan element index\n",
    "plans_cleared = pd.concat([plans_within,plans_rest]).sort_values(['person_id','PlanElementIndex'])\n",
    "\n",
    "plans_within['person_id'].nunique(), plans_rest['person_id'].nunique(), plans_cleared['person_id'].nunique()"
   ]
  },
  {
   "cell_type": "code",
   "execution_count": null,
   "metadata": {},
   "outputs": [],
   "source": [
    "# check if everything apart modes are equal in old plans and changed plans\n",
    "columns = [\"trip_id\",\"person_id\",\"number_of_participants\",\"PlanElementIndex\",\"ActivityElement\",\"ActivityType\",\"x\",\"y\",\"departure_time\"]\n",
    "plans_cleared[columns].equals(plans[columns])"
   ]
  },
  {
   "cell_type": "code",
   "execution_count": null,
   "metadata": {},
   "outputs": [],
   "source": [
    "# sanity check\n",
    "\n",
    "ax = plans['trip_mode'].hist(figsize=(15,3), xrot=20, alpha=0.5, label=\"original plans\")\n",
    "plans_cleared['trip_mode'].hist(ax=ax, alpha=0.5, label=\"cleared plans\")\n",
    "ax.legend()"
   ]
  },
  {
   "cell_type": "code",
   "execution_count": null,
   "metadata": {},
   "outputs": [],
   "source": [
    "# saving changed plans to output dir\n",
    "\n",
    "out_dir = 'sampled_scenario'\n",
    "\n",
    "Path(out_dir).mkdir(parents=True, exist_ok=True)\n",
    "\n",
    "plans_cleared.to_csv(f'{out_dir}/plans.csv.gz', index=False, compression='gzip')"
   ]
  },
  {
   "cell_type": "code",
   "execution_count": null,
   "metadata": {},
   "outputs": [],
   "source": []
  },
  {
   "cell_type": "markdown",
   "metadata": {},
   "source": [
    "# approach #3 remove plans\\people with only specific modes and with all OD outside the study area"
   ]
  },
  {
   "cell_type": "code",
   "execution_count": null,
   "metadata": {},
   "outputs": [],
   "source": [
    "# looking for plans for persons outside of study area \n",
    "\n",
    "plans_outside_area = plans[~plans['person_id'].isin(persons_within_area)]\n",
    "plans_outside_area['person_id'].nunique()"
   ]
  },
  {
   "cell_type": "code",
   "execution_count": null,
   "metadata": {},
   "outputs": [],
   "source": [
    "plans_outside_area.head(2)"
   ]
  },
  {
   "cell_type": "code",
   "execution_count": null,
   "metadata": {},
   "outputs": [],
   "source": [
    "plans_outside_area['trip_mode'].value_counts()"
   ]
  },
  {
   "cell_type": "code",
   "execution_count": null,
   "metadata": {},
   "outputs": [],
   "source": [
    "# take only trips (with trip mode not NA)\n",
    "df1 = plans_outside_area[~plans_outside_area['trip_mode'].isna()]\n",
    "\n",
    "# take only plans that are not contains selected modes:\n",
    "modes_to_filter_out = set(['DRIVEALONEFREE','DRIVEALONEPAY','SHARED2FREE','SHARED2PAY','SHARED3FREE','SHARED3PAY','WALK','BIKE'])\n",
    "df2 = df1[~df1['trip_mode'].isin(modes_to_filter_out)]\n",
    "\n",
    "# take ID of persons outside area with allowed modes\n",
    "persons_outside_with_allowed_modes = set(df2['person_id'].unique())\n",
    "\n",
    "persons_within_and_outside_with_allowed_modes = set()\n",
    "persons_within_and_outside_with_allowed_modes.update(persons_within_area)\n",
    "persons_within_and_outside_with_allowed_modes.update(persons_outside_with_allowed_modes)\n",
    "\n",
    "len(persons_within_and_outside_with_allowed_modes), len(persons_outside_with_allowed_modes)"
   ]
  },
  {
   "cell_type": "code",
   "execution_count": null,
   "metadata": {},
   "outputs": [],
   "source": [
    "# get plans without persons outside area that has only restricted modes\n",
    "\n",
    "plans_filtered = plans[plans['person_id'].isin(persons_within_and_outside_with_allowed_modes)]"
   ]
  },
  {
   "cell_type": "code",
   "execution_count": null,
   "metadata": {},
   "outputs": [],
   "source": [
    "# sanity check\n",
    "\n",
    "ax = plans['trip_mode'].hist(figsize=(15,3), xrot=20, alpha=0.5, label=\"original plans\")\n",
    "plans_filtered['trip_mode'].hist(ax=ax, alpha=0.5, label=\"filtered plans\")\n",
    "plans[plans['person_id'].isin(persons_outside_with_allowed_modes)]['trip_mode'].hist(ax=ax, alpha=0.5, label=\"plans of persons outside with allowed modes\")\n",
    "\n",
    "ax.legend()"
   ]
  },
  {
   "cell_type": "code",
   "execution_count": null,
   "metadata": {},
   "outputs": [],
   "source": [
    "# downsampling scenario based on selected persons\n",
    "# usually we take persons ids, then households, then take all persons within households, but this time I took only selected persons \n",
    "\n",
    "selected_persons_df = persons[persons['person_id'].isin(persons_within_and_outside_with_allowed_modes)]\n",
    "print(f\"there are {len(selected_persons_df)} selected persons (out of {len(persons)})\")\n",
    "\n",
    "selected_households_ids = set(selected_persons_df['household_id'].unique())\n",
    "selected_households_df = households[households['household_id'].isin(selected_households_ids)]\n",
    "print(f\"there are {len(selected_households_df)} selected households (out of {len(households)})\")\n",
    "\n",
    "selected_plans_df = plans[plans['person_id'].isin(persons_within_and_outside_with_allowed_modes)]\n",
    "print(f\"there are {len(selected_plans_df)} selected plans (out of {len(plans)})\")\n",
    "\n",
    "selected_block_ids = set(selected_households_df['block_id'])\n",
    "selected_blocks_df = blocks[blocks['block_id'].isin(selected_block_ids)]\n",
    "print(f\"there are {len(selected_blocks_df)} selected blocks (out of {len(blocks)})\")"
   ]
  },
  {
   "cell_type": "code",
   "execution_count": null,
   "metadata": {},
   "outputs": [],
   "source": [
    "# saving downsampled scenario to output dir\n",
    "\n",
    "out_dir = 'sampled_scenario__within_area_plus_outside_with_allowed_modes__with_modes'\n",
    "\n",
    "Path(out_dir).mkdir(parents=True, exist_ok=True)\n",
    "\n",
    "selected_persons_df.to_csv(f'{out_dir}/persons.csv.gz', index=False, compression='gzip')\n",
    "selected_households_df.to_csv(f'{out_dir}/households.csv.gz', index=False, compression='gzip')\n",
    "selected_plans_df.to_csv(f'{out_dir}/plans.csv.gz', index=False, compression='gzip')\n",
    "selected_blocks_df.to_csv(f'{out_dir}/blocks.csv.gz', index=False, compression='gzip')"
   ]
  },
  {
   "cell_type": "code",
   "execution_count": null,
   "metadata": {},
   "outputs": [],
   "source": [
    "# splitting plans into two dataframes based on selected persons IDs and clearing modes for selected persons plans\n",
    "\n",
    "plans_within = selected_plans_df[selected_plans_df['person_id'].isin(persons_within_area)].copy()\n",
    "plans_rest = selected_plans_df[~selected_plans_df['person_id'].isin(persons_within_area)].copy()\n",
    "\n",
    "# reset modes\n",
    "plans_within['trip_mode'] = np.nan\n",
    "\n",
    "# concat two dataframes back with sorting by person Id and plan element index\n",
    "selected_plans_area_without_modes_df = pd.concat([plans_within, plans_rest]).sort_values(['person_id','PlanElementIndex'])\n",
    "selected_plans_area_without_modes_df.shape"
   ]
  },
  {
   "cell_type": "code",
   "execution_count": null,
   "metadata": {},
   "outputs": [],
   "source": [
    "# saving downsampled scenario to output dir\n",
    "\n",
    "out_dir = 'sampled_scenario__within_area_plus_outside_with_allowed_modes__area_without_modes'\n",
    "\n",
    "Path(out_dir).mkdir(parents=True, exist_ok=True)\n",
    "\n",
    "selected_persons_df.to_csv(f'{out_dir}/persons.csv.gz', index=False, compression='gzip')\n",
    "selected_households_df.to_csv(f'{out_dir}/households.csv.gz', index=False, compression='gzip')\n",
    "selected_plans_area_without_modes_df.to_csv(f'{out_dir}/plans.csv.gz', index=False, compression='gzip')\n",
    "selected_blocks_df.to_csv(f'{out_dir}/blocks.csv.gz', index=False, compression='gzip')"
   ]
  },
  {
   "cell_type": "code",
   "execution_count": null,
   "metadata": {},
   "outputs": [],
   "source": [
    "# removing all modes altogether\n",
    "selected_plans_without_modes_df = selected_plans_area_without_modes_df.copy()\n",
    "selected_plans_without_modes_df['trip_mode'] = np.nan"
   ]
  },
  {
   "cell_type": "code",
   "execution_count": null,
   "metadata": {},
   "outputs": [],
   "source": [
    "# saving downsampled scenario to output dir\n",
    "\n",
    "out_dir = 'sampled_scenario__within_area_plus_outside_with_allowed_modes__without_modes'\n",
    "\n",
    "Path(out_dir).mkdir(parents=True, exist_ok=True)\n",
    "\n",
    "selected_persons_df.to_csv(f'{out_dir}/persons.csv.gz', index=False, compression='gzip')\n",
    "selected_households_df.to_csv(f'{out_dir}/households.csv.gz', index=False, compression='gzip')\n",
    "selected_plans_without_modes_df.to_csv(f'{out_dir}/plans.csv.gz', index=False, compression='gzip')\n",
    "selected_blocks_df.to_csv(f'{out_dir}/blocks.csv.gz', index=False, compression='gzip')"
   ]
  },
  {
   "cell_type": "markdown",
   "metadata": {},
   "source": [
    "# sanity check"
   ]
  },
  {
   "cell_type": "code",
   "execution_count": null,
   "metadata": {},
   "outputs": [],
   "source": [
    "plans1 = pd.read_csv(\"sampled_scenario__within_area_plus_outside_with_allowed_modes__with_modes/plans.csv.gz\", low_memory=False)\n",
    "plans2 = pd.read_csv(\"sampled_scenario__within_area_plus_outside_with_allowed_modes__area_without_modes/plans.csv.gz\", low_memory=False)\n",
    "plans3 = pd.read_csv(\"sampled_scenario__within_area_plus_outside_with_allowed_modes__without_modes/plans.csv.gz\", low_memory=False)\n",
    "\n",
    "\n",
    "ax = plans1['trip_mode'].hist(figsize=(15,3), xrot=20, alpha=0.5, label=\"with modes\")\n",
    "plans2['trip_mode'].hist(ax=ax, alpha=0.5, label=\"area without modes\")\n",
    "plans3['trip_mode'].hist(ax=ax, alpha=0.5, label=\"no modes\")\n",
    "\n",
    "ax.legend()"
   ]
  },
  {
   "cell_type": "code",
   "execution_count": null,
   "metadata": {},
   "outputs": [],
   "source": []
  }
 ],
 "metadata": {
  "kernelspec": {
   "display_name": "Python 3 (ipykernel)",
   "language": "python",
   "name": "python3"
  },
  "language_info": {
   "codemirror_mode": {
    "name": "ipython",
    "version": 3
   },
   "file_extension": ".py",
   "mimetype": "text/x-python",
   "name": "python",
   "nbconvert_exporter": "python",
   "pygments_lexer": "ipython3",
   "version": "3.10.8"
  }
 },
 "nbformat": 4,
 "nbformat_minor": 4
}
