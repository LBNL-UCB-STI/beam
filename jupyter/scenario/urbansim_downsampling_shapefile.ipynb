{
 "cells": [
  {
   "cell_type": "code",
   "execution_count": null,
   "metadata": {
    "ExecuteTime": {
     "end_time": "2023-12-21T16:07:59.261512Z",
     "start_time": "2023-12-21T16:07:58.542489Z"
    },
    "tags": []
   },
   "outputs": [],
   "source": [
    "from pathlib import Path\n",
    "from pyproj import CRS, Transformer\n",
    "\n",
    "import numpy as np\n",
    "import pandas as pd\n",
    "import geopandas as gpd\n",
    "import shapely.geometry\n",
    "import matplotlib.pyplot as plt\n",
    "\n",
    "pd.set_option('display.max_rows', 500)\n",
    "pd.set_option('display.max_columns', 500)\n",
    "pd.set_option('display.width', 1000)"
   ]
  },
  {
   "cell_type": "code",
   "execution_count": 3,
   "metadata": {
    "ExecuteTime": {
     "end_time": "2023-12-21T16:08:08.303158Z",
     "start_time": "2023-12-21T16:07:59.291641Z"
    },
    "jupyter": {
     "outputs_hidden": false
    }
   },
   "outputs": [
    {
     "name": "stdout",
     "output_type": "stream",
     "text": [
      "Number of persons: 721814, number of households: 275783, number of unique persons in plans: 646773\n"
     ]
    }
   ],
   "source": [
    "# reading input scenario\n",
    "urbansim_source_dir = \"../beam_root/production/sfbay/urbansim\"\n",
    "\n",
    "persons = pd.read_csv(f\"{urbansim_source_dir}/persons.csv.gz\")\n",
    "households = pd.read_csv(f\"{urbansim_source_dir}/households.csv.gz\")\n",
    "plans = pd.read_csv(f\"{urbansim_source_dir}/plans.csv.gz\")\n",
    "blocks = pd.read_csv(f\"{urbansim_source_dir}/blocks.csv.gz\")\n",
    "\n",
    "plans_columns = plans.columns\n",
    "\n",
    "print(f\"Number of persons: {persons.shape[0]}, number of households: {households.shape[0]}, number of unique persons in plans: {plans['person_id'].nunique()}\")"
   ]
  },
  {
   "cell_type": "code",
   "execution_count": 43,
   "metadata": {
    "ExecuteTime": {
     "end_time": "2023-12-21T16:08:08.899160Z",
     "start_time": "2023-12-21T16:08:08.314108Z"
    }
   },
   "outputs": [
    {
     "name": "stdout",
     "output_type": "stream",
     "text": [
      "Selected districts has: 193 rows, full shape file has 1454 rows.\n"
     ]
    },
    {
     "data": {
      "text/html": [
       "<div>\n",
       "<style scoped>\n",
       "    .dataframe tbody tr th:only-of-type {\n",
       "        vertical-align: middle;\n",
       "    }\n",
       "\n",
       "    .dataframe tbody tr th {\n",
       "        vertical-align: top;\n",
       "    }\n",
       "\n",
       "    .dataframe thead th {\n",
       "        text-align: right;\n",
       "    }\n",
       "</style>\n",
       "<table border=\"1\" class=\"dataframe\">\n",
       "  <thead>\n",
       "    <tr style=\"text-align: right;\">\n",
       "      <th></th>\n",
       "      <th>objectid</th>\n",
       "      <th>taz1454</th>\n",
       "      <th>district</th>\n",
       "      <th>county</th>\n",
       "      <th>gacres</th>\n",
       "      <th>Shape__Are</th>\n",
       "      <th>Shape__Len</th>\n",
       "      <th>geometry</th>\n",
       "    </tr>\n",
       "  </thead>\n",
       "  <tbody>\n",
       "    <tr>\n",
       "      <th>338</th>\n",
       "      <td>339</td>\n",
       "      <td>1</td>\n",
       "      <td>1</td>\n",
       "      <td>San Francisco</td>\n",
       "      <td>32.530647</td>\n",
       "      <td>0.000008</td>\n",
       "      <td>0.012199</td>\n",
       "      <td>POLYGON ((-122.39970 37.79223, -122.39990 37.7...</td>\n",
       "    </tr>\n",
       "    <tr>\n",
       "      <th>339</th>\n",
       "      <td>340</td>\n",
       "      <td>3</td>\n",
       "      <td>1</td>\n",
       "      <td>San Francisco</td>\n",
       "      <td>23.589885</td>\n",
       "      <td>0.000006</td>\n",
       "      <td>0.010129</td>\n",
       "      <td>POLYGON ((-122.40699 37.79032, -122.40710 37.7...</td>\n",
       "    </tr>\n",
       "  </tbody>\n",
       "</table>\n",
       "</div>"
      ],
      "text/plain": [
       "     objectid  taz1454  district         county     gacres  Shape__Are  Shape__Len                                           geometry\n",
       "338       339        1         1  San Francisco  32.530647    0.000008    0.012199  POLYGON ((-122.39970 37.79223, -122.39990 37.7...\n",
       "339       340        3         1  San Francisco  23.589885    0.000006    0.010129  POLYGON ((-122.40699 37.79032, -122.40710 37.7..."
      ]
     },
     "metadata": {},
     "output_type": "display_data"
    }
   ],
   "source": [
    "# reading the shp file and converting it to activities `x` and `y` CRS\n",
    "# also using only selected districts of the shape file\n",
    "\n",
    "id_path = \"../local_files/sf-light/sfbay-geo-units.csv\"\n",
    "id_df = pd.read_csv(id_path)\n",
    "\n",
    "shape_file_path = \"../beam_root/production/sfbay/shape/sfbay-tazs-epsg-26910.shp\"\n",
    "\n",
    "# reading the shape file\n",
    "shp_df_wrong_crs = gpd.read_file(shape_file_path)\n",
    "\n",
    "# converting the shapefile to required CRS\n",
    "shp_df_full = shp_df_wrong_crs.to_crs(4326)\n",
    "\n",
    "\n",
    "# using only selected districts\n",
    "selected_districts = set([8, 9, 10, 11, 12, 13, 14])\n",
    "shp_df = shp_df_full[shp_df_full['objectid'].isin(id_df['objectid'])]\n",
    "\n",
    "print(f\"Selected districts has: {len(shp_df)} rows, full shape file has {len(shp_df_full)} rows.\")\n",
    "display(shp_df.head(2))"
   ]
  },
  {
   "cell_type": "code",
   "execution_count": 5,
   "metadata": {
    "ExecuteTime": {
     "end_time": "2023-12-21T16:08:08.906163Z",
     "start_time": "2023-12-21T16:08:08.896663Z"
    }
   },
   "outputs": [
    {
     "data": {
      "text/plain": [
       "<Geographic 2D CRS: EPSG:4326>\n",
       "Name: WGS 84\n",
       "Axis Info [ellipsoidal]:\n",
       "- Lat[north]: Geodetic latitude (degree)\n",
       "- Lon[east]: Geodetic longitude (degree)\n",
       "Area of Use:\n",
       "- name: World.\n",
       "- bounds: (-180.0, -90.0, 180.0, 90.0)\n",
       "Datum: World Geodetic System 1984 ensemble\n",
       "- Ellipsoid: WGS 84\n",
       "- Prime Meridian: Greenwich"
      ]
     },
     "execution_count": 5,
     "metadata": {},
     "output_type": "execute_result"
    }
   ],
   "source": [
    "# getting CRS of the shp file\n",
    "shp_df.crs"
   ]
  },
  {
   "cell_type": "code",
   "execution_count": null,
   "metadata": {},
   "outputs": [],
   "source": [
    "# saving filtered-out shapefile dataframe to files (by folder path)\n",
    "# shp_df.to_file(\"../local_files/vta-filtering-plans/MTC-1454-TAZ-selected-districts\")"
   ]
  },
  {
   "cell_type": "code",
   "execution_count": 6,
   "metadata": {
    "ExecuteTime": {
     "end_time": "2023-12-21T16:08:09.393569Z",
     "start_time": "2023-12-21T16:08:08.903595Z"
    }
   },
   "outputs": [
    {
     "name": "stdout",
     "output_type": "stream",
     "text": [
      "Both Series should be empty (column for selected rows contains only NaN)\n"
     ]
    },
    {
     "data": {
      "text/plain": [
       "Series([], Name: trip_from, dtype: int64)"
      ]
     },
     "metadata": {},
     "output_type": "display_data"
    },
    {
     "data": {
      "text/plain": [
       "Series([], Name: trip_to, dtype: int64)"
      ]
     },
     "metadata": {},
     "output_type": "display_data"
    },
    {
     "data": {
      "text/html": [
       "<div>\n",
       "<style scoped>\n",
       "    .dataframe tbody tr th:only-of-type {\n",
       "        vertical-align: middle;\n",
       "    }\n",
       "\n",
       "    .dataframe tbody tr th {\n",
       "        vertical-align: top;\n",
       "    }\n",
       "\n",
       "    .dataframe thead th {\n",
       "        text-align: right;\n",
       "    }\n",
       "</style>\n",
       "<table border=\"1\" class=\"dataframe\">\n",
       "  <thead>\n",
       "    <tr style=\"text-align: right;\">\n",
       "      <th></th>\n",
       "      <th>trip_id</th>\n",
       "      <th>person_id</th>\n",
       "      <th>number_of_participants</th>\n",
       "      <th>trip_mode</th>\n",
       "      <th>PlanElementIndex</th>\n",
       "      <th>ActivityElement</th>\n",
       "      <th>ActivityType</th>\n",
       "      <th>x</th>\n",
       "      <th>y</th>\n",
       "      <th>departure_time</th>\n",
       "      <th>trip_from</th>\n",
       "      <th>trip_to</th>\n",
       "    </tr>\n",
       "  </thead>\n",
       "  <tbody>\n",
       "    <tr>\n",
       "      <th>0</th>\n",
       "      <td>NaN</td>\n",
       "      <td>4.0</td>\n",
       "      <td>NaN</td>\n",
       "      <td>NaN</td>\n",
       "      <td>1</td>\n",
       "      <td>activity</td>\n",
       "      <td>Home</td>\n",
       "      <td>-122.227937</td>\n",
       "      <td>37.854097</td>\n",
       "      <td>14.392</td>\n",
       "      <td>1513.0</td>\n",
       "      <td>NaN</td>\n",
       "    </tr>\n",
       "    <tr>\n",
       "      <th>1</th>\n",
       "      <td>1513.0</td>\n",
       "      <td>4.0</td>\n",
       "      <td>1.0</td>\n",
       "      <td>SHARED3PAY</td>\n",
       "      <td>2</td>\n",
       "      <td>leg</td>\n",
       "      <td>NaN</td>\n",
       "      <td>NaN</td>\n",
       "      <td>NaN</td>\n",
       "      <td>NaN</td>\n",
       "      <td>NaN</td>\n",
       "      <td>NaN</td>\n",
       "    </tr>\n",
       "    <tr>\n",
       "      <th>2</th>\n",
       "      <td>NaN</td>\n",
       "      <td>4.0</td>\n",
       "      <td>NaN</td>\n",
       "      <td>NaN</td>\n",
       "      <td>3</td>\n",
       "      <td>activity</td>\n",
       "      <td>othdiscr</td>\n",
       "      <td>-122.268361</td>\n",
       "      <td>37.807814</td>\n",
       "      <td>18.145</td>\n",
       "      <td>1517.0</td>\n",
       "      <td>1513.0</td>\n",
       "    </tr>\n",
       "    <tr>\n",
       "      <th>3</th>\n",
       "      <td>1517.0</td>\n",
       "      <td>4.0</td>\n",
       "      <td>1.0</td>\n",
       "      <td>WALK_LOC</td>\n",
       "      <td>4</td>\n",
       "      <td>leg</td>\n",
       "      <td>NaN</td>\n",
       "      <td>NaN</td>\n",
       "      <td>NaN</td>\n",
       "      <td>NaN</td>\n",
       "      <td>NaN</td>\n",
       "      <td>NaN</td>\n",
       "    </tr>\n",
       "    <tr>\n",
       "      <th>4</th>\n",
       "      <td>NaN</td>\n",
       "      <td>4.0</td>\n",
       "      <td>NaN</td>\n",
       "      <td>NaN</td>\n",
       "      <td>5</td>\n",
       "      <td>activity</td>\n",
       "      <td>Home</td>\n",
       "      <td>-122.227937</td>\n",
       "      <td>37.854097</td>\n",
       "      <td>NaN</td>\n",
       "      <td>NaN</td>\n",
       "      <td>1517.0</td>\n",
       "    </tr>\n",
       "  </tbody>\n",
       "</table>\n",
       "</div>"
      ],
      "text/plain": [
       "   trip_id  person_id  number_of_participants   trip_mode  PlanElementIndex ActivityElement ActivityType           x          y  departure_time  trip_from  trip_to\n",
       "0      NaN        4.0                     NaN         NaN                 1        activity         Home -122.227937  37.854097          14.392     1513.0      NaN\n",
       "1   1513.0        4.0                     1.0  SHARED3PAY                 2             leg          NaN         NaN        NaN             NaN        NaN      NaN\n",
       "2      NaN        4.0                     NaN         NaN                 3        activity     othdiscr -122.268361  37.807814          18.145     1517.0   1513.0\n",
       "3   1517.0        4.0                     1.0    WALK_LOC                 4             leg          NaN         NaN        NaN             NaN        NaN      NaN\n",
       "4      NaN        4.0                     NaN         NaN                 5        activity         Home -122.227937  37.854097             NaN        NaN   1517.0"
      ]
     },
     "execution_count": 6,
     "metadata": {},
     "output_type": "execute_result"
    }
   ],
   "source": [
    "plans['trip_from'] = plans['trip_id'].shift(-1)\n",
    "plans['trip_to'] = plans['trip_id'].shift(1)\n",
    "\n",
    "plans_extra_columns = plans.columns\n",
    "\n",
    "# sanity check, the resulting selections should be empty\n",
    "plans['person_shift_1'] = plans['person_id'].shift(-1)\n",
    "plans['person_shift_2'] = plans['person_id'].shift(1)\n",
    "\n",
    "print(\"Both Series should be empty (column for selected rows contains only NaN)\")\n",
    "display(plans[plans['person_id'] != plans['person_shift_1']]['trip_from'].value_counts())\n",
    "display(plans[plans['person_id'] != plans['person_shift_2']]['trip_to'].value_counts())\n",
    "\n",
    "# removing extra columns\n",
    "plans = plans[plans_extra_columns]\n",
    "\n",
    "plans.head(5)"
   ]
  },
  {
   "cell_type": "code",
   "execution_count": 7,
   "metadata": {
    "ExecuteTime": {
     "end_time": "2023-12-21T16:08:09.777853Z",
     "start_time": "2023-12-21T16:08:09.624080Z"
    }
   },
   "outputs": [
    {
     "name": "stdout",
     "output_type": "stream",
     "text": [
      "All persons, activities and X Y coordinates are set. Number of activities: 3184936\n"
     ]
    },
    {
     "data": {
      "text/html": [
       "<div>\n",
       "<style scoped>\n",
       "    .dataframe tbody tr th:only-of-type {\n",
       "        vertical-align: middle;\n",
       "    }\n",
       "\n",
       "    .dataframe tbody tr th {\n",
       "        vertical-align: top;\n",
       "    }\n",
       "\n",
       "    .dataframe thead th {\n",
       "        text-align: right;\n",
       "    }\n",
       "</style>\n",
       "<table border=\"1\" class=\"dataframe\">\n",
       "  <thead>\n",
       "    <tr style=\"text-align: right;\">\n",
       "      <th></th>\n",
       "      <th>trip_id</th>\n",
       "      <th>person_id</th>\n",
       "      <th>number_of_participants</th>\n",
       "      <th>trip_mode</th>\n",
       "      <th>PlanElementIndex</th>\n",
       "      <th>ActivityElement</th>\n",
       "      <th>ActivityType</th>\n",
       "      <th>x</th>\n",
       "      <th>y</th>\n",
       "      <th>departure_time</th>\n",
       "      <th>trip_from</th>\n",
       "      <th>trip_to</th>\n",
       "    </tr>\n",
       "  </thead>\n",
       "  <tbody>\n",
       "    <tr>\n",
       "      <th>0</th>\n",
       "      <td>NaN</td>\n",
       "      <td>4.0</td>\n",
       "      <td>NaN</td>\n",
       "      <td>NaN</td>\n",
       "      <td>1</td>\n",
       "      <td>activity</td>\n",
       "      <td>Home</td>\n",
       "      <td>-122.227937</td>\n",
       "      <td>37.854097</td>\n",
       "      <td>14.392</td>\n",
       "      <td>1513.0</td>\n",
       "      <td>NaN</td>\n",
       "    </tr>\n",
       "    <tr>\n",
       "      <th>2</th>\n",
       "      <td>NaN</td>\n",
       "      <td>4.0</td>\n",
       "      <td>NaN</td>\n",
       "      <td>NaN</td>\n",
       "      <td>3</td>\n",
       "      <td>activity</td>\n",
       "      <td>othdiscr</td>\n",
       "      <td>-122.268361</td>\n",
       "      <td>37.807814</td>\n",
       "      <td>18.145</td>\n",
       "      <td>1517.0</td>\n",
       "      <td>1513.0</td>\n",
       "    </tr>\n",
       "  </tbody>\n",
       "</table>\n",
       "</div>"
      ],
      "text/plain": [
       "   trip_id  person_id  number_of_participants trip_mode  PlanElementIndex ActivityElement ActivityType           x          y  departure_time  trip_from  trip_to\n",
       "0      NaN        4.0                     NaN       NaN                 1        activity         Home -122.227937  37.854097          14.392     1513.0      NaN\n",
       "2      NaN        4.0                     NaN       NaN                 3        activity     othdiscr -122.268361  37.807814          18.145     1517.0   1513.0"
      ]
     },
     "metadata": {},
     "output_type": "display_data"
    }
   ],
   "source": [
    "# getting activities\n",
    "\n",
    "activities = plans[plans['ActivityElement'] == 'activity']\n",
    "\n",
    "# sanity check\n",
    "if 0 == activities[['person_id','x','y']].isna().sum().sum():\n",
    "    print(f'All persons, activities and X Y coordinates are set. Number of activities: {len(activities)}')\n",
    "\n",
    "display(activities.head(2))"
   ]
  },
  {
   "cell_type": "code",
   "execution_count": 8,
   "metadata": {
    "ExecuteTime": {
     "end_time": "2023-12-21T16:08:10.150000Z",
     "start_time": "2023-12-21T16:08:09.785991Z"
    }
   },
   "outputs": [
    {
     "data": {
      "text/html": [
       "<div>\n",
       "<style scoped>\n",
       "    .dataframe tbody tr th:only-of-type {\n",
       "        vertical-align: middle;\n",
       "    }\n",
       "\n",
       "    .dataframe tbody tr th {\n",
       "        vertical-align: top;\n",
       "    }\n",
       "\n",
       "    .dataframe thead th {\n",
       "        text-align: right;\n",
       "    }\n",
       "</style>\n",
       "<table border=\"1\" class=\"dataframe\">\n",
       "  <thead>\n",
       "    <tr style=\"text-align: right;\">\n",
       "      <th></th>\n",
       "      <th>trip_id</th>\n",
       "      <th>person_id</th>\n",
       "      <th>number_of_participants</th>\n",
       "      <th>trip_mode</th>\n",
       "      <th>PlanElementIndex</th>\n",
       "      <th>ActivityElement</th>\n",
       "      <th>ActivityType</th>\n",
       "      <th>x</th>\n",
       "      <th>y</th>\n",
       "      <th>departure_time</th>\n",
       "      <th>trip_from</th>\n",
       "      <th>trip_to</th>\n",
       "      <th>geometry</th>\n",
       "    </tr>\n",
       "  </thead>\n",
       "  <tbody>\n",
       "    <tr>\n",
       "      <th>0</th>\n",
       "      <td>NaN</td>\n",
       "      <td>4.0</td>\n",
       "      <td>NaN</td>\n",
       "      <td>NaN</td>\n",
       "      <td>1</td>\n",
       "      <td>activity</td>\n",
       "      <td>Home</td>\n",
       "      <td>-122.227937</td>\n",
       "      <td>37.854097</td>\n",
       "      <td>14.392</td>\n",
       "      <td>1513.0</td>\n",
       "      <td>NaN</td>\n",
       "      <td>POINT (-122.22794 37.85410)</td>\n",
       "    </tr>\n",
       "    <tr>\n",
       "      <th>2</th>\n",
       "      <td>NaN</td>\n",
       "      <td>4.0</td>\n",
       "      <td>NaN</td>\n",
       "      <td>NaN</td>\n",
       "      <td>3</td>\n",
       "      <td>activity</td>\n",
       "      <td>othdiscr</td>\n",
       "      <td>-122.268361</td>\n",
       "      <td>37.807814</td>\n",
       "      <td>18.145</td>\n",
       "      <td>1517.0</td>\n",
       "      <td>1513.0</td>\n",
       "      <td>POINT (-122.26836 37.80781)</td>\n",
       "    </tr>\n",
       "  </tbody>\n",
       "</table>\n",
       "</div>"
      ],
      "text/plain": [
       "   trip_id  person_id  number_of_participants trip_mode  PlanElementIndex ActivityElement ActivityType           x          y  departure_time  trip_from  trip_to                     geometry\n",
       "0      NaN        4.0                     NaN       NaN                 1        activity         Home -122.227937  37.854097          14.392     1513.0      NaN  POINT (-122.22794 37.85410)\n",
       "2      NaN        4.0                     NaN       NaN                 3        activity     othdiscr -122.268361  37.807814          18.145     1517.0   1513.0  POINT (-122.26836 37.80781)"
      ]
     },
     "execution_count": 8,
     "metadata": {},
     "output_type": "execute_result"
    }
   ],
   "source": [
    "# getting geo_activities dataframe with specified CRS\n",
    "\n",
    "points = gpd.points_from_xy(activities[\"x\"], activities[\"y\"], crs=\"EPSG:4326\")\n",
    "geo_activities = gpd.GeoDataFrame(activities, geometry=points)\n",
    "geo_activities.head(2)"
   ]
  },
  {
   "cell_type": "code",
   "execution_count": 9,
   "metadata": {
    "ExecuteTime": {
     "end_time": "2023-12-21T16:08:13.500790Z",
     "start_time": "2023-12-21T16:08:11.525267Z"
    }
   },
   "outputs": [
    {
     "name": "stdout",
     "output_type": "stream",
     "text": [
      "Activities within selected shape file: 383592, total activities: 3184936.\n",
      "Persons within selected shape file: 54676, total persons: 646773\n"
     ]
    },
    {
     "data": {
      "text/html": [
       "<div>\n",
       "<style scoped>\n",
       "    .dataframe tbody tr th:only-of-type {\n",
       "        vertical-align: middle;\n",
       "    }\n",
       "\n",
       "    .dataframe tbody tr th {\n",
       "        vertical-align: top;\n",
       "    }\n",
       "\n",
       "    .dataframe thead th {\n",
       "        text-align: right;\n",
       "    }\n",
       "</style>\n",
       "<table border=\"1\" class=\"dataframe\">\n",
       "  <thead>\n",
       "    <tr style=\"text-align: right;\">\n",
       "      <th></th>\n",
       "      <th>trip_id</th>\n",
       "      <th>person_id</th>\n",
       "      <th>number_of_participants</th>\n",
       "      <th>trip_mode</th>\n",
       "      <th>PlanElementIndex</th>\n",
       "      <th>ActivityElement</th>\n",
       "      <th>ActivityType</th>\n",
       "      <th>x</th>\n",
       "      <th>y</th>\n",
       "      <th>departure_time</th>\n",
       "      <th>trip_from</th>\n",
       "      <th>trip_to</th>\n",
       "      <th>geometry</th>\n",
       "      <th>index_right</th>\n",
       "      <th>objectid</th>\n",
       "      <th>taz1454</th>\n",
       "      <th>district</th>\n",
       "      <th>county</th>\n",
       "      <th>gacres</th>\n",
       "      <th>Shape__Are</th>\n",
       "      <th>Shape__Len</th>\n",
       "    </tr>\n",
       "  </thead>\n",
       "  <tbody>\n",
       "    <tr>\n",
       "      <th>202</th>\n",
       "      <td>NaN</td>\n",
       "      <td>189.0</td>\n",
       "      <td>NaN</td>\n",
       "      <td>NaN</td>\n",
       "      <td>3</td>\n",
       "      <td>activity</td>\n",
       "      <td>work</td>\n",
       "      <td>-122.396724</td>\n",
       "      <td>37.788182</td>\n",
       "      <td>17.613</td>\n",
       "      <td>62309.0</td>\n",
       "      <td>62305.0</td>\n",
       "      <td>POINT (-122.39672 37.78818)</td>\n",
       "      <td>342</td>\n",
       "      <td>343</td>\n",
       "      <td>13</td>\n",
       "      <td>1</td>\n",
       "      <td>San Francisco</td>\n",
       "      <td>42.443168</td>\n",
       "      <td>0.000011</td>\n",
       "      <td>0.013545</td>\n",
       "    </tr>\n",
       "    <tr>\n",
       "      <th>628</th>\n",
       "      <td>NaN</td>\n",
       "      <td>617.0</td>\n",
       "      <td>NaN</td>\n",
       "      <td>NaN</td>\n",
       "      <td>3</td>\n",
       "      <td>activity</td>\n",
       "      <td>work</td>\n",
       "      <td>-122.398522</td>\n",
       "      <td>37.787479</td>\n",
       "      <td>18.933</td>\n",
       "      <td>202693.0</td>\n",
       "      <td>202689.0</td>\n",
       "      <td>POINT (-122.39852 37.78748)</td>\n",
       "      <td>342</td>\n",
       "      <td>343</td>\n",
       "      <td>13</td>\n",
       "      <td>1</td>\n",
       "      <td>San Francisco</td>\n",
       "      <td>42.443168</td>\n",
       "      <td>0.000011</td>\n",
       "      <td>0.013545</td>\n",
       "    </tr>\n",
       "  </tbody>\n",
       "</table>\n",
       "</div>"
      ],
      "text/plain": [
       "     trip_id  person_id  number_of_participants trip_mode  PlanElementIndex ActivityElement ActivityType           x          y  departure_time  trip_from   trip_to                     geometry  index_right  objectid  taz1454  district         county     gacres  Shape__Are  Shape__Len\n",
       "202      NaN      189.0                     NaN       NaN                 3        activity         work -122.396724  37.788182          17.613    62309.0   62305.0  POINT (-122.39672 37.78818)          342       343       13         1  San Francisco  42.443168    0.000011    0.013545\n",
       "628      NaN      617.0                     NaN       NaN                 3        activity         work -122.398522  37.787479          18.933   202693.0  202689.0  POINT (-122.39852 37.78748)          342       343       13         1  San Francisco  42.443168    0.000011    0.013545"
      ]
     },
     "execution_count": 9,
     "metadata": {},
     "output_type": "execute_result"
    }
   ],
   "source": [
    "# getting activities within shape file\n",
    "\n",
    "# `predicate` must be one of {'covers', 'within', 'contains', 'contains_properly', 'covered_by', 'intersects', 'crosses', 'overlaps', None, 'touches'}\n",
    "geo_activities_within_area = geo_activities.sjoin(shp_df, predicate=\"within\")\n",
    "outside_activities = geo_activities.loc[~geo_activities.index.isin(geo_activities_within_area.index)]\n",
    "# calculating how many persons there are in original activities and with activities within shape file\n",
    "persons_outside_area = set(outside_activities['person_id'].unique())\n",
    "\n",
    "persons_within_area = set(geo_activities_within_area['person_id'].unique()) - persons_outside_area\n",
    "persons_total = activities['person_id'].nunique()\n",
    "\n",
    "print(f\"Activities within selected shape file: {len(geo_activities_within_area)}, total activities: {len(geo_activities)}.\")\n",
    "print(f\"Persons within selected shape file: {len(persons_within_area)}, total persons: {persons_total}\")\n",
    "\n",
    "geo_activities_within_area.head(2)"
   ]
  },
  {
   "cell_type": "code",
   "execution_count": 37,
   "metadata": {
    "ExecuteTime": {
     "end_time": "2023-12-21T16:29:55.430305Z",
     "start_time": "2023-12-21T16:29:55.031789Z"
    }
   },
   "outputs": [
    {
     "name": "stdout",
     "output_type": "stream",
     "text": [
      "Persons no plans: 75041\n",
      "HH no plans: 52716\n",
      "HH outside area: 245605, HH within area: 30178, total HH: 275783\n",
      "HH within area with plans 19563\n",
      "Selected persons: 8335\n"
     ]
    }
   ],
   "source": [
    "persons_no_plans = persons[~persons['person_id'].isin(plans['person_id'])]\n",
    "print(f\"Persons no plans: {len(persons_no_plans)}\")\n",
    "households_no_plans = persons[persons['person_id'].isin(persons_no_plans['person_id'])]['household_id'].unique()\n",
    "print(f\"HH no plans: {len(households_no_plans)}\")\n",
    "households_outside_area = persons[persons['person_id'].isin(persons_outside_area)]['household_id'].unique()\n",
    "households_within_area = households.loc[~households['household_id'].isin(households_outside_area)]\n",
    "print(f\"HH outside area: {len(households_outside_area)}, HH within area: {len(households_within_area)}, total HH: {len(households)}\")\n",
    "households_with_plans = households_within_area.loc[~households_within_area['household_id'].isin(households_no_plans)]\n",
    "print(f\"HH within area with plans {len(households_with_plans)}\")\n",
    "selected_households = households_with_plans.sample(n = 5000)\n",
    "selected_persons = persons[persons['household_id'].isin(selected_households['household_id'])]['person_id']\n",
    "print(f\"Selected persons: {len(selected_persons)}\")\n"
   ]
  },
  {
   "cell_type": "code",
   "execution_count": null,
   "metadata": {},
   "outputs": [],
   "source": [
    "# saving activities locations to shape file\n",
    "# saving geo dataframe to shape file takes time\n",
    "# this step here is for sanity check\n",
    "\n",
    "\n",
    "# df1 = geo_activities[geo_activities['person_id'].isin(persons_within_area)]\n",
    "# df2 = geo_activities[~geo_activities['person_id'].isin(persons_within_area)]\n",
    "\n",
    "# df1.to_file(filename=\"../local_files/vta-filtering-plans/activities_of_persons_with_OD_within_area_shape\", driver='ESRI Shapefile')\n",
    "# df2.to_file(filename=\"../local_files/vta-filtering-plans/activities_of_persons_with_OD_outside_area_shape\", driver='ESRI Shapefile')\n",
    "\n",
    "# # saving activities within area\n",
    "# geo_activities_within_area.to_file(filename=\"../local_files/vta-filtering-plans/activities_only_within_area_shape\", driver='ESRI Shapefile')"
   ]
  },
  {
   "cell_type": "code",
   "execution_count": 38,
   "metadata": {
    "ExecuteTime": {
     "end_time": "2023-12-21T16:30:41.360593Z",
     "start_time": "2023-12-21T16:30:41.095096Z"
    }
   },
   "outputs": [
    {
     "data": {
      "text/plain": [
       "<matplotlib.legend.Legend at 0x7f15f2ef3310>"
      ]
     },
     "execution_count": 38,
     "metadata": {},
     "output_type": "execute_result"
    },
    {
     "data": {
      "image/png": "[encoded data removed]",
      "text/plain": [
       "<Figure size 1000x500 with 1 Axes>"
      ]
     },
     "metadata": {},
     "output_type": "display_data"
    }
   ],
   "source": [
    "# sanity check\n",
    "\n",
    "_, ax = plt.subplots(1, 1, figsize=(10,5))\n",
    "\n",
    "# plans['trip_mode'].hist(ax=ax, bins=36, alpha=0.5, label=\"original plans\", orientation='horizontal')\n",
    "plans[plans['person_id'].isin(selected_persons)]['trip_mode'].hist(ax=ax, bins=36, alpha=0.5, label=\"within area plans\", orientation='horizontal')\n",
    "\n",
    "# ax.tick_params(axis='x', labelrotation=75)\n",
    "ax.legend()"
   ]
  },
  {
   "cell_type": "markdown",
   "metadata": {},
   "source": [
    "# approach #1 - downsampling"
   ]
  },
  {
   "cell_type": "code",
   "execution_count": 39,
   "metadata": {
    "ExecuteTime": {
     "end_time": "2023-12-21T16:30:47.104529Z",
     "start_time": "2023-12-21T16:30:47.017891Z"
    }
   },
   "outputs": [
    {
     "name": "stdout",
     "output_type": "stream",
     "text": [
      "there are 8335 selected persons (out of 721814)\n",
      "there are 5000 selected households (out of 275783)\n",
      "there are 70805 selected plans (out of 5723099)\n",
      "there are 2326 selected blocks (out of 109228)\n"
     ]
    }
   ],
   "source": [
    "# downsampling scenario based on selected persons\n",
    "# usually we take persons ids, then households, then take all persons within households, but this time I took only selected persons \n",
    "\n",
    "selected_persons_df = persons[persons['person_id'].isin(selected_persons)]\n",
    "print(f\"there are {len(selected_persons_df)} selected persons (out of {len(persons)})\")\n",
    "\n",
    "selected_households_ids = set(selected_persons_df['household_id'].unique())\n",
    "selected_households_df = households[households['household_id'].isin(selected_households_ids)]\n",
    "print(f\"there are {len(selected_households_df)} selected households (out of {len(households)})\")\n",
    "\n",
    "selected_plans_df = plans[plans['person_id'].isin(selected_persons)]\n",
    "print(f\"there are {len(selected_plans_df)} selected plans (out of {len(plans)})\")\n",
    "\n",
    "selected_block_ids = set(selected_households_df['block_id'])\n",
    "selected_blocks_df = blocks[blocks['block_id'].isin(selected_block_ids)]\n",
    "print(f\"there are {len(selected_blocks_df)} selected blocks (out of {len(blocks)})\")"
   ]
  },
  {
   "cell_type": "code",
   "execution_count": 40,
   "metadata": {
    "ExecuteTime": {
     "end_time": "2023-12-21T16:31:00.330620Z",
     "start_time": "2023-12-21T16:31:00.193414Z"
    },
    "jupyter": {
     "outputs_hidden": false
    }
   },
   "outputs": [
    {
     "data": {
      "text/plain": [
       "<AxesSubplot: >"
      ]
     },
     "execution_count": 40,
     "metadata": {},
     "output_type": "execute_result"
    },
    {
     "data": {
      "image/png": "[encoded data removed]",
      "text/plain": [
       "<Figure size 1500x300 with 1 Axes>"
      ]
     },
     "metadata": {},
     "output_type": "display_data"
    }
   ],
   "source": [
    "# sanity check\n",
    "\n",
    "selected_persons_df['age'].hist(bins=50, figsize=(15,3))"
   ]
  },
  {
   "cell_type": "code",
   "execution_count": 42,
   "metadata": {
    "ExecuteTime": {
     "end_time": "2023-12-21T16:45:58.393043Z",
     "start_time": "2023-12-21T16:45:56.987105Z"
    },
    "jupyter": {
     "outputs_hidden": false
    }
   },
   "outputs": [],
   "source": [
    "# saving downsampled scenario to output dir\n",
    "\n",
    "out_dir = '../beam_root/test/input/sf-light/urbansim/hh5k'\n",
    "\n",
    "Path(out_dir).mkdir(parents=True, exist_ok=True)\n",
    "\n",
    "selected_persons_df.to_csv(f'{out_dir}/persons.csv.gz', index=False, compression='gzip')\n",
    "selected_households_df.to_csv(f'{out_dir}/households.csv.gz', index=False, compression='gzip')\n",
    "selected_plans_df.to_csv(f'{out_dir}/plans.csv.gz', index=False, compression='gzip')\n",
    "selected_blocks_df.to_csv(f'{out_dir}/blocks.csv.gz', index=False, compression='gzip')"
   ]
  },
  {
   "cell_type": "markdown",
   "metadata": {},
   "source": [
    "# approach #2 - clearing modes for selected persons"
   ]
  },
  {
   "cell_type": "code",
   "execution_count": null,
   "metadata": {},
   "outputs": [],
   "source": [
    "# splitting plans into two dataframes based on selected persons IDs and clearing modes for selected persons plans\n",
    "\n",
    "plans_within = plans[plans['person_id'].isin(persons_within_area)].copy()\n",
    "plans_rest = plans[~plans['person_id'].isin(persons_within_area)].copy()\n",
    "\n",
    "# reset modes\n",
    "plans_within['trip_mode'] = np.nan\n",
    "\n",
    "# concat two dataframes back with sorting by person Id and plan element index\n",
    "plans_cleared = pd.concat([plans_within,plans_rest]).sort_values(['person_id','PlanElementIndex'])\n",
    "\n",
    "plans_within['person_id'].nunique(), plans_rest['person_id'].nunique(), plans_cleared['person_id'].nunique()"
   ]
  },
  {
   "cell_type": "code",
   "execution_count": null,
   "metadata": {},
   "outputs": [],
   "source": [
    "# check if everything apart modes are equal in old plans and changed plans\n",
    "columns = [\"trip_id\",\"person_id\",\"number_of_participants\",\"PlanElementIndex\",\"ActivityElement\",\"ActivityType\",\"x\",\"y\",\"departure_time\"]\n",
    "plans_cleared[columns].equals(plans[columns])"
   ]
  },
  {
   "cell_type": "code",
   "execution_count": null,
   "metadata": {},
   "outputs": [],
   "source": [
    "# sanity check\n",
    "\n",
    "ax = plans['trip_mode'].hist(figsize=(15,3), xrot=20, alpha=0.5, label=\"original plans\")\n",
    "plans_cleared['trip_mode'].hist(ax=ax, alpha=0.5, label=\"cleared plans\")\n",
    "ax.legend()"
   ]
  },
  {
   "cell_type": "code",
   "execution_count": null,
   "metadata": {},
   "outputs": [],
   "source": [
    "# saving changed plans to output dir\n",
    "\n",
    "out_dir = 'sampled_scenario'\n",
    "\n",
    "Path(out_dir).mkdir(parents=True, exist_ok=True)\n",
    "\n",
    "selected_households_df.to_csv(f'{out_dir}/households.csv.gz', index=False, compression='gzip')\n",
    "selected_persons_df.to_csv(f'{out_dir}/persons.csv.gz', index=False, compression='gzip')\n",
    "selected_blocks_df.to_csv(f'{out_dir}/blocks.csv.gz', index=False, compression='gzip')\n",
    "\n",
    "plans_cleared.to_csv(f'{out_dir}/plans.csv.gz', index=False, compression='gzip')"
   ]
  },
  {
   "cell_type": "markdown",
   "metadata": {},
   "source": [
    "# approach #3 remove plans\\people with only specific modes and with all OD outside the study area"
   ]
  },
  {
   "cell_type": "code",
   "execution_count": null,
   "metadata": {},
   "outputs": [],
   "source": [
    "# looking for plans for persons outside of study area \n",
    "\n",
    "plans_outside_area = plans[~plans['person_id'].isin(persons_within_area)]\n",
    "print(f\"there are {plans_outside_area['person_id'].nunique()} persons with plans outside of study area\")\n",
    "plans_outside_area.head(2)"
   ]
  },
  {
   "cell_type": "code",
   "execution_count": null,
   "metadata": {},
   "outputs": [],
   "source": [
    "# take only trips (with trip mode not NA)\n",
    "df1 = plans_outside_area[~plans_outside_area['trip_mode'].isna()]\n",
    "\n",
    "# take only plans that are not contains selected modes:\n",
    "modes_to_filter_out = set(['DRIVEALONEFREE','DRIVEALONEPAY','SHARED2FREE','SHARED2PAY','SHARED3FREE','SHARED3PAY','WALK','BIKE'])\n",
    "df2 = df1[~df1['trip_mode'].isin(modes_to_filter_out)]\n",
    "\n",
    "# take ID of persons outside area with allowed modes\n",
    "persons_outside_with_allowed_modes = set(df2['person_id'].unique())\n",
    "\n",
    "persons_within_and_outside_with_allowed_modes = set()\n",
    "persons_within_and_outside_with_allowed_modes.update(persons_within_area)\n",
    "persons_within_and_outside_with_allowed_modes.update(persons_outside_with_allowed_modes)\n",
    "\n",
    "len(persons_within_and_outside_with_allowed_modes), len(persons_outside_with_allowed_modes)"
   ]
  },
  {
   "cell_type": "code",
   "execution_count": null,
   "metadata": {},
   "outputs": [],
   "source": [
    "# filtering persons, households and blocks based on selected persons\n",
    "# usually we take persons ids, then households, then take all persons within households, but this time I took only selected persons \n",
    "\n",
    "selected_persons_df = persons[persons['person_id'].isin(persons_within_and_outside_with_allowed_modes)]\n",
    "print(f\"there are {len(selected_persons_df)} selected persons (out of {len(persons)})\")\n",
    "\n",
    "selected_households_ids = set(selected_persons_df['household_id'].unique())\n",
    "selected_households_df = households[households['household_id'].isin(selected_households_ids)]\n",
    "print(f\"there are {len(selected_households_df)} selected households (out of {len(households)})\")\n",
    "\n",
    "selected_block_ids = set(selected_households_df['block_id'])\n",
    "selected_blocks_df = blocks[blocks['block_id'].isin(selected_block_ids)]\n",
    "print(f\"there are {len(selected_blocks_df)} selected blocks (out of {len(blocks)})\")"
   ]
  },
  {
   "cell_type": "code",
   "execution_count": null,
   "metadata": {},
   "outputs": [],
   "source": [
    "# sanity check\n",
    "\n",
    "_, ax = plt.subplots(1, 1, figsize=(10,5))\n",
    "\n",
    "bins = plans['trip_mode'].nunique() * 2\n",
    "\n",
    "def plot_hist(plans_df, label):\n",
    "    plans_df['trip_mode'].hist(ax=ax, alpha=0.5, histtype=\"step\", bins=bins, linewidth=2, label=label, orientation='horizontal')\n",
    "\n",
    "plot_hist(plans, label=\"original plans\")\n",
    "plot_hist(plans[plans['person_id'].isin(persons_within_area)], label=\"within area plans\")\n",
    "plot_hist(plans_outside_area, label=\"outside area plans\")\n",
    "plot_hist(plans[plans['person_id'].isin(persons_outside_with_allowed_modes)], label=\"outside area with allowed modes plans\")\n",
    "\n",
    "ax.legend()"
   ]
  },
  {
   "cell_type": "code",
   "execution_count": null,
   "metadata": {},
   "outputs": [],
   "source": [
    "# # saving activities for all persons with OD within area and outside with allowed modes\n",
    "\n",
    "# df1 = geo_activities[geo_activities['person_id'].isin(persons_within_and_outside_with_allowed_modes)]\n",
    "# df1.to_file(filename=\"../local_files/vta-filtering-plans/plans_of_persons_with_OD_within_area_shape\", driver='ESRI Shapefile')"
   ]
  },
  {
   "cell_type": "markdown",
   "metadata": {},
   "source": [
    "# approach 3.1 just remove persons outside with only specific modes"
   ]
  },
  {
   "cell_type": "code",
   "execution_count": null,
   "metadata": {},
   "outputs": [],
   "source": [
    "# downsampling scenario based on selected persons\n",
    "\n",
    "selected_plans_df = plans[plans['person_id'].isin(persons_within_and_outside_with_allowed_modes)]\n",
    "print(f\"there are {len(selected_plans_df)} selected plans (out of {len(plans)})\")"
   ]
  },
  {
   "cell_type": "code",
   "execution_count": null,
   "metadata": {},
   "outputs": [],
   "source": [
    "# saving downsampled scenario to output dir\n",
    "\n",
    "out_dir = 'sampled_scenario__within_area_plus_outside_with_allowed_modes__with_modes'\n",
    "\n",
    "Path(out_dir).mkdir(parents=True, exist_ok=True)\n",
    "\n",
    "selected_persons_df.to_csv(f'{out_dir}/persons.csv.gz', index=False, compression='gzip')\n",
    "selected_households_df.to_csv(f'{out_dir}/households.csv.gz', index=False, compression='gzip')\n",
    "selected_plans_df.to_csv(f'{out_dir}/plans.csv.gz', index=False, compression='gzip')\n",
    "selected_blocks_df.to_csv(f'{out_dir}/blocks.csv.gz', index=False, compression='gzip')"
   ]
  },
  {
   "cell_type": "markdown",
   "metadata": {},
   "source": [
    "# approach 3.2 + clear modes for trips in study area"
   ]
  },
  {
   "cell_type": "code",
   "execution_count": null,
   "metadata": {},
   "outputs": [],
   "source": [
    "# getting trip ids for all activities within study area\n",
    "\n",
    "trips_from_activities_within_area = set(geo_activities_within_area['trip_from'].unique())\n",
    "trips_to_activities_within_area = set(geo_activities_within_area['trip_to'].unique())\n",
    "\n",
    "trips_within_area = set()\n",
    "trips_within_area.update(trips_to_activities_within_area)\n",
    "trips_within_area.update(trips_from_activities_within_area)\n",
    "print(f\"There are {len(trips_within_area)} trips within area, ({plans['trip_id'].nunique()} total plans)\")"
   ]
  },
  {
   "cell_type": "code",
   "execution_count": null,
   "metadata": {},
   "outputs": [],
   "source": [
    "# splitting plans into two dataframes based on selected trips IDs and clearing modes for selected persons plans\n",
    "\n",
    "plans_within = plans[plans['person_id'].isin(persons_within_and_outside_with_allowed_modes)]\n",
    "\n",
    "trips_within = plans_within[plans_within['trip_id'].isin(trips_within_area)].copy()\n",
    "trips_outside = plans_within[~plans_within['trip_id'].isin(trips_within_area)].copy()\n",
    "\n",
    "# reset modes\n",
    "trips_within['trip_mode'] = np.nan\n",
    "\n",
    "# concat two dataframes back with sorting by person Id and plan element index\n",
    "selected_plans_area_without_modes_df = pd.concat([trips_within, trips_outside]).sort_values(['person_id','PlanElementIndex'])[plans_columns]\n",
    "print(len(selected_plans_area_without_modes_df))\n",
    "\n",
    "selected_plans_area_without_modes_df.head(2)"
   ]
  },
  {
   "cell_type": "code",
   "execution_count": null,
   "metadata": {},
   "outputs": [],
   "source": [
    "# sanity check\n",
    "\n",
    "_, ax = plt.subplots(1, 1, figsize=(10,5))\n",
    "\n",
    "def plot_hist(plans_df, label):\n",
    "    plans_df['trip_mode'].hist(ax=ax, alpha=0.5, histtype=\"step\", bins=20, linewidth=5, label=label, orientation='horizontal')\n",
    "\n",
    "plot_hist(plans, label=\"original plans\")\n",
    "plot_hist(plans[plans['person_id'].isin(persons_within_and_outside_with_allowed_modes)], label=\"filtered plans\")\n",
    "plot_hist(selected_plans_area_without_modes_df, label=\"filtered plans with clear modes within area\")\n",
    "\n",
    "ax.legend()"
   ]
  },
  {
   "cell_type": "code",
   "execution_count": null,
   "metadata": {},
   "outputs": [],
   "source": [
    "# saving downsampled scenario to output dir\n",
    "\n",
    "# out_dir = 'sampled_scenario__within_area_plus_outside_with_allowed_modes__area_without_modes'\n",
    "out_dir = 'sampled_scenario'\n",
    "\n",
    "Path(out_dir).mkdir(parents=True, exist_ok=True)\n",
    "\n",
    "selected_persons_df.to_csv(f'{out_dir}/persons.csv.gz', index=False, compression='gzip')\n",
    "selected_households_df.to_csv(f'{out_dir}/households.csv.gz', index=False, compression='gzip')\n",
    "selected_blocks_df.to_csv(f'{out_dir}/blocks.csv.gz', index=False, compression='gzip')\n",
    "\n",
    "selected_plans_area_without_modes_df.to_csv(f'{out_dir}/plans.csv.gz', index=False, compression='gzip')"
   ]
  },
  {
   "cell_type": "markdown",
   "metadata": {},
   "source": [
    "# approach 3.3 + clear modes for persons with OD within study area"
   ]
  },
  {
   "cell_type": "code",
   "execution_count": null,
   "metadata": {},
   "outputs": [],
   "source": [
    "# splitting plans into two dataframes based on selected persons IDs and clearing modes for selected persons plans\n",
    "\n",
    "plans_within = plans[plans['person_id'].isin(persons_within_area)].copy()\n",
    "plans_rest = plans[plans['person_id'].isin(persons_outside_with_allowed_modes)].copy()\n",
    "\n",
    "# reset modes\n",
    "plans_within['trip_mode'] = np.nan\n",
    "\n",
    "# concat two dataframes back with sorting by person Id and plan element index\n",
    "selected_plans_area_without_modes_df = pd.concat([plans_within, plans_rest]).sort_values(['person_id','PlanElementIndex'])\n",
    "selected_plans_area_without_modes_df.shape"
   ]
  },
  {
   "cell_type": "code",
   "execution_count": null,
   "metadata": {},
   "outputs": [],
   "source": [
    "# saving downsampled scenario to output dir\n",
    "\n",
    "out_dir = 'sampled_scenario__v1_30pct_study_area_without_modes'\n",
    "\n",
    "Path(out_dir).mkdir(parents=True, exist_ok=True)\n",
    "\n",
    "selected_persons_df.to_csv(f'{out_dir}/persons.csv.gz', index=False, compression='gzip')\n",
    "selected_households_df.to_csv(f'{out_dir}/households.csv.gz', index=False, compression='gzip')\n",
    "selected_blocks_df.to_csv(f'{out_dir}/blocks.csv.gz', index=False, compression='gzip')\n",
    "\n",
    "selected_plans_area_without_modes_df.to_csv(f'{out_dir}/plans.csv.gz', index=False, compression='gzip')"
   ]
  },
  {
   "cell_type": "markdown",
   "metadata": {},
   "source": [
    "# approach 3.4 + clear all modes"
   ]
  },
  {
   "cell_type": "code",
   "execution_count": null,
   "metadata": {},
   "outputs": [],
   "source": [
    "# removing all modes altogether\n",
    "selected_plans_without_modes_df = plans[plans['person_id'].isin(persons_within_and_outside_with_allowed_modes)].copy()\n",
    "selected_plans_without_modes_df['trip_mode'] = np.nan"
   ]
  },
  {
   "cell_type": "code",
   "execution_count": null,
   "metadata": {},
   "outputs": [],
   "source": [
    "# saving downsampled scenario to output dir\n",
    "\n",
    "out_dir = 'sampled_scenario__v1_30pct__without_modes'\n",
    "\n",
    "Path(out_dir).mkdir(parents=True, exist_ok=True)\n",
    "\n",
    "selected_persons_df.to_csv(f'{out_dir}/persons.csv.gz', index=False, compression='gzip')\n",
    "selected_households_df.to_csv(f'{out_dir}/households.csv.gz', index=False, compression='gzip')\n",
    "selected_blocks_df.to_csv(f'{out_dir}/blocks.csv.gz', index=False, compression='gzip')\n",
    "\n",
    "selected_plans_without_modes_df.to_csv(f'{out_dir}/plans.csv.gz', index=False, compression='gzip')"
   ]
  },
  {
   "cell_type": "markdown",
   "metadata": {},
   "source": [
    "# sanity check"
   ]
  },
  {
   "cell_type": "code",
   "execution_count": null,
   "metadata": {},
   "outputs": [],
   "source": [
    "plans1 = pd.read_csv(\"sampled_scenario__within_area_plus_outside_with_allowed_modes__with_modes/plans.csv.gz\", low_memory=False)\n",
    "plans2 = pd.read_csv(\"sampled_scenario__within_area_plus_outside_with_allowed_modes__area_without_modes/plans.csv.gz\", low_memory=False)\n",
    "plans3 = pd.read_csv(\"sampled_scenario__within_area_plus_outside_with_allowed_modes__without_modes/plans.csv.gz\", low_memory=False)\n",
    "\n",
    "\n",
    "ax = plans1['trip_mode'].hist(figsize=(15,3), xrot=20, alpha=0.5, label=\"with modes\")\n",
    "plans2['trip_mode'].hist(ax=ax, alpha=0.5, label=\"area without modes\")\n",
    "plans3['trip_mode'].hist(ax=ax, alpha=0.5, label=\"no modes\")\n",
    "\n",
    "ax.legend()"
   ]
  },
  {
   "cell_type": "code",
   "execution_count": null,
   "metadata": {},
   "outputs": [],
   "source": []
  }
 ],
 "metadata": {
  "kernelspec": {
   "display_name": "Python 3 (ipykernel)",
   "language": "python",
   "name": "python3"
  },
  "language_info": {
   "codemirror_mode": {
    "name": "ipython",
    "version": 3
   },
   "file_extension": ".py",
   "mimetype": "text/x-python",
   "name": "python",
   "nbconvert_exporter": "python",
   "pygments_lexer": "ipython3",
   "version": "3.10.8"
  }
 },
 "nbformat": 4,
 "nbformat_minor": 4
}
