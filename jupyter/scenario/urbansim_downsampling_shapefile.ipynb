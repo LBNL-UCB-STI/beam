{
 "cells": [
  {
   "cell_type": "code",
   "execution_count": 38,
   "metadata": {
    "ExecuteTime": {
     "end_time": "2023-06-06T19:28:49.891385Z",
     "start_time": "2023-06-06T19:28:49.885850Z"
    },
    "tags": []
   },
   "outputs": [],
   "source": [
    "from pathlib import Path\n",
    "from pyproj import CRS, Transformer\n",
    "\n",
    "import pandas as pd\n",
    "import geopandas as gpd\n",
    "import shapely.geometry\n",
    "import matplotlib.pyplot as plt\n",
    "\n",
    "pd.set_option('display.max_rows', 500)\n",
    "pd.set_option('display.max_columns', 500)\n",
    "pd.set_option('display.width', 1000)"
   ]
  },
  {
   "cell_type": "code",
   "execution_count": 3,
   "metadata": {
    "ExecuteTime": {
     "end_time": "2023-06-06T19:28:51.573718Z",
     "start_time": "2023-06-06T19:28:50.813166Z"
    },
    "collapsed": false,
    "jupyter": {
     "outputs_hidden": false
    }
   },
   "outputs": [
    {
     "name": "stdout",
     "output_type": "stream",
     "text": [
      "Number of persons: 721814\n",
      "Number of households: 275783\n"
     ]
    }
   ],
   "source": [
    "# reading input scenario\n",
    "\n",
    "urbansim_source_dir = \"../beam_root/production/sfbay/urbansim\"\n",
    "\n",
    "persons = pd.read_csv(f\"{urbansim_source_dir}/persons.csv.gz\")\n",
    "households = pd.read_csv(f\"{urbansim_source_dir}/households.csv.gz\")\n",
    "plans = pd.read_csv(f\"{urbansim_source_dir}/plans.csv.gz\")\n",
    "blocks = pd.read_csv(f\"{urbansim_source_dir}/blocks.csv.gz\")\n",
    "\n",
    "print(f\"Number of persons: {persons.shape[0]}, number of households: {households.shape[0]}, number of unique persons in plans: {plans['person_id'].nunique()}\")"
   ]
  },
  {
   "cell_type": "code",
   "execution_count": 4,
   "metadata": {},
   "outputs": [
    {
     "data": {
      "text/html": [
       "<div>\n",
       "<style scoped>\n",
       "    .dataframe tbody tr th:only-of-type {\n",
       "        vertical-align: middle;\n",
       "    }\n",
       "\n",
       "    .dataframe tbody tr th {\n",
       "        vertical-align: top;\n",
       "    }\n",
       "\n",
       "    .dataframe thead th {\n",
       "        text-align: right;\n",
       "    }\n",
       "</style>\n",
       "<table border=\"1\" class=\"dataframe\">\n",
       "  <thead>\n",
       "    <tr style=\"text-align: right;\">\n",
       "      <th></th>\n",
       "      <th>person_id</th>\n",
       "      <th>ActivityType</th>\n",
       "      <th>x</th>\n",
       "      <th>y</th>\n",
       "    </tr>\n",
       "  </thead>\n",
       "  <tbody>\n",
       "    <tr>\n",
       "      <th>0</th>\n",
       "      <td>4.0</td>\n",
       "      <td>Home</td>\n",
       "      <td>-122.227937</td>\n",
       "      <td>37.854097</td>\n",
       "    </tr>\n",
       "    <tr>\n",
       "      <th>2</th>\n",
       "      <td>4.0</td>\n",
       "      <td>othdiscr</td>\n",
       "      <td>-122.242641</td>\n",
       "      <td>37.793755</td>\n",
       "    </tr>\n",
       "  </tbody>\n",
       "</table>\n",
       "</div>"
      ],
      "text/plain": [
       "   person_id ActivityType           x          y\n",
       "0        4.0         Home -122.227937  37.854097\n",
       "2        4.0     othdiscr -122.242641  37.793755"
      ]
     },
     "metadata": {},
     "output_type": "display_data"
    },
    {
     "data": {
      "text/html": [
       "<div>\n",
       "<style scoped>\n",
       "    .dataframe tbody tr th:only-of-type {\n",
       "        vertical-align: middle;\n",
       "    }\n",
       "\n",
       "    .dataframe tbody tr th {\n",
       "        vertical-align: top;\n",
       "    }\n",
       "\n",
       "    .dataframe thead th {\n",
       "        text-align: right;\n",
       "    }\n",
       "</style>\n",
       "<table border=\"1\" class=\"dataframe\">\n",
       "  <thead>\n",
       "    <tr style=\"text-align: right;\">\n",
       "      <th></th>\n",
       "      <th>0</th>\n",
       "    </tr>\n",
       "  </thead>\n",
       "  <tbody>\n",
       "    <tr>\n",
       "      <th>person_id</th>\n",
       "      <td>0</td>\n",
       "    </tr>\n",
       "    <tr>\n",
       "      <th>ActivityType</th>\n",
       "      <td>0</td>\n",
       "    </tr>\n",
       "    <tr>\n",
       "      <th>x</th>\n",
       "      <td>0</td>\n",
       "    </tr>\n",
       "    <tr>\n",
       "      <th>y</th>\n",
       "      <td>0</td>\n",
       "    </tr>\n",
       "  </tbody>\n",
       "</table>\n",
       "</div>"
      ],
      "text/plain": [
       "              0\n",
       "person_id     0\n",
       "ActivityType  0\n",
       "x             0\n",
       "y             0"
      ]
     },
     "metadata": {},
     "output_type": "display_data"
    }
   ],
   "source": [
    "# getting activities\n",
    "\n",
    "activities = plans[plans['ActivityElement'] == 'activity'][['person_id','ActivityType','x','y']]\n",
    "display(activities.head(2))\n",
    "\n",
    "# sanity check\n",
    "display(activities.isna().sum().to_frame())"
   ]
  },
  {
   "cell_type": "code",
   "execution_count": 29,
   "metadata": {},
   "outputs": [
    {
     "data": {
      "text/html": [
       "<div>\n",
       "<style scoped>\n",
       "    .dataframe tbody tr th:only-of-type {\n",
       "        vertical-align: middle;\n",
       "    }\n",
       "\n",
       "    .dataframe tbody tr th {\n",
       "        vertical-align: top;\n",
       "    }\n",
       "\n",
       "    .dataframe thead th {\n",
       "        text-align: right;\n",
       "    }\n",
       "</style>\n",
       "<table border=\"1\" class=\"dataframe\">\n",
       "  <thead>\n",
       "    <tr style=\"text-align: right;\">\n",
       "      <th></th>\n",
       "      <th>OBJECTID</th>\n",
       "      <th>SUPERD</th>\n",
       "      <th>TAZ1454</th>\n",
       "      <th>Shape__Are</th>\n",
       "      <th>Shape__Len</th>\n",
       "      <th>geometry</th>\n",
       "    </tr>\n",
       "  </thead>\n",
       "  <tbody>\n",
       "    <tr>\n",
       "      <th>794</th>\n",
       "      <td>795</td>\n",
       "      <td>11</td>\n",
       "      <td>547</td>\n",
       "      <td>1.924186e+06</td>\n",
       "      <td>6068.548124</td>\n",
       "      <td>POLYGON ((-121.89867 37.35264, -121.90027 37.3...</td>\n",
       "    </tr>\n",
       "    <tr>\n",
       "      <th>795</th>\n",
       "      <td>796</td>\n",
       "      <td>11</td>\n",
       "      <td>542</td>\n",
       "      <td>1.018191e+06</td>\n",
       "      <td>4120.214275</td>\n",
       "      <td>POLYGON ((-121.92197 37.34604, -121.91957 37.3...</td>\n",
       "    </tr>\n",
       "  </tbody>\n",
       "</table>\n",
       "</div>"
      ],
      "text/plain": [
       "     OBJECTID  SUPERD  TAZ1454    Shape__Are   Shape__Len  \\\n",
       "794       795      11      547  1.924186e+06  6068.548124   \n",
       "795       796      11      542  1.018191e+06  4120.214275   \n",
       "\n",
       "                                              geometry  \n",
       "794  POLYGON ((-121.89867 37.35264, -121.90027 37.3...  \n",
       "795  POLYGON ((-121.92197 37.34604, -121.91957 37.3...  "
      ]
     },
     "metadata": {},
     "output_type": "display_data"
    },
    {
     "name": "stdout",
     "output_type": "stream",
     "text": [
      "Selected districts has: 368 rows, full shape file has 1454 rows.\n"
     ]
    }
   ],
   "source": [
    "# reading the shp file and converting it to activities `x` and `y` CRS\n",
    "\n",
    "shape_file_path = \"../local_files/vta-filtering-plans/MTC-1454-TAZ.zip\"\n",
    "selected_districts = set([8, 9, 10, 11, 12, 13, 14])\n",
    "\n",
    "# reading the shape file\n",
    "shp_df_wrong_crs = gpd.read_file(shape_file_path)\n",
    "\n",
    "# converting the shapefile to required CRS\n",
    "shp_df_full = shp_df_wrong_crs.to_crs(4326)\n",
    "\n",
    "shp_df = shp_df_full[shp_df_full['SUPERD'].isin(selected_districts)]\n",
    "display(shp_df.head(2))\n",
    "print(f\"Selected districts has: {len(shp_df)} rows, full shape file has {len(shp_df_full)} rows.\")"
   ]
  },
  {
   "cell_type": "code",
   "execution_count": 30,
   "metadata": {},
   "outputs": [
    {
     "data": {
      "text/plain": [
       "<Geographic 2D CRS: EPSG:4326>\n",
       "Name: WGS 84\n",
       "Axis Info [ellipsoidal]:\n",
       "- Lat[north]: Geodetic latitude (degree)\n",
       "- Lon[east]: Geodetic longitude (degree)\n",
       "Area of Use:\n",
       "- name: World.\n",
       "- bounds: (-180.0, -90.0, 180.0, 90.0)\n",
       "Datum: World Geodetic System 1984 ensemble\n",
       "- Ellipsoid: WGS 84\n",
       "- Prime Meridian: Greenwich"
      ]
     },
     "execution_count": 30,
     "metadata": {},
     "output_type": "execute_result"
    }
   ],
   "source": [
    "# getting CRS of the shp file\n",
    "\n",
    "shp_df.crs"
   ]
  },
  {
   "cell_type": "code",
   "execution_count": 31,
   "metadata": {},
   "outputs": [],
   "source": [
    "# saving filtered-out shapefile dataframe to files (by folder path)\n",
    "shp_df.to_file(\"../local_files/vta-filtering-plans/MTC-1454-TAZ-selected-districts\")"
   ]
  },
  {
   "cell_type": "code",
   "execution_count": 32,
   "metadata": {},
   "outputs": [
    {
     "data": {
      "text/html": [
       "<div>\n",
       "<style scoped>\n",
       "    .dataframe tbody tr th:only-of-type {\n",
       "        vertical-align: middle;\n",
       "    }\n",
       "\n",
       "    .dataframe tbody tr th {\n",
       "        vertical-align: top;\n",
       "    }\n",
       "\n",
       "    .dataframe thead th {\n",
       "        text-align: right;\n",
       "    }\n",
       "</style>\n",
       "<table border=\"1\" class=\"dataframe\">\n",
       "  <thead>\n",
       "    <tr style=\"text-align: right;\">\n",
       "      <th></th>\n",
       "      <th>person_id</th>\n",
       "      <th>ActivityType</th>\n",
       "      <th>geometry</th>\n",
       "    </tr>\n",
       "  </thead>\n",
       "  <tbody>\n",
       "    <tr>\n",
       "      <th>0</th>\n",
       "      <td>4.0</td>\n",
       "      <td>Home</td>\n",
       "      <td>POINT (-122.22794 37.85410)</td>\n",
       "    </tr>\n",
       "    <tr>\n",
       "      <th>2</th>\n",
       "      <td>4.0</td>\n",
       "      <td>othdiscr</td>\n",
       "      <td>POINT (-122.24264 37.79376)</td>\n",
       "    </tr>\n",
       "  </tbody>\n",
       "</table>\n",
       "</div>"
      ],
      "text/plain": [
       "   person_id ActivityType                     geometry\n",
       "0        4.0         Home  POINT (-122.22794 37.85410)\n",
       "2        4.0     othdiscr  POINT (-122.24264 37.79376)"
      ]
     },
     "execution_count": 32,
     "metadata": {},
     "output_type": "execute_result"
    }
   ],
   "source": [
    "# getting geo_activities dataframe with CRS of the SHP file\n",
    "\n",
    "points = gpd.points_from_xy(activities[\"x\"], activities[\"y\"], crs=\"EPSG:4326\")\n",
    "geo_activities = gpd.GeoDataFrame(activities, geometry=points)[['person_id','ActivityType', 'geometry']]\n",
    "geo_activities.head(2)"
   ]
  },
  {
   "cell_type": "code",
   "execution_count": 24,
   "metadata": {},
   "outputs": [
    {
     "name": "stderr",
     "output_type": "stream",
     "text": [
      "/tmp/ipykernel_8752/4031393213.py:1: UserWarning: Column names longer than 10 characters will be truncated when saved to ESRI Shapefile.\n",
      "  geo_activities.to_file(filename=\"../local_files/vta-filtering-plans/activities_shape.zip\", driver='ESRI Shapefile')\n"
     ]
    }
   ],
   "source": [
    "# saving activities locations to shape file\n",
    "\n",
    "geo_activities.to_file(filename=\"../local_files/vta-filtering-plans/activities_shape.zip\", driver='ESRI Shapefile')"
   ]
  },
  {
   "cell_type": "code",
   "execution_count": 33,
   "metadata": {},
   "outputs": [
    {
     "data": {
      "text/html": [
       "<div>\n",
       "<style scoped>\n",
       "    .dataframe tbody tr th:only-of-type {\n",
       "        vertical-align: middle;\n",
       "    }\n",
       "\n",
       "    .dataframe tbody tr th {\n",
       "        vertical-align: top;\n",
       "    }\n",
       "\n",
       "    .dataframe thead th {\n",
       "        text-align: right;\n",
       "    }\n",
       "</style>\n",
       "<table border=\"1\" class=\"dataframe\">\n",
       "  <thead>\n",
       "    <tr style=\"text-align: right;\">\n",
       "      <th></th>\n",
       "      <th>person_id</th>\n",
       "      <th>ActivityType</th>\n",
       "      <th>geometry</th>\n",
       "      <th>index_right</th>\n",
       "      <th>OBJECTID</th>\n",
       "      <th>SUPERD</th>\n",
       "      <th>TAZ1454</th>\n",
       "      <th>Shape__Are</th>\n",
       "      <th>Shape__Len</th>\n",
       "    </tr>\n",
       "  </thead>\n",
       "  <tbody>\n",
       "    <tr>\n",
       "      <th>38</th>\n",
       "      <td>115.0</td>\n",
       "      <td>school</td>\n",
       "      <td>POINT (-121.85667 37.40081)</td>\n",
       "      <td>912</td>\n",
       "      <td>913</td>\n",
       "      <td>12</td>\n",
       "      <td>626</td>\n",
       "      <td>1.437880e+06</td>\n",
       "      <td>5875.356905</td>\n",
       "    </tr>\n",
       "    <tr>\n",
       "      <th>174</th>\n",
       "      <td>172.0</td>\n",
       "      <td>school</td>\n",
       "      <td>POINT (-121.85347 37.40087)</td>\n",
       "      <td>912</td>\n",
       "      <td>913</td>\n",
       "      <td>12</td>\n",
       "      <td>626</td>\n",
       "      <td>1.437880e+06</td>\n",
       "      <td>5875.356905</td>\n",
       "    </tr>\n",
       "  </tbody>\n",
       "</table>\n",
       "</div>"
      ],
      "text/plain": [
       "     person_id ActivityType                     geometry  index_right  \\\n",
       "38       115.0       school  POINT (-121.85667 37.40081)          912   \n",
       "174      172.0       school  POINT (-121.85347 37.40087)          912   \n",
       "\n",
       "     OBJECTID  SUPERD  TAZ1454    Shape__Are   Shape__Len  \n",
       "38        913      12      626  1.437880e+06  5875.356905  \n",
       "174       913      12      626  1.437880e+06  5875.356905  "
      ]
     },
     "execution_count": 33,
     "metadata": {},
     "output_type": "execute_result"
    }
   ],
   "source": [
    "# getting activities within shape file\n",
    "\n",
    "# `predicate` must be one of {'covers', 'within', 'contains', 'contains_properly', 'covered_by', 'intersects', 'crosses', 'overlaps', None, 'touches'}\n",
    "geo_activities_joined = geo_activities.sjoin(shp_df, predicate=\"within\")\n",
    "geo_activities_joined.head(2)"
   ]
  },
  {
   "cell_type": "code",
   "execution_count": 34,
   "metadata": {},
   "outputs": [
    {
     "data": {
      "text/plain": [
       "(188268, 644216, 'the delta is -455948')"
      ]
     },
     "execution_count": 34,
     "metadata": {},
     "output_type": "execute_result"
    }
   ],
   "source": [
    "# calculating how many persons there are in original activities and with activities within shape file\n",
    "\n",
    "persons_joined = geo_activities_joined['person_id'].nunique()\n",
    "persons_original = activities['person_id'].nunique()\n",
    "\n",
    "persons_joined, persons_original, f\"the delta is {persons_joined - persons_original}\""
   ]
  },
  {
   "cell_type": "code",
   "execution_count": 36,
   "metadata": {},
   "outputs": [
    {
     "name": "stdout",
     "output_type": "stream",
     "text": [
      "there are 188268 persons with activities within the shape file area\n"
     ]
    }
   ],
   "source": [
    "# getting selected persons IDs\n",
    "\n",
    "persons_ids_within_shape = set(geo_activities_joined['person_id'].unique())\n",
    "print(f\"there are {len(persons_ids_within_shape)} persons with activities within the shape file area\")"
   ]
  },
  {
   "cell_type": "code",
   "execution_count": 47,
   "metadata": {},
   "outputs": [
    {
     "name": "stdout",
     "output_type": "stream",
     "text": [
      "there are 188268 selected persons (out of 721814)\n",
      "there are 82420 selected households (out of 275783)\n",
      "there are 1705784 selected plans (out of 5667836)\n",
      "there are 21850 selected blocks (out of 109228)\n"
     ]
    }
   ],
   "source": [
    "# downsampling scenario based on selected persons\n",
    "# usually we take persons ids, then households, then take all persons within households, but this time I took only selected persons \n",
    "\n",
    "selected_persons_df = persons[persons['person_id'].isin(persons_ids_within_shape)]\n",
    "print(f\"there are {len(selected_persons_df)} selected persons (out of {len(persons)})\")\n",
    "\n",
    "selected_households_ids = set(selected_persons_df['household_id'].unique())\n",
    "selected_households_df = households[households['household_id'].isin(selected_households_ids)]\n",
    "print(f\"there are {len(selected_households_df)} selected households (out of {len(households)})\")\n",
    "\n",
    "selected_plans_df = plans[plans['person_id'].isin(persons_ids_within_shape)]\n",
    "print(f\"there are {len(selected_plans_df)} selected plans (out of {len(plans)})\")\n",
    "\n",
    "selected_block_ids = set(selected_households_df['block_id'])\n",
    "selected_blocks_df = blocks[blocks['block_id'].isin(selected_block_ids)]\n",
    "print(f\"there are {len(selected_blocks_df)} selected blocks (out of {len(blocks)})\")"
   ]
  },
  {
   "cell_type": "code",
   "execution_count": 50,
   "metadata": {
    "ExecuteTime": {
     "end_time": "2023-06-06T19:29:03.928116Z",
     "start_time": "2023-06-06T19:29:03.793439Z"
    },
    "collapsed": false,
    "jupyter": {
     "outputs_hidden": false
    }
   },
   "outputs": [
    {
     "data": {
      "text/plain": [
       "<AxesSubplot: >"
      ]
     },
     "execution_count": 50,
     "metadata": {},
     "output_type": "execute_result"
    },
    {
     "data": {
      "image/png": "[encoded data removed]",
      "text/plain": [
       "<Figure size 1500x300 with 1 Axes>"
      ]
     },
     "metadata": {},
     "output_type": "display_data"
    }
   ],
   "source": [
    "# sanity check\n",
    "\n",
    "selected_persons_df['age'].hist(bins=50, figsize=(15,3))"
   ]
  },
  {
   "cell_type": "code",
   "execution_count": 51,
   "metadata": {
    "ExecuteTime": {
     "end_time": "2023-06-06T19:29:12.787483Z",
     "start_time": "2023-06-06T19:29:07.356729Z"
    },
    "collapsed": false,
    "jupyter": {
     "outputs_hidden": false
    }
   },
   "outputs": [],
   "source": [
    "# saving downsampled scenario to output dir\n",
    "\n",
    "out_dir = 'sampled_scenario'\n",
    "\n",
    "Path(out_dir).mkdir(parents=True, exist_ok=True)\n",
    "\n",
    "selected_persons_df.to_csv(f'{out_dir}/persons.csv.gz', index=False, compression='gzip')\n",
    "selected_households_df.to_csv(f'{out_dir}/households.csv.gz', index=False, compression='gzip')\n",
    "selected_plans_df.to_csv(f'{out_dir}/plans.csv.gz', index=False, compression='gzip')\n",
    "selected_blocks_df.to_csv(f'{out_dir}/blocks.csv.gz', index=False, compression='gzip')"
   ]
  },
  {
   "cell_type": "code",
   "execution_count": null,
   "metadata": {},
   "outputs": [],
   "source": []
  }
 ],
 "metadata": {
  "kernelspec": {
   "display_name": "Python 3 (ipykernel)",
   "language": "python",
   "name": "python3"
  },
  "language_info": {
   "codemirror_mode": {
    "name": "ipython",
    "version": 3
   },
   "file_extension": ".py",
   "mimetype": "text/x-python",
   "name": "python",
   "nbconvert_exporter": "python",
   "pygments_lexer": "ipython3",
   "version": "3.10.8"
  }
 },
 "nbformat": 4,
 "nbformat_minor": 4
}
