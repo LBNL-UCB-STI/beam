{
 "cells": [
  {
   "cell_type": "code",
   "execution_count": 1,
   "id": "a633690c-4295-4d5d-ada7-86110d670106",
   "metadata": {},
   "outputs": [],
   "source": [
    "import pandas as pd\n",
    "import numpy as np\n",
    "import matplotlib.pyplot as plt\n",
    "\n",
    "pd.set_option('display.max_rows', 500)\n",
    "pd.set_option('display.max_columns', 500)\n",
    "pd.set_option('display.width', 1000)"
   ]
  },
  {
   "cell_type": "code",
   "execution_count": 21,
   "id": "527b2c92-d2c2-445f-9aa1-870838b5c696",
   "metadata": {},
   "outputs": [
    {
     "data": {
      "text/html": [
       "<div>\n",
       "<style scoped>\n",
       "    .dataframe tbody tr th:only-of-type {\n",
       "        vertical-align: middle;\n",
       "    }\n",
       "\n",
       "    .dataframe tbody tr th {\n",
       "        vertical-align: top;\n",
       "    }\n",
       "\n",
       "    .dataframe thead th {\n",
       "        text-align: right;\n",
       "    }\n",
       "</style>\n",
       "<table border=\"1\" class=\"dataframe\">\n",
       "  <thead>\n",
       "    <tr style=\"text-align: right;\">\n",
       "      <th></th>\n",
       "      <th>trip_id</th>\n",
       "      <th>person_id</th>\n",
       "      <th>PlanElementIndex</th>\n",
       "      <th>ActivityElement</th>\n",
       "      <th>trip_mode</th>\n",
       "      <th>ActivityType</th>\n",
       "      <th>x</th>\n",
       "      <th>y</th>\n",
       "      <th>departure_time</th>\n",
       "    </tr>\n",
       "  </thead>\n",
       "  <tbody>\n",
       "    <tr>\n",
       "      <th>0</th>\n",
       "      <td>NaN</td>\n",
       "      <td>1603</td>\n",
       "      <td>1</td>\n",
       "      <td>activity</td>\n",
       "      <td>NaN</td>\n",
       "      <td>Home</td>\n",
       "      <td>-73.965628</td>\n",
       "      <td>40.652615</td>\n",
       "      <td>19.744722</td>\n",
       "    </tr>\n",
       "    <tr>\n",
       "      <th>1</th>\n",
       "      <td>NaN</td>\n",
       "      <td>1603</td>\n",
       "      <td>2</td>\n",
       "      <td>leg</td>\n",
       "      <td>NaN</td>\n",
       "      <td>NaN</td>\n",
       "      <td>NaN</td>\n",
       "      <td>NaN</td>\n",
       "      <td>NaN</td>\n",
       "    </tr>\n",
       "    <tr>\n",
       "      <th>2</th>\n",
       "      <td>NaN</td>\n",
       "      <td>1603</td>\n",
       "      <td>3</td>\n",
       "      <td>activity</td>\n",
       "      <td>NaN</td>\n",
       "      <td>Work</td>\n",
       "      <td>-73.881562</td>\n",
       "      <td>40.663945</td>\n",
       "      <td>23.097983</td>\n",
       "    </tr>\n",
       "    <tr>\n",
       "      <th>3</th>\n",
       "      <td>NaN</td>\n",
       "      <td>1603</td>\n",
       "      <td>4</td>\n",
       "      <td>leg</td>\n",
       "      <td>NaN</td>\n",
       "      <td>NaN</td>\n",
       "      <td>NaN</td>\n",
       "      <td>NaN</td>\n",
       "      <td>NaN</td>\n",
       "    </tr>\n",
       "    <tr>\n",
       "      <th>4</th>\n",
       "      <td>NaN</td>\n",
       "      <td>1603</td>\n",
       "      <td>5</td>\n",
       "      <td>activity</td>\n",
       "      <td>NaN</td>\n",
       "      <td>Home</td>\n",
       "      <td>-73.965628</td>\n",
       "      <td>40.652615</td>\n",
       "      <td>NaN</td>\n",
       "    </tr>\n",
       "  </tbody>\n",
       "</table>\n",
       "</div>"
      ],
      "text/plain": [
       "   trip_id  person_id  PlanElementIndex ActivityElement  trip_mode ActivityType          x          y  departure_time\n",
       "0      NaN       1603                 1        activity        NaN         Home -73.965628  40.652615       19.744722\n",
       "1      NaN       1603                 2             leg        NaN          NaN        NaN        NaN             NaN\n",
       "2      NaN       1603                 3        activity        NaN         Work -73.881562  40.663945       23.097983\n",
       "3      NaN       1603                 4             leg        NaN          NaN        NaN        NaN             NaN\n",
       "4      NaN       1603                 5        activity        NaN         Home -73.965628  40.652615             NaN"
      ]
     },
     "execution_count": 21,
     "metadata": {},
     "output_type": "execute_result"
    }
   ],
   "source": [
    "## plans with persons with walk transit legs only - reading\n",
    "\n",
    "plans = pd.read_csv(\"../../../beam-production/production/newyork/urbansim_v2/13122k-NYC-all-ages-14k-sample/plans.csv.gz\")\n",
    "plans.head()"
   ]
  },
  {
   "cell_type": "code",
   "execution_count": 23,
   "id": "6002aa68-f5d6-42d4-b587-51872d261b92",
   "metadata": {},
   "outputs": [
    {
     "data": {
      "text/plain": [
       "('all: 14362', 'walk transit persons: 0', 'the rest: 14362')"
      ]
     },
     "execution_count": 23,
     "metadata": {},
     "output_type": "execute_result"
    }
   ],
   "source": [
    "## plans with persons with walk transit legs only - getting persons\n",
    "\n",
    "all_persons = set(plans['person_id'].unique())\n",
    "walk_transit_persons = set(plans[plans['trip_mode'] == 'walk_transit']['person_id'].unique())\n",
    "the_rest_persons = all_persons - walk_transit_persons\n",
    "f\"all: {len(all_persons)}\", f\"walk transit persons: {len(walk_transit_persons)}\", f\"the rest: {len(the_rest_persons)}\""
   ]
  },
  {
   "cell_type": "code",
   "execution_count": 25,
   "id": "c20b4cd8-c0f0-446a-b21b-7098f4ba1114",
   "metadata": {},
   "outputs": [
    {
     "name": "stdout",
     "output_type": "stream",
     "text": [
      "(0, 9) (14362, 9)\n"
     ]
    },
    {
     "data": {
      "text/html": [
       "<div>\n",
       "<style scoped>\n",
       "    .dataframe tbody tr th:only-of-type {\n",
       "        vertical-align: middle;\n",
       "    }\n",
       "\n",
       "    .dataframe tbody tr th {\n",
       "        vertical-align: top;\n",
       "    }\n",
       "\n",
       "    .dataframe thead th {\n",
       "        text-align: right;\n",
       "    }\n",
       "</style>\n",
       "<table border=\"1\" class=\"dataframe\">\n",
       "  <thead>\n",
       "    <tr style=\"text-align: right;\">\n",
       "      <th></th>\n",
       "      <th>trip_id</th>\n",
       "      <th>person_id</th>\n",
       "      <th>PlanElementIndex</th>\n",
       "      <th>ActivityElement</th>\n",
       "      <th>trip_mode</th>\n",
       "      <th>ActivityType</th>\n",
       "      <th>x</th>\n",
       "      <th>y</th>\n",
       "      <th>departure_time</th>\n",
       "    </tr>\n",
       "  </thead>\n",
       "  <tbody>\n",
       "    <tr>\n",
       "      <th>0</th>\n",
       "      <td>NaN</td>\n",
       "      <td>1594</td>\n",
       "      <td>1</td>\n",
       "      <td>activity</td>\n",
       "      <td>NaN</td>\n",
       "      <td>Home</td>\n",
       "      <td>-73.965628</td>\n",
       "      <td>40.652615</td>\n",
       "      <td>-inf</td>\n",
       "    </tr>\n",
       "    <tr>\n",
       "      <th>1</th>\n",
       "      <td>NaN</td>\n",
       "      <td>1595</td>\n",
       "      <td>1</td>\n",
       "      <td>activity</td>\n",
       "      <td>NaN</td>\n",
       "      <td>Home</td>\n",
       "      <td>-73.965628</td>\n",
       "      <td>40.652615</td>\n",
       "      <td>-inf</td>\n",
       "    </tr>\n",
       "    <tr>\n",
       "      <th>2</th>\n",
       "      <td>NaN</td>\n",
       "      <td>1596</td>\n",
       "      <td>1</td>\n",
       "      <td>activity</td>\n",
       "      <td>NaN</td>\n",
       "      <td>Home</td>\n",
       "      <td>-73.965628</td>\n",
       "      <td>40.652615</td>\n",
       "      <td>-inf</td>\n",
       "    </tr>\n",
       "    <tr>\n",
       "      <th>3</th>\n",
       "      <td>NaN</td>\n",
       "      <td>1597</td>\n",
       "      <td>1</td>\n",
       "      <td>activity</td>\n",
       "      <td>NaN</td>\n",
       "      <td>Home</td>\n",
       "      <td>-73.965628</td>\n",
       "      <td>40.652615</td>\n",
       "      <td>-inf</td>\n",
       "    </tr>\n",
       "    <tr>\n",
       "      <th>4</th>\n",
       "      <td>NaN</td>\n",
       "      <td>1598</td>\n",
       "      <td>1</td>\n",
       "      <td>activity</td>\n",
       "      <td>NaN</td>\n",
       "      <td>Home</td>\n",
       "      <td>-73.965628</td>\n",
       "      <td>40.652615</td>\n",
       "      <td>-inf</td>\n",
       "    </tr>\n",
       "    <tr>\n",
       "      <th>...</th>\n",
       "      <td>...</td>\n",
       "      <td>...</td>\n",
       "      <td>...</td>\n",
       "      <td>...</td>\n",
       "      <td>...</td>\n",
       "      <td>...</td>\n",
       "      <td>...</td>\n",
       "      <td>...</td>\n",
       "      <td>...</td>\n",
       "    </tr>\n",
       "    <tr>\n",
       "      <th>14357</th>\n",
       "      <td>NaN</td>\n",
       "      <td>14360060</td>\n",
       "      <td>1</td>\n",
       "      <td>activity</td>\n",
       "      <td>NaN</td>\n",
       "      <td>Home</td>\n",
       "      <td>-73.905954</td>\n",
       "      <td>40.719833</td>\n",
       "      <td>-inf</td>\n",
       "    </tr>\n",
       "    <tr>\n",
       "      <th>14358</th>\n",
       "      <td>NaN</td>\n",
       "      <td>14360061</td>\n",
       "      <td>1</td>\n",
       "      <td>activity</td>\n",
       "      <td>NaN</td>\n",
       "      <td>Home</td>\n",
       "      <td>-73.905954</td>\n",
       "      <td>40.719833</td>\n",
       "      <td>-inf</td>\n",
       "    </tr>\n",
       "    <tr>\n",
       "      <th>14359</th>\n",
       "      <td>NaN</td>\n",
       "      <td>14360062</td>\n",
       "      <td>1</td>\n",
       "      <td>activity</td>\n",
       "      <td>NaN</td>\n",
       "      <td>Home</td>\n",
       "      <td>-73.905954</td>\n",
       "      <td>40.719833</td>\n",
       "      <td>-inf</td>\n",
       "    </tr>\n",
       "    <tr>\n",
       "      <th>14360</th>\n",
       "      <td>NaN</td>\n",
       "      <td>14360063</td>\n",
       "      <td>1</td>\n",
       "      <td>activity</td>\n",
       "      <td>NaN</td>\n",
       "      <td>Home</td>\n",
       "      <td>-73.905954</td>\n",
       "      <td>40.719833</td>\n",
       "      <td>-inf</td>\n",
       "    </tr>\n",
       "    <tr>\n",
       "      <th>14361</th>\n",
       "      <td>NaN</td>\n",
       "      <td>14363763</td>\n",
       "      <td>1</td>\n",
       "      <td>activity</td>\n",
       "      <td>NaN</td>\n",
       "      <td>Home</td>\n",
       "      <td>-73.964990</td>\n",
       "      <td>40.692303</td>\n",
       "      <td>-inf</td>\n",
       "    </tr>\n",
       "  </tbody>\n",
       "</table>\n",
       "<p>14362 rows × 9 columns</p>\n",
       "</div>"
      ],
      "text/plain": [
       "       trip_id  person_id  PlanElementIndex ActivityElement  trip_mode ActivityType          x          y  departure_time\n",
       "0          NaN       1594                 1        activity        NaN         Home -73.965628  40.652615            -inf\n",
       "1          NaN       1595                 1        activity        NaN         Home -73.965628  40.652615            -inf\n",
       "2          NaN       1596                 1        activity        NaN         Home -73.965628  40.652615            -inf\n",
       "3          NaN       1597                 1        activity        NaN         Home -73.965628  40.652615            -inf\n",
       "4          NaN       1598                 1        activity        NaN         Home -73.965628  40.652615            -inf\n",
       "...        ...        ...               ...             ...        ...          ...        ...        ...             ...\n",
       "14357      NaN   14360060                 1        activity        NaN         Home -73.905954  40.719833            -inf\n",
       "14358      NaN   14360061                 1        activity        NaN         Home -73.905954  40.719833            -inf\n",
       "14359      NaN   14360062                 1        activity        NaN         Home -73.905954  40.719833            -inf\n",
       "14360      NaN   14360063                 1        activity        NaN         Home -73.905954  40.719833            -inf\n",
       "14361      NaN   14363763                 1        activity        NaN         Home -73.964990  40.692303            -inf\n",
       "\n",
       "[14362 rows x 9 columns]"
      ]
     },
     "execution_count": 25,
     "metadata": {},
     "output_type": "execute_result"
    }
   ],
   "source": [
    "## plans with persons with walk transit legs only - resulting DF\n",
    "\n",
    "plans_p1 = plans[plans['person_id'].isin(walk_transit_persons)]\n",
    "plans_p2 = plans[(plans['person_id'].isin(the_rest_persons)) & (plans['ActivityType'] == 'Home')]\n",
    "plans_p2 = plans_p2.groupby('person_id').first().reset_index().copy()\n",
    "\n",
    "plans_p2['departure_time'] = -np.inf\n",
    "print(plans_p1.shape, plans_p2.shape)\n",
    "\n",
    "plans_joined = pd.concat([plans_p1, plans_p2])\n",
    "plans_joined"
   ]
  },
  {
   "cell_type": "code",
   "execution_count": 26,
   "id": "2c0cd6ed-7c2e-45dd-982f-cf94d47b3d76",
   "metadata": {},
   "outputs": [
    {
     "data": {
      "text/plain": [
       "<matplotlib.legend.Legend at 0x7fc056807760>"
      ]
     },
     "execution_count": 26,
     "metadata": {},
     "output_type": "execute_result"
    },
    {
     "data": {
      "image/png": "[encoded data removed]",
      "text/plain": [
       "<Figure size 1080x360 with 1 Axes>"
      ]
     },
     "metadata": {
      "needs_background": "light"
     },
     "output_type": "display_data"
    }
   ],
   "source": [
    "## plans with persons with walk transit legs only - checking mode split\n",
    "\n",
    "hists = [plans['trip_mode'].dropna(), plans_joined['trip_mode'].dropna()]\n",
    "labels = ['original plans', 'walk transit plans']\n",
    "_, ax = plt.subplots(figsize=(15,5))\n",
    "ax.hist(hists, label=labels)\n",
    "ax.legend()"
   ]
  },
  {
   "cell_type": "code",
   "execution_count": 8,
   "id": "d298c0df-947d-4c62-895b-8c37b552153a",
   "metadata": {},
   "outputs": [
    {
     "data": {
      "text/html": [
       "<div>\n",
       "<style scoped>\n",
       "    .dataframe tbody tr th:only-of-type {\n",
       "        vertical-align: middle;\n",
       "    }\n",
       "\n",
       "    .dataframe tbody tr th {\n",
       "        vertical-align: top;\n",
       "    }\n",
       "\n",
       "    .dataframe thead th {\n",
       "        text-align: right;\n",
       "    }\n",
       "</style>\n",
       "<table border=\"1\" class=\"dataframe\">\n",
       "  <thead>\n",
       "    <tr style=\"text-align: right;\">\n",
       "      <th></th>\n",
       "      <th>trip_id</th>\n",
       "      <th>person_id</th>\n",
       "      <th>PlanElementIndex</th>\n",
       "      <th>ActivityElement</th>\n",
       "      <th>trip_mode</th>\n",
       "      <th>ActivityType</th>\n",
       "      <th>x</th>\n",
       "      <th>y</th>\n",
       "      <th>departure_time</th>\n",
       "    </tr>\n",
       "  </thead>\n",
       "  <tbody>\n",
       "    <tr>\n",
       "      <th>0</th>\n",
       "      <td>NaN</td>\n",
       "      <td>1</td>\n",
       "      <td>0</td>\n",
       "      <td>activity</td>\n",
       "      <td>NaN</td>\n",
       "      <td>Home</td>\n",
       "      <td>0.002696</td>\n",
       "      <td>0.014175</td>\n",
       "      <td>26159.0</td>\n",
       "    </tr>\n",
       "    <tr>\n",
       "      <th>1</th>\n",
       "      <td>NaN</td>\n",
       "      <td>1</td>\n",
       "      <td>1</td>\n",
       "      <td>leg</td>\n",
       "      <td>cav</td>\n",
       "      <td>NaN</td>\n",
       "      <td>NaN</td>\n",
       "      <td>NaN</td>\n",
       "      <td>NaN</td>\n",
       "    </tr>\n",
       "    <tr>\n",
       "      <th>2</th>\n",
       "      <td>NaN</td>\n",
       "      <td>1</td>\n",
       "      <td>2</td>\n",
       "      <td>activity</td>\n",
       "      <td>NaN</td>\n",
       "      <td>Shop</td>\n",
       "      <td>0.010050</td>\n",
       "      <td>0.014127</td>\n",
       "      <td>29094.0</td>\n",
       "    </tr>\n",
       "  </tbody>\n",
       "</table>\n",
       "</div>"
      ],
      "text/plain": [
       "   trip_id  person_id  PlanElementIndex ActivityElement trip_mode ActivityType         x         y  departure_time\n",
       "0      NaN          1                 0        activity       NaN         Home  0.002696  0.014175         26159.0\n",
       "1      NaN          1                 1             leg       cav          NaN       NaN       NaN             NaN\n",
       "2      NaN          1                 2        activity       NaN         Shop  0.010050  0.014127         29094.0"
      ]
     },
     "execution_count": 8,
     "metadata": {},
     "output_type": "execute_result"
    }
   ],
   "source": [
    "columns = [\"trip_id\",\"person_id\",\"PlanElementIndex\",\"ActivityElement\",\"trip_mode\",\"ActivityType\",\"x\",\"y\",\"departure_time\"]\n",
    "plans_u = pd.read_csv(\"../../output/beamville_urbansim_plans.csv.gz\")[columns]\n",
    "plans_u.head(3)"
   ]
  },
  {
   "cell_type": "code",
   "execution_count": 9,
   "id": "a4aa74c4-111a-425f-88f9-bcc21cc3e548",
   "metadata": {},
   "outputs": [
    {
     "data": {
      "text/html": [
       "<div>\n",
       "<style scoped>\n",
       "    .dataframe tbody tr th:only-of-type {\n",
       "        vertical-align: middle;\n",
       "    }\n",
       "\n",
       "    .dataframe tbody tr th {\n",
       "        vertical-align: top;\n",
       "    }\n",
       "\n",
       "    .dataframe thead th {\n",
       "        text-align: right;\n",
       "    }\n",
       "</style>\n",
       "<table border=\"1\" class=\"dataframe\">\n",
       "  <thead>\n",
       "    <tr style=\"text-align: right;\">\n",
       "      <th></th>\n",
       "      <th>trip_id</th>\n",
       "      <th>person_id</th>\n",
       "      <th>PlanElementIndex</th>\n",
       "      <th>ActivityElement</th>\n",
       "      <th>trip_mode</th>\n",
       "      <th>ActivityType</th>\n",
       "      <th>x</th>\n",
       "      <th>y</th>\n",
       "      <th>departure_time</th>\n",
       "    </tr>\n",
       "  </thead>\n",
       "  <tbody>\n",
       "    <tr>\n",
       "      <th>0</th>\n",
       "      <td>100.0</td>\n",
       "      <td>1</td>\n",
       "      <td>1</td>\n",
       "      <td>activity</td>\n",
       "      <td>NaN</td>\n",
       "      <td>Home</td>\n",
       "      <td>166321.9</td>\n",
       "      <td>1568.87</td>\n",
       "      <td>13.75</td>\n",
       "    </tr>\n",
       "    <tr>\n",
       "      <th>1</th>\n",
       "      <td>NaN</td>\n",
       "      <td>1</td>\n",
       "      <td>2</td>\n",
       "      <td>leg</td>\n",
       "      <td>HOV2</td>\n",
       "      <td>NaN</td>\n",
       "      <td>NaN</td>\n",
       "      <td>NaN</td>\n",
       "      <td>NaN</td>\n",
       "    </tr>\n",
       "    <tr>\n",
       "      <th>2</th>\n",
       "      <td>101.0</td>\n",
       "      <td>1</td>\n",
       "      <td>3</td>\n",
       "      <td>activity</td>\n",
       "      <td>NaN</td>\n",
       "      <td>Shopping</td>\n",
       "      <td>167138.4</td>\n",
       "      <td>1117.00</td>\n",
       "      <td>15.82</td>\n",
       "    </tr>\n",
       "  </tbody>\n",
       "</table>\n",
       "</div>"
      ],
      "text/plain": [
       "   trip_id  person_id  PlanElementIndex ActivityElement trip_mode ActivityType         x        y  departure_time\n",
       "0    100.0          1                 1        activity       NaN         Home  166321.9  1568.87           13.75\n",
       "1      NaN          1                 2             leg      HOV2          NaN       NaN      NaN             NaN\n",
       "2    101.0          1                 3        activity       NaN     Shopping  167138.4  1117.00           15.82"
      ]
     },
     "execution_count": 9,
     "metadata": {},
     "output_type": "execute_result"
    }
   ],
   "source": [
    "plans = pd.read_csv(\"../../test/input/beamville/urbansim_v2/plans.csv.gz\")[columns]\n",
    "plans.head(3)"
   ]
  },
  {
   "cell_type": "code",
   "execution_count": 10,
   "id": "7d055e10-1375-47ef-8f04-578f8502d90c",
   "metadata": {},
   "outputs": [
    {
     "data": {
      "text/plain": [
       "<AxesSubplot:>"
      ]
     },
     "execution_count": 10,
     "metadata": {},
     "output_type": "execute_result"
    },
    {
     "data": {
      "image/png": "[encoded data removed]",
      "text/plain": [
       "<Figure size 432x288 with 1 Axes>"
      ]
     },
     "metadata": {
      "needs_background": "light"
     },
     "output_type": "display_data"
    }
   ],
   "source": [
    "plans['trip_mode'].hist()"
   ]
  },
  {
   "cell_type": "code",
   "execution_count": 11,
   "id": "3730be3b-e4d0-4e5d-83e6-64c3491cdd5c",
   "metadata": {},
   "outputs": [
    {
     "data": {
      "text/plain": [
       "<AxesSubplot:>"
      ]
     },
     "execution_count": 11,
     "metadata": {},
     "output_type": "execute_result"
    },
    {
     "data": {
      "image/png": "[encoded data removed]",
      "text/plain": [
       "<Figure size 432x288 with 1 Axes>"
      ]
     },
     "metadata": {
      "needs_background": "light"
     },
     "output_type": "display_data"
    }
   ],
   "source": [
    "plans_u['trip_mode'].hist()"
   ]
  },
  {
   "cell_type": "code",
   "execution_count": 48,
   "id": "ab598313-7398-406a-be0f-1b14eeadcf86",
   "metadata": {},
   "outputs": [
    {
     "name": "stdout",
     "output_type": "stream",
     "text": [
      "../../output/beamville/beamville-walk-transit-only--replace-with-hov2_teleportation__2022-06-13_17-55-32_fds\n",
      "walk_transit              228\n",
      "hov2_teleportation        57\n",
      "cav                       13\n",
      "\n",
      "../../output/beamville/beamville-walk-transit-only--replace-with-hov2_teleportation-wt1000__2022-06-13_18-27-12_pkz\n",
      "walk_transit              240\n",
      "hov2_teleportation        46\n",
      "cav                       10\n",
      "\n",
      "../../output/beamville/beamville-walk-transit-only--replace-with-hov2_teleportation-wt100000__2022-06-13_18-52-58_age\n",
      "walk_transit              240\n",
      "hov2_teleportation        44\n",
      "cav                       10\n",
      "\n"
     ]
    }
   ],
   "source": [
    "import pandas as pd\n",
    "import os\n",
    "\n",
    "base_folder = \"../../output/beamville/\"\n",
    "subfolders = [f.path for f in os.scandir(base_folder) if f.is_dir()]\n",
    "\n",
    "for beamville_run_full_path in subfolders:\n",
    "    print(beamville_run_full_path)\n",
    "    plans_it0 = pd.read_csv(f\"{beamville_run_full_path}/ITERS/it.0/0.plans.csv.gz\")\n",
    "    value_counts_series = plans_it0['legMode'].value_counts() # plans_it0[plans_it0['planSelected']==True]['legMode'].value_counts()\n",
    "    for (i,v) in value_counts_series.items():\n",
    "        print(i.ljust(25), v)\n",
    "    print()"
   ]
  },
  {
   "cell_type": "code",
   "execution_count": 47,
   "id": "cf0a4c22-2b54-491d-8a37-7e6e6a9044dc",
   "metadata": {},
   "outputs": [
    {
     "data": {
      "text/html": [
       "<div>\n",
       "<style scoped>\n",
       "    .dataframe tbody tr th:only-of-type {\n",
       "        vertical-align: middle;\n",
       "    }\n",
       "\n",
       "    .dataframe tbody tr th {\n",
       "        vertical-align: top;\n",
       "    }\n",
       "\n",
       "    .dataframe thead th {\n",
       "        text-align: right;\n",
       "    }\n",
       "</style>\n",
       "<table border=\"1\" class=\"dataframe\">\n",
       "  <thead>\n",
       "    <tr style=\"text-align: right;\">\n",
       "      <th></th>\n",
       "      <th>tripId</th>\n",
       "      <th>personId</th>\n",
       "      <th>planIndex</th>\n",
       "      <th>planScore</th>\n",
       "      <th>planSelected</th>\n",
       "      <th>planElementType</th>\n",
       "      <th>planElementIndex</th>\n",
       "      <th>activityType</th>\n",
       "      <th>activityLocationX</th>\n",
       "      <th>activityLocationY</th>\n",
       "      <th>activityStartTime</th>\n",
       "      <th>activityEndTime</th>\n",
       "      <th>legMode</th>\n",
       "      <th>legDepartureTime</th>\n",
       "      <th>legTravelTime</th>\n",
       "      <th>legRouteType</th>\n",
       "      <th>legRouteStartLink</th>\n",
       "      <th>legRouteEndLink</th>\n",
       "      <th>legRouteTravelTime</th>\n",
       "      <th>legRouteDistance</th>\n",
       "      <th>legRouteLinks</th>\n",
       "    </tr>\n",
       "  </thead>\n",
       "  <tbody>\n",
       "    <tr>\n",
       "      <th>0</th>\n",
       "      <td>NaN</td>\n",
       "      <td>1</td>\n",
       "      <td>0</td>\n",
       "      <td>-494.580688</td>\n",
       "      <td>False</td>\n",
       "      <td>activity</td>\n",
       "      <td>0</td>\n",
       "      <td>Home</td>\n",
       "      <td>166321.9</td>\n",
       "      <td>1568.87</td>\n",
       "      <td>0.0</td>\n",
       "      <td>49500.0</td>\n",
       "      <td>NaN</td>\n",
       "      <td>NaN</td>\n",
       "      <td>NaN</td>\n",
       "      <td>NaN</td>\n",
       "      <td>NaN</td>\n",
       "      <td>NaN</td>\n",
       "      <td>NaN</td>\n",
       "      <td>NaN</td>\n",
       "      <td>NaN</td>\n",
       "    </tr>\n",
       "    <tr>\n",
       "      <th>1</th>\n",
       "      <td>NaN</td>\n",
       "      <td>1</td>\n",
       "      <td>0</td>\n",
       "      <td>-494.580688</td>\n",
       "      <td>False</td>\n",
       "      <td>activity</td>\n",
       "      <td>1</td>\n",
       "      <td>Work</td>\n",
       "      <td>166045.2</td>\n",
       "      <td>2705.40</td>\n",
       "      <td>49501.0</td>\n",
       "      <td>71006.0</td>\n",
       "      <td>NaN</td>\n",
       "      <td>NaN</td>\n",
       "      <td>NaN</td>\n",
       "      <td>NaN</td>\n",
       "      <td>NaN</td>\n",
       "      <td>NaN</td>\n",
       "      <td>NaN</td>\n",
       "      <td>NaN</td>\n",
       "      <td>NaN</td>\n",
       "    </tr>\n",
       "    <tr>\n",
       "      <th>2</th>\n",
       "      <td>NaN</td>\n",
       "      <td>1</td>\n",
       "      <td>0</td>\n",
       "      <td>-494.580688</td>\n",
       "      <td>False</td>\n",
       "      <td>activity</td>\n",
       "      <td>2</td>\n",
       "      <td>Home</td>\n",
       "      <td>166321.9</td>\n",
       "      <td>1568.87</td>\n",
       "      <td>71007.0</td>\n",
       "      <td>-inf</td>\n",
       "      <td>NaN</td>\n",
       "      <td>NaN</td>\n",
       "      <td>NaN</td>\n",
       "      <td>NaN</td>\n",
       "      <td>NaN</td>\n",
       "      <td>NaN</td>\n",
       "      <td>NaN</td>\n",
       "      <td>NaN</td>\n",
       "      <td>NaN</td>\n",
       "    </tr>\n",
       "  </tbody>\n",
       "</table>\n",
       "</div>"
      ],
      "text/plain": [
       "   tripId  personId  planIndex   planScore  planSelected planElementType  planElementIndex activityType  activityLocationX  activityLocationY  activityStartTime  activityEndTime legMode  legDepartureTime  legTravelTime  legRouteType  legRouteStartLink  legRouteEndLink  legRouteTravelTime  legRouteDistance  legRouteLinks\n",
       "0     NaN         1          0 -494.580688         False        activity                 0         Home           166321.9            1568.87                0.0          49500.0     NaN               NaN            NaN           NaN                NaN              NaN                 NaN               NaN            NaN\n",
       "1     NaN         1          0 -494.580688         False        activity                 1         Work           166045.2            2705.40            49501.0          71006.0     NaN               NaN            NaN           NaN                NaN              NaN                 NaN               NaN            NaN\n",
       "2     NaN         1          0 -494.580688         False        activity                 2         Home           166321.9            1568.87            71007.0             -inf     NaN               NaN            NaN           NaN                NaN              NaN                 NaN               NaN            NaN"
      ]
     },
     "execution_count": 47,
     "metadata": {},
     "output_type": "execute_result"
    }
   ],
   "source": [
    "plans_it0.head(3)"
   ]
  },
  {
   "cell_type": "code",
   "execution_count": 39,
   "id": "ecd85ae0-df38-47cb-a404-eb602770366c",
   "metadata": {},
   "outputs": [
    {
     "data": {
      "text/plain": [
       "walk_transit          240\n",
       "hov2_teleportation     46\n",
       "cav                    10\n",
       "Name: legMode, dtype: int64"
      ]
     },
     "execution_count": 39,
     "metadata": {},
     "output_type": "execute_result"
    }
   ],
   "source": []
  },
  {
   "cell_type": "code",
   "execution_count": 1,
   "id": "4191d3ef-4a21-4154-9df8-edabf44fd502",
   "metadata": {},
   "outputs": [],
   "source": [
    "# either this:\n",
    "# ! pip install <package>\n",
    "\n",
    "# or that:\n",
    "# %pip install <package>"
   ]
  },
  {
   "cell_type": "code",
   "execution_count": null,
   "id": "17e88879-4cf9-400d-ae18-6bf173dc3871",
   "metadata": {},
   "outputs": [],
   "source": []
  }
 ],
 "metadata": {
  "kernelspec": {
   "display_name": "Python 3 (ipykernel)",
   "language": "python",
   "name": "python3"
  },
  "language_info": {
   "codemirror_mode": {
    "name": "ipython",
    "version": 3
   },
   "file_extension": ".py",
   "mimetype": "text/x-python",
   "name": "python",
   "nbconvert_exporter": "python",
   "pygments_lexer": "ipython3",
   "version": "3.9.10"
  }
 },
 "nbformat": 4,
 "nbformat_minor": 5
}
