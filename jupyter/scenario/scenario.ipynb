{
 "cells": [
  {
   "cell_type": "code",
   "execution_count": 1,
   "id": "76e294a2-5ee1-4b69-af38-7aee67dd9c6b",
   "metadata": {},
   "outputs": [],
   "source": [
    "import pandas as pd\n",
    "import numpy as np\n",
    "import matplotlib.pyplot as plt\n",
    "\n",
    "pd.set_option('display.max_rows', 500)\n",
    "pd.set_option('display.max_columns', 500)\n",
    "pd.set_option('display.width', 1000)"
   ]
  },
  {
   "cell_type": "code",
   "execution_count": 4,
   "id": "aff8d189-b911-47bc-a997-7cc87718c6bb",
   "metadata": {},
   "outputs": [
    {
     "name": "stdout",
     "output_type": "stream",
     "text": [
      "(4864508, 4)\n"
     ]
    },
    {
     "data": {
      "text/html": [
       "<div>\n",
       "<style scoped>\n",
       "    .dataframe tbody tr th:only-of-type {\n",
       "        vertical-align: middle;\n",
       "    }\n",
       "\n",
       "    .dataframe tbody tr th {\n",
       "        vertical-align: top;\n",
       "    }\n",
       "\n",
       "    .dataframe thead th {\n",
       "        text-align: right;\n",
       "    }\n",
       "</style>\n",
       "<table border=\"1\" class=\"dataframe\">\n",
       "  <thead>\n",
       "    <tr style=\"text-align: right;\">\n",
       "      <th></th>\n",
       "      <th>household_id</th>\n",
       "      <th>income</th>\n",
       "      <th>cars</th>\n",
       "      <th>block_id</th>\n",
       "    </tr>\n",
       "  </thead>\n",
       "  <tbody>\n",
       "    <tr>\n",
       "      <th>0</th>\n",
       "      <td>34-013-013400-5:2009000778784:138</td>\n",
       "      <td>64380</td>\n",
       "      <td>2</td>\n",
       "      <td>340130134005</td>\n",
       "    </tr>\n",
       "    <tr>\n",
       "      <th>1</th>\n",
       "      <td>34-013-013400-5:2011001033670:215</td>\n",
       "      <td>281000</td>\n",
       "      <td>4</td>\n",
       "      <td>340130134005</td>\n",
       "    </tr>\n",
       "    <tr>\n",
       "      <th>2</th>\n",
       "      <td>34-013-013400-5:2011001045287:27</td>\n",
       "      <td>90000</td>\n",
       "      <td>1</td>\n",
       "      <td>340130134005</td>\n",
       "    </tr>\n",
       "  </tbody>\n",
       "</table>\n",
       "</div>"
      ],
      "text/plain": [
       "                        household_id  income  cars      block_id\n",
       "0  34-013-013400-5:2009000778784:138   64380     2  340130134005\n",
       "1  34-013-013400-5:2011001033670:215  281000     4  340130134005\n",
       "2   34-013-013400-5:2011001045287:27   90000     1  340130134005"
      ]
     },
     "execution_count": 4,
     "metadata": {},
     "output_type": "execute_result"
    }
   ],
   "source": [
    "## read all households\n",
    "\n",
    "households_all = pd.read_csv(\"../../production/newyork/urbansim_v2/13122k-NYC-all-ages/households.csv.gz\")\n",
    "print(households_all.shape)\n",
    "households_all.head(3)"
   ]
  },
  {
   "cell_type": "code",
   "execution_count": 7,
   "id": "a96bdc68-34a7-40e8-97e4-43994d6a3d4c",
   "metadata": {},
   "outputs": [
    {
     "name": "stdout",
     "output_type": "stream",
     "text": [
      "the shape is (1621503, 4)\n",
      "the shape is (1621503, 4)\n",
      "the shape is (1621502, 4)\n"
     ]
    }
   ],
   "source": [
    "## split all households into 3 parts, shuffling before\n",
    "\n",
    "hh_dfs = np.array_split(households_all.sample(frac=1), 3)\n",
    "for hh_df in hh_dfs:\n",
    "    print(f\"the shape is {hh_df.shape}\")"
   ]
  },
  {
   "cell_type": "code",
   "execution_count": 9,
   "id": "3001d066-ad4f-48a9-84f6-5de68b3f4f01",
   "metadata": {},
   "outputs": [
    {
     "name": "stdout",
     "output_type": "stream",
     "text": [
      "there are 13122080 rows in persons, 39216776 rows in plans, 4864508 rows in blocks\n"
     ]
    },
    {
     "data": {
      "text/html": [
       "<div>\n",
       "<style scoped>\n",
       "    .dataframe tbody tr th:only-of-type {\n",
       "        vertical-align: middle;\n",
       "    }\n",
       "\n",
       "    .dataframe tbody tr th {\n",
       "        vertical-align: top;\n",
       "    }\n",
       "\n",
       "    .dataframe thead th {\n",
       "        text-align: right;\n",
       "    }\n",
       "</style>\n",
       "<table border=\"1\" class=\"dataframe\">\n",
       "  <thead>\n",
       "    <tr style=\"text-align: right;\">\n",
       "      <th></th>\n",
       "      <th>person_id</th>\n",
       "      <th>household_id</th>\n",
       "      <th>age</th>\n",
       "      <th>sex</th>\n",
       "      <th>industry</th>\n",
       "    </tr>\n",
       "  </thead>\n",
       "  <tbody>\n",
       "    <tr>\n",
       "      <th>0</th>\n",
       "      <td>1</td>\n",
       "      <td>34-013-013400-5:2009000778784:138</td>\n",
       "      <td>28</td>\n",
       "      <td>1</td>\n",
       "      <td>manufacturing</td>\n",
       "    </tr>\n",
       "    <tr>\n",
       "      <th>1</th>\n",
       "      <td>0</td>\n",
       "      <td>34-013-013400-5:2009000778784:138</td>\n",
       "      <td>57</td>\n",
       "      <td>2</td>\n",
       "      <td>educational / health</td>\n",
       "    </tr>\n",
       "    <tr>\n",
       "      <th>2</th>\n",
       "      <td>9</td>\n",
       "      <td>34-013-013400-5:2011001033670:215</td>\n",
       "      <td>23</td>\n",
       "      <td>1</td>\n",
       "      <td>information</td>\n",
       "    </tr>\n",
       "  </tbody>\n",
       "</table>\n",
       "</div>"
      ],
      "text/plain": [
       "   person_id                       household_id  age  sex              industry\n",
       "0          1  34-013-013400-5:2009000778784:138   28    1         manufacturing\n",
       "1          0  34-013-013400-5:2009000778784:138   57    2  educational / health\n",
       "2          9  34-013-013400-5:2011001033670:215   23    1           information"
      ]
     },
     "metadata": {},
     "output_type": "display_data"
    },
    {
     "data": {
      "text/html": [
       "<div>\n",
       "<style scoped>\n",
       "    .dataframe tbody tr th:only-of-type {\n",
       "        vertical-align: middle;\n",
       "    }\n",
       "\n",
       "    .dataframe tbody tr th {\n",
       "        vertical-align: top;\n",
       "    }\n",
       "\n",
       "    .dataframe thead th {\n",
       "        text-align: right;\n",
       "    }\n",
       "</style>\n",
       "<table border=\"1\" class=\"dataframe\">\n",
       "  <thead>\n",
       "    <tr style=\"text-align: right;\">\n",
       "      <th></th>\n",
       "      <th>trip_id</th>\n",
       "      <th>person_id</th>\n",
       "      <th>PlanElementIndex</th>\n",
       "      <th>ActivityElement</th>\n",
       "      <th>trip_mode</th>\n",
       "      <th>ActivityType</th>\n",
       "      <th>x</th>\n",
       "      <th>y</th>\n",
       "      <th>departure_time</th>\n",
       "    </tr>\n",
       "  </thead>\n",
       "  <tbody>\n",
       "    <tr>\n",
       "      <th>0</th>\n",
       "      <td>NaN</td>\n",
       "      <td>1</td>\n",
       "      <td>1</td>\n",
       "      <td>activity</td>\n",
       "      <td>NaN</td>\n",
       "      <td>Home</td>\n",
       "      <td>-74.163214</td>\n",
       "      <td>40.836926</td>\n",
       "      <td>7.260000</td>\n",
       "    </tr>\n",
       "    <tr>\n",
       "      <th>1</th>\n",
       "      <td>NaN</td>\n",
       "      <td>1</td>\n",
       "      <td>2</td>\n",
       "      <td>leg</td>\n",
       "      <td>NaN</td>\n",
       "      <td>NaN</td>\n",
       "      <td>NaN</td>\n",
       "      <td>NaN</td>\n",
       "      <td>NaN</td>\n",
       "    </tr>\n",
       "    <tr>\n",
       "      <th>2</th>\n",
       "      <td>NaN</td>\n",
       "      <td>1</td>\n",
       "      <td>3</td>\n",
       "      <td>activity</td>\n",
       "      <td>NaN</td>\n",
       "      <td>Work</td>\n",
       "      <td>-74.221004</td>\n",
       "      <td>40.820302</td>\n",
       "      <td>17.831023</td>\n",
       "    </tr>\n",
       "  </tbody>\n",
       "</table>\n",
       "</div>"
      ],
      "text/plain": [
       "   trip_id  person_id  PlanElementIndex ActivityElement  trip_mode ActivityType          x          y  departure_time\n",
       "0      NaN          1                 1        activity        NaN         Home -74.163214  40.836926        7.260000\n",
       "1      NaN          1                 2             leg        NaN          NaN        NaN        NaN             NaN\n",
       "2      NaN          1                 3        activity        NaN         Work -74.221004  40.820302       17.831023"
      ]
     },
     "metadata": {},
     "output_type": "display_data"
    },
    {
     "data": {
      "text/html": [
       "<div>\n",
       "<style scoped>\n",
       "    .dataframe tbody tr th:only-of-type {\n",
       "        vertical-align: middle;\n",
       "    }\n",
       "\n",
       "    .dataframe tbody tr th {\n",
       "        vertical-align: top;\n",
       "    }\n",
       "\n",
       "    .dataframe thead th {\n",
       "        text-align: right;\n",
       "    }\n",
       "</style>\n",
       "<table border=\"1\" class=\"dataframe\">\n",
       "  <thead>\n",
       "    <tr style=\"text-align: right;\">\n",
       "      <th></th>\n",
       "      <th>block_id</th>\n",
       "      <th>x</th>\n",
       "      <th>y</th>\n",
       "    </tr>\n",
       "  </thead>\n",
       "  <tbody>\n",
       "    <tr>\n",
       "      <th>0</th>\n",
       "      <td>340130134005</td>\n",
       "      <td>-74.163214</td>\n",
       "      <td>40.836926</td>\n",
       "    </tr>\n",
       "    <tr>\n",
       "      <th>1</th>\n",
       "      <td>340130134005</td>\n",
       "      <td>-74.163017</td>\n",
       "      <td>40.837018</td>\n",
       "    </tr>\n",
       "    <tr>\n",
       "      <th>2</th>\n",
       "      <td>340130134005</td>\n",
       "      <td>-74.162813</td>\n",
       "      <td>40.836792</td>\n",
       "    </tr>\n",
       "  </tbody>\n",
       "</table>\n",
       "</div>"
      ],
      "text/plain": [
       "       block_id          x          y\n",
       "0  340130134005 -74.163214  40.836926\n",
       "1  340130134005 -74.163017  40.837018\n",
       "2  340130134005 -74.162813  40.836792"
      ]
     },
     "metadata": {},
     "output_type": "display_data"
    }
   ],
   "source": [
    "## read the rest of scenario\n",
    "\n",
    "persons_all = pd.read_csv(\"../../production/newyork/urbansim_v2/13122k-NYC-all-ages/persons.csv.gz\")\n",
    "plans_all = pd.read_csv(\"../../production/newyork/urbansim_v2/13122k-NYC-all-ages/plans.csv.gz\")\n",
    "blocks_all = pd.read_csv(\"../../production/newyork/urbansim_v2/13122k-NYC-all-ages/blocks.csv.gz\")\n",
    "print(f\"there are {len(persons_all)} rows in persons, {len(plans_all)} rows in plans, {len(blocks_all)} rows in blocks\")\n",
    "      \n",
    "display(persons_all.head(3))\n",
    "display(plans_all.head(3))\n",
    "display(blocks_all.head(3))"
   ]
  },
  {
   "cell_type": "code",
   "execution_count": 10,
   "id": "6fd7325f-9078-4594-834b-acc8cebcf17d",
   "metadata": {},
   "outputs": [
    {
     "name": "stdout",
     "output_type": "stream",
     "text": [
      "hh 1 processed\n",
      "hh 2 processed\n",
      "hh 3 processed\n"
     ]
    }
   ],
   "source": [
    "persons_dfs = []\n",
    "plans_dfs = []\n",
    "blocks_dfs = []\n",
    "\n",
    "for (hh, i) in zip(hh_dfs, [1,2,3]):\n",
    "    selected_hh = set(hh['household_id'])\n",
    "    persons_df = persons_all[persons_all['household_id'].isin(selected_hh)].copy()\n",
    "    persons_dfs.append(persons_df)\n",
    "    \n",
    "    selected_blocks = set(hh['block_id'])\n",
    "    blocks_df = blocks_all[blocks_all['block_id'].isin(selected_blocks)].copy()\n",
    "    blocks_dfs.append(blocks_df)\n",
    "    \n",
    "    selected_persons = set(persons_df['person_id'])\n",
    "    plans_df = plans_all[plans_all['person_id'].isin(selected_persons)].copy()\n",
    "    plans_dfs.append(plans_df)\n",
    "    print(f'hh {i} processed')"
   ]
  },
  {
   "cell_type": "code",
   "execution_count": 11,
   "id": "328f8bc9-a560-4e9f-8e25-bc6f0175b719",
   "metadata": {},
   "outputs": [
    {
     "name": "stdout",
     "output_type": "stream",
     "text": [
      "processing ../../production/newyork/urbansim_v2/13122k-NYC-all-ages-part1 ...\n",
      "processing ../../production/newyork/urbansim_v2/13122k-NYC-all-ages-part2 ...\n",
      "processing ../../production/newyork/urbansim_v2/13122k-NYC-all-ages-part3 ...\n",
      "done\n"
     ]
    }
   ],
   "source": [
    "paths = ['../../production/newyork/urbansim_v2/13122k-NYC-all-ages-part1', \n",
    "         '../../production/newyork/urbansim_v2/13122k-NYC-all-ages-part2',\n",
    "         '../../production/newyork/urbansim_v2/13122k-NYC-all-ages-part3']\n",
    "\n",
    "for (persons_df, households_df, blocks_df, plans_df, path) in zip(persons_dfs, hh_dfs, blocks_dfs, plans_dfs, paths):\n",
    "    print(f\"processing {path} ...\")\n",
    "    persons_df.to_csv(f\"{path}/persons.csv.gz\", index=False)\n",
    "    households_df.to_csv(f\"{path}/households.csv.gz\", index=False)\n",
    "    blocks_df.to_csv(f\"{path}/blocks.csv.gz\", index=False)\n",
    "    plans_df.to_csv(f\"{path}/plans.csv.gz\", index=False)\n",
    "    \n",
    "print('done')"
   ]
  },
  {
   "cell_type": "code",
   "execution_count": null,
   "id": "eaea3edd-a790-4faa-b749-485605f3d89c",
   "metadata": {},
   "outputs": [],
   "source": []
  }
 ],
 "metadata": {
  "kernelspec": {
   "display_name": "Python 3 (ipykernel)",
   "language": "python",
   "name": "python3"
  },
  "language_info": {
   "codemirror_mode": {
    "name": "ipython",
    "version": 3
   },
   "file_extension": ".py",
   "mimetype": "text/x-python",
   "name": "python",
   "nbconvert_exporter": "python",
   "pygments_lexer": "ipython3",
   "version": "3.9.10"
  }
 },
 "nbformat": 4,
 "nbformat_minor": 5
}
