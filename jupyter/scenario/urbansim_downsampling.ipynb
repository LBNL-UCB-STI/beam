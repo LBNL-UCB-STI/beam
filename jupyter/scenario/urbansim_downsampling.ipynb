{
 "cells": [
  {
   "cell_type": "code",
   "execution_count": 17,
   "metadata": {
    "ExecuteTime": {
     "end_time": "2023-06-06T19:28:49.891385Z",
     "start_time": "2023-06-06T19:28:49.885850Z"
    },
    "collapsed": true,
    "jupyter": {
     "outputs_hidden": true
    }
   },
   "outputs": [],
   "source": [
    "from pathlib import Path\n",
    "import pandas as pd\n",
    "\n",
    "urbansim_source_dir = \"../../production/dallas/urbansim_v2/100k\"\n",
    "out_dir = \"../../production/dallas/urbansim_v2/10k\"\n"
   ]
  },
  {
   "cell_type": "code",
   "execution_count": 18,
   "metadata": {
    "ExecuteTime": {
     "end_time": "2023-06-06T19:28:51.573718Z",
     "start_time": "2023-06-06T19:28:50.813166Z"
    },
    "collapsed": false,
    "jupyter": {
     "outputs_hidden": false
    }
   },
   "outputs": [
    {
     "name": "stdout",
     "output_type": "stream",
     "text": [
      "Number of persons: 100004\n",
      "Number of households: 47806\n"
     ]
    }
   ],
   "source": [
    "persons = pd.read_csv(f\"{urbansim_source_dir}/persons.csv.gz\")\n",
    "households = pd.read_csv(f\"{urbansim_source_dir}/households.csv.gz\")\n",
    "plans = pd.read_csv(f\"{urbansim_source_dir}/plans.csv.gz\")\n",
    "blocks = pd.read_csv(f\"{urbansim_source_dir}/blocks.csv.gz\")\n",
    "print(f\"Number of persons: {persons.shape[0]}\")\n",
    "print(f\"Number of households: {households.shape[0]}\")\n"
   ]
  },
  {
   "cell_type": "code",
   "execution_count": 19,
   "metadata": {
    "ExecuteTime": {
     "end_time": "2023-06-06T19:28:54.754415Z",
     "start_time": "2023-06-06T19:28:54.709844Z"
    },
    "collapsed": false,
    "jupyter": {
     "outputs_hidden": false
    }
   },
   "outputs": [
    {
     "name": "stdout",
     "output_type": "stream",
     "text": [
      "total number of randomly selected HH: 4830\n"
     ]
    }
   ],
   "source": [
    "pop_size = 10_000\n",
    "\n",
    "random_hh = households.sample(n=round(pop_size * 0.7))\n",
    "persons1 = persons[persons['household_id'].isin(random_hh['household_id'])]\n",
    "pop_size_person_set = persons1.sort_values('household_id')[0:pop_size]\n",
    "selected_household_ids = pop_size_person_set['household_id'].unique()\n",
    "print(f\"total number of randomly selected HH: {len(selected_household_ids)}\")\n"
   ]
  },
  {
   "cell_type": "code",
   "execution_count": 20,
   "metadata": {
    "ExecuteTime": {
     "end_time": "2023-06-06T19:28:57.731946Z",
     "start_time": "2023-06-06T19:28:57.693779Z"
    },
    "collapsed": false,
    "jupyter": {
     "outputs_hidden": false
    }
   },
   "outputs": [
    {
     "name": "stdout",
     "output_type": "stream",
     "text": [
      "there are 10001 selected persons\n",
      "Number of selected blocks is 1262\n",
      "Number of selected plans is 50005\n"
     ]
    }
   ],
   "source": [
    "selected_persons = persons[persons['household_id'].isin(selected_household_ids)]\n",
    "selected_persons_ids = set(selected_persons['person_id'])\n",
    "print(f\"there are {len(selected_persons)} selected persons\")\n",
    "\n",
    "selected_households = households[households['household_id'].isin(selected_household_ids)]\n",
    "\n",
    "selected_block_ids = set(selected_households['block_id'])\n",
    "print(f\"Number of selected blocks is {len(selected_block_ids)}\")\n",
    "\n",
    "selected_plans = plans[plans['person_id'].isin(selected_persons_ids)]\n",
    "print(f\"Number of selected plans is {len(selected_plans)}\")\n",
    "\n",
    "selected_blocks = blocks[blocks['block_id'].isin(selected_block_ids)]"
   ]
  },
  {
   "cell_type": "code",
   "execution_count": 21,
   "metadata": {
    "ExecuteTime": {
     "end_time": "2023-06-06T19:29:03.928116Z",
     "start_time": "2023-06-06T19:29:03.793439Z"
    },
    "collapsed": false,
    "jupyter": {
     "outputs_hidden": false
    }
   },
   "outputs": [
    {
     "data": {
      "text/plain": [
       "<AxesSubplot: >"
      ]
     },
     "execution_count": 21,
     "metadata": {},
     "output_type": "execute_result"
    },
    {
     "data": {
      "image/png": "[encoded data removed]",
      "text/plain": [
       "<Figure size 640x480 with 1 Axes>"
      ]
     },
     "metadata": {},
     "output_type": "display_data"
    }
   ],
   "source": [
    "selected_persons['age'].hist(bins=50)"
   ]
  },
  {
   "cell_type": "code",
   "execution_count": 22,
   "metadata": {
    "ExecuteTime": {
     "end_time": "2023-06-06T19:29:12.787483Z",
     "start_time": "2023-06-06T19:29:07.356729Z"
    },
    "collapsed": false,
    "jupyter": {
     "outputs_hidden": false
    }
   },
   "outputs": [],
   "source": [
    "Path(out_dir).mkdir(parents=True, exist_ok=True)\n",
    "selected_persons.to_csv(f'{out_dir}/persons.csv.gz', index=False, compression='gzip')\n",
    "selected_households.to_csv(f'{out_dir}/households.csv.gz', index=False, compression='gzip')\n",
    "selected_plans.to_csv(f'{out_dir}/plans.csv.gz', index=False, compression='gzip')\n",
    "selected_blocks.to_csv(f'{out_dir}/blocks.csv.gz', index=False, compression='gzip')"
   ]
  }
 ],
 "metadata": {
  "kernelspec": {
   "display_name": "Python 3 (ipykernel)",
   "language": "python",
   "name": "python3"
  },
  "language_info": {
   "codemirror_mode": {
    "name": "ipython",
    "version": 3
   },
   "file_extension": ".py",
   "mimetype": "text/x-python",
   "name": "python",
   "nbconvert_exporter": "python",
   "pygments_lexer": "ipython3",
   "version": "3.10.8"
  }
 },
 "nbformat": 4,
 "nbformat_minor": 4
}
