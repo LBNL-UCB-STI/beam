{
 "cells": [
  {
   "cell_type": "code",
   "execution_count": 5,
   "id": "fb71d281-6ddf-44ff-b492-f1fb2eebbca5",
   "metadata": {},
   "outputs": [
    {
     "name": "stdout",
     "output_type": "stream",
     "text": [
      "Requirement already satisfied: boto3 in /opt/conda/lib/python3.10/site-packages (1.26.93)\n",
      "Requirement already satisfied: botocore<1.30.0,>=1.29.93 in /opt/conda/lib/python3.10/site-packages (from boto3) (1.29.93)\n",
      "Requirement already satisfied: jmespath<2.0.0,>=0.7.1 in /opt/conda/lib/python3.10/site-packages (from boto3) (1.0.1)\n",
      "Requirement already satisfied: s3transfer<0.7.0,>=0.6.0 in /opt/conda/lib/python3.10/site-packages (from boto3) (0.6.0)\n",
      "Requirement already satisfied: urllib3<1.27,>=1.25.4 in /opt/conda/lib/python3.10/site-packages (from botocore<1.30.0,>=1.29.93->boto3) (1.26.14)\n",
      "Requirement already satisfied: python-dateutil<3.0.0,>=2.1 in /opt/conda/lib/python3.10/site-packages (from botocore<1.30.0,>=1.29.93->boto3) (2.8.2)\n",
      "Requirement already satisfied: six>=1.5 in /opt/conda/lib/python3.10/site-packages (from python-dateutil<3.0.0,>=2.1->botocore<1.30.0,>=1.29.93->boto3) (1.16.0)\n",
      "Note: you may need to restart the kernel to use updated packages.\n"
     ]
    }
   ],
   "source": [
    "%pip install boto3\n",
    "import boto3\n",
    "import itertools\n",
    "import pandas as pd\n",
    "\n",
    "class StopExecution(Exception):\n",
    "    def _render_traceback_(self):\n",
    "        pass\n",
    "\n",
    "aws_access_key_id = \"\"\n",
    "aws_secret_access_key = \"\""
   ]
  },
  {
   "cell_type": "code",
   "execution_count": 13,
   "id": "9027fb9b",
   "metadata": {},
   "outputs": [
    {
     "name": "stdout",
     "output_type": "stream",
     "text": [
      "found 1251 objects\n"
     ]
    },
    {
     "data": {
      "text/html": [
       "<div>\n",
       "<style scoped>\n",
       "    .dataframe tbody tr th:only-of-type {\n",
       "        vertical-align: middle;\n",
       "    }\n",
       "\n",
       "    .dataframe tbody tr th {\n",
       "        vertical-align: top;\n",
       "    }\n",
       "\n",
       "    .dataframe thead th {\n",
       "        text-align: right;\n",
       "    }\n",
       "</style>\n",
       "<table border=\"1\" class=\"dataframe\">\n",
       "  <thead>\n",
       "    <tr style=\"text-align: right;\">\n",
       "      <th></th>\n",
       "      <th>path</th>\n",
       "      <th>date</th>\n",
       "      <th>size</th>\n",
       "    </tr>\n",
       "  </thead>\n",
       "  <tbody>\n",
       "    <tr>\n",
       "      <th>0</th>\n",
       "      <td>output/beamville/beamville__2022-08-01_12-11-4...</td>\n",
       "      <td>2022-08-01 12:13:02+00:00</td>\n",
       "      <td>37061824</td>\n",
       "    </tr>\n",
       "    <tr>\n",
       "      <th>1</th>\n",
       "      <td>output/beamville/beamville__2022-08-09_07-38-1...</td>\n",
       "      <td>2022-08-09 07:39:33+00:00</td>\n",
       "      <td>37206565</td>\n",
       "    </tr>\n",
       "    <tr>\n",
       "      <th>2</th>\n",
       "      <td>output/beamville/beamville__2022-08-09_07-49-4...</td>\n",
       "      <td>2022-08-09 07:50:13+00:00</td>\n",
       "      <td>10300720</td>\n",
       "    </tr>\n",
       "  </tbody>\n",
       "</table>\n",
       "</div>"
      ],
      "text/plain": [
       "                                                path  \\\n",
       "0  output/beamville/beamville__2022-08-01_12-11-4...   \n",
       "1  output/beamville/beamville__2022-08-09_07-38-1...   \n",
       "2  output/beamville/beamville__2022-08-09_07-49-4...   \n",
       "\n",
       "                       date      size  \n",
       "0 2022-08-01 12:13:02+00:00  37061824  \n",
       "1 2022-08-09 07:39:33+00:00  37206565  \n",
       "2 2022-08-09 07:50:13+00:00  10300720  "
      ]
     },
     "execution_count": 13,
     "metadata": {},
     "output_type": "execute_result"
    }
   ],
   "source": [
    "bucket_name = 'beam-outputs'\n",
    "search_path = 'output/beamville/beamville'\n",
    "\n",
    "s3 = boto3.resource('s3', aws_access_key_id=aws_access_key_id, aws_secret_access_key=aws_secret_access_key)\n",
    "# s3 = boto3.resource('s3')\n",
    "bucket = s3.Bucket(bucket_name)\n",
    "all_found_objects = list(bucket.objects.filter(Prefix=search_path))\n",
    "print(f\"found {len(all_found_objects)} objects\")\n",
    "\n",
    "def find_beam_folders(objects):\n",
    "    keys = [x.key for x in objects]\n",
    "    entries1 = [x.split(\"/ITERS\")[0] for x in keys if \"/ITERS\" in x]\n",
    "    entries2 = [x.split(\"/beamOutput.log\")[0] for x in keys if \"/beamOutput.log\" in x]\n",
    "    distinct = set(entries1)\n",
    "    distinct.update(entries2)\n",
    "    return distinct\n",
    "\n",
    "beam_folders = find_beam_folders(all_found_objects)\n",
    "\n",
    "if len(beam_folders) == 0:\n",
    "    raise StopExecution\n",
    "\n",
    "beam_folders_split = [x.split('/') for x in beam_folders]\n",
    "\n",
    "root_path_length = min([len(x) for x in beam_folders_split]) - 1\n",
    "root_path = next(iter(beam_folders_split))[:root_path_length]\n",
    "\n",
    "def get_beam_folder(path):\n",
    "    path_split = path.split('/')\n",
    "    relative_path = path_split[root_path_length:]\n",
    "    test_path = root_path.copy()\n",
    "    for element in relative_path:\n",
    "        test_path.append(element)\n",
    "        if (test_path in beam_folders_split):\n",
    "            return '/'.join(test_path)\n",
    "\n",
    "    return \"_not_beam_content_\"\n",
    "\n",
    "grouped = itertools.groupby(all_found_objects, lambda obj: get_beam_folder(obj.key))\n",
    "\n",
    "result = []\n",
    "for [key, objects] in grouped:\n",
    "    hard_objects = list(objects)\n",
    "    size = sum([x.size for x in hard_objects])\n",
    "    date = min([x.last_modified for x in hard_objects])\n",
    "    result.append([key, date, size])\n",
    "\n",
    "df = pd.DataFrame(result, columns=[\"path\", \"date\", \"size\"])\n",
    "file_name=search_path.split('/')[-1]\n",
    "df.to_csv(f'/home/jovyan/local_files/{file_name}.csv', index=False)\n",
    "df"
   ]
  }
 ],
 "metadata": {
  "kernelspec": {
   "display_name": "Python 3 (ipykernel)",
   "language": "python",
   "name": "python3"
  },
  "language_info": {
   "codemirror_mode": {
    "name": "ipython",
    "version": 3
   },
   "file_extension": ".py",
   "mimetype": "text/x-python",
   "name": "python",
   "nbconvert_exporter": "python",
   "pygments_lexer": "ipython3",
   "version": "3.10.8"
  }
 },
 "nbformat": 4,
 "nbformat_minor": 5
}
