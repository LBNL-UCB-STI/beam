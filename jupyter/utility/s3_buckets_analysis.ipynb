{
 "cells": [
  {
   "cell_type": "code",
   "execution_count": 7,
   "id": "fb71d281-6ddf-44ff-b492-f1fb2eebbca5",
   "metadata": {},
   "outputs": [
    {
     "name": "stdout",
     "output_type": "stream",
     "text": [
      "boto3 is already installed\n"
     ]
    }
   ],
   "source": [
    "# %pip install boto3\n",
    "import pip\n",
    "import itertools\n",
    "import pandas as pd\n",
    "import os\n",
    "\n",
    "class StopExecution(Exception):\n",
    "    def _render_traceback_(self):\n",
    "        pass\n",
    "\n",
    "\n",
    "def import_or_install(package):\n",
    "    try:\n",
    "        __import__(package)\n",
    "        print(f'{package} is already installed')\n",
    "    except ImportError:\n",
    "        print(f'Installing {package}')\n",
    "        pip.main(['install', package])\n",
    "\n",
    "\n",
    "import_or_install(\"boto3\")\n",
    "import boto3\n",
    "\n",
    "aws_access_key_id = \"\"\n",
    "aws_secret_access_key = \"\""
   ]
  },
  {
   "cell_type": "markdown",
   "source": [],
   "metadata": {
    "collapsed": false
   }
  },
  {
   "cell_type": "code",
   "execution_count": 6,
   "id": "6cc4e8c8",
   "metadata": {
    "collapsed": false,
    "jupyter": {
     "outputs_hidden": false
    }
   },
   "outputs": [
    {
     "name": "stdout",
     "output_type": "stream",
     "text": [
      "BeamFolder(path='backup-11-2019_us-east-1/haitam_HL-sblt-pooling-high/smart-b-lowtech-pooling/sblt-pooling-high1__2019-08-16_19-16-05/', last_modified=datetime.datetime(2019, 11, 29, 21, 14, 15, tzinfo=tzutc()))\n",
      "BeamFolder(path='backup-11-2019_us-east-1/haitam_HL-sblt-pooling-high/smart-b-lowtech-pooling/sblt-pooling-high1__2019-08-19_08-38-04/', last_modified=datetime.datetime(2019, 11, 29, 20, 17, 47, tzinfo=tzutc()))\n",
      "BeamFolder(path='backup-11-2019_us-east-1/haitam_HL-sblt-pooling-high/smart-b-lowtech-pooling/sblt-pooling-high1__2019-08-19_09-53-01/', last_modified=datetime.datetime(2019, 11, 29, 21, 0, 39, tzinfo=tzutc()))\n",
      "BeamFolder(path='backup-11-2019_us-east-1/haitam_HL-sblt-pooling-high/smart-b-lowtech-pooling/sblt-pooling-high1__2019-08-19_20-11-43/', last_modified=datetime.datetime(2019, 11, 29, 21, 17, 1, tzinfo=tzutc()))\n",
      "BeamFolder(path='backup-11-2019_us-east-1/haitam_HL-sblt-pooling-high/smart-b-lowtech-pooling/sblt-pooling-high1__2019-08-19_23-44-04/', last_modified=datetime.datetime(2019, 11, 29, 20, 21, 28, tzinfo=tzutc()))\n",
      "BeamFolder(path='backup-11-2019_us-east-1/haitam_HL-sblt-pooling-high/smart-b-lowtech-pooling/sblt-pooling-high1__2019-08-20_22-11-30/', last_modified=datetime.datetime(2019, 11, 29, 21, 20, 22, tzinfo=tzutc()))\n",
      "BeamFolder(path='backup-11-2019_us-east-1/haitam_HL-sblt-pooling-high/smart-b-lowtech-pooling/sblt-pooling-high1__2019-08-20_22-13-30/', last_modified=datetime.datetime(2019, 11, 29, 21, 11, 42, tzinfo=tzutc()))\n",
      "BeamFolder(path='backup-11-2019_us-east-1/haitam_HL-smart-a-lowtech-highrep/deadheading-calibration/sfbay-smart-a-lt-highrep__2019-08-21_22-56-22/', last_modified=datetime.datetime(2019, 11, 29, 20, 53, 49, tzinfo=tzutc()))\n",
      "BeamFolder(path='backup-11-2019_us-east-1/haitam_HL-smart-a-lowtech-highrep/deadheading-calibration/sfbay-smart-a-lt-highrep__2019-08-21_23-38-10/', last_modified=datetime.datetime(2019, 11, 29, 21, 8, 15, tzinfo=tzutc()))\n",
      "BeamFolder(path='backup-11-2019_us-east-1/haitam_HL-smart-a-lowtech-lowrep/deadheading-calibration/sfbay-smart-a-lt-lowrep__2019-08-21_23-38-10/', last_modified=datetime.datetime(2019, 11, 29, 20, 43, 42, tzinfo=tzutc()))\n",
      "BeamFolder(path='backup-11-2019_us-east-1/haitam_HL-smart-a-lowtech-mediumrep/deadheading-calibration/sfbay-smart-a-lt-mediumrep__2019-08-21_23-38-10/', last_modified=datetime.datetime(2019, 11, 29, 20, 50, 20, tzinfo=tzutc()))\n",
      "BeamFolder(path='backup-11-2019_us-east-1/haitam_HL-smart-b-lowtech-highrep/deadheading-calibration/sfbay-smart-b-lt-highrep__2019-08-21_22-56-22/', last_modified=datetime.datetime(2019, 11, 29, 20, 56, 45, tzinfo=tzutc()))\n",
      "BeamFolder(path='backup-11-2019_us-east-1/haitam_HL-smart-b-lowtech-mediumrep/deadheading-calibration/sfbay-smart-b-lt-mediumrep__2019-08-21_22-56-22/', last_modified=datetime.datetime(2019, 11, 29, 20, 40, 16, tzinfo=tzutc()))\n",
      "BeamFolder(path='backup-11-2019_us-east-1/haitam_HL-smart-c-lowtech-highrep/deadheading-calibration/sfbay-smart-c-lt-highrep__2019-08-21_22-56-22/', last_modified=datetime.datetime(2019, 11, 29, 21, 23, 12, tzinfo=tzutc()))\n",
      "BeamFolder(path='backup-11-2019_us-east-1/haitam_HL-smart-c-lowtech-lowrep/deadheading-calibration/sfbay-smart-c-lt-lowrep__2019-08-21_22-47-05/', last_modified=datetime.datetime(2019, 11, 27, 21, 49, 28, tzinfo=tzutc()))\n",
      "BeamFolder(path='backup-11-2019_us-east-1/haitam_HL-smart-c-lowtech-lowrep/deadheading-calibration/sfbay-smart-c-lt-lowrep__2019-08-21_22-56-22/', last_modified=datetime.datetime(2019, 11, 27, 20, 17, 5, tzinfo=tzutc()))\n",
      "BeamFolder(path='backup-11-2019_us-east-1/haitam_HL-smart-c-lowtech-mediumrep/deadheading-calibration/sfbay-smart-c-lt-mediumrep__2019-08-21_22-47-05/', last_modified=datetime.datetime(2019, 11, 29, 21, 4, 9, tzinfo=tzutc()))\n",
      "BeamFolder(path='backup-11-2019_us-east-1/haitam_HL-smart-c-lowtech-mediumrep/deadheading-calibration/sfbay-smart-c-lt-mediumrep__2019-08-21_22-56-22/', last_modified=datetime.datetime(2019, 11, 29, 20, 27, 37, tzinfo=tzutc()))\n",
      "BeamFolder(path='backup-11-2019_us-east-1/haitam_HL-wt10/sfbay-smart-b-lt/wt5__2019-08-22_19-46-25/', last_modified=datetime.datetime(2019, 11, 29, 20, 24, 51, tzinfo=tzutc()))\n",
      "BeamFolder(path='backup-11-2019_us-east-1/haitam_HL-wt15/sfbay-smart-b-lt/wt5__2019-08-22_19-46-23/', last_modified=datetime.datetime(2019, 11, 29, 20, 47, tzinfo=tzutc()))\n",
      "BeamFolder(path='backup-11-2019_us-east-1/haitam_HL-wt5/sfbay-smart-b-lt/wt60__2019-08-22_19-46-23/', last_modified=datetime.datetime(2019, 11, 29, 20, 35, 42, tzinfo=tzutc()))\n",
      "BeamFolder(path='backup-11-2019_us-east-1/sf-light-5k__2019-08-21_22-51-50_HL-sf-light-5k/', last_modified=datetime.datetime(2019, 11, 29, 20, 9, 44, tzinfo=tzutc()))\n",
      "BeamFolder(path='backup-11-2019_us-east-1/sf-light-5k__2019-08-21_22-54-22_HL-sf-light-5k/', last_modified=datetime.datetime(2019, 11, 28, 10, 7, 33, tzinfo=tzutc()))\n",
      "BeamFolder(path='backup-11-2019_us-east-1/sfbay-smart-a-ht__2019-04-01_22-46-00_smart-1Apr2019-sc-a-ht-2010/', last_modified=datetime.datetime(2019, 11, 28, 9, 41, 22, tzinfo=tzutc()))\n",
      "BeamFolder(path='backup-11-2019_us-east-1/sfbay-smart-a-ht__2019-04-03_18-42-48_test-energy-zn-a-ht/', last_modified=datetime.datetime(2019, 11, 29, 18, 46, 52, tzinfo=tzutc()))\n",
      "BeamFolder(path='backup-11-2019_us-east-1/sfbay-smart-a-ht__2019-04-04_03-06-20_smart-3Apr2019-sc-a-ht-energy/', last_modified=datetime.datetime(2019, 11, 28, 9, 31, 30, tzinfo=tzutc()))\n",
      "BeamFolder(path='backup-11-2019_us-east-1/sfbay-smart-a-ht__2019-04-05_05-30-04_smart-5Apr2019-sc-a-ht-generalizedCost/', last_modified=datetime.datetime(2019, 11, 28, 7, 58, 11, tzinfo=tzutc()))\n",
      "BeamFolder(path='backup-11-2019_us-east-1/sfbay-smart-a-lt__2019-04-01_22-46-00_smart-1Apr2019-sc-a-lt-2010/', last_modified=datetime.datetime(2019, 11, 29, 18, 55, 46, tzinfo=tzutc()))\n",
      "BeamFolder(path='backup-11-2019_us-east-1/sfbay-smart-a-lt__2019-04-04_03-06-40_smart-3Apr2019-sc-a-lt-energy/', last_modified=datetime.datetime(2019, 11, 27, 21, 4, 4, tzinfo=tzutc()))\n",
      "BeamFolder(path='backup-11-2019_us-east-1/sfbay-smart-a-lt__2019-04-05_05-28-38_smart-5Apr2019-sc-a-lt-generalizedCost/', last_modified=datetime.datetime(2019, 11, 27, 20, 44, 59, tzinfo=tzutc()))\n",
      "BeamFolder(path='backup-11-2019_us-east-1/sfbay-smart-b-ht__2019-03-28_21-42-18_smart-28Mar2019-sc-b-ht_stuck/', last_modified=datetime.datetime(2019, 11, 28, 7, 16, 2, tzinfo=tzutc()))\n",
      "BeamFolder(path='backup-11-2019_us-east-1/sfbay-smart-b-ht__2019-03-29_01-20-44_rw-smart-b-ht-rh-0.2/', last_modified=datetime.datetime(2019, 11, 27, 21, 26, 41, tzinfo=tzutc()))\n",
      "BeamFolder(path='backup-11-2019_us-east-1/sfbay-smart-b-ht__2019-03-29_01-20-44_rw-smart-b-ht-rh-0.25/', last_modified=datetime.datetime(2019, 11, 29, 19, 50, 53, tzinfo=tzutc()))\n",
      "BeamFolder(path='backup-11-2019_us-east-1/sfbay-smart-b-ht__2019-03-29_01-20-45_rw-smart-b-ht-rh-0.15/', last_modified=datetime.datetime(2019, 11, 28, 9, 47, 40, tzinfo=tzutc()))\n",
      "BeamFolder(path='backup-11-2019_us-east-1/sfbay-smart-b-ht__2019-03-29_01-20-53_rw-smart-b-ht-rh-0.3/', last_modified=datetime.datetime(2019, 11, 28, 10, 33, 6, tzinfo=tzutc()))\n",
      "BeamFolder(path='backup-11-2019_us-east-1/sfbay-smart-b-ht__2019-03-29_02-30-02_rw-smart-b-ht-rh-0.3-buff-300/', last_modified=datetime.datetime(2019, 11, 27, 22, 10, 17, tzinfo=tzutc()))\n",
      "BeamFolder(path='backup-11-2019_us-east-1/sfbay-smart-b-ht__2019-03-29_02-30-04_rw-smart-b-ht-rh-0.2-buff-300/', last_modified=datetime.datetime(2019, 11, 29, 19, 22, 4, tzinfo=tzutc()))\n",
      "BeamFolder(path='backup-11-2019_us-east-1/sfbay-smart-b-ht__2019-03-29_02-32-36_rw-smart-b-ht-rh-0.35-buff-300/', last_modified=datetime.datetime(2019, 11, 28, 8, 1, 34, tzinfo=tzutc()))\n",
      "BeamFolder(path='backup-11-2019_us-east-1/sfbay-smart-b-ht__2019-03-29_04-18-38_smart-28Mar2019-sc-b-ht-0.1/', last_modified=datetime.datetime(2019, 11, 27, 22, 26, 14, tzinfo=tzutc()))\n",
      "BeamFolder(path='backup-11-2019_us-east-1/sfbay-smart-b-ht__2019-04-01_22-46-00_smart-1Apr2019-sc-b-ht-2025/', last_modified=datetime.datetime(2019, 11, 29, 19, 38, 34, tzinfo=tzutc()))\n",
      "BeamFolder(path='backup-11-2019_us-east-1/sfbay-smart-b-ht__2019-04-03_18-42-49_test-energy-zn-b-ht/', last_modified=datetime.datetime(2019, 11, 28, 10, 20, 59, tzinfo=tzutc()))\n",
      "BeamFolder(path='backup-11-2019_us-east-1/sfbay-smart-b-ht__2019-04-21_05-26-19_smart-20Apr2019-sc-b-ht/', last_modified=datetime.datetime(2019, 11, 28, 10, 39, 15, tzinfo=tzutc()))\n",
      "BeamFolder(path='backup-11-2019_us-east-1/sfbay-smart-b-ht__2019-04-22_02-30-07_smart-21Apr2019-sc-b-ht-2/', last_modified=datetime.datetime(2019, 11, 29, 19, 3, 57, tzinfo=tzutc()))\n",
      "BeamFolder(path='backup-11-2019_us-east-1/sfbay-smart-b-lt__2019-03-28_21-32-21_smart-28Mar2019-sc-b-lt-test-1_stuck/', last_modified=datetime.datetime(2019, 11, 29, 18, 16, 33, tzinfo=tzutc()))\n",
      "BeamFolder(path='backup-11-2019_us-east-1/sfbay-smart-b-lt__2019-03-28_21-35-40_smart-28Mar2019-sc-b-lt-test-2_stuck/', last_modified=datetime.datetime(2019, 11, 29, 19, 40, 58, tzinfo=tzutc()))\n",
      "BeamFolder(path='backup-11-2019_us-east-1/sfbay-smart-b-lt__2019-03-28_22-32-54_smart-28Mar2019-sc-b-lt-3/', last_modified=datetime.datetime(2019, 11, 28, 10, 10, 51, tzinfo=tzutc()))\n",
      "BeamFolder(path='backup-11-2019_us-east-1/sfbay-smart-b-lt__2019-03-29_04-13-59_smart-28Mar2019-sc-b-lt-rh-0.098/', last_modified=datetime.datetime(2019, 11, 28, 7, 51, 34, tzinfo=tzutc()))\n",
      "BeamFolder(path='backup-11-2019_us-east-1/sfbay-smart-b-lt__2019-04-04_03-06-20_smart-3Apr2019-sc-b-lt-energy/', last_modified=datetime.datetime(2019, 11, 28, 10, 0, 53, tzinfo=tzutc()))\n",
      "BeamFolder(path='backup-11-2019_us-east-1/sfbay-smart-b-lt__2019-04-05_16-43-38_smart-5Apr2019-sc-b-lt-2040/', last_modified=datetime.datetime(2019, 11, 29, 19, 47, 17, tzinfo=tzutc()))\n",
      "BeamFolder(path='backup-11-2019_us-east-1/sfbay-smart-b-lt__2019-04-21_05-24-54_smart-20Apr2019-sc-b-lt/', last_modified=datetime.datetime(2019, 11, 28, 10, 17, 9, tzinfo=tzutc()))\n",
      "BeamFolder(path='backup-11-2019_us-east-1/sfbay-smart-b-lt__2019-04-22_02-25-12_smart-21Apr2019-sc-b-lt-2/', last_modified=datetime.datetime(2019, 11, 28, 7, 37, 3, tzinfo=tzutc()))\n",
      "BeamFolder(path='backup-11-2019_us-east-1/sfbay-smart-base__2019-03-31_19-43-25_smart-31Mar2019-baseline-2010/', last_modified=datetime.datetime(2019, 11, 29, 19, 31, 26, tzinfo=tzutc()))\n",
      "BeamFolder(path='backup-11-2019_us-east-1/sfbay-smart-base__2019-04-01_22-41-19_smart-1Apr2019-baseline-2010/', last_modified=datetime.datetime(2019, 11, 29, 19, 15, 41, tzinfo=tzutc()))\n",
      "BeamFolder(path='backup-11-2019_us-east-1/sfbay-smart-base__2019-04-04_03-06-21_smart-3Apr2019-baseline-energy/', last_modified=datetime.datetime(2019, 11, 29, 18, 29, 49, tzinfo=tzutc()))\n",
      "BeamFolder(path='backup-11-2019_us-east-1/sfbay-smart-base__2019-04-05_05-28-37_smart-5Apr2019-baseline-generalizedCost/', last_modified=datetime.datetime(2019, 11, 28, 7, 26, 54, tzinfo=tzutc()))\n",
      "BeamFolder(path='backup-11-2019_us-east-1/sfbay-smart-base__2019-04-21_22-26-25_baseline-calibration-smart-rw-79/', last_modified=datetime.datetime(2019, 11, 28, 11, 23, 33, tzinfo=tzutc()))\n",
      "BeamFolder(path='backup-11-2019_us-east-1/sfbay-smart-base__2019-04-21_22-29-23_baseline-calibration-smart-rw-80/', last_modified=datetime.datetime(2019, 11, 28, 8, 8, 29, tzinfo=tzutc()))\n",
      "BeamFolder(path='backup-11-2019_us-east-1/sfbay-smart-base__2019-04-21_22-32-48_baseline-calibration-smart-rw-81/', last_modified=datetime.datetime(2019, 11, 29, 19, 26, 3, tzinfo=tzutc()))\n",
      "BeamFolder(path='backup-11-2019_us-east-1/sfbay-smart-base__2019-04-21_22-33-06_baseline-calibration-smart-rw-82/', last_modified=datetime.datetime(2019, 11, 29, 18, 38, 6, tzinfo=tzutc()))\n",
      "BeamFolder(path='backup-11-2019_us-east-1/sfbay-smart-c-ht__2019-04-03_18-42-49_test-energy-zn-c-ht/', last_modified=datetime.datetime(2019, 11, 28, 10, 3, 54, tzinfo=tzutc()))\n",
      "BeamFolder(path='backup-11-2019_us-east-1/sfbay-smart-c-ht__2019-04-21_05-25-49_smart-20Apr2019-sc-c-ht/', last_modified=datetime.datetime(2019, 11, 29, 18, 33, 6, tzinfo=tzutc()))\n",
      "BeamFolder(path='backup-11-2019_us-east-1/sfbay-smart-c-ht__2019-04-22_02-27-45_smart-21Apr2019-sc-c-ht-2/', last_modified=datetime.datetime(2019, 11, 29, 18, 22, 12, tzinfo=tzutc()))\n",
      "BeamFolder(path='backup-11-2019_us-east-1/sfbay-smart-c-lt__2019-03-28_14-39-30_smart-28Mar2019-sc-c-lt/', last_modified=datetime.datetime(2019, 11, 28, 10, 46, 12, tzinfo=tzutc()))\n",
      "BeamFolder(path='backup-11-2019_us-east-1/sfbay-smart-c-lt__2019-03-29_22-24-21_smart-28Mar2019-sc-c-lt-1/', last_modified=datetime.datetime(2019, 11, 28, 11, 2, 15, tzinfo=tzutc()))\n",
      "BeamFolder(path='backup-11-2019_us-east-1/sfbay-smart-c-lt__2019-04-21_05-24-06_smart-20Apr2019-sc-c-lt/', last_modified=datetime.datetime(2019, 11, 28, 11, 7, 40, tzinfo=tzutc()))\n",
      "BeamFolder(path='backup-11-2019_us-east-1/sfbay-smart-c-lt__2019-04-22_02-30-05_smart-21Apr2019-sc-c-lt-2/', last_modified=datetime.datetime(2019, 11, 28, 10, 28, 46, tzinfo=tzutc()))\n",
      "BeamFolder(path='backup-11-2019_us-east-1/sfbay-smart-testvehicles__2019-04-17_17-04-03_test-new-energy-files-zn/', last_modified=datetime.datetime(2019, 11, 28, 9, 52, 1, tzinfo=tzutc()))\n"
     ]
    },
    {
     "data": {
      "text/plain": "                                                 path  \\\n0   backup-11-2019_us-east-1/haitam_HL-sblt-poolin...   \n1   backup-11-2019_us-east-1/haitam_HL-sblt-poolin...   \n2   backup-11-2019_us-east-1/haitam_HL-sblt-poolin...   \n3   backup-11-2019_us-east-1/haitam_HL-sblt-poolin...   \n4   backup-11-2019_us-east-1/haitam_HL-sblt-poolin...   \n..                                                ...   \n62  backup-11-2019_us-east-1/sfbay-smart-c-lt__201...   \n63  backup-11-2019_us-east-1/sfbay-smart-c-lt__201...   \n64  backup-11-2019_us-east-1/sfbay-smart-c-lt__201...   \n65  backup-11-2019_us-east-1/sfbay-smart-c-lt__201...   \n66  backup-11-2019_us-east-1/sfbay-smart-testvehic...   \n\n                        date  \n0  2019-11-29 21:14:15+00:00  \n1  2019-11-29 20:17:47+00:00  \n2  2019-11-29 21:00:39+00:00  \n3  2019-11-29 21:17:01+00:00  \n4  2019-11-29 20:21:28+00:00  \n..                       ...  \n62 2019-11-28 10:46:12+00:00  \n63 2019-11-28 11:02:15+00:00  \n64 2019-11-28 11:07:40+00:00  \n65 2019-11-28 10:28:46+00:00  \n66 2019-11-28 09:52:01+00:00  \n\n[67 rows x 2 columns]",
      "text/html": "<div>\n<style scoped>\n    .dataframe tbody tr th:only-of-type {\n        vertical-align: middle;\n    }\n\n    .dataframe tbody tr th {\n        vertical-align: top;\n    }\n\n    .dataframe thead th {\n        text-align: right;\n    }\n</style>\n<table border=\"1\" class=\"dataframe\">\n  <thead>\n    <tr style=\"text-align: right;\">\n      <th></th>\n      <th>path</th>\n      <th>date</th>\n    </tr>\n  </thead>\n  <tbody>\n    <tr>\n      <th>0</th>\n      <td>backup-11-2019_us-east-1/haitam_HL-sblt-poolin...</td>\n      <td>2019-11-29 21:14:15+00:00</td>\n    </tr>\n    <tr>\n      <th>1</th>\n      <td>backup-11-2019_us-east-1/haitam_HL-sblt-poolin...</td>\n      <td>2019-11-29 20:17:47+00:00</td>\n    </tr>\n    <tr>\n      <th>2</th>\n      <td>backup-11-2019_us-east-1/haitam_HL-sblt-poolin...</td>\n      <td>2019-11-29 21:00:39+00:00</td>\n    </tr>\n    <tr>\n      <th>3</th>\n      <td>backup-11-2019_us-east-1/haitam_HL-sblt-poolin...</td>\n      <td>2019-11-29 21:17:01+00:00</td>\n    </tr>\n    <tr>\n      <th>4</th>\n      <td>backup-11-2019_us-east-1/haitam_HL-sblt-poolin...</td>\n      <td>2019-11-29 20:21:28+00:00</td>\n    </tr>\n    <tr>\n      <th>...</th>\n      <td>...</td>\n      <td>...</td>\n    </tr>\n    <tr>\n      <th>62</th>\n      <td>backup-11-2019_us-east-1/sfbay-smart-c-lt__201...</td>\n      <td>2019-11-28 10:46:12+00:00</td>\n    </tr>\n    <tr>\n      <th>63</th>\n      <td>backup-11-2019_us-east-1/sfbay-smart-c-lt__201...</td>\n      <td>2019-11-28 11:02:15+00:00</td>\n    </tr>\n    <tr>\n      <th>64</th>\n      <td>backup-11-2019_us-east-1/sfbay-smart-c-lt__201...</td>\n      <td>2019-11-28 11:07:40+00:00</td>\n    </tr>\n    <tr>\n      <th>65</th>\n      <td>backup-11-2019_us-east-1/sfbay-smart-c-lt__201...</td>\n      <td>2019-11-28 10:28:46+00:00</td>\n    </tr>\n    <tr>\n      <th>66</th>\n      <td>backup-11-2019_us-east-1/sfbay-smart-testvehic...</td>\n      <td>2019-11-28 09:52:01+00:00</td>\n    </tr>\n  </tbody>\n</table>\n<p>67 rows × 2 columns</p>\n</div>"
     },
     "metadata": {},
     "output_type": "display_data"
    }
   ],
   "source": [
    "# Searches for beam folders on S3 bucket and saves path/last_modified/size to a csv file (local_files dir)\n",
    "# using low level API to get only the first level of subfolders\n",
    "bucket_name = 'beam-outputs'\n",
    "search_prefix = 'back'\n",
    "\n",
    "s3 = boto3.client('s3', aws_access_key_id=aws_access_key_id,\n",
    "                    aws_secret_access_key=aws_secret_access_key) if aws_access_key_id else boto3.client('s3')\n",
    "paginator = s3.get_paginator('list_objects_v2')\n",
    "\n",
    "from dataclasses import dataclass\n",
    "from datetime import datetime\n",
    "\n",
    "\n",
    "@dataclass\n",
    "class PrefixContent:\n",
    "    prefix: str\n",
    "    objects: []\n",
    "    folders: []\n",
    "    last_modified: datetime\n",
    "@dataclass\n",
    "class BeamFolder:\n",
    "    path: str\n",
    "    last_modified: datetime\n",
    "\n",
    "\n",
    "def find_content(prefix: str):\n",
    "    pages = paginator.paginate(Bucket=bucket_name, Prefix=prefix, Delimiter=\"/\")\n",
    "    objects = []\n",
    "    folders = []\n",
    "    last_modified = None\n",
    "    for page in pages:\n",
    "        if \"Contents\" in page:\n",
    "            for obj in page[\"Contents\"]:\n",
    "                objects.append(obj[\"Key\"])\n",
    "                if not last_modified:\n",
    "                    last_modified = obj[\"LastModified\"]\n",
    "        if \"CommonPrefixes\" in page:\n",
    "            for obj in page[\"CommonPrefixes\"]:\n",
    "                folders.append(obj[\"Prefix\"])\n",
    "\n",
    "    return PrefixContent(prefix, objects, folders, last_modified)\n",
    "\n",
    "\n",
    "def find_beam_folders(prefix: str):\n",
    "    content = find_content(prefix)\n",
    "    if any(x for x in content.folders if x.endswith(\"/ITERS/\")) | any(\n",
    "            x for x in content.objects if x.endswith(\"/beamLog.out\")):\n",
    "        beam_folder = BeamFolder(content.prefix, content.last_modified)\n",
    "        print(beam_folder)\n",
    "        return [beam_folder]\n",
    "    else:\n",
    "        return [x for folder in content.folders for x in find_beam_folders(folder)]\n",
    "\n",
    "\n",
    "beam_folders = find_beam_folders(search_prefix)\n",
    "\n",
    "result = [[x.path, x.last_modified] for x in beam_folders]\n",
    "\n",
    "df = pd.DataFrame(result, columns=[\"path\", \"date\"])\n",
    "file_name = search_prefix.split('/')[-1] + \".csv\"\n",
    "docker_path = \"/home/jovyan/local_files\"\n",
    "dir_to_save = docker_path if os.path.isdir(docker_path) else \"../local_files\"\n",
    "\n",
    "display(df)\n",
    "df.to_csv(os.path.join(dir_to_save, file_name), index=False)\n",
    "\n",
    "\n",
    "# pages = paginator.paginate(Bucket=bucket_name, Prefix=search_prefix, Delimiter=\"/\")\n",
    "# for page in pages:\n",
    "#     print(\"Sub-folders:\", list(obj[\"Prefix\"] for obj in page[\"CommonPrefixes\"]))\n",
    "#     print(\"Objects:\", list(obj[\"Key\"] for obj in page[\"Contents\"]))"
   ]
  },
  {
   "cell_type": "code",
   "execution_count": 3,
   "id": "a3695b04",
   "metadata": {
    "collapsed": false,
    "jupyter": {
     "outputs_hidden": false
    }
   },
   "outputs": [
    {
     "name": "stdout",
     "output_type": "stream",
     "text": [
      "Moving ['sfbay-smart-base__2019-05-22_22-09-53'] to archive/root\n",
      "Moving sfbay-smart-base__2019-05-22_22-09-53 to archive/root\n",
      "\n",
      "Moved sfbay-smart-base__2019-05-22_22-09-53\n",
      "Done\n"
     ]
    }
   ],
   "source": [
    "# move s3 folders (read from a csv file) to some location within the same bucket\n",
    "bucket_name = 'beam-outputs'\n",
    "destination = \"archive/root\"\n",
    "file = \"../local_files/test_moved.csv\"\n",
    "\n",
    "import multiprocessing\n",
    "\n",
    "if destination.endswith(\"/\"): destination = destination[:-1]\n",
    "\n",
    "paths = pd.read_csv(file)['path'].tolist()\n",
    "\n",
    "print(f\"Moving {paths} to {destination}\")\n",
    "\n",
    "s3 = boto3.resource('s3', aws_access_key_id=aws_access_key_id,\n",
    "                    aws_secret_access_key=aws_secret_access_key) if aws_access_key_id else boto3.resource('s3')\n",
    "\n",
    "not_to_delete = pd.read_csv(\"../local_files/not_to_delete.csv\")['path'].tolist()\n",
    "\n",
    "for path in paths:\n",
    "    path = path.strip()\n",
    "    if path.endswith(\"/\"): path = path[:-1]\n",
    "    if path == \"\": continue\n",
    "    if any(x for x in not_to_delete if path.startswith(x)):\n",
    "        print(f\"NOT DELETE {path}\")\n",
    "        continue\n",
    "    print(f\"Moving {path} to {destination}\")\n",
    "\n",
    "    last_index = path.rfind('/')\n",
    "    outer_folder = path[0:last_index] if last_index >= 0 else \"\"\n",
    "    print(outer_folder)\n",
    "\n",
    "    def move_obj(obj_key):\n",
    "        copy_source = {'Bucket': bucket_name, 'Key': obj_key}\n",
    "        new_folder = obj_key[len(outer_folder):]\n",
    "        if  not new_folder.startswith(\"/\"):\n",
    "            new_folder = \"/\" + new_folder\n",
    "        new_key = destination + new_folder\n",
    "        # print(new_key)\n",
    "        s3.meta.client.copy(copy_source, bucket_name, new_key)\n",
    "        s3.meta.client.delete_object(Bucket=bucket_name, Key=obj_key)\n",
    "\n",
    "    bucket = s3.Bucket(bucket_name)\n",
    "    object_keys = [obj.key for obj in bucket.objects.filter(Prefix=path)]\n",
    "    with multiprocessing.Pool(multiprocessing.cpu_count()) as p:\n",
    "        p.map(move_obj, object_keys)\n",
    "\n",
    "    print(f\"Moved {path}\")\n",
    "\n",
    "print(f\"Done\")\n"
   ]
  },
  {
   "cell_type": "code",
   "execution_count": 62,
   "outputs": [
    {
     "name": "stderr",
     "output_type": "stream",
     "text": [
      "/tmp/ipykernel_143676/36514706.py:11: UserWarning: This pattern is interpreted as a regular expression, and has match groups. To actually get the groups, use str.extract.\n",
      "  | (all_data['date'].isna() & all_data['path'].str.contains('20((15)|(16)|(17)|(18)|(19)|(20)|(21))'))\n"
     ]
    },
    {
     "data": {
      "text/plain": "                                                  path       size  \\\n0                                       *_31fd8dfd.zip    6.06 kB   \n1                                       *_a74f8bce.zip  104.23 kB   \n2                                       *_c55cf7ae.zip    6.05 kB   \n3                                       *_fc394242.zip  104.24 kB   \n5                     /base_2018-01-19_21-23-36.tar.gz    5.01 GB   \n..                                                 ...        ...   \n943  pilates-outputs/sfbay-skims/result_skims-sfbay...   85.03 MB   \n944  pilates-outputs/sfbay-skims/result_skims-sfbay...  188.25 MB   \n945  pilates-outputs/sfbay-skims/result_skims-sfbay...   67.96 MB   \n946  pilates-outputs/sfbay-skims/result_skims-sfbay...   61.96 MB   \n947  pilates-outputs/sfbay-skims/result_skims-sfbay...   44.46 MB   \n\n                         date  \\\n0   2018-05-03 23:46:23+03:00   \n1   2019-03-27 00:43:58+03:00   \n2   2018-05-03 21:06:15+03:00   \n3   2019-03-27 00:43:47+03:00   \n5   2018-01-20 13:24:23+03:00   \n..                        ...   \n943 2021-11-17 02:16:04+03:00   \n944 2021-11-17 02:16:04+03:00   \n945 2021-11-17 02:16:04+03:00   \n946 2021-11-17 02:16:04+03:00   \n947 2021-11-17 02:16:04+03:00   \n\n                                                   url  \n0    https://s3.us-east-2.amazonaws.com/beam-output...  \n1    https://s3.us-east-2.amazonaws.com/beam-output...  \n2    https://s3.us-east-2.amazonaws.com/beam-output...  \n3    https://s3.us-east-2.amazonaws.com/beam-output...  \n5    https://s3.us-east-2.amazonaws.com/beam-output...  \n..                                                 ...  \n943  https://s3.us-east-2.amazonaws.com/beam-output...  \n944  https://s3.us-east-2.amazonaws.com/beam-output...  \n945  https://s3.us-east-2.amazonaws.com/beam-output...  \n946  https://s3.us-east-2.amazonaws.com/beam-output...  \n947  https://s3.us-east-2.amazonaws.com/beam-output...  \n\n[909 rows x 4 columns]",
      "text/html": "<div>\n<style scoped>\n    .dataframe tbody tr th:only-of-type {\n        vertical-align: middle;\n    }\n\n    .dataframe tbody tr th {\n        vertical-align: top;\n    }\n\n    .dataframe thead th {\n        text-align: right;\n    }\n</style>\n<table border=\"1\" class=\"dataframe\">\n  <thead>\n    <tr style=\"text-align: right;\">\n      <th></th>\n      <th>path</th>\n      <th>size</th>\n      <th>date</th>\n      <th>url</th>\n    </tr>\n  </thead>\n  <tbody>\n    <tr>\n      <th>0</th>\n      <td>*_31fd8dfd.zip</td>\n      <td>6.06 kB</td>\n      <td>2018-05-03 23:46:23+03:00</td>\n      <td>https://s3.us-east-2.amazonaws.com/beam-output...</td>\n    </tr>\n    <tr>\n      <th>1</th>\n      <td>*_a74f8bce.zip</td>\n      <td>104.23 kB</td>\n      <td>2019-03-27 00:43:58+03:00</td>\n      <td>https://s3.us-east-2.amazonaws.com/beam-output...</td>\n    </tr>\n    <tr>\n      <th>2</th>\n      <td>*_c55cf7ae.zip</td>\n      <td>6.05 kB</td>\n      <td>2018-05-03 21:06:15+03:00</td>\n      <td>https://s3.us-east-2.amazonaws.com/beam-output...</td>\n    </tr>\n    <tr>\n      <th>3</th>\n      <td>*_fc394242.zip</td>\n      <td>104.24 kB</td>\n      <td>2019-03-27 00:43:47+03:00</td>\n      <td>https://s3.us-east-2.amazonaws.com/beam-output...</td>\n    </tr>\n    <tr>\n      <th>5</th>\n      <td>/base_2018-01-19_21-23-36.tar.gz</td>\n      <td>5.01 GB</td>\n      <td>2018-01-20 13:24:23+03:00</td>\n      <td>https://s3.us-east-2.amazonaws.com/beam-output...</td>\n    </tr>\n    <tr>\n      <th>...</th>\n      <td>...</td>\n      <td>...</td>\n      <td>...</td>\n      <td>...</td>\n    </tr>\n    <tr>\n      <th>943</th>\n      <td>pilates-outputs/sfbay-skims/result_skims-sfbay...</td>\n      <td>85.03 MB</td>\n      <td>2021-11-17 02:16:04+03:00</td>\n      <td>https://s3.us-east-2.amazonaws.com/beam-output...</td>\n    </tr>\n    <tr>\n      <th>944</th>\n      <td>pilates-outputs/sfbay-skims/result_skims-sfbay...</td>\n      <td>188.25 MB</td>\n      <td>2021-11-17 02:16:04+03:00</td>\n      <td>https://s3.us-east-2.amazonaws.com/beam-output...</td>\n    </tr>\n    <tr>\n      <th>945</th>\n      <td>pilates-outputs/sfbay-skims/result_skims-sfbay...</td>\n      <td>67.96 MB</td>\n      <td>2021-11-17 02:16:04+03:00</td>\n      <td>https://s3.us-east-2.amazonaws.com/beam-output...</td>\n    </tr>\n    <tr>\n      <th>946</th>\n      <td>pilates-outputs/sfbay-skims/result_skims-sfbay...</td>\n      <td>61.96 MB</td>\n      <td>2021-11-17 02:16:04+03:00</td>\n      <td>https://s3.us-east-2.amazonaws.com/beam-output...</td>\n    </tr>\n    <tr>\n      <th>947</th>\n      <td>pilates-outputs/sfbay-skims/result_skims-sfbay...</td>\n      <td>44.46 MB</td>\n      <td>2021-11-17 02:16:04+03:00</td>\n      <td>https://s3.us-east-2.amazonaws.com/beam-output...</td>\n    </tr>\n  </tbody>\n</table>\n<p>909 rows × 4 columns</p>\n</div>"
     },
     "execution_count": 62,
     "metadata": {},
     "output_type": "execute_result"
    }
   ],
   "source": [
    "# keep data that is after 2022 and the data that is in to_keep.csv\n",
    "\n",
    "to_keep = pd.read_csv(\"../local_files/to_keep.csv\")\n",
    "to_keep_t = tuple(to_keep['path'].tolist())\n",
    "input = \"other_data\"\n",
    "all_data = pd.read_csv(\"../local_files/%s.csv\" % input, names=['path', 'size', 'date'], parse_dates=['date'])\n",
    "# display(all_data)\n",
    "time_thres = pd.Timestamp(\"2022-01-01 00:00:00+00:00\")\n",
    "\n",
    "tbd = all_data[(all_data['date'] < time_thres)\n",
    "                | (all_data['date'].isna() & all_data['path'].str.contains('20((15)|(16)|(17)|(18)|(19)|(20)|(21))'))\n",
    "                | (all_data['path'].str.startswith('archive'))].copy()\n",
    "# display(tbd)\n",
    "\n",
    "\n",
    "tbd['to_keep'] = tbd.apply(lambda row: row['path'].startswith(to_keep_t), axis=1)\n",
    "tbd = tbd[tbd['to_keep'] == False].drop(columns=\"to_keep\")\n",
    "\n",
    "tbd['url'] = \"https://s3.us-east-2.amazonaws.com/beam-outputs/index.html#\" + tbd['path']\n",
    "\n",
    "tbd.to_csv(\"../local_files/%s_tbd.csv\" % input, index=False, header=False)\n",
    "tbd"
   ],
   "metadata": {
    "collapsed": false
   }
  },
  {
   "cell_type": "code",
   "execution_count": 66,
   "outputs": [
    {
     "data": {
      "text/plain": "                                                   path  \\\n0                           archive/root/a_lt_30_hours/   \n1     archive/root/a_lt_30_hours_with_vehicle_retire...   \n2     archive/root/afi-none-200mi-50kw-a-hightech-BE...   \n3     archive/root/afi-rich5-300mi-50kw-a-hightech-B...   \n4     archive/root/afi-sparse-100mi-150kw-a-hightech...   \n...                                                 ...   \n4714  output/sfbay/smart-baseline-45k__2021-12-15_16...   \n4715  output/sfbay/smart-baseline-45k__2021-12-15_20...   \n4716  output/sfbay/smart-baseline-45k__2021-12-15_20...   \n4717  output/sfbay/smart-baseline-45k__2021-12-16_13...   \n4718  output/sfbay/smart-baseline-45k__2021-12-16_13...   \n\n                          date  \\\n0                          NaT   \n1                          NaT   \n2                          NaT   \n3                          NaT   \n4                          NaT   \n...                        ...   \n4714 2021-12-15 16:51:30+00:00   \n4715 2021-12-15 20:30:39+00:00   \n4716 2021-12-15 20:30:56+00:00   \n4717 2021-12-16 14:04:01+00:00   \n4718 2021-12-16 14:04:26+00:00   \n\n                                                    url  \n0     https://s3.us-east-2.amazonaws.com/beam-output...  \n1     https://s3.us-east-2.amazonaws.com/beam-output...  \n2     https://s3.us-east-2.amazonaws.com/beam-output...  \n3     https://s3.us-east-2.amazonaws.com/beam-output...  \n4     https://s3.us-east-2.amazonaws.com/beam-output...  \n...                                                 ...  \n4714  https://s3.us-east-2.amazonaws.com/beam-output...  \n4715  https://s3.us-east-2.amazonaws.com/beam-output...  \n4716  https://s3.us-east-2.amazonaws.com/beam-output...  \n4717  https://s3.us-east-2.amazonaws.com/beam-output...  \n4718  https://s3.us-east-2.amazonaws.com/beam-output...  \n\n[4719 rows x 3 columns]",
      "text/html": "<div>\n<style scoped>\n    .dataframe tbody tr th:only-of-type {\n        vertical-align: middle;\n    }\n\n    .dataframe tbody tr th {\n        vertical-align: top;\n    }\n\n    .dataframe thead th {\n        text-align: right;\n    }\n</style>\n<table border=\"1\" class=\"dataframe\">\n  <thead>\n    <tr style=\"text-align: right;\">\n      <th></th>\n      <th>path</th>\n      <th>date</th>\n      <th>url</th>\n    </tr>\n  </thead>\n  <tbody>\n    <tr>\n      <th>0</th>\n      <td>archive/root/a_lt_30_hours/</td>\n      <td>NaT</td>\n      <td>https://s3.us-east-2.amazonaws.com/beam-output...</td>\n    </tr>\n    <tr>\n      <th>1</th>\n      <td>archive/root/a_lt_30_hours_with_vehicle_retire...</td>\n      <td>NaT</td>\n      <td>https://s3.us-east-2.amazonaws.com/beam-output...</td>\n    </tr>\n    <tr>\n      <th>2</th>\n      <td>archive/root/afi-none-200mi-50kw-a-hightech-BE...</td>\n      <td>NaT</td>\n      <td>https://s3.us-east-2.amazonaws.com/beam-output...</td>\n    </tr>\n    <tr>\n      <th>3</th>\n      <td>archive/root/afi-rich5-300mi-50kw-a-hightech-B...</td>\n      <td>NaT</td>\n      <td>https://s3.us-east-2.amazonaws.com/beam-output...</td>\n    </tr>\n    <tr>\n      <th>4</th>\n      <td>archive/root/afi-sparse-100mi-150kw-a-hightech...</td>\n      <td>NaT</td>\n      <td>https://s3.us-east-2.amazonaws.com/beam-output...</td>\n    </tr>\n    <tr>\n      <th>...</th>\n      <td>...</td>\n      <td>...</td>\n      <td>...</td>\n    </tr>\n    <tr>\n      <th>4714</th>\n      <td>output/sfbay/smart-baseline-45k__2021-12-15_16...</td>\n      <td>2021-12-15 16:51:30+00:00</td>\n      <td>https://s3.us-east-2.amazonaws.com/beam-output...</td>\n    </tr>\n    <tr>\n      <th>4715</th>\n      <td>output/sfbay/smart-baseline-45k__2021-12-15_20...</td>\n      <td>2021-12-15 20:30:39+00:00</td>\n      <td>https://s3.us-east-2.amazonaws.com/beam-output...</td>\n    </tr>\n    <tr>\n      <th>4716</th>\n      <td>output/sfbay/smart-baseline-45k__2021-12-15_20...</td>\n      <td>2021-12-15 20:30:56+00:00</td>\n      <td>https://s3.us-east-2.amazonaws.com/beam-output...</td>\n    </tr>\n    <tr>\n      <th>4717</th>\n      <td>output/sfbay/smart-baseline-45k__2021-12-16_13...</td>\n      <td>2021-12-16 14:04:01+00:00</td>\n      <td>https://s3.us-east-2.amazonaws.com/beam-output...</td>\n    </tr>\n    <tr>\n      <th>4718</th>\n      <td>output/sfbay/smart-baseline-45k__2021-12-16_13...</td>\n      <td>2021-12-16 14:04:26+00:00</td>\n      <td>https://s3.us-east-2.amazonaws.com/beam-output...</td>\n    </tr>\n  </tbody>\n</table>\n<p>4719 rows × 3 columns</p>\n</div>"
     },
     "execution_count": 66,
     "metadata": {},
     "output_type": "execute_result"
    }
   ],
   "source": [
    "# Add url column\n",
    "\n",
    "input = \"beam_output\"\n",
    "all_data = pd.read_csv(\"../local_files/%s.csv\" % input, names=['path', 'date'], parse_dates=['date'])\n",
    "\n",
    "all_data['url'] = \"https://s3.us-east-2.amazonaws.com/beam-outputs/index.html#\" + all_data['path']\n",
    "\n",
    "all_data.to_csv(\"../local_files/%s_url.csv\" % input, index=False, header=False)\n",
    "all_data"
   ],
   "metadata": {
    "collapsed": false
   }
  }
 ],
 "metadata": {
  "kernelspec": {
   "display_name": "Python 3 (ipykernel)",
   "language": "python",
   "name": "python3"
  },
  "language_info": {
   "codemirror_mode": {
    "name": "ipython",
    "version": 3
   },
   "file_extension": ".py",
   "mimetype": "text/x-python",
   "name": "python",
   "nbconvert_exporter": "python",
   "pygments_lexer": "ipython3",
   "version": "3.10.8"
  }
 },
 "nbformat": 4,
 "nbformat_minor": 5
}
