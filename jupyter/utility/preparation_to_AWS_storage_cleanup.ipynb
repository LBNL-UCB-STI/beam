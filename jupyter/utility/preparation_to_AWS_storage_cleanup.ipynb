{
 "cells": [
  {
   "cell_type": "code",
   "execution_count": 1,
   "id": "db9d4bd7-e387-48c1-994d-93ee1cf5b70e",
   "metadata": {},
   "outputs": [],
   "source": [
    "import pandas as pd\n",
    "import numpy as np\n",
    "import matplotlib.pyplot as plt\n",
    "\n",
    "pd.set_option('display.max_rows', 500)\n",
    "pd.set_option('display.max_columns', 500)\n",
    "pd.set_option('display.width', 1000)\n"
   ]
  },
  {
   "cell_type": "code",
   "execution_count": 3,
   "id": "e61319a2-356c-455b-8ab4-1568055a2bcb",
   "metadata": {},
   "outputs": [],
   "source": [
    "## define a method to check if beam log exists\n",
    "import requests\n",
    "\n",
    "def beam_log_exists(path):\n",
    "    if(not isinstance(path, str)):\n",
    "        return False\n",
    "    s3url_fixed = path\n",
    "    if path and (\"#output/*/*\" not in path):\n",
    "        s3url_fixed = path.replace(\"s3.us-east-2.amazonaws.com/beam-outputs/index.html#output\",\"beam-outputs.s3.amazonaws.com/output\").strip()\n",
    "    beam_log_path = f\"{s3url_fixed}/beamLog.out\"\n",
    "    try:\n",
    "        r = requests.head(beam_log_path)\n",
    "        return r.status_code == requests.codes.ok\n",
    "    except Exception:\n",
    "        return False\n",
    "\n",
    "# output_path = \" https://s3.us-east-2.amazonaws.com/beam-outputs/index.html#output/sfbay/sfbay-smart-ba1se__2019-10-23_13-18-45\"\n",
    "# print(beam_log_exists(output_path))"
   ]
  },
  {
   "cell_type": "code",
   "execution_count": 4,
   "id": "dd26aa6c-a311-4bd8-ad0e-1e30dbdcf491",
   "metadata": {},
   "outputs": [
    {
     "name": "stdout",
     "output_type": "stream",
     "text": [
      "read index :1\n",
      "read index :501\n",
      "read index :1001\n",
      "read index :1501\n",
      "read index :2001\n",
      "read index :2501\n",
      "read index :3001\n",
      "read index :3501\n",
      "read index :4001\n",
      "read index :4501\n",
      "read index :5001\n",
      "read index :5501\n",
      "read index :6001\n",
      "read index :6501\n",
      "read index :7001\n",
      "read index :7501\n",
      "read index :8001\n",
      "read index :8501\n",
      "read index :9001\n",
      "read index :9501\n",
      "read index :10001\n",
      "read index :10501\n",
      "read index :11001\n",
      "read index :11501\n",
      "read index :12001\n",
      "read index :12501\n",
      "read index :13001\n",
      "read index :13501\n",
      "read index :14001\n",
      "read index :14501\n",
      "read index :15001\n",
      "read index :15501\n",
      "read index :16001\n",
      "found rows:4703\n"
     ]
    }
   ],
   "source": [
    "## reading exported csv\n",
    "\n",
    "csv_data = pd.read_csv(\"../local_files/BEAM Deploy Status and Run Data - BEAM Instances.csv\", parse_dates=['Time'])\n",
    "\n",
    "exist_rows = []\n",
    "non_exist_rows = []\n",
    "\n",
    "index = 0\n",
    "for s3url in csv_data['S3 Url'].copy():\n",
    "    index=index+1\n",
    "    if index % 500 == 1:\n",
    "        print(\"read index :\" + str(index))\n",
    "    # if index > 360:\n",
    "    #     break\n",
    "\n",
    "    if(not isinstance(s3url, str)):\n",
    "        continue\n",
    "    # if 'https://' not in s3url:\n",
    "    #     s3url=csv_data['S3 output path'][index-1]\n",
    "    # if 'https://' not in s3url:\n",
    "    #     s3url=csv_data['Commit'][index-1]\n",
    "    \n",
    "    branch = csv_data['Branch'][index-1]\n",
    "    time = csv_data['Time'][index-1]\n",
    "    \n",
    "    if 'https://' not in s3url:\n",
    "        non_exist_rows.append((branch, time, s3url))\n",
    "        continue\n",
    "\n",
    "    #csv_data['Time'][index-1]\n",
    "    if(beam_log_exists(s3url)):\n",
    "        exist_rows.append((branch, time, s3url))\n",
    "    else:\n",
    "        non_exist_rows.append((branch, time, s3url))\n",
    "\n",
    "print(\"found rows:\" + str(len(exist_rows)))\n"
   ]
  },
  {
   "cell_type": "code",
   "execution_count": 6,
   "id": "34826f97-a415-453d-8b87-138181281513",
   "metadata": {},
   "outputs": [],
   "source": [
    "## sorting the rows which still in S3 bucket\n",
    "\n",
    "# https://www.programiz.com/python-programming/methods/list/sort\n",
    "exist_rows.sort(key=lambda x: x[0])\n"
   ]
  },
  {
   "cell_type": "code",
   "execution_count": 7,
   "id": "edd55a03-9abf-403b-81bf-cd554a922363",
   "metadata": {},
   "outputs": [
    {
     "name": "stdout",
     "output_type": "stream",
     "text": [
      "                               branch                 time                                              s3url\n",
      "0  AK/#2624-merg-urbansim-with-austin  2020-05-16 13:18:09   https://s3.us-east-2.amazonaws.com/beam-outpu...\n",
      "1  AK/#2624-merg-urbansim-with-austin  2020-05-16 19:57:54   https://s3.us-east-2.amazonaws.com/beam-outpu...\n",
      "2  AK/#2624-merg-urbansim-with-austin  2020-05-16 23:36:04   https://s3.us-east-2.amazonaws.com/beam-outpu...\n",
      "3  AK/#2624-merg-urbansim-with-austin  2020-05-17 21:51:58   https://s3.us-east-2.amazonaws.com/beam-outpu...\n",
      "4  AK/#2624-merg-urbansim-with-austin  2020-05-21 17:15:34   https://s3.us-east-2.amazonaws.com/beam-outpu...\n",
      "5  AK/#2624-merg-urbansim-with-austin  2020-05-21 18:26:04   https://s3.us-east-2.amazonaws.com/beam-outpu...\n",
      "6  AK/#2624-merg-urbansim-with-austin  2020-05-31 07:47:18   https://s3.us-east-2.amazonaws.com/beam-outpu...\n",
      "7  AK/#2624-merg-urbansim-with-austin  2020-05-31 18:56:55   https://s3.us-east-2.amazonaws.com/beam-outpu...\n",
      "8  AK/#2624-merg-urbansim-with-austin  2020-06-01 18:13:03   https://s3.us-east-2.amazonaws.com/beam-outpu...\n",
      "9  AK/#2624-merg-urbansim-with-austin  2020-06-01 18:58:45   https://s3.us-east-2.amazonaws.com/beam-outpu...\n"
     ]
    }
   ],
   "source": [
    "## generate output.csv\n",
    "pd.DataFrame(exist_rows).to_csv(\"../local_files/preparation_to_AWS_storage_cleanup.csv\", header=[\"branch\", \"time\", \"s3url\"], index=None)\n",
    "\n",
    "output_data = pd.read_csv(\"../local_files/preparation_to_AWS_storage_cleanup.csv\")\n",
    "\n",
    "print(output_data.head(10))\n"
   ]
  },
  {
   "cell_type": "code",
   "execution_count": null,
   "id": "27567203-495f-419e-9343-449b1c5a5ece",
   "metadata": {},
   "outputs": [],
   "source": []
  }
 ],
 "metadata": {
  "kernelspec": {
   "display_name": "Python 3 (ipykernel)",
   "language": "python",
   "name": "python3"
  },
  "language_info": {
   "codemirror_mode": {
    "name": "ipython",
    "version": 3
   },
   "file_extension": ".py",
   "mimetype": "text/x-python",
   "name": "python",
   "nbconvert_exporter": "python",
   "pygments_lexer": "ipython3",
   "version": "3.9.10"
  }
 },
 "nbformat": 4,
 "nbformat_minor": 5
}