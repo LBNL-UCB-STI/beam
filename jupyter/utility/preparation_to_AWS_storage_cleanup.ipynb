{
 "cells": [
  {
   "cell_type": "code",
   "execution_count": 1,
   "id": "db9d4bd7-e387-48c1-994d-93ee1cf5b70e",
   "metadata": {},
   "outputs": [],
   "source": [
    "import pandas as pd\n",
    "import numpy as np\n",
    "import matplotlib.pyplot as plt\n",
    "\n",
    "pd.set_option('display.max_rows', 500)\n",
    "pd.set_option('display.max_columns', 500)\n",
    "pd.set_option('display.width', 1000)\n"
   ]
  },
  {
   "cell_type": "code",
   "execution_count": 6,
   "id": "e61319a2-356c-455b-8ab4-1568055a2bcb",
   "metadata": {},
   "outputs": [],
   "source": [
    "## define a method to check if beam log exists\n",
    "import requests\n",
    "\n",
    "def beam_log_exists(path):\n",
    "    if(not isinstance(path, str)):\n",
    "        return False\n",
    "    s3url_fixed = path\n",
    "    if path and (\"#output/*/*\" not in path):\n",
    "        s3url_fixed = path.replace(\"s3.us-east-2.amazonaws.com/beam-outputs/index.html#output\",\"beam-outputs.s3.amazonaws.com/output\").strip()\n",
    "    else:\n",
    "        return False\n",
    "    \n",
    "    beam_log_path = f\"{s3url_fixed}/beamLog.out\"\n",
    "    # print(beam_log_path)\n",
    "    try:\n",
    "        r = requests.head(beam_log_path)\n",
    "        return r.status_code == requests.codes.ok\n",
    "    except Exception:\n",
    "        return False\n",
    "\n",
    "# output_path = \"https://s3.us-east-2.amazonaws.com/beam-outputs/index.html#output/*/*\"\n",
    "# print(beam_log_exists(output_path))"
   ]
  },
  {
   "cell_type": "code",
   "execution_count": 9,
   "id": "dd26aa6c-a311-4bd8-ad0e-1e30dbdcf491",
   "metadata": {},
   "outputs": [
    {
     "name": "stdout",
     "output_type": "stream",
     "text": [
      "Current Time = 14:32:22, 1 out of 16012\n",
      "Current Time = 14:36:00, 501 out of 16012\n",
      "Current Time = 14:39:43, 1001 out of 16012\n",
      "Current Time = 14:43:24, 1501 out of 16012\n",
      "Current Time = 14:47:51, 2001 out of 16012\n",
      "Current Time = 14:50:28, 2501 out of 16012\n",
      "Current Time = 14:54:16, 3001 out of 16012\n",
      "Current Time = 14:58:45, 3501 out of 16012\n",
      "Current Time = 15:03:09, 4001 out of 16012\n",
      "Current Time = 15:07:24, 4501 out of 16012\n",
      "Current Time = 15:11:50, 5001 out of 16012\n",
      "Current Time = 15:16:12, 5501 out of 16012\n",
      "Current Time = 15:20:46, 6001 out of 16012\n",
      "Current Time = 15:25:08, 6501 out of 16012\n",
      "Current Time = 15:29:23, 7001 out of 16012\n",
      "Current Time = 15:33:35, 7501 out of 16012\n",
      "Current Time = 15:37:13, 8001 out of 16012\n",
      "Current Time = 15:41:15, 8501 out of 16012\n",
      "Current Time = 15:44:48, 9001 out of 16012\n",
      "Current Time = 15:48:09, 9501 out of 16012\n",
      "Current Time = 15:51:49, 10001 out of 16012\n",
      "Current Time = 15:55:49, 10501 out of 16012\n",
      "Current Time = 15:59:10, 11001 out of 16012\n",
      "Current Time = 16:02:25, 11501 out of 16012\n",
      "Current Time = 16:05:47, 12001 out of 16012\n",
      "Current Time = 16:09:09, 12501 out of 16012\n",
      "Current Time = 16:12:59, 13001 out of 16012\n",
      "Current Time = 16:16:47, 13501 out of 16012\n",
      "Current Time = 16:20:02, 14001 out of 16012\n",
      "Current Time = 16:23:03, 14501 out of 16012\n",
      "Current Time = 16:26:32, 15001 out of 16012\n",
      "Current Time = 16:30:11, 15501 out of 16012\n",
      "Current Time = 16:34:35, 16001 out of 16012\n",
      "found rows:4052\n"
     ]
    }
   ],
   "source": [
    "## reading exported csv\n",
    "from datetime import datetime\n",
    "\n",
    "csv_data = pd.read_csv(\"../local_files/BEAM Deploy Status and Run Data - BEAM Instances.csv\", parse_dates=['Time'])\n",
    "\n",
    "exist_rows = []\n",
    "non_exist_rows = []\n",
    "total_row_length=len(csv_data['S3 Url'])\n",
    "\n",
    "index = 0\n",
    "for s3url in csv_data['S3 Url'].copy():\n",
    "    index=index+1\n",
    "    if index % 500 == 1:\n",
    "        now = datetime.now()\n",
    "        current_time = now.strftime(\"%H:%M:%S\")\n",
    "        print('Current Time = %s, %d out of %d' % (current_time, index, total_row_length))\n",
    "    # if index > 360:\n",
    "    #     break\n",
    "\n",
    "    if(not isinstance(s3url, str)):\n",
    "        continue\n",
    "    # if 'https://' not in s3url:\n",
    "    #     s3url=csv_data['S3 output path'][index-1]\n",
    "    # if 'https://' not in s3url:\n",
    "    #     s3url=csv_data['Commit'][index-1]\n",
    "    \n",
    "    branch = csv_data['Branch'][index-1]\n",
    "    time = csv_data['Time'][index-1]\n",
    "    \n",
    "    if 'https://' not in s3url:\n",
    "        non_exist_rows.append((branch, time, s3url))\n",
    "        continue\n",
    "\n",
    "    #csv_data['Time'][index-1]\n",
    "    if(beam_log_exists(s3url)):\n",
    "        exist_rows.append((branch, time, s3url))\n",
    "    else:\n",
    "        non_exist_rows.append((branch, time, s3url))\n",
    "\n",
    "print(\"found rows:\" + str(len(exist_rows)))\n"
   ]
  },
  {
   "cell_type": "code",
   "execution_count": 10,
   "id": "34826f97-a415-453d-8b87-138181281513",
   "metadata": {},
   "outputs": [],
   "source": [
    "## sorting the rows which still in S3 bucket\n",
    "\n",
    "# https://www.programiz.com/python-programming/methods/list/sort\n",
    "exist_rows.sort(key=lambda x: x[0])\n"
   ]
  },
  {
   "cell_type": "code",
   "execution_count": 11,
   "id": "edd55a03-9abf-403b-81bf-cd554a922363",
   "metadata": {},
   "outputs": [
    {
     "name": "stdout",
     "output_type": "stream",
     "text": [
      "                               branch                 time                                              s3url\n",
      "0  AK/#2624-merg-urbansim-with-austin  2020-05-16 19:57:54   https://s3.us-east-2.amazonaws.com/beam-outpu...\n",
      "1  AK/#2624-merg-urbansim-with-austin  2020-05-16 23:36:04   https://s3.us-east-2.amazonaws.com/beam-outpu...\n",
      "2  AK/#2624-merg-urbansim-with-austin  2020-05-17 21:51:58   https://s3.us-east-2.amazonaws.com/beam-outpu...\n",
      "3  AK/#2624-merg-urbansim-with-austin  2020-05-21 17:15:34   https://s3.us-east-2.amazonaws.com/beam-outpu...\n",
      "4  AK/#2624-merg-urbansim-with-austin  2020-05-21 18:26:04   https://s3.us-east-2.amazonaws.com/beam-outpu...\n",
      "5  AK/#2624-merg-urbansim-with-austin  2020-05-31 07:47:18   https://s3.us-east-2.amazonaws.com/beam-outpu...\n",
      "6  AK/#2624-merg-urbansim-with-austin  2020-05-31 18:56:55   https://s3.us-east-2.amazonaws.com/beam-outpu...\n",
      "7  AK/#2624-merg-urbansim-with-austin  2020-06-01 18:13:03   https://s3.us-east-2.amazonaws.com/beam-outpu...\n",
      "8  AK/#2624-merg-urbansim-with-austin  2020-06-01 18:58:45   https://s3.us-east-2.amazonaws.com/beam-outpu...\n",
      "9  AK/#2624-merg-urbansim-with-austin  2020-06-01 20:07:14   https://s3.us-east-2.amazonaws.com/beam-outpu...\n"
     ]
    }
   ],
   "source": [
    "## generate output.csv\n",
    "pd.DataFrame(exist_rows).to_csv(\"../local_files/preparation_to_AWS_storage_cleanup.csv\", header=[\"branch\", \"time\", \"s3url\"], index=None)\n",
    "\n",
    "output_data = pd.read_csv(\"../local_files/preparation_to_AWS_storage_cleanup.csv\")\n",
    "\n",
    "print(output_data.head(10))\n"
   ]
  },
  {
   "cell_type": "code",
   "execution_count": null,
   "id": "27567203-495f-419e-9343-449b1c5a5ece",
   "metadata": {},
   "outputs": [],
   "source": []
  }
 ],
 "metadata": {
  "kernelspec": {
   "display_name": "Python 3 (ipykernel)",
   "language": "python",
   "name": "python3"
  },
  "language_info": {
   "codemirror_mode": {
    "name": "ipython",
    "version": 3
   },
   "file_extension": ".py",
   "mimetype": "text/x-python",
   "name": "python",
   "nbconvert_exporter": "python",
   "pygments_lexer": "ipython3",
   "version": "3.9.10"
  }
 },
 "nbformat": 4,
 "nbformat_minor": 5
}
