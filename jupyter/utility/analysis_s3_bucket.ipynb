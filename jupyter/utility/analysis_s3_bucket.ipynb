{
 "cells": [
  {
   "cell_type": "code",
   "execution_count": null,
   "id": "2d00c07b-6cb1-4b5e-b4c4-4f3647c0517a",
   "metadata": {},
   "outputs": [],
   "source": [
    "import requests\n",
    "import xml.etree.ElementTree as ET\n",
    "import pandas as pd\n",
    "import math\n",
    "from datetime import datetime\n",
    "\n",
    "directory_depth=2\n",
    "\n",
    "xmlns='{http://s3.amazonaws.com/doc/2006-03-01/}'\n",
    "\n",
    "base_beam_s3_url='https://beam-outputs.s3.amazonaws.com/?list-type=2&delimiter=%2F'\n",
    "# resp = requests.get(base_beam_s3_url)\n",
    "\n",
    "# print(resp)\n",
    "# print(resp.content)\n"
   ]
  },
  {
   "cell_type": "code",
   "execution_count": null,
   "id": "473574a7-67c8-4df3-a947-3a3b54dca0c7",
   "metadata": {},
   "outputs": [],
   "source": [
    "def bytesToSize(bytes):\n",
    "    sizes = ['Bytes', 'KB', 'MB', 'GB', 'TB']\n",
    "    if (bytes == 0):\n",
    "        return '0 Bytes'\n",
    "    ii = int(math.floor(math.log(bytes) / math.log(1024)))\n",
    "    num = round(bytes / math.pow(1024, ii), 2)\n",
    "    return '%d %s' % (num, sizes[ii])"
   ]
  },
  {
   "cell_type": "code",
   "execution_count": null,
   "id": "c9537b69-bc1c-436a-9471-5d87b95a9e8a",
   "metadata": {},
   "outputs": [],
   "source": [
    "\n",
    "def add_s3_object_to_array(prefix, result_array):\n",
    "    \n",
    "#     if len(result_array)>1000:\n",
    "#         return\n",
    "\n",
    "    now = datetime.now()\n",
    "    current_time = now.strftime(\"%H:%M:%S\")\n",
    "    print('Current Time = %s, result_array size is %d' % (current_time, len(result_array)) )\n",
    "    print('calling add_s3_object_to_array with prefix:' + prefix)\n",
    "    print('')\n",
    "\n",
    "    s3_url = base_beam_s3_url\n",
    "    s3_prefix = 'beam-outputs/'\n",
    "    if prefix != '':\n",
    "        s3_url = f'{base_beam_s3_url}&prefix={prefix}%2F'\n",
    "        s3_prefix = f'beam-outputs/{prefix}/'\n",
    "    resp = requests.get(s3_url)\n",
    "    root = ET.fromstring(resp.content)\n",
    "    \n",
    "    try:\n",
    "        prefix_of_node=root.find(f'{xmlns}Prefix').text\n",
    "        folder_names=[]\n",
    "        second_round_sub_folders=[]\n",
    "        for common_prefix in root.iter(f'{xmlns}CommonPrefixes'):\n",
    "            sub_prefix=common_prefix.find(f'{xmlns}Prefix').text\n",
    "            if sub_prefix != prefix_of_node and \"index.html#pilates-outputs\" not in sub_prefix:\n",
    "                folder_names.append(sub_prefix[:-1])\n",
    "\n",
    "        for content in root.iter(f'{xmlns}Contents'):\n",
    "            key=content.find(f'{xmlns}Key').text\n",
    "            size=content.find(f'{xmlns}Size').text\n",
    "            LastModified=content.find(f'{xmlns}LastModified').text\n",
    "            if key in folder_names:\n",
    "                second_round_sub_folders.append(key)\n",
    "            elif prefix_of_node != key and size.isnumeric():\n",
    "                result_array.append((f'{s3_prefix}{key}', LastModified, bytesToSize(int(size)), size))\n",
    "\n",
    "        # print('folder_names size is %d' % len(folder_names) )\n",
    "        if(len(folder_names) > 0):\n",
    "            print(folder_names)\n",
    "            for sub_folder in folder_names:\n",
    "                if sub_folder != '':\n",
    "                    add_s3_object_to_array(sub_folder, result_array)\n",
    "    except Exception as e:\n",
    "        print(root)\n",
    "        print(root.find(f'{xmlns}Prefix'))\n",
    "        print(e)  \n",
    "    \n",
    "result_array_out=[]\n",
    "add_s3_object_to_array('', result_array_out)\n",
    "   \n",
    "print(len(result_array_out))   \n",
    "# print(result_array)"
   ]
  },
  {
   "cell_type": "code",
   "execution_count": 4,
   "id": "37bbeb34-56f7-4fff-8382-60c6adf0bbfa",
   "metadata": {},
   "outputs": [
    {
     "name": "stdout",
     "output_type": "stream",
     "text": [
      "3793987\n"
     ]
    }
   ],
   "source": [
    "\n",
    "## sorting the rows which still in S3 bucket\n",
    "print(len(result_array_out)) \n",
    "# https://www.programiz.com/python-programming/methods/list/sort\n",
    "result_array_out.sort(key=lambda x: x[0])\n",
    "\n",
    "# rows_order_by_file_size=result_array_out.sort(key=lambda x: x[2])"
   ]
  },
  {
   "cell_type": "code",
   "execution_count": 6,
   "id": "0642105e-1cdb-4de6-b235-242ea6a0a6e7",
   "metadata": {},
   "outputs": [
    {
     "name": "stdout",
     "output_type": "stream",
     "text": [
      "                                                path  \\\n",
      "0                        beam-outputs/*_31fd8dfd.zip   \n",
      "1                        beam-outputs/*_a74f8bce.zip   \n",
      "2                        beam-outputs/*_c55cf7ae.zip   \n",
      "3                        beam-outputs/*_fc394242.zip   \n",
      "4  beam-outputs/18_222_150_89_cloud-init-output.l...   \n",
      "5              beam-outputs/2018-01/2018-01/base.log   \n",
      "6  beam-outputs/2018-01/2018-01/base_2018-01-17_1...   \n",
      "7  beam-outputs/2018-01/2018-01/base_2018-01-17_1...   \n",
      "8  beam-outputs/2018-01/2018-01/base_2018-01-19_2...   \n",
      "9  beam-outputs/2018-01/2018-01/base_2018-01-22_1...   \n",
      "\n",
      "                       time    size      size.1  \n",
      "0  2018-05-03T20:46:23.000Z    5 KB        6064  \n",
      "1  2019-03-26T21:43:58.000Z  101 KB      104231  \n",
      "2  2018-05-03T18:06:15.000Z    5 KB        6053  \n",
      "3  2019-03-26T21:43:47.000Z  101 KB      104236  \n",
      "4  2018-06-20T14:52:09.000Z    1 MB     1776945  \n",
      "5  2018-01-15T20:23:56.000Z  233 KB      238795  \n",
      "6  2018-01-17T15:50:16.000Z  169 MB   177286726  \n",
      "7  2018-01-17T16:51:51.000Z  422 MB   442961203  \n",
      "8  2018-01-21T16:59:48.000Z    4 GB  5010377314  \n",
      "9  2018-01-22T19:14:09.000Z  448 MB   470161645  \n"
     ]
    }
   ],
   "source": [
    "## generate output.csv\n",
    "pd.DataFrame(result_array_out).to_csv(\"../local_files/rows_order_by_path.csv\", header=[\"path\", \"time\", \"size\", \"size\"], index=None)\n",
    "\n",
    "rows_order_by_path_csv = pd.read_csv(\"../local_files/rows_order_by_path.csv\")\n",
    "\n",
    "print(rows_order_by_path_csv.head(10))\n"
   ]
  },
  {
   "cell_type": "code",
   "execution_count": null,
   "id": "92f6cbaf-c1b2-47de-b42e-fa2e27e29d18",
   "metadata": {},
   "outputs": [],
   "source": []
  }
 ],
 "metadata": {
  "kernelspec": {
   "display_name": "Python 3 (ipykernel)",
   "language": "python",
   "name": "python3"
  },
  "language_info": {
   "codemirror_mode": {
    "name": "ipython",
    "version": 3
   },
   "file_extension": ".py",
   "mimetype": "text/x-python",
   "name": "python",
   "nbconvert_exporter": "python",
   "pygments_lexer": "ipython3",
   "version": "3.9.10"
  }
 },
 "nbformat": 4,
 "nbformat_minor": 5
}
