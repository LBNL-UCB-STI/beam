{
 "cells": [
  {
   "cell_type": "code",
   "execution_count": null,
   "id": "2b062f14-c7a6-4b83-bfc6-2ce83774fc04",
   "metadata": {},
   "outputs": [],
   "source": [
    "import pandas as pd\n",
    "import numpy as np\n",
    "import matplotlib.pyplot as plt\n",
    "\n",
    "pd.set_option('display.max_rows', 500)\n",
    "pd.set_option('display.max_columns', 500)\n",
    "pd.set_option('display.width', 1000)\n",
    "pd.set_option('max_colwidth', None)"
   ]
  },
  {
   "cell_type": "code",
   "execution_count": null,
   "id": "d61be453-d0c2-4138-a8d4-ad2706931e16",
   "metadata": {},
   "outputs": [],
   "source": [
    "events_path = \"https://beam-outputs.s3.amazonaws.com/output/beamville/beamville__2022-12-27_16-04-11_czt/ITERS/it.0/0.events.csv\"\n",
    "# !wget \"$events_path\"\n",
    "# !ls\n",
    "\n",
    "chunks_list = []\n",
    "### filtering only refuel session events,\n",
    "### using only columns with useful data\n",
    "for chunk in pd.read_csv(events_path, usecols=['type','time','chargingPointType','price','fuel','duration'], chunksize=500000):\n",
    "    chunks_list.append(chunk[chunk['type'] == 'RefuelSessionEvent'])\n",
    "\n",
    "events_charging = pd.concat(chunks_list)\n",
    "events_charging['hour'] = events_charging['time'] // 3600\n",
    "\n",
    "selected_columns = ['hour','chargingPointType','price','fuel','duration']\n",
    "events_charging = events_charging[selected_columns].copy()\n",
    "\n",
    "print(events_charging.shape)\n",
    "display(events_charging.head(3))"
   ]
  },
  {
   "cell_type": "code",
   "execution_count": null,
   "id": "dfe22437-85ae-4c9a-9b0b-7b59586b721a",
   "metadata": {},
   "outputs": [],
   "source": [
    "### preparing the dataframe with charging events to be plot as area\n",
    "### i.e. for each pair (hour, charging point type) all values should be in DataFrame (or 0 if no values)\n",
    "\n",
    "events = events_charging.groupby(['hour','chargingPointType']).agg(list)\n",
    "\n",
    "all_charging_point_types = list(events.index.unique('chargingPointType'))\n",
    "\n",
    "#\n",
    "# adding rows of zeros for all missing index (hour, charging point type) keys\n",
    "#\n",
    "missing_index = []\n",
    "for an_hour in list(events.index.unique('hour')):\n",
    "    for a_charging_point_type in all_charging_point_types:\n",
    "        an_index_key = (an_hour, a_charging_point_type)\n",
    "        if an_index_key not in events.index:\n",
    "            missing_index.append(an_index_key)\n",
    "\n",
    "current_index = list(events.index.values)\n",
    "events = events.reindex(current_index + missing_index).sort_index().reset_index()\n",
    "\n",
    "\n",
    "#\n",
    "# reformatting DataFrame\n",
    "#\n",
    "\n",
    "def sum_or_zero(maybe_list):\n",
    "    if isinstance(maybe_list, list):\n",
    "        return float(sum(maybe_list))\n",
    "    return 0.0\n",
    "\n",
    "def len_or_zero(maybe_list):\n",
    "    if isinstance(maybe_list, list):\n",
    "        return len(maybe_list)\n",
    "    return 0\n",
    "\n",
    "dfs = []\n",
    "for a_charging_point_type in all_charging_point_types:\n",
    "    df = events[events['chargingPointType'] == a_charging_point_type].set_index('hour')[['price','fuel','duration']]\n",
    "    df['count'] = df.apply(lambda x: len_or_zero(x['price']), axis=1)\n",
    "    df['price'] = df.apply(lambda x: sum_or_zero(x['price']), axis=1)\n",
    "    df['fuel'] = df.apply(lambda x: sum_or_zero(x['fuel']), axis=1)\n",
    "    df['duration'] = df.apply(lambda x: sum_or_zero(x['duration']), axis=1)\n",
    "\n",
    "    df.columns = map(lambda col_name: f\"{a_charging_point_type}_{col_name}\", df.columns)\n",
    "    dfs.append(df)\n",
    "    \n",
    "df_merged = dfs[0]\n",
    "for df in dfs[1:]:\n",
    "    df_merged = df_merged.join(df)\n",
    "    \n",
    "print(f\"there are {len(df_merged)} rows in resulting DataFrame\")\n",
    "display(df_merged.head(2))"
   ]
  },
  {
   "cell_type": "code",
   "execution_count": null,
   "id": "7b9547ce-4ebd-4110-b940-5281159be4d0",
   "metadata": {},
   "outputs": [],
   "source": [
    "### plotting for count, fuel, duration and price\n",
    "\n",
    "df = df_merged.reset_index()\n",
    "\n",
    "df['hour_24'] = df['hour'] % 24\n",
    "df = df.groupby('hour_24').sum()\n",
    "\n",
    "fig, axs = plt.subplots(nrows=2, ncols=2, figsize=(22,13))\n",
    "\n",
    "for (figtype, axis) in zip(['count','fuel', 'duration', 'price'], [axs[0,0], axs[0,1], axs[1,0], axs[1,1]]):\n",
    "    df[[col for col in df.columns if figtype in col]].plot.area(ax=axis)\n"
   ]
  },
  {
   "cell_type": "code",
   "execution_count": null,
   "id": "54c0349d-f1ac-44cd-8c07-d953960ddecf",
   "metadata": {},
   "outputs": [],
   "source": [
    "### an example of an area plot\n",
    "\n",
    "df = pd.DataFrame({\n",
    "    'sales': [3, 2, 3, 9, 10, 6],\n",
    "    'signups': [5, 5, 6, 12, 14, 13],\n",
    "    'visits': [20, 42, 28, 62, 81, 50],\n",
    "}, index=pd.date_range(start='2018/01/01', end='2018/07/01', freq='M'))\n",
    "\n",
    "display(df)\n",
    "ax = df.plot.area()"
   ]
  },
  {
   "cell_type": "code",
   "execution_count": null,
   "id": "58c6dfea-2cf1-4b30-b876-fe6051be7e58",
   "metadata": {},
   "outputs": [],
   "source": []
  }
 ],
 "metadata": {
  "kernelspec": {
   "display_name": "Python 3 (ipykernel)",
   "language": "python",
   "name": "python3"
  },
  "language_info": {
   "codemirror_mode": {
    "name": "ipython",
    "version": 3
   },
   "file_extension": ".py",
   "mimetype": "text/x-python",
   "name": "python",
   "nbconvert_exporter": "python",
   "pygments_lexer": "ipython3",
   "version": "3.9.10"
  }
 },
 "nbformat": 4,
 "nbformat_minor": 5
}
