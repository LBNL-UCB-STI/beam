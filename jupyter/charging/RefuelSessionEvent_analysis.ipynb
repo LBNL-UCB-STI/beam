{
 "cells": [
  {
   "cell_type": "code",
   "execution_count": 1,
   "id": "2b062f14-c7a6-4b83-bfc6-2ce83774fc04",
   "metadata": {},
   "outputs": [],
   "source": [
    "import pandas as pd\n",
    "import numpy as np\n",
    "import matplotlib.pyplot as plt\n",
    "\n",
    "pd.set_option('display.max_rows', 500)\n",
    "pd.set_option('display.max_columns', 500)\n",
    "pd.set_option('display.width', 1000)\n",
    "pd.set_option('max_colwidth', None)"
   ]
  },
  {
   "cell_type": "code",
   "execution_count": 2,
   "id": "d61be453-d0c2-4138-a8d4-ad2706931e16",
   "metadata": {},
   "outputs": [
    {
     "name": "stdout",
     "output_type": "stream",
     "text": [
      "(8, 5)\n"
     ]
    },
    {
     "data": {
      "text/html": [
       "<div>\n",
       "<style scoped>\n",
       "    .dataframe tbody tr th:only-of-type {\n",
       "        vertical-align: middle;\n",
       "    }\n",
       "\n",
       "    .dataframe tbody tr th {\n",
       "        vertical-align: top;\n",
       "    }\n",
       "\n",
       "    .dataframe thead th {\n",
       "        text-align: right;\n",
       "    }\n",
       "</style>\n",
       "<table border=\"1\" class=\"dataframe\">\n",
       "  <thead>\n",
       "    <tr style=\"text-align: right;\">\n",
       "      <th></th>\n",
       "      <th>hour</th>\n",
       "      <th>chargingPointType</th>\n",
       "      <th>price</th>\n",
       "      <th>fuel</th>\n",
       "      <th>duration</th>\n",
       "    </tr>\n",
       "  </thead>\n",
       "  <tbody>\n",
       "    <tr>\n",
       "      <th>3638</th>\n",
       "      <td>7.0</td>\n",
       "      <td>dcfast(50.0|DC)</td>\n",
       "      <td>0.0</td>\n",
       "      <td>0.0</td>\n",
       "      <td>0.0</td>\n",
       "    </tr>\n",
       "    <tr>\n",
       "      <th>3640</th>\n",
       "      <td>7.0</td>\n",
       "      <td>dcfast(50.0|DC)</td>\n",
       "      <td>0.0</td>\n",
       "      <td>0.0</td>\n",
       "      <td>0.0</td>\n",
       "    </tr>\n",
       "    <tr>\n",
       "      <th>3642</th>\n",
       "      <td>7.0</td>\n",
       "      <td>dcfast(50.0|DC)</td>\n",
       "      <td>0.0</td>\n",
       "      <td>0.0</td>\n",
       "      <td>0.0</td>\n",
       "    </tr>\n",
       "  </tbody>\n",
       "</table>\n",
       "</div>"
      ],
      "text/plain": [
       "      hour chargingPointType  price  fuel  duration\n",
       "3638   7.0   dcfast(50.0|DC)    0.0   0.0       0.0\n",
       "3640   7.0   dcfast(50.0|DC)    0.0   0.0       0.0\n",
       "3642   7.0   dcfast(50.0|DC)    0.0   0.0       0.0"
      ]
     },
     "metadata": {},
     "output_type": "display_data"
    }
   ],
   "source": [
    "events_path = \"https://beam-outputs.s3.amazonaws.com/output/beamville/beamville__2022-12-27_16-04-11_czt/ITERS/it.0/0.events.csv\"\n",
    "# !wget \"$events_path\"\n",
    "# !ls\n",
    "\n",
    "events_all = pd.read_csv(events_path, low_memory=False)\n",
    "# print(events_all['type'].unique())\n",
    "\n",
    "### filtering only refuel session events,\n",
    "### using only columns with useful data\n",
    "\n",
    "events_charging = events_all[events_all['type'] == 'RefuelSessionEvent'].copy()\n",
    "events_charging['hour'] = events_charging['time'] // 3600\n",
    "\n",
    "# for column in events_charging.columns:\n",
    "#     print(column, events_charging[column].unique())\n",
    "\n",
    "selected_columns = ['hour','chargingPointType','price','fuel','duration']\n",
    "events_charging = events_charging[selected_columns].copy()\n",
    "\n",
    "print(events_charging.shape)\n",
    "display(events_charging.head(3))"
   ]
  },
  {
   "cell_type": "code",
   "execution_count": 3,
   "id": "dfe22437-85ae-4c9a-9b0b-7b59586b721a",
   "metadata": {},
   "outputs": [
    {
     "name": "stdout",
     "output_type": "stream",
     "text": [
      "there are 2 rows in resulting DataFrame\n"
     ]
    },
    {
     "data": {
      "text/html": [
       "<div>\n",
       "<style scoped>\n",
       "    .dataframe tbody tr th:only-of-type {\n",
       "        vertical-align: middle;\n",
       "    }\n",
       "\n",
       "    .dataframe tbody tr th {\n",
       "        vertical-align: top;\n",
       "    }\n",
       "\n",
       "    .dataframe thead th {\n",
       "        text-align: right;\n",
       "    }\n",
       "</style>\n",
       "<table border=\"1\" class=\"dataframe\">\n",
       "  <thead>\n",
       "    <tr style=\"text-align: right;\">\n",
       "      <th></th>\n",
       "      <th>dcfast(50.0|DC)_price</th>\n",
       "      <th>dcfast(50.0|DC)_fuel</th>\n",
       "      <th>dcfast(50.0|DC)_duration</th>\n",
       "      <th>dcfast(50.0|DC)_count</th>\n",
       "      <th>level1(2.3|AC)_price</th>\n",
       "      <th>level1(2.3|AC)_fuel</th>\n",
       "      <th>level1(2.3|AC)_duration</th>\n",
       "      <th>level1(2.3|AC)_count</th>\n",
       "    </tr>\n",
       "    <tr>\n",
       "      <th>hour</th>\n",
       "      <th></th>\n",
       "      <th></th>\n",
       "      <th></th>\n",
       "      <th></th>\n",
       "      <th></th>\n",
       "      <th></th>\n",
       "      <th></th>\n",
       "      <th></th>\n",
       "    </tr>\n",
       "  </thead>\n",
       "  <tbody>\n",
       "    <tr>\n",
       "      <th>7.0</th>\n",
       "      <td>0.0</td>\n",
       "      <td>0.0</td>\n",
       "      <td>0.0</td>\n",
       "      <td>3</td>\n",
       "      <td>0.0</td>\n",
       "      <td>2309200.0</td>\n",
       "      <td>1004.0</td>\n",
       "      <td>1</td>\n",
       "    </tr>\n",
       "    <tr>\n",
       "      <th>20.0</th>\n",
       "      <td>0.0</td>\n",
       "      <td>0.0</td>\n",
       "      <td>0.0</td>\n",
       "      <td>3</td>\n",
       "      <td>0.0</td>\n",
       "      <td>2996900.0</td>\n",
       "      <td>1303.0</td>\n",
       "      <td>1</td>\n",
       "    </tr>\n",
       "  </tbody>\n",
       "</table>\n",
       "</div>"
      ],
      "text/plain": [
       "      dcfast(50.0|DC)_price  dcfast(50.0|DC)_fuel  dcfast(50.0|DC)_duration  dcfast(50.0|DC)_count  level1(2.3|AC)_price  level1(2.3|AC)_fuel  level1(2.3|AC)_duration  level1(2.3|AC)_count\n",
       "hour                                                                                                                                                                                        \n",
       "7.0                     0.0                   0.0                       0.0                      3                   0.0            2309200.0                   1004.0                     1\n",
       "20.0                    0.0                   0.0                       0.0                      3                   0.0            2996900.0                   1303.0                     1"
      ]
     },
     "metadata": {},
     "output_type": "display_data"
    }
   ],
   "source": [
    "### preparing the dataframe with charging events to be plot as area\n",
    "### i.e. for each pair (hour, charging point type) all values should be in DataFrame (or 0 if no values)\n",
    "\n",
    "events = events_charging.groupby(['hour','chargingPointType']).agg(list)\n",
    "\n",
    "all_charging_point_types = list(events.index.unique('chargingPointType'))\n",
    "\n",
    "#\n",
    "# adding rows of zeros for all missing index (hour, charging point type) keys\n",
    "#\n",
    "missing_index = []\n",
    "for an_hour in list(events.index.unique('hour')):\n",
    "    for a_charging_point_type in all_charging_point_types:\n",
    "        an_index_key = (an_hour, a_charging_point_type)\n",
    "        if an_index_key not in events.index:\n",
    "            missing_index.append(an_index_key)\n",
    "\n",
    "current_index = list(events.index.values)\n",
    "events = events.reindex(current_index + missing_index).sort_index().reset_index()\n",
    "\n",
    "\n",
    "#\n",
    "# reformatting DataFrame\n",
    "#\n",
    "\n",
    "def sum_or_zero(maybe_list):\n",
    "    if isinstance(maybe_list, list):\n",
    "        return float(sum(maybe_list))\n",
    "    return 0.0\n",
    "\n",
    "def len_or_zero(maybe_list):\n",
    "    if isinstance(maybe_list, list):\n",
    "        return len(maybe_list)\n",
    "    return 0\n",
    "\n",
    "dfs = []\n",
    "for a_charging_point_type in all_charging_point_types:\n",
    "    df = events[events['chargingPointType'] == a_charging_point_type].set_index('hour')[['price','fuel','duration']]\n",
    "    df['count'] = df.apply(lambda x: len_or_zero(x['price']), axis=1)\n",
    "    df['price'] = df.apply(lambda x: sum_or_zero(x['price']), axis=1)\n",
    "    df['fuel'] = df.apply(lambda x: sum_or_zero(x['fuel']), axis=1)\n",
    "    df['duration'] = df.apply(lambda x: sum_or_zero(x['duration']), axis=1)\n",
    "\n",
    "    df.columns = map(lambda col_name: f\"{a_charging_point_type}_{col_name}\", df.columns)\n",
    "    dfs.append(df)\n",
    "    \n",
    "df_merged = dfs[0]\n",
    "for df in dfs[1:]:\n",
    "    df_merged = df_merged.join(df)\n",
    "    \n",
    "print(f\"there are {len(df_merged)} rows in resulting DataFrame\")\n",
    "display(df_merged.head(2))"
   ]
  },
  {
   "cell_type": "code",
   "execution_count": 4,
   "id": "7b9547ce-4ebd-4110-b940-5281159be4d0",
   "metadata": {},
   "outputs": [
    {
     "data": {
      "image/png": "[encoded data removed]",
      "text/plain": [
       "<Figure size 1584x936 with 4 Axes>"
      ]
     },
     "metadata": {
      "needs_background": "light"
     },
     "output_type": "display_data"
    }
   ],
   "source": [
    "### plotting for count, fuel, duration and price\n",
    "\n",
    "df = df_merged[df_merged.index < 30]\n",
    "\n",
    "fig, axs = plt.subplots(nrows=2, ncols=2, figsize=(22,13))\n",
    "\n",
    "for (figtype, axis) in zip(['count','fuel', 'duration', 'price'], [axs[0,0], axs[0,1], axs[1,0], axs[1,1]]):\n",
    "    df[[col for col in df.columns if figtype in col]].plot.area(ax=axis)\n"
   ]
  },
  {
   "cell_type": "code",
   "execution_count": 5,
   "id": "54c0349d-f1ac-44cd-8c07-d953960ddecf",
   "metadata": {},
   "outputs": [
    {
     "data": {
      "text/html": [
       "<div>\n",
       "<style scoped>\n",
       "    .dataframe tbody tr th:only-of-type {\n",
       "        vertical-align: middle;\n",
       "    }\n",
       "\n",
       "    .dataframe tbody tr th {\n",
       "        vertical-align: top;\n",
       "    }\n",
       "\n",
       "    .dataframe thead th {\n",
       "        text-align: right;\n",
       "    }\n",
       "</style>\n",
       "<table border=\"1\" class=\"dataframe\">\n",
       "  <thead>\n",
       "    <tr style=\"text-align: right;\">\n",
       "      <th></th>\n",
       "      <th>sales</th>\n",
       "      <th>signups</th>\n",
       "      <th>visits</th>\n",
       "    </tr>\n",
       "  </thead>\n",
       "  <tbody>\n",
       "    <tr>\n",
       "      <th>2018-01-31</th>\n",
       "      <td>3</td>\n",
       "      <td>5</td>\n",
       "      <td>20</td>\n",
       "    </tr>\n",
       "    <tr>\n",
       "      <th>2018-02-28</th>\n",
       "      <td>2</td>\n",
       "      <td>5</td>\n",
       "      <td>42</td>\n",
       "    </tr>\n",
       "    <tr>\n",
       "      <th>2018-03-31</th>\n",
       "      <td>3</td>\n",
       "      <td>6</td>\n",
       "      <td>28</td>\n",
       "    </tr>\n",
       "    <tr>\n",
       "      <th>2018-04-30</th>\n",
       "      <td>9</td>\n",
       "      <td>12</td>\n",
       "      <td>62</td>\n",
       "    </tr>\n",
       "    <tr>\n",
       "      <th>2018-05-31</th>\n",
       "      <td>10</td>\n",
       "      <td>14</td>\n",
       "      <td>81</td>\n",
       "    </tr>\n",
       "    <tr>\n",
       "      <th>2018-06-30</th>\n",
       "      <td>6</td>\n",
       "      <td>13</td>\n",
       "      <td>50</td>\n",
       "    </tr>\n",
       "  </tbody>\n",
       "</table>\n",
       "</div>"
      ],
      "text/plain": [
       "            sales  signups  visits\n",
       "2018-01-31      3        5      20\n",
       "2018-02-28      2        5      42\n",
       "2018-03-31      3        6      28\n",
       "2018-04-30      9       12      62\n",
       "2018-05-31     10       14      81\n",
       "2018-06-30      6       13      50"
      ]
     },
     "metadata": {},
     "output_type": "display_data"
    },
    {
     "data": {
      "image/png": "[encoded data removed]",
      "text/plain": [
       "<Figure size 432x288 with 1 Axes>"
      ]
     },
     "metadata": {
      "needs_background": "light"
     },
     "output_type": "display_data"
    }
   ],
   "source": [
    "### an example of an area plot\n",
    "\n",
    "df = pd.DataFrame({\n",
    "    'sales': [3, 2, 3, 9, 10, 6],\n",
    "    'signups': [5, 5, 6, 12, 14, 13],\n",
    "    'visits': [20, 42, 28, 62, 81, 50],\n",
    "}, index=pd.date_range(start='2018/01/01', end='2018/07/01', freq='M'))\n",
    "\n",
    "display(df)\n",
    "ax = df.plot.area()"
   ]
  },
  {
   "cell_type": "code",
   "execution_count": null,
   "id": "58c6dfea-2cf1-4b30-b876-fe6051be7e58",
   "metadata": {},
   "outputs": [],
   "source": []
  }
 ],
 "metadata": {
  "kernelspec": {
   "display_name": "Python 3 (ipykernel)",
   "language": "python",
   "name": "python3"
  },
  "language_info": {
   "codemirror_mode": {
    "name": "ipython",
    "version": 3
   },
   "file_extension": ".py",
   "mimetype": "text/x-python",
   "name": "python",
   "nbconvert_exporter": "python",
   "pygments_lexer": "ipython3",
   "version": "3.9.10"
  }
 },
 "nbformat": 4,
 "nbformat_minor": 5
}
