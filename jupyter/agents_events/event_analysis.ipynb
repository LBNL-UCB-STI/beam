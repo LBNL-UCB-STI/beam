{
 "cells": [
  {
   "cell_type": "code",
   "execution_count": 1,
   "metadata": {
    "ExecuteTime": {
     "end_time": "2023-10-17T12:18:04.107798Z",
     "start_time": "2023-10-17T12:18:04.017668Z"
    }
   },
   "outputs": [],
   "source": [
    "import pandas as pd\n",
    "\n",
    "import util.beam_data as bd\n",
    "from util.data import find_last_created_dir\n",
    "from util.data import meaningful"
   ]
  },
  {
   "cell_type": "code",
   "execution_count": 2,
   "metadata": {
    "ExecuteTime": {
     "end_time": "2023-10-17T12:18:15.030442Z",
     "start_time": "2023-10-17T12:18:07.270886Z"
    }
   },
   "outputs": [
    {
     "name": "stdout",
     "output_type": "stream",
     "text": [
      "Using beam out dir: ../beam_root/output/sf-light/rhtp-multi-rhm__2023-10-17_12-18-33_pkp\n",
      "events file url: ../beam_root/output/sf-light/rhtp-multi-rhm__2023-10-17_12-18-33_pkp/ITERS/it.0/0.events.csv.gz\n",
      "loading took 4.245180130004883 seconds\n"
     ]
    },
    {
     "data": {
      "text/plain": [
       "'516845 4975'"
      ]
     },
     "metadata": {},
     "output_type": "display_data"
    }
   ],
   "source": [
    "#Loading beam events from beam_out. It searches for the last created dir in beam output directory\n",
    "root = \"../beam_root\"\n",
    "pd.set_option('display.max_rows', 1000)\n",
    "beam_out_path = None\n",
    "# beam_out_path = \"sfbay/gemini-scenario-5-calibrate5p__2022-12-30_12-46-10_nyq\"\n",
    "beam_out = find_last_created_dir(f\"{root}/output\", level = 1, num = 0) if beam_out_path is None else f\"{root}/output/{beam_out_path}\"\n",
    "print(f\"Using beam out dir: {beam_out}\")\n",
    "it = 0\n",
    "ev = bd.load_events(f\"{beam_out}/ITERS/it.{it}/{it}.events.csv.gz\")\n",
    "\n",
    "display(str(ev.shape[0]) + \" \" + str(ev[(ev['type'] == 'PersonEntersVehicle') & ev['vehicle'].str.startswith('body-')].shape[0]))\n"
   ]
  },
  {
   "cell_type": "code",
   "execution_count": 3,
   "metadata": {
    "ExecuteTime": {
     "end_time": "2023-10-17T12:18:23.914573Z",
     "start_time": "2023-10-17T12:18:21.239392Z"
    }
   },
   "outputs": [],
   "source": [
    "pte = meaningful(ev[(ev['type'] == 'PathTraversal')])\n",
    "pev = meaningful(ev[(ev['type'] == 'PersonEntersVehicle')])\n",
    "plv = meaningful(ev[(ev['type'] == 'PersonLeavesVehicle')])\n",
    "lpe = meaningful(ev[(ev['type'] == 'LeavingParkingEvent')])\n",
    "pe = meaningful(ev[(ev['type'] == 'ParkingEvent')])\n",
    "mc = meaningful(ev[(ev['type'] == 'ModeChoice')])\n",
    "actstart = meaningful(ev[(ev['type'] == 'actstart')])\n",
    "actend = meaningful(ev[(ev['type'] == 'actend')])\n",
    "repl = meaningful(ev[(ev['type'] == 'Replanning')])\n",
    "rh_confirm = meaningful(ev[(ev['type'] == 'RideHailReservationConfirmation')])\n",
    "reserv_rh = meaningful(ev[(ev['type'] == 'ReserveRideHail')])\n",
    "person_cost = meaningful(ev[(ev['type'] == 'PersonCost')])\n",
    "# ev['type'].unique()"
   ]
  },
  {
   "cell_type": "code",
   "execution_count": 20,
   "metadata": {
    "ExecuteTime": {
     "end_time": "2023-10-17T12:19:20.427161Z",
     "start_time": "2023-10-17T12:19:20.410839Z"
    },
    "collapsed": false,
    "jupyter": {
     "outputs_hidden": false
    }
   },
   "outputs": [
    {
     "data": {
      "text/html": [
       "<div>\n",
       "<style scoped>\n",
       "    .dataframe tbody tr th:only-of-type {\n",
       "        vertical-align: middle;\n",
       "    }\n",
       "\n",
       "    .dataframe tbody tr th {\n",
       "        vertical-align: top;\n",
       "    }\n",
       "\n",
       "    .dataframe thead th {\n",
       "        text-align: right;\n",
       "    }\n",
       "</style>\n",
       "<table border=\"1\" class=\"dataframe\">\n",
       "  <thead>\n",
       "    <tr style=\"text-align: right;\">\n",
       "      <th></th>\n",
       "      <th>time</th>\n",
       "      <th>type</th>\n",
       "      <th>person</th>\n",
       "      <th>mode</th>\n",
       "      <th>currentTourMode</th>\n",
       "      <th>length</th>\n",
       "      <th>availableAlternatives</th>\n",
       "      <th>location</th>\n",
       "      <th>personalVehicleAvailable</th>\n",
       "      <th>tourIndex</th>\n",
       "      <th>legModes</th>\n",
       "      <th>legVehicleIds</th>\n",
       "      <th>currentActivity</th>\n",
       "      <th>nextActivity</th>\n",
       "      <th>hour</th>\n",
       "    </tr>\n",
       "  </thead>\n",
       "  <tbody>\n",
       "  </tbody>\n",
       "</table>\n",
       "</div>"
      ],
      "text/plain": [
       "Empty DataFrame\n",
       "Columns: [time, type, person, mode, currentTourMode, length, availableAlternatives, location, personalVehicleAvailable, tourIndex, legModes, legVehicleIds, currentActivity, nextActivity, hour]\n",
       "Index: []"
      ]
     },
     "execution_count": 20,
     "metadata": {},
     "output_type": "execute_result"
    }
   ],
   "source": [
    "display(mc[mc['availableAlternatives'].str.contains(\"ride_hail_transit\", case=False, na=False)])\n",
    "mc[mc['mode'] == \"ride_hail\"]"
   ]
  },
  {
   "cell_type": "code",
   "execution_count": null,
   "metadata": {
    "ExecuteTime": {
     "end_time": "2023-10-17T12:18:44.488613Z",
     "start_time": "2023-10-17T12:18:44.374907Z"
    },
    "collapsed": false,
    "jupyter": {
     "outputs_hidden": false
    }
   },
   "outputs": [],
   "source": [
    "pte_pooled = pte[pte['vehicle'].str.startswith('ride') & (pte['numPassengers'] > 1)].copy()\n",
    "pte_pooled"
   ]
  },
  {
   "cell_type": "code",
   "execution_count": null,
   "metadata": {
    "ExecuteTime": {
     "end_time": "2023-10-11T18:57:28.319187Z",
     "start_time": "2023-10-11T18:57:28.140879Z"
    }
   },
   "outputs": [],
   "source": [
    "# a particular person events\n",
    "person_id = '016000-2015000256008-0-6543940'\n",
    "\n",
    "meaningful(ev[(ev['person'] == person_id) | (ev['vehicle'] == f'body-{person_id}') | (ev['driver'] == person_id)\n",
    "              | ev['riders'].str.contains(f'{person_id}:') | ev['riders'].str.contains(f':{person_id}') | (ev['riders'] == person_id)])"
   ]
  },
  {
   "cell_type": "code",
   "execution_count": null,
   "metadata": {},
   "outputs": [],
   "source": [
    "# events related to freight fleets\n",
    "freight_ev = ev[(ev['vehicle'].str.startswith(\"freight\", na=False)) | (ev['person'].str.startswith(\"freight\", na=False))][['person', 'actType', 'time', 'type', 'vehicle', 'mode',\n",
    "      'locationY', 'locationX', 'secondaryFuelLevel', 'startX',\n",
    "      'startY', 'endX', 'endY', 'vehicleType',\n",
    "      'arrivalTime', 'departureTime'\n",
    "      ]]\n",
    "\n",
    "freight_ev[freight_ev['type'].isin(['actstart', 'actend', 'PathTraversal'])]"
   ]
  },
  {
   "cell_type": "code",
   "execution_count": 4,
   "metadata": {},
   "outputs": [
    {
     "data": {
      "text/plain": [
       "array(['PersonEntersVehicle', 'PathTraversal', 'ModeChoice', 'actend',\n",
       "       'ReserveRideHail', 'LeavingParkingEvent', 'ParkingEvent',\n",
       "       'PersonLeavesVehicle', 'actstart', 'ChargingPlugInEvent',\n",
       "       'RefuelSessionEvent', 'ChargingPlugOutEvent', 'Replanning'],\n",
       "      dtype=object)"
      ]
     },
     "execution_count": 4,
     "metadata": {},
     "output_type": "execute_result"
    }
   ],
   "source": [
    "# event types\n",
    "ev['type'].unique()"
   ]
  },
  {
   "cell_type": "code",
   "execution_count": null,
   "metadata": {},
   "outputs": [],
   "source": [
    "# bike PTE\n",
    "bikes = pte[(pte['mode'] == 'bike')][['vehicle', 'driver', 'time', 'length', 'departureTime', 'arrivalTime',\n",
    "                                      'linkTravelTime', 'startX', 'startY', 'endY', 'endX', 'vehicleType', 'links']].copy()\n",
    "# bikes[bikes['vehicle'].str.startswith('bay')]\n"
   ]
  },
  {
   "cell_type": "code",
   "execution_count": null,
   "metadata": {},
   "outputs": [],
   "source": [
    "# WALK pte and walk travel time\n",
    "walks = pte[(pte['mode'] == 'walk')][['vehicle', 'driver', 'time', 'length', 'departureTime', 'arrivalTime',\n",
    "                                      'linkTravelTime', 'startX', 'startY', 'endY', 'endX', 'vehicleType', 'links']].copy()\n",
    "walks['travel_time'] = walks[\"arrivalTime\"] - walks[\"departureTime\"]\n",
    "walks[\"travel_time\"].sum()"
   ]
  }
 ],
 "metadata": {
  "kernelspec": {
   "display_name": "Python 3 (ipykernel)",
   "language": "python",
   "name": "python3"
  },
  "language_info": {
   "codemirror_mode": {
    "name": "ipython",
    "version": 3
   },
   "file_extension": ".py",
   "mimetype": "text/x-python",
   "name": "python",
   "nbconvert_exporter": "python",
   "pygments_lexer": "ipython3",
   "version": "3.10.8"
  }
 },
 "nbformat": 4,
 "nbformat_minor": 4
}
