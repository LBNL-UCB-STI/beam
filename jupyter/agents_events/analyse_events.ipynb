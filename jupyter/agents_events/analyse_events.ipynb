{
 "cells": [
  {
   "cell_type": "code",
   "execution_count": null,
   "id": "0e3ae17c-23dd-44c3-9d63-1bbd01937667",
   "metadata": {},
   "outputs": [],
   "source": [
    "import pandas as pd\n",
    "import numpy as np\n",
    "import matplotlib.pyplot as plt\n",
    "import os\n",
    "\n",
    "pd.set_option('display.max_rows', None)\n",
    "pd.set_option('display.max_columns', None)\n",
    "pd.set_option('display.width', None)\n",
    "pd.set_option('display.max_colwidth', None)\n",
    "\n",
    "\n",
    "def try_read_akka_events(base_path, iteration):\n",
    "    dfs = []\n",
    "\n",
    "    for i in range(0,100):\n",
    "        actor_events_path = f\"{base_path}/ITERS/it.{iteration}/{iteration}.actor_messages_{i}.csv.gz\"\n",
    "        if not os.path.isfile(actor_events_path): \n",
    "            break\n",
    "        df = pd.read_csv(actor_events_path)\n",
    "        dfs.append(df)\n",
    "\n",
    "    print(f\"There were {len(dfs)} chunks\")\n",
    "    if len(dfs) > 0:\n",
    "        actor_events = pd.concat(dfs)\n",
    "        return actor_events\n",
    "    else:\n",
    "        print(\"No chunks - no events\")\n",
    "        return False\n",
    "    \n",
    "    \n",
    "def read_beam_events(base_path, iteration):\n",
    "    events_path =  f\"{base_path}/ITERS/it.{iteration}/{iteration}.events.csv\"\n",
    "    if os.path.isfile(events_path): \n",
    "        events = pd.read_csv(events_path)\n",
    "        return events\n",
    "    \n",
    "    events_path =  f\"{base_path}/ITERS/it.{iteration}/{iteration}.events.csv.gz\"\n",
    "    if os.path.isfile(events_path): \n",
    "        events = pd.read_csv(events_path)\n",
    "        return events\n",
    "        \n",
    "    return False\n",
    "    \n",
    "\n",
    "def read_keys_from_full_config(base_path):\n",
    "    config_keys = [\"simulationName\", \"replanOnTheFlyWhenHouseholdVehiclesAreNotAvailable\"]\n",
    "    config_map = {}\n",
    "    \n",
    "    full_config_path = f\"{base_path}/fullBeamConfig.conf\"\n",
    "    with open(full_config_path) as file:\n",
    "        for line in file:\n",
    "            for key in config_keys:\n",
    "                if key in line:\n",
    "                    config_val = line.strip().split('=')[-1]\n",
    "                    old_val = config_map.get(key,\"\")\n",
    "                    if old_val:\n",
    "                        config_map[key] = f\"{old_val}; {config_val}\"\n",
    "                    else:\n",
    "                        config_map[key] = config_val\n",
    "    return config_map\n",
    "\n",
    "print(\"init complete\")"
   ]
  },
  {
   "cell_type": "code",
   "execution_count": null,
   "id": "9c286b9a-d026-4e38-9e08-2c3e528901c5",
   "metadata": {},
   "outputs": [],
   "source": [
    "base_output_path = '../../output/beamville'\n",
    "\n",
    "subfolders = sorted([ f.path for f in os.scandir(base_output_path) if f.is_dir() ])\n",
    "for subfolder in subfolders:\n",
    "    print(subfolder)"
   ]
  },
  {
   "cell_type": "code",
   "execution_count": null,
   "id": "107c893b-b1bf-40f2-ac59-5a3ae429bb3b",
   "metadata": {},
   "outputs": [],
   "source": [
    "def plot_chosen_events_for_selected_person(base_path):\n",
    "    events = read_beam_events(base_path, 0)\n",
    "    chosen_events = events[(events['person'] == '2') & (events['type'].isin(set(['ModeChoice','Replanning'])))]\n",
    "    chosen_columns = [\"person\", \"time\", \"type\", \"mode\", \"currentTourMode\", \"length\", \"availableAlternatives\", \n",
    "                      \"location\", \"personalVehicleAvailable\", \"tourIndex\", \"legModes\", \"legVehicleIds\", \"reason\"]\n",
    "    display(chosen_events[chosen_columns])    \n",
    "\n",
    "for base_path in subfolders:\n",
    "    config = read_keys_from_full_config(base_path)\n",
    "    print(f\"\\n{config['simulationName']}, feature: {config['replanOnTheFlyWhenHouseholdVehiclesAreNotAvailable']}\")\n",
    "    plot_chosen_events_for_selected_person(base_path)"
   ]
  },
  {
   "cell_type": "code",
   "execution_count": null,
   "id": "cd8c9fd4-d7f6-4be4-9c61-35f5a6f06f99",
   "metadata": {},
   "outputs": [],
   "source": [
    "actor_events = actor_events.fillna(\"\")\n",
    "actor_events[actor_events['state'].str.contains('eplanning')]"
   ]
  },
  {
   "cell_type": "code",
   "execution_count": null,
   "id": "55cd3a8c-b4a3-48e0-9698-09aeb75e9cef",
   "metadata": {},
   "outputs": [],
   "source": [
    "rh_agents = []\n",
    "for sender in events['sender_name'].unique():\n",
    "    if 'rideHailAgent' in sender and '-L5' in sender:\n",
    "        rh_agents.append(sender)\n",
    "        \n",
    "print(f\"there are {len(rh_agents)} L5 rh vehicles, for example:\\n\",rh_agents[:7])"
   ]
  },
  {
   "cell_type": "code",
   "execution_count": null,
   "id": "925283d2-2fec-4ab8-9b78-4dbcfbc62466",
   "metadata": {},
   "outputs": [],
   "source": [
    "rh_to_msgs = {}\n",
    "\n",
    "for rh in rh_agents:\n",
    "    msgs = events[(events['sender_name'] == rh) | (events['receiver_name'] == rh)]\n",
    "    rh_to_msgs[rh] = msgs\n",
    "    print(f\"{rh} has {len(msgs)} messages, the last is: {msgs.tail(1).iloc[0,5]}\")"
   ]
  },
  {
   "cell_type": "code",
   "execution_count": null,
   "id": "5820b79d-1b9f-4022-bbd1-ce5bc0ad595f",
   "metadata": {},
   "outputs": [],
   "source": []
  }
 ],
 "metadata": {
  "kernelspec": {
   "display_name": "Python 3 (ipykernel)",
   "language": "python",
   "name": "python3"
  },
  "language_info": {
   "codemirror_mode": {
    "name": "ipython",
    "version": 3
   },
   "file_extension": ".py",
   "mimetype": "text/x-python",
   "name": "python",
   "nbconvert_exporter": "python",
   "pygments_lexer": "ipython3",
   "version": "3.9.10"
  }
 },
 "nbformat": 4,
 "nbformat_minor": 5
}
